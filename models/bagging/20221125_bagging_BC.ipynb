{
 "cells": [
  {
   "cell_type": "markdown",
   "metadata": {},
   "source": [
    "# Bagging \n",
    "\n",
    "Notebook to train a bagging model.\n",
    "\n",
    "Evaluation metrics:\n",
    "  \n",
    "+ MSE\n",
    "+ RMSE\n",
    "+ MAE\n",
    "+ MAPE\n",
    "\n",
    "Steps:\n",
    "\n",
    "1. 5-fold on training set\n",
    "2. Find the best hyper parameters\n",
    "3. 5-fold as the final training set, re-train with the best hyper parameters\n",
    "4. Save model\n",
    "5. Measure the performance on the test set"
   ]
  },
  {
   "cell_type": "code",
   "execution_count": 2,
   "metadata": {},
   "outputs": [],
   "source": [
    "import numpy as np\n",
    "import pandas as pd"
   ]
  },
  {
   "cell_type": "code",
   "execution_count": 6,
   "metadata": {},
   "outputs": [],
   "source": [
    "raw_test_df = pd.read_csv('../../statistical-learning/processed_test.csv')\n",
    "raw_train_df = pd.read_csv('../../statistical-learning/processed_traning.csv')"
   ]
  },
  {
   "cell_type": "markdown",
   "metadata": {},
   "source": [
    "## Preprocessing"
   ]
  },
  {
   "cell_type": "code",
   "execution_count": 21,
   "metadata": {},
   "outputs": [],
   "source": [
    "from sklearn.preprocessing import LabelEncoder, StandardScaler"
   ]
  },
  {
   "cell_type": "code",
   "execution_count": 18,
   "metadata": {},
   "outputs": [
    {
     "data": {
      "text/html": [
       "<div>\n",
       "<style scoped>\n",
       "    .dataframe tbody tr th:only-of-type {\n",
       "        vertical-align: middle;\n",
       "    }\n",
       "\n",
       "    .dataframe tbody tr th {\n",
       "        vertical-align: top;\n",
       "    }\n",
       "\n",
       "    .dataframe thead th {\n",
       "        text-align: right;\n",
       "    }\n",
       "</style>\n",
       "<table border=\"1\" class=\"dataframe\">\n",
       "  <thead>\n",
       "    <tr style=\"text-align: right;\">\n",
       "      <th></th>\n",
       "      <th>attendance</th>\n",
       "      <th>day</th>\n",
       "      <th>month</th>\n",
       "      <th>is_federal_holiday</th>\n",
       "      <th>venue</th>\n",
       "      <th>at_night</th>\n",
       "      <th>on_grass</th>\n",
       "      <th>temperature</th>\n",
       "      <th>wind_speed</th>\n",
       "      <th>weather</th>\n",
       "      <th>...</th>\n",
       "      <th>Starling-Marte</th>\n",
       "      <th>Joe-Musgrove</th>\n",
       "      <th>Joc-Pederson</th>\n",
       "      <th>Carlos-Rodon</th>\n",
       "      <th>Corey-Seager</th>\n",
       "      <th>Vladimir-Guerrero-Jr.</th>\n",
       "      <th>Byron-Buxton</th>\n",
       "      <th>salary-500-800</th>\n",
       "      <th>salary-800-1500</th>\n",
       "      <th>salary-1500</th>\n",
       "    </tr>\n",
       "  </thead>\n",
       "  <tbody>\n",
       "    <tr>\n",
       "      <th>0</th>\n",
       "      <td>35055</td>\n",
       "      <td>Sunday</td>\n",
       "      <td>April</td>\n",
       "      <td>0</td>\n",
       "      <td>Wrigley Field</td>\n",
       "      <td>True</td>\n",
       "      <td>True</td>\n",
       "      <td>44</td>\n",
       "      <td>7</td>\n",
       "      <td>Sunny.</td>\n",
       "      <td>...</td>\n",
       "      <td>0</td>\n",
       "      <td>0</td>\n",
       "      <td>0</td>\n",
       "      <td>0</td>\n",
       "      <td>0</td>\n",
       "      <td>0</td>\n",
       "      <td>0</td>\n",
       "      <td>5</td>\n",
       "      <td>6</td>\n",
       "      <td>8</td>\n",
       "    </tr>\n",
       "    <tr>\n",
       "      <th>1</th>\n",
       "      <td>49043</td>\n",
       "      <td>Monday</td>\n",
       "      <td>April</td>\n",
       "      <td>0</td>\n",
       "      <td>Chase Field</td>\n",
       "      <td>True</td>\n",
       "      <td>True</td>\n",
       "      <td>81</td>\n",
       "      <td>7</td>\n",
       "      <td>Sunny.</td>\n",
       "      <td>...</td>\n",
       "      <td>0</td>\n",
       "      <td>0</td>\n",
       "      <td>0</td>\n",
       "      <td>0</td>\n",
       "      <td>0</td>\n",
       "      <td>0</td>\n",
       "      <td>0</td>\n",
       "      <td>7</td>\n",
       "      <td>6</td>\n",
       "      <td>6</td>\n",
       "    </tr>\n",
       "  </tbody>\n",
       "</table>\n",
       "<p>2 rows × 193 columns</p>\n",
       "</div>"
      ],
      "text/plain": [
       "   attendance     day  month  is_federal_holiday          venue  at_night  \\\n",
       "0       35055  Sunday  April                   0  Wrigley Field      True   \n",
       "1       49043  Monday  April                   0    Chase Field      True   \n",
       "\n",
       "   on_grass  temperature  wind_speed weather  ...  Starling-Marte  \\\n",
       "0      True           44           7  Sunny.  ...               0   \n",
       "1      True           81           7  Sunny.  ...               0   \n",
       "\n",
       "  Joe-Musgrove  Joc-Pederson  Carlos-Rodon  Corey-Seager  \\\n",
       "0            0             0             0             0   \n",
       "1            0             0             0             0   \n",
       "\n",
       "   Vladimir-Guerrero-Jr. Byron-Buxton  salary-500-800  salary-800-1500  \\\n",
       "0                      0            0               5                6   \n",
       "1                      0            0               7                6   \n",
       "\n",
       "   salary-1500  \n",
       "0            8  \n",
       "1            6  \n",
       "\n",
       "[2 rows x 193 columns]"
      ]
     },
     "metadata": {},
     "output_type": "display_data"
    },
    {
     "name": "stdout",
     "output_type": "stream",
     "text": [
      "<class 'pandas.core.frame.DataFrame'>\n",
      "RangeIndex: 12270 entries, 0 to 12269\n",
      "Columns: 193 entries, attendance to salary-1500\n",
      "dtypes: bool(2), float64(2), int64(183), object(6)\n",
      "memory usage: 17.9+ MB\n"
     ]
    }
   ],
   "source": [
    "display(raw_train_df.head(2))\n",
    "raw_train_df.info()"
   ]
  },
  {
   "cell_type": "code",
   "execution_count": 20,
   "metadata": {},
   "outputs": [
    {
     "name": "stdout",
     "output_type": "stream",
     "text": [
      "<class 'pandas.core.frame.DataFrame'>\n",
      "RangeIndex: 12270 entries, 0 to 12269\n",
      "Data columns (total 20 columns):\n",
      " #   Column              Non-Null Count  Dtype  \n",
      "---  ------              --------------  -----  \n",
      " 0   attendance          12270 non-null  int64  \n",
      " 1   day                 12270 non-null  object \n",
      " 2   month               12270 non-null  object \n",
      " 3   is_federal_holiday  12270 non-null  int64  \n",
      " 4   venue               12270 non-null  object \n",
      " 5   at_night            12270 non-null  bool   \n",
      " 6   on_grass            12270 non-null  bool   \n",
      " 7   temperature         12270 non-null  int64  \n",
      " 8   wind_speed          12270 non-null  int64  \n",
      " 9   weather             12270 non-null  object \n",
      " 10  precipitation       12270 non-null  int64  \n",
      " 11  team1_name          12270 non-null  object \n",
      " 12  team1_pre_win       12270 non-null  int64  \n",
      " 13  team1_pre_loss      12270 non-null  int64  \n",
      " 14  team1_pre_win_pct   12270 non-null  float64\n",
      " 15  team1_streak        12270 non-null  int64  \n",
      " 16  team2_name          12270 non-null  object \n",
      " 17  team2_pre_win       12270 non-null  int64  \n",
      " 18  team2_pre_loss      12270 non-null  int64  \n",
      " 19  team2_pre_win_pct   12270 non-null  float64\n",
      "dtypes: bool(2), float64(2), int64(10), object(6)\n",
      "memory usage: 1.7+ MB\n"
     ]
    }
   ],
   "source": [
    "raw_train_df.iloc[:, :20].info()"
   ]
  },
  {
   "cell_type": "markdown",
   "metadata": {},
   "source": [
    "### Preprocessing Function"
   ]
  },
  {
   "cell_type": "code",
   "execution_count": 76,
   "metadata": {},
   "outputs": [],
   "source": [
    "def process_data(data):\n",
    "    processed_df = data.copy()\n",
    "    processed_df['weather'] = processed_df['weather'].str.replace('.', '')\n",
    "    \n",
    "        \n",
    "    # day, month to int\n",
    "    # day: Sunday = 0, Monday = 1, ..., Saturday = 6\n",
    "    day_dict = {'Sunday': 0, 'Monday': 1, 'Tuesday': 2, 'Wednesday': 3, 'Thursday': 4, 'Friday': 5, 'Saturday': 6}\n",
    "    # month: January = 1, February = 2, ..., December = 12\n",
    "    month_dict = {'January': 1, 'February': 2, 'March': 3, 'April': 4, 'May': 5, 'June': 6, 'July': 7, 'August': 8, 'September': 9, 'October': 10, 'November': 11, 'December': 12}\n",
    "\n",
    "    processed_df['day'] = processed_df['day'].map(day_dict)\n",
    "    processed_df['month'] = processed_df['month'].map(month_dict)\n",
    "\n",
    "    # others (string)\n",
    "    to_be_encoded = ['team1_name', 'team2_name', 'venue', 'weather']\n",
    "\n",
    "    # encoding\n",
    "    le = LabelEncoder()\n",
    "    for col in to_be_encoded:\n",
    "        processed_df[col + '_label'] = le.fit_transform(processed_df[col])\n",
    "\n",
    "        # drop object columns + 'attendance'\n",
    "    X = processed_df.drop(to_be_encoded + ['attendance'], axis=1)\n",
    "    y = processed_df['attendance']\n",
    "    \n",
    "    return X, y"
   ]
  },
  {
   "cell_type": "code",
   "execution_count": 34,
   "metadata": {},
   "outputs": [],
   "source": [
    "processed_df = raw_train_df.copy()"
   ]
  },
  {
   "cell_type": "code",
   "execution_count": 35,
   "metadata": {},
   "outputs": [
    {
     "name": "stderr",
     "output_type": "stream",
     "text": [
      "/var/folders/j3/sr9rbcw10dzch_cpwn25txkh0000gn/T/ipykernel_94121/4104958986.py:2: FutureWarning: The default value of regex will change from True to False in a future version. In addition, single character regular expressions will *not* be treated as literal strings when regex=True.\n",
      "  processed_df['weather'] = processed_df['weather'].str.replace('.', '')\n"
     ]
    }
   ],
   "source": [
    "# remove '.' from weather column\n",
    "processed_df['weather'] = processed_df['weather'].str.replace('.', '')"
   ]
  },
  {
   "cell_type": "code",
   "execution_count": 36,
   "metadata": {},
   "outputs": [
    {
     "data": {
      "text/plain": [
       "array(['Sunny', 'Overcast', 'Cloudy', 'Drizzle', 'In Dome', 'Rain'],\n",
       "      dtype=object)"
      ]
     },
     "execution_count": 36,
     "metadata": {},
     "output_type": "execute_result"
    }
   ],
   "source": [
    "processed_df.weather.unique()"
   ]
  },
  {
   "cell_type": "code",
   "execution_count": 37,
   "metadata": {},
   "outputs": [],
   "source": [
    "\n",
    "# day, month to int\n",
    "# day: Sunday = 0, Monday = 1, ..., Saturday = 6\n",
    "day_dict = {'Sunday': 0, 'Monday': 1, 'Tuesday': 2, 'Wednesday': 3, 'Thursday': 4, 'Friday': 5, 'Saturday': 6}\n",
    "# month: January = 1, February = 2, ..., December = 12\n",
    "month_dict = {'January': 1, 'February': 2, 'March': 3, 'April': 4, 'May': 5, 'June': 6, 'July': 7, 'August': 8, 'September': 9, 'October': 10, 'November': 11, 'December': 12}\n",
    "\n",
    "processed_df['day'] = processed_df['day'].map(day_dict)\n",
    "processed_df['month'] = processed_df['month'].map(month_dict)\n",
    "\n",
    "# others (string)\n",
    "to_be_encoded = ['team1_name', 'team2_name', 'venue', 'weather']\n",
    "\n",
    "# encoding\n",
    "le = LabelEncoder()\n",
    "for col in to_be_encoded:\n",
    "    processed_df[col + '_label'] = le.fit_transform(processed_df[col])"
   ]
  },
  {
   "cell_type": "code",
   "execution_count": 38,
   "metadata": {},
   "outputs": [
    {
     "data": {
      "text/html": [
       "<div>\n",
       "<style scoped>\n",
       "    .dataframe tbody tr th:only-of-type {\n",
       "        vertical-align: middle;\n",
       "    }\n",
       "\n",
       "    .dataframe tbody tr th {\n",
       "        vertical-align: top;\n",
       "    }\n",
       "\n",
       "    .dataframe thead th {\n",
       "        text-align: right;\n",
       "    }\n",
       "</style>\n",
       "<table border=\"1\" class=\"dataframe\">\n",
       "  <thead>\n",
       "    <tr style=\"text-align: right;\">\n",
       "      <th></th>\n",
       "      <th>attendance</th>\n",
       "      <th>day</th>\n",
       "      <th>month</th>\n",
       "      <th>is_federal_holiday</th>\n",
       "      <th>venue</th>\n",
       "      <th>at_night</th>\n",
       "      <th>on_grass</th>\n",
       "      <th>temperature</th>\n",
       "      <th>wind_speed</th>\n",
       "      <th>weather</th>\n",
       "      <th>...</th>\n",
       "      <th>Corey-Seager</th>\n",
       "      <th>Vladimir-Guerrero-Jr.</th>\n",
       "      <th>Byron-Buxton</th>\n",
       "      <th>salary-500-800</th>\n",
       "      <th>salary-800-1500</th>\n",
       "      <th>salary-1500</th>\n",
       "      <th>team1_name_label</th>\n",
       "      <th>team2_name_label</th>\n",
       "      <th>venue_label</th>\n",
       "      <th>weather_label</th>\n",
       "    </tr>\n",
       "  </thead>\n",
       "  <tbody>\n",
       "    <tr>\n",
       "      <th>0</th>\n",
       "      <td>35055</td>\n",
       "      <td>0</td>\n",
       "      <td>4</td>\n",
       "      <td>0</td>\n",
       "      <td>Wrigley Field</td>\n",
       "      <td>True</td>\n",
       "      <td>True</td>\n",
       "      <td>44</td>\n",
       "      <td>7</td>\n",
       "      <td>Sunny</td>\n",
       "      <td>...</td>\n",
       "      <td>0</td>\n",
       "      <td>0</td>\n",
       "      <td>0</td>\n",
       "      <td>5</td>\n",
       "      <td>6</td>\n",
       "      <td>8</td>\n",
       "      <td>26</td>\n",
       "      <td>4</td>\n",
       "      <td>40</td>\n",
       "      <td>5</td>\n",
       "    </tr>\n",
       "    <tr>\n",
       "      <th>1</th>\n",
       "      <td>49043</td>\n",
       "      <td>1</td>\n",
       "      <td>4</td>\n",
       "      <td>0</td>\n",
       "      <td>Chase Field</td>\n",
       "      <td>True</td>\n",
       "      <td>True</td>\n",
       "      <td>81</td>\n",
       "      <td>7</td>\n",
       "      <td>Sunny</td>\n",
       "      <td>...</td>\n",
       "      <td>0</td>\n",
       "      <td>0</td>\n",
       "      <td>0</td>\n",
       "      <td>7</td>\n",
       "      <td>6</td>\n",
       "      <td>6</td>\n",
       "      <td>24</td>\n",
       "      <td>0</td>\n",
       "      <td>4</td>\n",
       "      <td>5</td>\n",
       "    </tr>\n",
       "  </tbody>\n",
       "</table>\n",
       "<p>2 rows × 197 columns</p>\n",
       "</div>"
      ],
      "text/plain": [
       "   attendance  day  month  is_federal_holiday          venue  at_night  \\\n",
       "0       35055    0      4                   0  Wrigley Field      True   \n",
       "1       49043    1      4                   0    Chase Field      True   \n",
       "\n",
       "   on_grass  temperature  wind_speed weather  ...  Corey-Seager  \\\n",
       "0      True           44           7   Sunny  ...             0   \n",
       "1      True           81           7   Sunny  ...             0   \n",
       "\n",
       "  Vladimir-Guerrero-Jr.  Byron-Buxton  salary-500-800  salary-800-1500  \\\n",
       "0                     0             0               5                6   \n",
       "1                     0             0               7                6   \n",
       "\n",
       "   salary-1500 team1_name_label  team2_name_label  venue_label  weather_label  \n",
       "0            8               26                 4           40              5  \n",
       "1            6               24                 0            4              5  \n",
       "\n",
       "[2 rows x 197 columns]"
      ]
     },
     "execution_count": 38,
     "metadata": {},
     "output_type": "execute_result"
    }
   ],
   "source": [
    "processed_df.head(2)"
   ]
  },
  {
   "cell_type": "code",
   "execution_count": 40,
   "metadata": {},
   "outputs": [],
   "source": [
    "# drop object columns + 'attendance'\n",
    "X = processed_df.drop(to_be_encoded + ['attendance'], axis=1)\n",
    "y = processed_df['attendance']"
   ]
  },
  {
   "cell_type": "code",
   "execution_count": 41,
   "metadata": {},
   "outputs": [],
   "source": [
    "ss = StandardScaler()\n",
    "scaled_X = ss.fit_transform(X)"
   ]
  },
  {
   "cell_type": "markdown",
   "metadata": {},
   "source": [
    "## Model Building"
   ]
  },
  {
   "cell_type": "markdown",
   "metadata": {},
   "source": [
    "### Model Evaluation Function"
   ]
  },
  {
   "cell_type": "code",
   "execution_count": 47,
   "metadata": {},
   "outputs": [],
   "source": [
    "# MSE, RMSE, MAE, MAPE\n",
    "\n",
    "from sklearn.metrics import mean_squared_error, mean_absolute_error, mean_absolute_percentage_error\n",
    "\n",
    "def measure_model(y_true, y_pred, verbose=True, title=''):\n",
    "    mse = mean_squared_error(y_true, y_pred)\n",
    "    rmse = np.sqrt(mse)\n",
    "    mae = mean_absolute_error(y_true, y_pred)\n",
    "    mape = mean_absolute_percentage_error(y_true, y_pred)\n",
    "    \n",
    "    if verbose:\n",
    "        print(f'''{\"=\"*10} {title} {\"=\"*10}\n",
    "MSE: {mse:.2f}\n",
    "RMSE: {rmse:.2f}\n",
    "MAE: {mae:.2f}\n",
    "MAPE: {mape:.2f}''')\n",
    "\n",
    "    return {\n",
    "        'MSE': mse,\n",
    "        'RMSE': rmse,\n",
    "        'MAE': mae,\n",
    "        'MAPE': mape\n",
    "    }"
   ]
  },
  {
   "cell_type": "code",
   "execution_count": 53,
   "metadata": {},
   "outputs": [],
   "source": [
    "from sklearn.ensemble import RandomForestRegressor, GradientBoostingRegressor, BaggingRegressor\n",
    "from sklearn.svm import SVR, LinearSVR\n",
    "from sklearn.model_selection import train_test_split, cross_val_score, GridSearchCV, StratifiedKFold, cross_validate"
   ]
  },
  {
   "cell_type": "markdown",
   "metadata": {},
   "source": [
    "### Simple Bagging Model"
   ]
  },
  {
   "cell_type": "code",
   "execution_count": 60,
   "metadata": {},
   "outputs": [
    {
     "name": "stdout",
     "output_type": "stream",
     "text": [
      "========== Simple Bagging Regressor ==========\n",
      "MSE: 26174158.76\n",
      "RMSE: 5116.07\n",
      "MAE: 3794.38\n",
      "MAPE: 0.15\n"
     ]
    }
   ],
   "source": [
    "X_train, X_test, y_train, y_test = train_test_split(scaled_X, y, test_size=0.2, random_state=42)\n",
    "\n",
    "# Bagging Regressor\n",
    "regr = BaggingRegressor(n_estimators=10, random_state=42).fit(X_train, y_train)\n",
    "y_pred_simple = regr.predict(X_test)\n",
    "\n",
    "_ = measure_model(y_test, y_pred_simple, title='Simple Bagging Regressor')"
   ]
  },
  {
   "cell_type": "code",
   "execution_count": 71,
   "metadata": {},
   "outputs": [
    {
     "data": {
      "image/png": "[encoded data removed]",
      "text/plain": [
       "<Figure size 640x480 with 1 Axes>"
      ]
     },
     "metadata": {},
     "output_type": "display_data"
    }
   ],
   "source": [
    "# matplotlib\n",
    "import matplotlib.pyplot as plt\n",
    "\n",
    "feature_importances = np.mean([\n",
    "    tree.feature_importances_ for tree in regr.estimators_\n",
    "], axis=0)\n",
    "\n",
    "num_features = 20\n",
    "\n",
    "indices = np.argsort(feature_importances)[::-1][:num_features]\n",
    "\n",
    "fig, ax = plt.subplots()\n",
    "ax.barh(range(num_features), feature_importances[indices][::-1])\n",
    "ax.set_yticks(range(num_features))\n",
    "_ = ax.set_yticklabels(np.array(X.columns)[indices][::-1])\n",
    "# font size\n",
    "plt.rcParams.update({'font.size': 8})"
   ]
  },
  {
   "cell_type": "markdown",
   "metadata": {},
   "source": [
    "### Hyperparameter Tuning"
   ]
  },
  {
   "cell_type": "code",
   "execution_count": 72,
   "metadata": {},
   "outputs": [],
   "source": [
    "# skf = StratifiedKFold(n_splits=5)\n",
    "scoring = ['neg_mean_squared_error', 'neg_root_mean_squared_error', 'neg_mean_absolute_error', 'neg_mean_absolute_percentage_error']\n",
    "n_estimators_grid = np.geomspace(5, 1000, 10, endpoint=True, dtype=int) # 10 numbers between 5 and 1000\n",
    "n_estimators_dict = {}\n",
    "\n",
    "for n_estimators in n_estimators_grid:\n",
    "    regr = BaggingRegressor(n_estimators=n_estimators, random_state=42)\n",
    "    results = cross_validate(regr, scaled_X, y, cv=5, scoring=scoring)\n",
    "\n",
    "    metric_dict = {}\n",
    "    metric_dict['MSE'] = results['test_neg_mean_squared_error'].mean()\n",
    "    metric_dict['RMSE'] = results['test_neg_root_mean_squared_error'].mean()\n",
    "    metric_dict['MAE'] = results['test_neg_mean_absolute_error'].mean()\n",
    "    metric_dict['MAPE'] = results['test_neg_mean_absolute_percentage_error'].mean()\n",
    "    metric_dict['fit_time'] = results['fit_time'].mean()\n",
    "    metric_dict['score_time'] = results['score_time'].mean()\n",
    "\n",
    "    n_estimators_dict[n_estimators] = metric_dict"
   ]
  },
  {
   "cell_type": "markdown",
   "metadata": {},
   "source": [
    "### Use the best hyperparameters to train the model"
   ]
  },
  {
   "cell_type": "code",
   "execution_count": 80,
   "metadata": {},
   "outputs": [
    {
     "data": {
      "text/html": [
       "<div>\n",
       "<style scoped>\n",
       "    .dataframe tbody tr th:only-of-type {\n",
       "        vertical-align: middle;\n",
       "    }\n",
       "\n",
       "    .dataframe tbody tr th {\n",
       "        vertical-align: top;\n",
       "    }\n",
       "\n",
       "    .dataframe thead th {\n",
       "        text-align: right;\n",
       "    }\n",
       "</style>\n",
       "<table border=\"1\" class=\"dataframe\">\n",
       "  <thead>\n",
       "    <tr style=\"text-align: right;\">\n",
       "      <th></th>\n",
       "      <th>n_estimators</th>\n",
       "      <th>MSE</th>\n",
       "      <th>RMSE</th>\n",
       "      <th>MAE</th>\n",
       "      <th>MAPE</th>\n",
       "      <th>fit_time</th>\n",
       "      <th>score_time</th>\n",
       "    </tr>\n",
       "  </thead>\n",
       "  <tbody>\n",
       "    <tr>\n",
       "      <th>0</th>\n",
       "      <td>5</td>\n",
       "      <td>-3.887506e+07</td>\n",
       "      <td>-6228.849726</td>\n",
       "      <td>-4691.829829</td>\n",
       "      <td>-0.195122</td>\n",
       "      <td>1.049795</td>\n",
       "      <td>0.017424</td>\n",
       "    </tr>\n",
       "    <tr>\n",
       "      <th>1</th>\n",
       "      <td>9</td>\n",
       "      <td>-3.567650e+07</td>\n",
       "      <td>-5966.079185</td>\n",
       "      <td>-4509.575360</td>\n",
       "      <td>-0.189205</td>\n",
       "      <td>1.914502</td>\n",
       "      <td>0.030227</td>\n",
       "    </tr>\n",
       "    <tr>\n",
       "      <th>2</th>\n",
       "      <td>16</td>\n",
       "      <td>-3.380500e+07</td>\n",
       "      <td>-5809.064611</td>\n",
       "      <td>-4397.080995</td>\n",
       "      <td>-0.184852</td>\n",
       "      <td>3.577594</td>\n",
       "      <td>0.055707</td>\n",
       "    </tr>\n",
       "    <tr>\n",
       "      <th>3</th>\n",
       "      <td>29</td>\n",
       "      <td>-3.289994e+07</td>\n",
       "      <td>-5730.830943</td>\n",
       "      <td>-4346.526369</td>\n",
       "      <td>-0.182818</td>\n",
       "      <td>7.664828</td>\n",
       "      <td>0.129634</td>\n",
       "    </tr>\n",
       "    <tr>\n",
       "      <th>4</th>\n",
       "      <td>52</td>\n",
       "      <td>-3.242576e+07</td>\n",
       "      <td>-5689.736878</td>\n",
       "      <td>-4320.339739</td>\n",
       "      <td>-0.181886</td>\n",
       "      <td>22.389346</td>\n",
       "      <td>0.253054</td>\n",
       "    </tr>\n",
       "    <tr>\n",
       "      <th>5</th>\n",
       "      <td>94</td>\n",
       "      <td>-3.224212e+07</td>\n",
       "      <td>-5673.682017</td>\n",
       "      <td>-4314.728040</td>\n",
       "      <td>-0.181898</td>\n",
       "      <td>27.351803</td>\n",
       "      <td>0.347505</td>\n",
       "    </tr>\n",
       "    <tr>\n",
       "      <th>6</th>\n",
       "      <td>170</td>\n",
       "      <td>-3.221550e+07</td>\n",
       "      <td>-5671.722801</td>\n",
       "      <td>-4311.559082</td>\n",
       "      <td>-0.181759</td>\n",
       "      <td>46.118185</td>\n",
       "      <td>0.833115</td>\n",
       "    </tr>\n",
       "    <tr>\n",
       "      <th>7</th>\n",
       "      <td>308</td>\n",
       "      <td>-3.213142e+07</td>\n",
       "      <td>-5664.265293</td>\n",
       "      <td>-4309.621974</td>\n",
       "      <td>-0.181804</td>\n",
       "      <td>77.638346</td>\n",
       "      <td>1.161956</td>\n",
       "    </tr>\n",
       "    <tr>\n",
       "      <th>8</th>\n",
       "      <td>555</td>\n",
       "      <td>-3.203305e+07</td>\n",
       "      <td>-5655.680200</td>\n",
       "      <td>-4301.484041</td>\n",
       "      <td>-0.181517</td>\n",
       "      <td>193.980739</td>\n",
       "      <td>3.754222</td>\n",
       "    </tr>\n",
       "    <tr>\n",
       "      <th>9</th>\n",
       "      <td>1000</td>\n",
       "      <td>-3.201356e+07</td>\n",
       "      <td>-5653.819368</td>\n",
       "      <td>-4300.757887</td>\n",
       "      <td>-0.181592</td>\n",
       "      <td>273.357752</td>\n",
       "      <td>4.567214</td>\n",
       "    </tr>\n",
       "  </tbody>\n",
       "</table>\n",
       "</div>"
      ],
      "text/plain": [
       "   n_estimators           MSE         RMSE          MAE      MAPE    fit_time  \\\n",
       "0             5 -3.887506e+07 -6228.849726 -4691.829829 -0.195122    1.049795   \n",
       "1             9 -3.567650e+07 -5966.079185 -4509.575360 -0.189205    1.914502   \n",
       "2            16 -3.380500e+07 -5809.064611 -4397.080995 -0.184852    3.577594   \n",
       "3            29 -3.289994e+07 -5730.830943 -4346.526369 -0.182818    7.664828   \n",
       "4            52 -3.242576e+07 -5689.736878 -4320.339739 -0.181886   22.389346   \n",
       "5            94 -3.224212e+07 -5673.682017 -4314.728040 -0.181898   27.351803   \n",
       "6           170 -3.221550e+07 -5671.722801 -4311.559082 -0.181759   46.118185   \n",
       "7           308 -3.213142e+07 -5664.265293 -4309.621974 -0.181804   77.638346   \n",
       "8           555 -3.203305e+07 -5655.680200 -4301.484041 -0.181517  193.980739   \n",
       "9          1000 -3.201356e+07 -5653.819368 -4300.757887 -0.181592  273.357752   \n",
       "\n",
       "   score_time  \n",
       "0    0.017424  \n",
       "1    0.030227  \n",
       "2    0.055707  \n",
       "3    0.129634  \n",
       "4    0.253054  \n",
       "5    0.347505  \n",
       "6    0.833115  \n",
       "7    1.161956  \n",
       "8    3.754222  \n",
       "9    4.567214  "
      ]
     },
     "execution_count": 80,
     "metadata": {},
     "output_type": "execute_result"
    }
   ],
   "source": [
    "metric_df = pd.DataFrame(n_estimators_dict).T.reset_index().rename(columns={'index': 'n_estimators'})\n",
    "metric_df"
   ]
  },
  {
   "cell_type": "code",
   "execution_count": 81,
   "metadata": {},
   "outputs": [
    {
     "name": "stdout",
     "output_type": "stream",
     "text": [
      "Best number of trees = 1000 with RMSE = -5653.819367550194\n"
     ]
    }
   ],
   "source": [
    "best_grid = metric_df[abs(metric_df['RMSE']) == abs(metric_df['RMSE']).min()]\n",
    "best_rmse = best_grid['RMSE'].values[0]\n",
    "best_nest = best_grid['n_estimators'].values[0]\n",
    "\n",
    "print(f'Best number of trees = {best_nest} with RMSE = {best_rmse}')"
   ]
  },
  {
   "cell_type": "code",
   "execution_count": 87,
   "metadata": {},
   "outputs": [],
   "source": [
    "regr = BaggingRegressor(n_estimators=1000, random_state=0).fit(scaled_X, y)"
   ]
  },
  {
   "cell_type": "code",
   "execution_count": 83,
   "metadata": {},
   "outputs": [],
   "source": [
    "# save model in YYYYMMDD format\n",
    "from datetime import datetime\n",
    "import pickle\n",
    "\n",
    "regr_filename = f'{datetime.today().strftime(\"%Y%m%d\")}_bagging_model.pkl'\n",
    "pickle.dump(regr, open(regr_filename, 'wb'))"
   ]
  },
  {
   "cell_type": "markdown",
   "metadata": {},
   "source": [
    "### Feature Importance"
   ]
  },
  {
   "cell_type": "code",
   "execution_count": 84,
   "metadata": {},
   "outputs": [
    {
     "data": {
      "image/png": "[encoded data removed]",
      "text/plain": [
       "<Figure size 640x480 with 1 Axes>"
      ]
     },
     "metadata": {},
     "output_type": "display_data"
    }
   ],
   "source": [
    "# matplotlib\n",
    "import matplotlib.pyplot as plt\n",
    "\n",
    "feature_importances = np.mean([\n",
    "    tree.feature_importances_ for tree in regr.estimators_\n",
    "], axis=0)\n",
    "\n",
    "num_features = 20\n",
    "\n",
    "indices = np.argsort(feature_importances)[::-1][:num_features]\n",
    "\n",
    "fig, ax = plt.subplots()\n",
    "ax.barh(range(num_features), feature_importances[indices][::-1])\n",
    "ax.set_yticks(range(num_features))\n",
    "_ = ax.set_yticklabels(np.array(X.columns)[indices][::-1])\n",
    "# font size\n",
    "plt.rcParams.update({'font.size': 8})"
   ]
  },
  {
   "cell_type": "markdown",
   "metadata": {},
   "source": [
    "## Model Evaluation"
   ]
  },
  {
   "cell_type": "code",
   "execution_count": 85,
   "metadata": {},
   "outputs": [
    {
     "name": "stderr",
     "output_type": "stream",
     "text": [
      "/var/folders/j3/sr9rbcw10dzch_cpwn25txkh0000gn/T/ipykernel_94121/1460645059.py:3: FutureWarning: The default value of regex will change from True to False in a future version. In addition, single character regular expressions will *not* be treated as literal strings when regex=True.\n",
      "  processed_df['weather'] = processed_df['weather'].str.replace('.', '')\n"
     ]
    }
   ],
   "source": [
    "X_test, y_test = process_data(raw_test_df)\n",
    "ss = StandardScaler().fit(X_test)\n",
    "scaled_X_test = ss.transform(X_test)"
   ]
  },
  {
   "cell_type": "code",
   "execution_count": 88,
   "metadata": {},
   "outputs": [
    {
     "name": "stdout",
     "output_type": "stream",
     "text": [
      "========== Bagging Regressor ==========\n",
      "MSE: 93801634.42\n",
      "RMSE: 9685.12\n",
      "MAE: 7561.61\n",
      "MAPE: 0.46\n"
     ]
    }
   ],
   "source": [
    "# read model\n",
    "import pickle\n",
    "regr = pickle.load(open('20221125_bagging_model.pkl', 'rb'))\n",
    "y_pred = regr.predict(scaled_X_test)\n",
    "\n",
    "# performance\n",
    "test_performance = measure_model(y_test, y_pred, title='Bagging Regressor')"
   ]
  },
  {
   "cell_type": "markdown",
   "metadata": {},
   "source": [
    "Note:\n",
    "\n",
    "+ The model doesn't perform well on the test set, which can be improved through following ways:\n",
    "    1. Player data may be too noisy, we can try to cut down player features with PCA or maybe just use salary ranks\n",
    "    2. Venue capacities vary a lot, it'd be better if we can first group venues by capacity and then train models for each group\n",
    "+ Metrics looked good on the training set, but not on the testing set, which means the model is probably overfitting. We can try to reduce the number of features or use regularization to reduce overfitting\n",
    "+ When comparing the bagging model with the baseline model, we see that baseline (MA-5) did slightly better (廢話), and **even using the average attendance per stadium does better job than bagging**. \n",
    "\n",
    "```\n",
    "==================== MA(5) ====================\n",
    "MSE:  32362577.913605437\n",
    "RMSE:  5688.81164335799\n",
    "MAE:  4399.588064076346\n",
    "MAPE 0.21121206067333725\n",
    "```\n",
    "\n",
    "```\n",
    "==================== Average Attendance Only ====================\n",
    "MSE:  88887032.10373585\n",
    "RMSE:  9427.991944403424\n",
    "MAE:  7635.267692974473\n",
    "MAPE 0.48553017390069386\n",
    "```\n",
    "\n",
    "```\n",
    "========== Bagging Regressor ==========\n",
    "MSE: 93801634.42\n",
    "RMSE: 9685.12\n",
    "MAE: 7561.61\n",
    "MAPE: 0.46\n",
    "```"
   ]
  },
  {
   "cell_type": "markdown",
   "metadata": {},
   "source": []
  }
 ],
 "metadata": {
  "kernelspec": {
   "display_name": "Python 3.9.12 ('SLDL-MLB-ATT-Prediction-gFjMjB_x')",
   "language": "python",
   "name": "python3"
  },
  "language_info": {
   "codemirror_mode": {
    "name": "ipython",
    "version": 3
   },
   "file_extension": ".py",
   "mimetype": "text/x-python",
   "name": "python",
   "nbconvert_exporter": "python",
   "pygments_lexer": "ipython3",
   "version": "3.9.12"
  },
  "orig_nbformat": 4,
  "vscode": {
   "interpreter": {
    "hash": "54619d867bc32e6f59ef525cc4bb40e4ca44b8df25f2d10f00373698523f8dfd"
   }
  }
 },
 "nbformat": 4,
 "nbformat_minor": 2
}
