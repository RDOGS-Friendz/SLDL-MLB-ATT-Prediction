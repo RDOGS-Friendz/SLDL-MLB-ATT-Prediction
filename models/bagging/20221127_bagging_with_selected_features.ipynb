{
 "cells": [
  {
   "cell_type": "markdown",
   "metadata": {},
   "source": [
    "# Bagging with Selected Features\n",
    "\n",
    "Why bagging? It seems to be one of the best models there is. Time used isn't that long, so it might be a good starting point. "
   ]
  },
  {
   "cell_type": "code",
   "execution_count": 18,
   "metadata": {},
   "outputs": [
    {
     "data": {
      "text/plain": [
       "39"
      ]
     },
     "execution_count": 18,
     "metadata": {},
     "output_type": "execute_result"
    }
   ],
   "source": [
    "selected_features = ['attendance', 'home_team_avg_att_last_year', 'day_Saturday', 'team2_pre_win',  'team2_pre_win_pct', 'day_Friday', 'season_type_post', 'day_Sunday', 'team2_pre_win', 'team1_pre_win', 'temperature', 'salary-1500', 'salary-800-1500', 'salary-500-800', 'team2_streak']\n",
    "selected_home_teams = ['LAD', 'STL', 'LAA', 'HOU']\n",
    "selected_players = [\n",
    "    'Nick-Markakis', \n",
    "    'Ervin-Santana',\n",
    "    'Bryce-Harper',\n",
    "    'Ryan-Zimmerman', \n",
    "    'Patrick-Corbin',\n",
    "    'Freddie-Freeman', \n",
    "    'Manny-Machado',\n",
    "    'Josh-Harrison',\n",
    "    'Mookie-Betts',\n",
    "    'J.D.-Martinez',\n",
    "    'Mitch-Moreland',\n",
    "    'Scooter-Gennett',\n",
    "    'Trevor-Bauer',\n",
    "    'Yu-Darvish',\n",
    "    'Starlin-Castro',\n",
    "    'Pat-Neshek',\n",
    "    'Dexter-Fowler',\n",
    "    'Joc-Pederson',\n",
    "    'Dansby-Swanson',\n",
    "    'Bryce-Harper'\n",
    "]\n",
    "\n",
    "selected_home_teams = ['team2_name_' + team_name for team_name in selected_home_teams]\n",
    "\n",
    "final_selected_features = selected_features + selected_home_teams + selected_players\n",
    "len(final_selected_features)"
   ]
  },
  {
   "cell_type": "markdown",
   "metadata": {},
   "source": [
    "Some thoughts:\n",
    "\n",
    "+ Maybe some of the features can be combined, for example `day_Friday`, `day_Saturday`, and `day_Sunday` can be listed as `day_weekend`\n",
    "+ PCA against all players\n",
    "+ Can probably still try to group stadium into three levels"
   ]
  },
  {
   "cell_type": "code",
   "execution_count": 19,
   "metadata": {},
   "outputs": [],
   "source": [
    "import numpy as np\n",
    "import pandas as pd"
   ]
  },
  {
   "cell_type": "markdown",
   "metadata": {},
   "source": [
    "## Prepocessing"
   ]
  },
  {
   "cell_type": "code",
   "execution_count": 20,
   "metadata": {},
   "outputs": [],
   "source": [
    "raw_test_df = pd.read_csv('../../statistical-learning/processed_test.csv')\n",
    "raw_train_df = pd.read_csv('../../statistical-learning/processed_training.csv')"
   ]
  },
  {
   "cell_type": "code",
   "execution_count": 21,
   "metadata": {},
   "outputs": [],
   "source": [
    "# still need to one hot team1_name and team2_name\n",
    "\n",
    "raw_train_df = pd.get_dummies(raw_train_df, columns=['team1_name', 'team2_name', 'season_type'])\n",
    "raw_test_df = pd.get_dummies(raw_test_df, columns=['team1_name', 'team2_name', 'season_type'])\n",
    "\n",
    "# drop columns: venue, start_hour\n",
    "raw_train_df = raw_train_df.drop(columns=['venue', 'start_hour'], axis=1)\n",
    "raw_test_df = raw_test_df.drop(columns=['venue', 'start_hour'], axis=1)"
   ]
  },
  {
   "cell_type": "code",
   "execution_count": 22,
   "metadata": {},
   "outputs": [],
   "source": [
    "train_cols = raw_train_df.columns\n",
    "raw_test_df = raw_test_df[train_cols].copy()"
   ]
  },
  {
   "cell_type": "code",
   "execution_count": 23,
   "metadata": {},
   "outputs": [],
   "source": [
    "raw_train_df = raw_train_df[final_selected_features]\n",
    "raw_test_df = raw_test_df[final_selected_features]"
   ]
  },
  {
   "cell_type": "code",
   "execution_count": 24,
   "metadata": {},
   "outputs": [],
   "source": [
    "X, y = raw_train_df.drop(columns=['attendance'], axis=1), raw_train_df['attendance']"
   ]
  },
  {
   "cell_type": "markdown",
   "metadata": {},
   "source": [
    "## Model Building"
   ]
  },
  {
   "cell_type": "markdown",
   "metadata": {},
   "source": [
    "### Model Evaluation Function"
   ]
  },
  {
   "cell_type": "code",
   "execution_count": 25,
   "metadata": {},
   "outputs": [],
   "source": [
    "# MSE, RMSE, MAE, MAPE\n",
    "\n",
    "from sklearn.metrics import mean_squared_error, mean_absolute_error, mean_absolute_percentage_error\n",
    "\n",
    "def measure_model(y_true, y_pred, verbose=True, title=''):\n",
    "    mse = mean_squared_error(y_true, y_pred)\n",
    "    rmse = np.sqrt(mse)\n",
    "    mae = mean_absolute_error(y_true, y_pred)\n",
    "    mape = mean_absolute_percentage_error(y_true, y_pred)\n",
    "    \n",
    "    if verbose:\n",
    "        print(f'''{\"=\"*10} {title} {\"=\"*10}\n",
    "MSE: {mse:.2f}\n",
    "RMSE: {rmse:.2f}\n",
    "MAE: {mae:.2f}\n",
    "MAPE: {mape:.2f}''')\n",
    "\n",
    "    return {\n",
    "        'MSE': mse,\n",
    "        'RMSE': rmse,\n",
    "        'MAE': mae,\n",
    "        'MAPE': mape\n",
    "    }"
   ]
  },
  {
   "cell_type": "code",
   "execution_count": 26,
   "metadata": {},
   "outputs": [],
   "source": [
    "from sklearn.ensemble import BaggingRegressor\n",
    "from sklearn.model_selection import train_test_split, cross_val_score, GridSearchCV, StratifiedKFold, cross_validate"
   ]
  },
  {
   "cell_type": "markdown",
   "metadata": {},
   "source": [
    "### Simple Bagging Model"
   ]
  },
  {
   "cell_type": "code",
   "execution_count": 27,
   "metadata": {},
   "outputs": [
    {
     "name": "stdout",
     "output_type": "stream",
     "text": [
      "========== Simple Bagging Regressor ==========\n",
      "MSE: 24190088.83\n",
      "RMSE: 4918.34\n",
      "MAE: 3654.96\n",
      "MAPE: 0.14\n"
     ]
    }
   ],
   "source": [
    "X_train, X_test, y_train, y_test = train_test_split(X, y, test_size=0.2, random_state=42)\n",
    "\n",
    "# Bagging Regressor\n",
    "regr = BaggingRegressor(n_estimators=10, random_state=42).fit(X_train, y_train)\n",
    "y_pred_simple = regr.predict(X_test)\n",
    "\n",
    "_ = measure_model(y_test, y_pred_simple, title='Simple Bagging Regressor')"
   ]
  },
  {
   "cell_type": "code",
   "execution_count": 28,
   "metadata": {},
   "outputs": [
    {
     "data": {
      "image/png": "[encoded data removed]",
      "text/plain": [
       "<Figure size 640x480 with 1 Axes>"
      ]
     },
     "metadata": {},
     "output_type": "display_data"
    }
   ],
   "source": [
    "# matplotlib\n",
    "import matplotlib.pyplot as plt\n",
    "\n",
    "feature_importances = np.mean([\n",
    "    tree.feature_importances_ for tree in regr.estimators_\n",
    "], axis=0)\n",
    "\n",
    "num_features = 20\n",
    "\n",
    "indices = np.argsort(feature_importances)[::-1][:num_features]\n",
    "\n",
    "fig, ax = plt.subplots()\n",
    "ax.barh(range(num_features), feature_importances[indices][::-1])\n",
    "ax.set_yticks(range(num_features))\n",
    "_ = ax.set_yticklabels(np.array(X.columns)[indices][::-1])\n",
    "# font size\n",
    "plt.rcParams.update({'font.size': 8})"
   ]
  },
  {
   "cell_type": "markdown",
   "metadata": {},
   "source": [
    "### Hyperparameter Tuning"
   ]
  },
  {
   "cell_type": "code",
   "execution_count": 29,
   "metadata": {},
   "outputs": [],
   "source": [
    "# skf = StratifiedKFold(n_splits=5)\n",
    "scoring = ['neg_mean_squared_error', 'neg_root_mean_squared_error', 'neg_mean_absolute_error', 'neg_mean_absolute_percentage_error']\n",
    "n_estimators_grid = np.geomspace(5, 500, 10, endpoint=True, dtype=int) # 10 numbers between 5 and 500\n",
    "n_estimators_dict = {}\n",
    "\n",
    "for n_estimators in n_estimators_grid:\n",
    "    regr = BaggingRegressor(n_estimators=n_estimators, random_state=42)\n",
    "    results = cross_validate(regr, X, y, cv=5, scoring=scoring, return_train_score=True)\n",
    "\n",
    "    metric_dict = {}\n",
    "    metric_dict['MSE'] = results['test_neg_mean_squared_error'].mean()\n",
    "    metric_dict['RMSE (Train)'] = results['train_neg_root_mean_squared_error'].mean()\n",
    "    metric_dict['RMSE'] = results['test_neg_root_mean_squared_error'].mean()\n",
    "    metric_dict['MAE'] = results['test_neg_mean_absolute_error'].mean()\n",
    "    metric_dict['MAPE'] = results['test_neg_mean_absolute_percentage_error'].mean()\n",
    "    metric_dict['fit_time'] = results['fit_time'].mean()\n",
    "    metric_dict['score_time'] = results['score_time'].mean()\n",
    "\n",
    "    n_estimators_dict[n_estimators] = metric_dict"
   ]
  },
  {
   "cell_type": "markdown",
   "metadata": {},
   "source": [
    "### Use the best hyperparameters to train the model"
   ]
  },
  {
   "cell_type": "code",
   "execution_count": 30,
   "metadata": {},
   "outputs": [
    {
     "data": {
      "text/html": [
       "<div>\n",
       "<style scoped>\n",
       "    .dataframe tbody tr th:only-of-type {\n",
       "        vertical-align: middle;\n",
       "    }\n",
       "\n",
       "    .dataframe tbody tr th {\n",
       "        vertical-align: top;\n",
       "    }\n",
       "\n",
       "    .dataframe thead th {\n",
       "        text-align: right;\n",
       "    }\n",
       "</style>\n",
       "<table border=\"1\" class=\"dataframe\">\n",
       "  <thead>\n",
       "    <tr style=\"text-align: right;\">\n",
       "      <th></th>\n",
       "      <th>n_estimators</th>\n",
       "      <th>MSE</th>\n",
       "      <th>RMSE (Train)</th>\n",
       "      <th>RMSE</th>\n",
       "      <th>MAE</th>\n",
       "      <th>MAPE</th>\n",
       "      <th>fit_time</th>\n",
       "      <th>score_time</th>\n",
       "    </tr>\n",
       "  </thead>\n",
       "  <tbody>\n",
       "    <tr>\n",
       "      <th>0</th>\n",
       "      <td>5</td>\n",
       "      <td>-4.057570e+07</td>\n",
       "      <td>-2391.985976</td>\n",
       "      <td>-6361.241133</td>\n",
       "      <td>-4828.817115</td>\n",
       "      <td>-0.203032</td>\n",
       "      <td>0.241819</td>\n",
       "      <td>0.004404</td>\n",
       "    </tr>\n",
       "    <tr>\n",
       "      <th>1</th>\n",
       "      <td>8</td>\n",
       "      <td>-3.808902e+07</td>\n",
       "      <td>-2164.665715</td>\n",
       "      <td>-6160.997269</td>\n",
       "      <td>-4673.155858</td>\n",
       "      <td>-0.197452</td>\n",
       "      <td>0.384149</td>\n",
       "      <td>0.006606</td>\n",
       "    </tr>\n",
       "    <tr>\n",
       "      <th>2</th>\n",
       "      <td>13</td>\n",
       "      <td>-3.649003e+07</td>\n",
       "      <td>-1988.446264</td>\n",
       "      <td>-6030.918912</td>\n",
       "      <td>-4578.669143</td>\n",
       "      <td>-0.193145</td>\n",
       "      <td>0.617561</td>\n",
       "      <td>0.008808</td>\n",
       "    </tr>\n",
       "    <tr>\n",
       "      <th>3</th>\n",
       "      <td>23</td>\n",
       "      <td>-3.558136e+07</td>\n",
       "      <td>-1878.550860</td>\n",
       "      <td>-5956.929472</td>\n",
       "      <td>-4524.531530</td>\n",
       "      <td>-0.191702</td>\n",
       "      <td>1.080381</td>\n",
       "      <td>0.013813</td>\n",
       "    </tr>\n",
       "    <tr>\n",
       "      <th>4</th>\n",
       "      <td>38</td>\n",
       "      <td>-3.508489e+07</td>\n",
       "      <td>-1813.095486</td>\n",
       "      <td>-5916.686187</td>\n",
       "      <td>-4492.677701</td>\n",
       "      <td>-0.190313</td>\n",
       "      <td>1.784121</td>\n",
       "      <td>0.023021</td>\n",
       "    </tr>\n",
       "    <tr>\n",
       "      <th>5</th>\n",
       "      <td>64</td>\n",
       "      <td>-3.471949e+07</td>\n",
       "      <td>-1774.951194</td>\n",
       "      <td>-5885.476162</td>\n",
       "      <td>-4471.072689</td>\n",
       "      <td>-0.189688</td>\n",
       "      <td>2.987112</td>\n",
       "      <td>0.034231</td>\n",
       "    </tr>\n",
       "    <tr>\n",
       "      <th>6</th>\n",
       "      <td>107</td>\n",
       "      <td>-3.449108e+07</td>\n",
       "      <td>-1748.972910</td>\n",
       "      <td>-5866.310958</td>\n",
       "      <td>-4455.569986</td>\n",
       "      <td>-0.189255</td>\n",
       "      <td>4.992933</td>\n",
       "      <td>0.056051</td>\n",
       "    </tr>\n",
       "    <tr>\n",
       "      <th>7</th>\n",
       "      <td>179</td>\n",
       "      <td>-3.422405e+07</td>\n",
       "      <td>-1732.427054</td>\n",
       "      <td>-5844.061263</td>\n",
       "      <td>-4434.666001</td>\n",
       "      <td>-0.188487</td>\n",
       "      <td>8.343175</td>\n",
       "      <td>0.091283</td>\n",
       "    </tr>\n",
       "    <tr>\n",
       "      <th>8</th>\n",
       "      <td>299</td>\n",
       "      <td>-3.419455e+07</td>\n",
       "      <td>-1724.201982</td>\n",
       "      <td>-5841.988005</td>\n",
       "      <td>-4430.279533</td>\n",
       "      <td>-0.188270</td>\n",
       "      <td>13.899419</td>\n",
       "      <td>0.151137</td>\n",
       "    </tr>\n",
       "    <tr>\n",
       "      <th>9</th>\n",
       "      <td>500</td>\n",
       "      <td>-3.422620e+07</td>\n",
       "      <td>-1719.418094</td>\n",
       "      <td>-5844.403917</td>\n",
       "      <td>-4433.254300</td>\n",
       "      <td>-0.188416</td>\n",
       "      <td>23.218480</td>\n",
       "      <td>0.251028</td>\n",
       "    </tr>\n",
       "  </tbody>\n",
       "</table>\n",
       "</div>"
      ],
      "text/plain": [
       "   n_estimators           MSE  RMSE (Train)         RMSE          MAE  \\\n",
       "0             5 -4.057570e+07  -2391.985976 -6361.241133 -4828.817115   \n",
       "1             8 -3.808902e+07  -2164.665715 -6160.997269 -4673.155858   \n",
       "2            13 -3.649003e+07  -1988.446264 -6030.918912 -4578.669143   \n",
       "3            23 -3.558136e+07  -1878.550860 -5956.929472 -4524.531530   \n",
       "4            38 -3.508489e+07  -1813.095486 -5916.686187 -4492.677701   \n",
       "5            64 -3.471949e+07  -1774.951194 -5885.476162 -4471.072689   \n",
       "6           107 -3.449108e+07  -1748.972910 -5866.310958 -4455.569986   \n",
       "7           179 -3.422405e+07  -1732.427054 -5844.061263 -4434.666001   \n",
       "8           299 -3.419455e+07  -1724.201982 -5841.988005 -4430.279533   \n",
       "9           500 -3.422620e+07  -1719.418094 -5844.403917 -4433.254300   \n",
       "\n",
       "       MAPE   fit_time  score_time  \n",
       "0 -0.203032   0.241819    0.004404  \n",
       "1 -0.197452   0.384149    0.006606  \n",
       "2 -0.193145   0.617561    0.008808  \n",
       "3 -0.191702   1.080381    0.013813  \n",
       "4 -0.190313   1.784121    0.023021  \n",
       "5 -0.189688   2.987112    0.034231  \n",
       "6 -0.189255   4.992933    0.056051  \n",
       "7 -0.188487   8.343175    0.091283  \n",
       "8 -0.188270  13.899419    0.151137  \n",
       "9 -0.188416  23.218480    0.251028  "
      ]
     },
     "execution_count": 30,
     "metadata": {},
     "output_type": "execute_result"
    }
   ],
   "source": [
    "metric_df = pd.DataFrame(n_estimators_dict).T.reset_index().rename(columns={'index': 'n_estimators'})\n",
    "metric_df"
   ]
  },
  {
   "cell_type": "code",
   "execution_count": 32,
   "metadata": {},
   "outputs": [
    {
     "name": "stdout",
     "output_type": "stream",
     "text": [
      "Best number of trees = 299 with RMSE = -5841.988004924209\n"
     ]
    }
   ],
   "source": [
    "best_grid = metric_df[abs(metric_df['RMSE']) == abs(metric_df['RMSE']).min()]\n",
    "best_rmse = best_grid['RMSE'].values[0]\n",
    "best_nest = best_grid['n_estimators'].values[0]\n",
    "\n",
    "print(f'Best number of trees = {best_nest} with RMSE = {best_rmse}')"
   ]
  },
  {
   "cell_type": "code",
   "execution_count": 33,
   "metadata": {},
   "outputs": [],
   "source": [
    "regr = BaggingRegressor(n_estimators=best_nest, random_state=0).fit(X, y) # 299"
   ]
  },
  {
   "cell_type": "code",
   "execution_count": 38,
   "metadata": {},
   "outputs": [],
   "source": [
    "# save model in YYYYMMDD format\n",
    "from datetime import datetime\n",
    "import pickle\n",
    " \n",
    "regr_filename = f'{datetime.today().strftime(\"%Y%m%d\")}_bagging_model_less_features_299.pkl'\n",
    "pickle.dump(regr, open(regr_filename, 'wb'))"
   ]
  },
  {
   "cell_type": "markdown",
   "metadata": {},
   "source": [
    "### Feature Importance"
   ]
  },
  {
   "cell_type": "code",
   "execution_count": 35,
   "metadata": {},
   "outputs": [
    {
     "data": {
      "image/png": "[encoded data removed]",
      "text/plain": [
       "<Figure size 640x480 with 1 Axes>"
      ]
     },
     "metadata": {},
     "output_type": "display_data"
    }
   ],
   "source": [
    "# matplotlib\n",
    "import matplotlib.pyplot as plt\n",
    "\n",
    "feature_importances = np.mean([\n",
    "    tree.feature_importances_ for tree in regr.estimators_\n",
    "], axis=0)\n",
    "\n",
    "num_features = 20\n",
    "\n",
    "indices = np.argsort(feature_importances)[::-1][:num_features]\n",
    "\n",
    "fig, ax = plt.subplots()\n",
    "ax.barh(range(num_features), feature_importances[indices][::-1])\n",
    "ax.set_yticks(range(num_features))\n",
    "_ = ax.set_yticklabels(np.array(X.columns)[indices][::-1])\n",
    "# font size\n",
    "plt.rcParams.update({'font.size': 8})"
   ]
  },
  {
   "cell_type": "markdown",
   "metadata": {},
   "source": [
    "+ Should compare `day_weekend` with `day_weekday`\n",
    "+ Only LAD stands out from other teams"
   ]
  },
  {
   "cell_type": "markdown",
   "metadata": {},
   "source": [
    "## Model Evaluation"
   ]
  },
  {
   "cell_type": "code",
   "execution_count": 36,
   "metadata": {},
   "outputs": [],
   "source": [
    "X_test, y_test = raw_test_df.drop(columns=['attendance'], axis=1), raw_test_df['attendance']"
   ]
  },
  {
   "cell_type": "code",
   "execution_count": 37,
   "metadata": {},
   "outputs": [
    {
     "name": "stdout",
     "output_type": "stream",
     "text": [
      "========== Bagging Regressor ==========\n",
      "MSE: 47635628.02\n",
      "RMSE: 6901.86\n",
      "MAE: 5359.37\n",
      "MAPE: 0.28\n"
     ]
    }
   ],
   "source": [
    "# read model\n",
    "import pickle\n",
    "regr = pickle.load(open('20221127_bagging_model_less_features_299.pkl', 'rb'))\n",
    "y_pred = regr.predict(X_test)\n",
    "\n",
    "# performance\n",
    "test_performance = measure_model(y_test, y_pred, title='Bagging Regressor')"
   ]
  },
  {
   "cell_type": "markdown",
   "metadata": {},
   "source": [
    "It turns out that with specific features selected, it still doesn't perform that well. "
   ]
  },
  {
   "cell_type": "markdown",
   "metadata": {},
   "source": []
  }
 ],
 "metadata": {
  "kernelspec": {
   "display_name": "Python 3.10.8 64-bit (microsoft store)",
   "language": "python",
   "name": "python3"
  },
  "language_info": {
   "codemirror_mode": {
    "name": "ipython",
    "version": 3
   },
   "file_extension": ".py",
   "mimetype": "text/x-python",
   "name": "python",
   "nbconvert_exporter": "python",
   "pygments_lexer": "ipython3",
   "version": "3.10.8"
  },
  "orig_nbformat": 4,
  "vscode": {
   "interpreter": {
    "hash": "67ca7afeb5b8efa8c3fe0f03b74e12078850e65dfdef21d5a2a5aaaa51489039"
   }
  }
 },
 "nbformat": 4,
 "nbformat_minor": 2
}
