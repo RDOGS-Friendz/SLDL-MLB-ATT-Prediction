{
 "cells": [
  {
   "cell_type": "markdown",
   "metadata": {},
   "source": [
    "# Bagging \n",
    "\n",
    "Notebook to train a bagging model.\n",
    "\n",
    "Evaluation metrics:\n",
    "  \n",
    "+ MSE\n",
    "+ RMSE\n",
    "+ MAE\n",
    "+ MAPE\n",
    "\n",
    "Steps:\n",
    "\n",
    "1. 5-fold on training set\n",
    "2. Find the best hyper parameters\n",
    "3. 5-fold as the final training set, re-train with the best hyper parameters\n",
    "4. Save model\n",
    "5. Measure the performance on the test set"
   ]
  },
  {
   "cell_type": "code",
   "execution_count": 15,
   "metadata": {},
   "outputs": [],
   "source": [
    "import numpy as np\n",
    "import pandas as pd"
   ]
  },
  {
   "cell_type": "code",
   "execution_count": 24,
   "metadata": {},
   "outputs": [],
   "source": [
    "raw_test_df = pd.read_csv('../../statistical-learning/processed_test.csv')\n",
    "raw_train_df = pd.read_csv('../../statistical-learning/processed_training.csv')"
   ]
  },
  {
   "cell_type": "markdown",
   "metadata": {},
   "source": [
    "## Preprocessing"
   ]
  },
  {
   "cell_type": "code",
   "execution_count": 25,
   "metadata": {},
   "outputs": [],
   "source": [
    "# still need to one hot team1_name and team2_name\n",
    "\n",
    "raw_train_df = pd.get_dummies(raw_train_df, columns=['team1_name', 'team2_name', 'season_type'])\n",
    "raw_test_df = pd.get_dummies(raw_test_df, columns=['team1_name', 'team2_name', 'season_type'])\n",
    "\n",
    "# drop columns: venue, start_hour\n",
    "raw_train_df = raw_train_df.drop(columns=['venue', 'start_hour'], axis=1)\n",
    "raw_test_df = raw_test_df.drop(columns=['venue', 'start_hour'], axis=1)"
   ]
  },
  {
   "cell_type": "code",
   "execution_count": 29,
   "metadata": {},
   "outputs": [
    {
     "name": "stdout",
     "output_type": "stream",
     "text": [
      "True\n"
     ]
    }
   ],
   "source": [
    "# see if there are any columns that are not in both dataframes\n",
    "train_cols = set(raw_train_df.columns)\n",
    "test_cols = set(raw_test_df.columns)\n",
    "\n",
    "# make sure that the columns are the same\n",
    "print(test_cols == train_cols)"
   ]
  },
  {
   "cell_type": "code",
   "execution_count": 32,
   "metadata": {},
   "outputs": [
    {
     "data": {
      "text/html": [
       "<div>\n",
       "<style scoped>\n",
       "    .dataframe tbody tr th:only-of-type {\n",
       "        vertical-align: middle;\n",
       "    }\n",
       "\n",
       "    .dataframe tbody tr th {\n",
       "        vertical-align: top;\n",
       "    }\n",
       "\n",
       "    .dataframe thead th {\n",
       "        text-align: right;\n",
       "    }\n",
       "</style>\n",
       "<table border=\"1\" class=\"dataframe\">\n",
       "  <thead>\n",
       "    <tr style=\"text-align: right;\">\n",
       "      <th></th>\n",
       "      <th>attendance</th>\n",
       "      <th>is_federal_holiday</th>\n",
       "      <th>on_grass</th>\n",
       "      <th>temperature</th>\n",
       "      <th>wind_speed</th>\n",
       "      <th>team1_pre_win</th>\n",
       "      <th>team1_pre_loss</th>\n",
       "      <th>team1_pre_win_pct</th>\n",
       "      <th>team1_streak</th>\n",
       "      <th>team2_pre_win</th>\n",
       "      <th>...</th>\n",
       "      <th>team2_name_SDP</th>\n",
       "      <th>team2_name_SEA</th>\n",
       "      <th>team2_name_SFG</th>\n",
       "      <th>team2_name_STL</th>\n",
       "      <th>team2_name_TBR</th>\n",
       "      <th>team2_name_TEX</th>\n",
       "      <th>team2_name_TOR</th>\n",
       "      <th>team2_name_WSN</th>\n",
       "      <th>season_type_post</th>\n",
       "      <th>season_type_regular</th>\n",
       "    </tr>\n",
       "  </thead>\n",
       "  <tbody>\n",
       "    <tr>\n",
       "      <th>0</th>\n",
       "      <td>35055</td>\n",
       "      <td>0</td>\n",
       "      <td>1</td>\n",
       "      <td>-2.786672</td>\n",
       "      <td>-0.093090</td>\n",
       "      <td>-1.62645</td>\n",
       "      <td>-1.654514</td>\n",
       "      <td>0.0</td>\n",
       "      <td>0.007618</td>\n",
       "      <td>-1.624298</td>\n",
       "      <td>...</td>\n",
       "      <td>0</td>\n",
       "      <td>0</td>\n",
       "      <td>0</td>\n",
       "      <td>0</td>\n",
       "      <td>0</td>\n",
       "      <td>0</td>\n",
       "      <td>0</td>\n",
       "      <td>0</td>\n",
       "      <td>0</td>\n",
       "      <td>1</td>\n",
       "    </tr>\n",
       "    <tr>\n",
       "      <th>1</th>\n",
       "      <td>49043</td>\n",
       "      <td>0</td>\n",
       "      <td>1</td>\n",
       "      <td>0.705205</td>\n",
       "      <td>-0.093090</td>\n",
       "      <td>-1.62645</td>\n",
       "      <td>-1.654514</td>\n",
       "      <td>0.0</td>\n",
       "      <td>0.007618</td>\n",
       "      <td>-1.624298</td>\n",
       "      <td>...</td>\n",
       "      <td>0</td>\n",
       "      <td>0</td>\n",
       "      <td>0</td>\n",
       "      <td>0</td>\n",
       "      <td>0</td>\n",
       "      <td>0</td>\n",
       "      <td>0</td>\n",
       "      <td>0</td>\n",
       "      <td>0</td>\n",
       "      <td>1</td>\n",
       "    </tr>\n",
       "    <tr>\n",
       "      <th>2</th>\n",
       "      <td>43633</td>\n",
       "      <td>0</td>\n",
       "      <td>1</td>\n",
       "      <td>-0.521670</td>\n",
       "      <td>1.490839</td>\n",
       "      <td>-1.62645</td>\n",
       "      <td>-1.654514</td>\n",
       "      <td>0.0</td>\n",
       "      <td>0.007618</td>\n",
       "      <td>-1.624298</td>\n",
       "      <td>...</td>\n",
       "      <td>0</td>\n",
       "      <td>0</td>\n",
       "      <td>0</td>\n",
       "      <td>0</td>\n",
       "      <td>0</td>\n",
       "      <td>0</td>\n",
       "      <td>0</td>\n",
       "      <td>0</td>\n",
       "      <td>0</td>\n",
       "      <td>1</td>\n",
       "    </tr>\n",
       "  </tbody>\n",
       "</table>\n",
       "<p>3 rows × 274 columns</p>\n",
       "</div>"
      ],
      "text/plain": [
       "   attendance  is_federal_holiday  on_grass  temperature  wind_speed  \\\n",
       "0       35055                   0         1    -2.786672   -0.093090   \n",
       "1       49043                   0         1     0.705205   -0.093090   \n",
       "2       43633                   0         1    -0.521670    1.490839   \n",
       "\n",
       "   team1_pre_win  team1_pre_loss  team1_pre_win_pct  team1_streak  \\\n",
       "0       -1.62645       -1.654514                0.0      0.007618   \n",
       "1       -1.62645       -1.654514                0.0      0.007618   \n",
       "2       -1.62645       -1.654514                0.0      0.007618   \n",
       "\n",
       "   team2_pre_win  ...  team2_name_SDP  team2_name_SEA  team2_name_SFG  \\\n",
       "0      -1.624298  ...               0               0               0   \n",
       "1      -1.624298  ...               0               0               0   \n",
       "2      -1.624298  ...               0               0               0   \n",
       "\n",
       "   team2_name_STL  team2_name_TBR  team2_name_TEX  team2_name_TOR  \\\n",
       "0               0               0               0               0   \n",
       "1               0               0               0               0   \n",
       "2               0               0               0               0   \n",
       "\n",
       "   team2_name_WSN  season_type_post  season_type_regular  \n",
       "0               0                 0                    1  \n",
       "1               0                 0                    1  \n",
       "2               0                 0                    1  \n",
       "\n",
       "[3 rows x 274 columns]"
      ]
     },
     "execution_count": 32,
     "metadata": {},
     "output_type": "execute_result"
    }
   ],
   "source": [
    "raw_train_df.head(3)"
   ]
  },
  {
   "cell_type": "code",
   "execution_count": 33,
   "metadata": {},
   "outputs": [],
   "source": [
    "X, y = raw_train_df.drop(columns=['attendance'], axis=1), raw_train_df['attendance']"
   ]
  },
  {
   "cell_type": "markdown",
   "metadata": {},
   "source": [
    "## Model Building"
   ]
  },
  {
   "cell_type": "markdown",
   "metadata": {},
   "source": [
    "### Model Evaluation Function"
   ]
  },
  {
   "cell_type": "code",
   "execution_count": 40,
   "metadata": {},
   "outputs": [],
   "source": [
    "# MSE, RMSE, MAE, MAPE\n",
    "\n",
    "from sklearn.metrics import mean_squared_error, mean_absolute_error, mean_absolute_percentage_error\n",
    "\n",
    "def measure_model(y_true, y_pred, verbose=True, title=''):\n",
    "    mse = mean_squared_error(y_true, y_pred)\n",
    "    rmse = np.sqrt(mse)\n",
    "    mae = mean_absolute_error(y_true, y_pred)\n",
    "    mape = mean_absolute_percentage_error(y_true, y_pred)\n",
    "    \n",
    "    if verbose:\n",
    "        print(f'''{\"=\"*10} {title} {\"=\"*10}\n",
    "MSE: {mse:.2f}\n",
    "RMSE: {rmse:.2f}\n",
    "MAE: {mae:.2f}\n",
    "MAPE: {mape:.2f}''')\n",
    "\n",
    "    return {\n",
    "        'MSE': mse,\n",
    "        'RMSE': rmse,\n",
    "        'MAE': mae,\n",
    "        'MAPE': mape\n",
    "    }"
   ]
  },
  {
   "cell_type": "code",
   "execution_count": 41,
   "metadata": {},
   "outputs": [],
   "source": [
    "from sklearn.ensemble import BaggingRegressor\n",
    "from sklearn.model_selection import train_test_split, cross_val_score, GridSearchCV, StratifiedKFold, cross_validate"
   ]
  },
  {
   "cell_type": "markdown",
   "metadata": {},
   "source": [
    "### Simple Bagging Model"
   ]
  },
  {
   "cell_type": "code",
   "execution_count": 36,
   "metadata": {},
   "outputs": [
    {
     "name": "stdout",
     "output_type": "stream",
     "text": [
      "========== Simple Bagging Regressor ==========\n",
      "MSE: 21495061.24\n",
      "RMSE: 4636.28\n",
      "MAE: 3426.03\n",
      "MAPE: 0.13\n"
     ]
    }
   ],
   "source": [
    "X_train, X_test, y_train, y_test = train_test_split(X, y, test_size=0.2, random_state=42)\n",
    "\n",
    "# Bagging Regressor\n",
    "regr = BaggingRegressor(n_estimators=10, random_state=42).fit(X_train, y_train)\n",
    "y_pred_simple = regr.predict(X_test)\n",
    "\n",
    "_ = measure_model(y_test, y_pred_simple, title='Simple Bagging Regressor')"
   ]
  },
  {
   "cell_type": "code",
   "execution_count": 37,
   "metadata": {},
   "outputs": [
    {
     "data": {
      "image/png": "[encoded data removed]",
      "text/plain": [
       "<Figure size 640x480 with 1 Axes>"
      ]
     },
     "metadata": {},
     "output_type": "display_data"
    }
   ],
   "source": [
    "# matplotlib\n",
    "import matplotlib.pyplot as plt\n",
    "\n",
    "feature_importances = np.mean([\n",
    "    tree.feature_importances_ for tree in regr.estimators_\n",
    "], axis=0)\n",
    "\n",
    "num_features = 20\n",
    "\n",
    "indices = np.argsort(feature_importances)[::-1][:num_features]\n",
    "\n",
    "fig, ax = plt.subplots()\n",
    "ax.barh(range(num_features), feature_importances[indices][::-1])\n",
    "ax.set_yticks(range(num_features))\n",
    "_ = ax.set_yticklabels(np.array(X.columns)[indices][::-1])\n",
    "# font size\n",
    "plt.rcParams.update({'font.size': 8})"
   ]
  },
  {
   "cell_type": "markdown",
   "metadata": {},
   "source": [
    "### Hyperparameter Tuning"
   ]
  },
  {
   "cell_type": "code",
   "execution_count": 43,
   "metadata": {},
   "outputs": [],
   "source": [
    "# skf = StratifiedKFold(n_splits=5)\n",
    "scoring = ['neg_mean_squared_error', 'neg_root_mean_squared_error', 'neg_mean_absolute_error', 'neg_mean_absolute_percentage_error']\n",
    "n_estimators_grid = np.geomspace(5, 500, 10, endpoint=True, dtype=int) # 10 numbers between 5 and 1000\n",
    "n_estimators_dict = {}\n",
    "\n",
    "for n_estimators in n_estimators_grid:\n",
    "    regr = BaggingRegressor(n_estimators=n_estimators, random_state=42)\n",
    "    results = cross_validate(regr, X, y, cv=5, scoring=scoring)\n",
    "\n",
    "    metric_dict = {}\n",
    "    metric_dict['MSE'] = results['test_neg_mean_squared_error'].mean()\n",
    "    metric_dict['RMSE'] = results['test_neg_root_mean_squared_error'].mean()\n",
    "    metric_dict['MAE'] = results['test_neg_mean_absolute_error'].mean()\n",
    "    metric_dict['MAPE'] = results['test_neg_mean_absolute_percentage_error'].mean()\n",
    "    metric_dict['fit_time'] = results['fit_time'].mean()\n",
    "    metric_dict['score_time'] = results['score_time'].mean()\n",
    "\n",
    "    n_estimators_dict[n_estimators] = metric_dict"
   ]
  },
  {
   "cell_type": "markdown",
   "metadata": {},
   "source": [
    "### Use the best hyperparameters to train the model"
   ]
  },
  {
   "cell_type": "code",
   "execution_count": 39,
   "metadata": {},
   "outputs": [
    {
     "data": {
      "text/html": [
       "<div>\n",
       "<style scoped>\n",
       "    .dataframe tbody tr th:only-of-type {\n",
       "        vertical-align: middle;\n",
       "    }\n",
       "\n",
       "    .dataframe tbody tr th {\n",
       "        vertical-align: top;\n",
       "    }\n",
       "\n",
       "    .dataframe thead th {\n",
       "        text-align: right;\n",
       "    }\n",
       "</style>\n",
       "<table border=\"1\" class=\"dataframe\">\n",
       "  <thead>\n",
       "    <tr style=\"text-align: right;\">\n",
       "      <th></th>\n",
       "      <th>n_estimators</th>\n",
       "      <th>MSE</th>\n",
       "      <th>RMSE</th>\n",
       "      <th>MAE</th>\n",
       "      <th>MAPE</th>\n",
       "      <th>fit_time</th>\n",
       "      <th>score_time</th>\n",
       "    </tr>\n",
       "  </thead>\n",
       "  <tbody>\n",
       "    <tr>\n",
       "      <th>0</th>\n",
       "      <td>5</td>\n",
       "      <td>-3.508660e+07</td>\n",
       "      <td>-5916.830610</td>\n",
       "      <td>-4444.372029</td>\n",
       "      <td>-0.185523</td>\n",
       "      <td>1.874060</td>\n",
       "      <td>0.044598</td>\n",
       "    </tr>\n",
       "    <tr>\n",
       "      <th>1</th>\n",
       "      <td>9</td>\n",
       "      <td>-3.269430e+07</td>\n",
       "      <td>-5708.527877</td>\n",
       "      <td>-4299.205297</td>\n",
       "      <td>-0.179355</td>\n",
       "      <td>3.317197</td>\n",
       "      <td>0.055614</td>\n",
       "    </tr>\n",
       "  </tbody>\n",
       "</table>\n",
       "</div>"
      ],
      "text/plain": [
       "   n_estimators           MSE         RMSE          MAE      MAPE  fit_time  \\\n",
       "0             5 -3.508660e+07 -5916.830610 -4444.372029 -0.185523  1.874060   \n",
       "1             9 -3.269430e+07 -5708.527877 -4299.205297 -0.179355  3.317197   \n",
       "\n",
       "   score_time  \n",
       "0    0.044598  \n",
       "1    0.055614  "
      ]
     },
     "execution_count": 39,
     "metadata": {},
     "output_type": "execute_result"
    }
   ],
   "source": [
    "metric_df = pd.DataFrame(n_estimators_dict).T.reset_index().rename(columns={'index': 'n_estimators'})\n",
    "metric_df"
   ]
  },
  {
   "cell_type": "code",
   "execution_count": 81,
   "metadata": {},
   "outputs": [
    {
     "name": "stdout",
     "output_type": "stream",
     "text": [
      "Best number of trees = 1000 with RMSE = -5653.819367550194\n"
     ]
    }
   ],
   "source": [
    "best_grid = metric_df[abs(metric_df['RMSE']) == abs(metric_df['RMSE']).min()]\n",
    "best_rmse = best_grid['RMSE'].values[0]\n",
    "best_nest = best_grid['n_estimators'].values[0]\n",
    "\n",
    "print(f'Best number of trees = {best_nest} with RMSE = {best_rmse}')"
   ]
  },
  {
   "cell_type": "code",
   "execution_count": 89,
   "metadata": {},
   "outputs": [],
   "source": [
    "# regr = BaggingRegressor(n_estimators=1000, random_state=0).fit(scaled_X, y) # too big\n",
    "regr = BaggingRegressor(n_estimators=29, random_state=0).fit(scaled_X, y) # fit time 爆炸成長前"
   ]
  },
  {
   "cell_type": "code",
   "execution_count": 90,
   "metadata": {},
   "outputs": [],
   "source": [
    "# save model in YYYYMMDD format\n",
    "from datetime import datetime\n",
    "import pickle\n",
    "\n",
    "regr_filename = f'{datetime.today().strftime(\"%Y%m%d\")}_bagging_model_29.pkl'\n",
    "pickle.dump(regr, open(regr_filename, 'wb'))"
   ]
  },
  {
   "cell_type": "markdown",
   "metadata": {},
   "source": [
    "### Feature Importance"
   ]
  },
  {
   "cell_type": "code",
   "execution_count": 91,
   "metadata": {},
   "outputs": [
    {
     "data": {
      "image/png": "[encoded data removed]",
      "text/plain": [
       "<Figure size 640x480 with 1 Axes>"
      ]
     },
     "metadata": {},
     "output_type": "display_data"
    }
   ],
   "source": [
    "# matplotlib\n",
    "import matplotlib.pyplot as plt\n",
    "\n",
    "feature_importances = np.mean([\n",
    "    tree.feature_importances_ for tree in regr.estimators_\n",
    "], axis=0)\n",
    "\n",
    "num_features = 20\n",
    "\n",
    "indices = np.argsort(feature_importances)[::-1][:num_features]\n",
    "\n",
    "fig, ax = plt.subplots()\n",
    "ax.barh(range(num_features), feature_importances[indices][::-1])\n",
    "ax.set_yticks(range(num_features))\n",
    "_ = ax.set_yticklabels(np.array(X.columns)[indices][::-1])\n",
    "# font size\n",
    "plt.rcParams.update({'font.size': 8})"
   ]
  },
  {
   "cell_type": "markdown",
   "metadata": {},
   "source": [
    "## Model Evaluation"
   ]
  },
  {
   "cell_type": "code",
   "execution_count": 85,
   "metadata": {},
   "outputs": [
    {
     "name": "stderr",
     "output_type": "stream",
     "text": [
      "/var/folders/j3/sr9rbcw10dzch_cpwn25txkh0000gn/T/ipykernel_94121/1460645059.py:3: FutureWarning: The default value of regex will change from True to False in a future version. In addition, single character regular expressions will *not* be treated as literal strings when regex=True.\n",
      "  processed_df['weather'] = processed_df['weather'].str.replace('.', '')\n"
     ]
    }
   ],
   "source": [
    "X_test, y_test = process_data(raw_test_df)\n",
    "ss = StandardScaler().fit(X_test)\n",
    "scaled_X_test = ss.transform(X_test)"
   ]
  },
  {
   "cell_type": "code",
   "execution_count": 92,
   "metadata": {},
   "outputs": [
    {
     "name": "stdout",
     "output_type": "stream",
     "text": [
      "========== Bagging Regressor ==========\n",
      "MSE: 86679336.31\n",
      "RMSE: 9310.17\n",
      "MAE: 7347.44\n",
      "MAPE: 0.45\n"
     ]
    }
   ],
   "source": [
    "# read model\n",
    "import pickle\n",
    "regr = pickle.load(open('20221125_bagging_model_29.pkl', 'rb'))\n",
    "y_pred = regr.predict(scaled_X_test)\n",
    "\n",
    "# performance\n",
    "test_performance = measure_model(y_test, y_pred, title='Bagging Regressor')"
   ]
  },
  {
   "cell_type": "markdown",
   "metadata": {},
   "source": [
    "Note:\n",
    "\n",
    "+ The model doesn't perform well on the test set, which can be improved through following ways:\n",
    "    1. Player data may be too noisy, we can try to cut down player features with PCA or maybe just use salary ranks\n",
    "    2. Venue capacities vary a lot, it'd be better if we can first group venues by capacity and then train models for each group\n",
    "+ Metrics looked good on the training set, but not on the testing set, which means the model is probably overfitting. We can try to reduce the number of features or use regularization to reduce overfitting\n",
    "+ When comparing the bagging model with the baseline model, we see that baseline (MA-5) did slightly better (廢話), but it does slightly better than **average attendance of a stadium**. \n",
    "\n",
    "```\n",
    "==================== MA(5) ====================\n",
    "MSE:  32362577.913605437\n",
    "RMSE:  5688.81164335799\n",
    "MAE:  4399.588064076346\n",
    "MAPE 0.21121206067333725\n",
    "```\n",
    "\n",
    "```\n",
    "==================== Average Attendance Only ====================\n",
    "MSE:  88887032.10373585\n",
    "RMSE:  9427.991944403424\n",
    "MAE:  7635.267692974473\n",
    "MAPE 0.48553017390069386\n",
    "```\n",
    "\n",
    "```\n",
    "========== Bagging Regressor ==========\n",
    "MSE: 86679336.31\n",
    "RMSE: 9310.17\n",
    "MAE: 7347.44\n",
    "MAPE: 0.45\n",
    "```"
   ]
  },
  {
   "cell_type": "markdown",
   "metadata": {},
   "source": []
  }
 ],
 "metadata": {
  "kernelspec": {
   "display_name": "Python 3.9.7 ('SLDL-MLB-ATT-Prediction-zGGtRO8S')",
   "language": "python",
   "name": "python3"
  },
  "language_info": {
   "codemirror_mode": {
    "name": "ipython",
    "version": 3
   },
   "file_extension": ".py",
   "mimetype": "text/x-python",
   "name": "python",
   "nbconvert_exporter": "python",
   "pygments_lexer": "ipython3",
   "version": "3.9.7"
  },
  "orig_nbformat": 4,
  "vscode": {
   "interpreter": {
    "hash": "09b986f056858d0eb21591cbebfb16986741aaab2ecfe676c08cd0136a91e06a"
   }
  }
 },
 "nbformat": 4,
 "nbformat_minor": 2
}
