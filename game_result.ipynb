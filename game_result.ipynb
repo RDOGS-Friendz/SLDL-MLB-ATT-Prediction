{
 "cells": [
  {
   "cell_type": "code",
   "execution_count": 1,
   "metadata": {},
   "outputs": [],
   "source": [
    "teams = ['ANA', 'ARI', 'ATL', 'BAL', 'BOS', 'CAL', 'CHC', 'CHW', 'CIN',\n",
    "       'CLE', 'COL', 'DET', 'FLA', 'HOU', 'KCR']\n",
    "teams2 = ['LAA', 'LAD', 'MIA',\n",
    "       'MIL', 'MIN', 'MON', 'NYM', 'NYY', 'OAK', 'PHI', 'PIT', 'SDP', 'SEA', 'SFG', 'STL']\n",
    "teams3 = ['TBD', 'TBR', 'TEX', 'TOR', 'WSN']"
   ]
  },
  {
   "cell_type": "code",
   "execution_count": 2,
   "metadata": {},
   "outputs": [],
   "source": [
    "from pybaseball import schedule_and_record"
   ]
  },
  {
   "cell_type": "code",
   "execution_count": 3,
   "metadata": {},
   "outputs": [],
   "source": [
    "def getSeasonRecord(team, year):\n",
    "    print(\"Current Team: \" + team + \" \" + str(year))\n",
    "    try:\n",
    "        df = schedule_and_record(year, team)\n",
    "        filename = \"./data/record/season_record_\" + team + \"_\" + str(year) + \".csv\"\n",
    "        df.to_csv(filename)\n",
    "        return df\n",
    "    except Exception as e:\n",
    "        print(\"[Error] \" + team + \" \" + str(year) + \"\\n\" + str(e))"
   ]
  },
  {
   "cell_type": "code",
   "execution_count": 7,
   "metadata": {},
   "outputs": [],
   "source": [
    "import warnings\n",
    "warnings.filterwarnings('ignore')"
   ]
  },
  {
   "cell_type": "code",
   "execution_count": 8,
   "metadata": {},
   "outputs": [
    {
     "name": "stdout",
     "output_type": "stream",
     "text": [
      "Current Team: TBD 2014\n",
      "[Error] TBD 2014\n",
      "Data cannot be retrieved for this team/year combo. Please verify that your team abbreviation is accurate and that the team existed during the season you are searching for.\n",
      "Current Team: TBR 2014\n",
      "Current Team: TEX 2014\n",
      "Current Team: TOR 2014\n",
      "Current Team: WSN 2014\n"
     ]
    }
   ],
   "source": [
    "for team in teams3:\n",
    "    getSeasonRecord(team, 2014)"
   ]
  },
  {
   "cell_type": "code",
   "execution_count": null,
   "metadata": {},
   "outputs": [],
   "source": []
  }
 ],
 "metadata": {
  "kernelspec": {
   "display_name": "Python 3.9.13 64-bit (microsoft store)",
   "language": "python",
   "name": "python3"
  },
  "language_info": {
   "codemirror_mode": {
    "name": "ipython",
    "version": 3
   },
   "file_extension": ".py",
   "mimetype": "text/x-python",
   "name": "python",
   "nbconvert_exporter": "python",
   "pygments_lexer": "ipython3",
   "version": "3.9.13"
  },
  "orig_nbformat": 4,
  "vscode": {
   "interpreter": {
    "hash": "640829cba0c996ec1edfe38112f06d06ccbb529c69ad00e2e287bb19236004a2"
   }
  }
 },
 "nbformat": 4,
 "nbformat_minor": 2
}
