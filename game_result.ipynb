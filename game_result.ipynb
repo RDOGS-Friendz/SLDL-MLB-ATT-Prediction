{
 "cells": [
  {
   "cell_type": "code",
   "execution_count": 8,
   "metadata": {},
   "outputs": [],
   "source": [
    "teams = ['ANA', 'ARI', 'ATL', 'BAL', 'BOS', 'CAL', 'CHC', 'CHW', 'CIN',\n",
    "       'CLE', 'COL', 'DET', 'FLA', 'HOU', 'KCR', 'LAA', 'LAD', 'MIA',\n",
    "       'MIL', 'MIN', 'MON', 'NYM', 'NYY', 'OAK', 'PHI', 'PIT', 'SDP',\n",
    "       'SEA', 'SFG', 'STL', 'TBD', 'TBR', 'TEX', 'TOR', 'WSN']"
   ]
  },
  {
   "cell_type": "code",
   "execution_count": 3,
   "metadata": {},
   "outputs": [],
   "source": [
    "from pybaseball import schedule_and_record"
   ]
  },
  {
   "cell_type": "code",
   "execution_count": 19,
   "metadata": {},
   "outputs": [],
   "source": [
    "def getSeasonRecord(team, year):\n",
    "    print(\"Current Team: \" + team + \" \" + str(year))\n",
    "    try:\n",
    "        df = schedule_and_record(year, team)\n",
    "        filename = \"./data/season_record_\" + team + \"_\" + str(year) + \".csv\"\n",
    "        df.to_csv(filename)\n",
    "        return df\n",
    "    except Exception as e:\n",
    "        print(\"[Error] \" + team + \" \" + str(year) + \"\\n\" + str(e))"
   ]
  },
  {
   "cell_type": "code",
   "execution_count": 21,
   "metadata": {},
   "outputs": [
    {
     "name": "stdout",
     "output_type": "stream",
     "text": [
      "Current Team: ANA 2021\n",
      "[Error] ANA 2021\n",
      "Data cannot be retrieved for this team/year combo. Please verify that your team abbreviation is accurate and that the team existed during the season you are searching for.\n",
      "Current Team: ARI 2021\n",
      "[Error] ARI 2021\n",
      "Data cannot be retrieved for this team/year combo. Please verify that your team abbreviation is accurate and that the team existed during the season you are searching for.\n",
      "Current Team: ATL 2021\n",
      "[Error] ATL 2021\n",
      "Data cannot be retrieved for this team/year combo. Please verify that your team abbreviation is accurate and that the team existed during the season you are searching for.\n",
      "Current Team: BAL 2021\n",
      "[Error] BAL 2021\n",
      "Data cannot be retrieved for this team/year combo. Please verify that your team abbreviation is accurate and that the team existed during the season you are searching for.\n",
      "Current Team: BOS 2021\n",
      "[Error] BOS 2021\n",
      "Data cannot be retrieved for this team/year combo. Please verify that your team abbreviation is accurate and that the team existed during the season you are searching for.\n",
      "Current Team: CAL 2021\n",
      "[Error] CAL 2021\n",
      "Data cannot be retrieved for this team/year combo. Please verify that your team abbreviation is accurate and that the team existed during the season you are searching for.\n",
      "Current Team: CHC 2021\n",
      "[Error] CHC 2021\n",
      "Data cannot be retrieved for this team/year combo. Please verify that your team abbreviation is accurate and that the team existed during the season you are searching for.\n",
      "Current Team: CHW 2021\n",
      "[Error] CHW 2021\n",
      "Data cannot be retrieved for this team/year combo. Please verify that your team abbreviation is accurate and that the team existed during the season you are searching for.\n",
      "Current Team: CIN 2021\n",
      "[Error] CIN 2021\n",
      "Data cannot be retrieved for this team/year combo. Please verify that your team abbreviation is accurate and that the team existed during the season you are searching for.\n",
      "Current Team: CLE 2021\n",
      "[Error] CLE 2021\n",
      "Data cannot be retrieved for this team/year combo. Please verify that your team abbreviation is accurate and that the team existed during the season you are searching for.\n",
      "Current Team: COL 2021\n",
      "[Error] COL 2021\n",
      "Data cannot be retrieved for this team/year combo. Please verify that your team abbreviation is accurate and that the team existed during the season you are searching for.\n",
      "Current Team: DET 2021\n",
      "[Error] DET 2021\n",
      "Data cannot be retrieved for this team/year combo. Please verify that your team abbreviation is accurate and that the team existed during the season you are searching for.\n",
      "Current Team: FLA 2021\n",
      "[Error] FLA 2021\n",
      "Data cannot be retrieved for this team/year combo. Please verify that your team abbreviation is accurate and that the team existed during the season you are searching for.\n",
      "Current Team: HOU 2021\n",
      "[Error] HOU 2021\n",
      "Data cannot be retrieved for this team/year combo. Please verify that your team abbreviation is accurate and that the team existed during the season you are searching for.\n",
      "Current Team: KCR 2021\n",
      "[Error] KCR 2021\n",
      "Data cannot be retrieved for this team/year combo. Please verify that your team abbreviation is accurate and that the team existed during the season you are searching for.\n",
      "Current Team: LAA 2021\n",
      "[Error] LAA 2021\n",
      "Data cannot be retrieved for this team/year combo. Please verify that your team abbreviation is accurate and that the team existed during the season you are searching for.\n",
      "Current Team: LAD 2021\n",
      "[Error] LAD 2021\n",
      "Data cannot be retrieved for this team/year combo. Please verify that your team abbreviation is accurate and that the team existed during the season you are searching for.\n",
      "Current Team: MIA 2021\n",
      "[Error] MIA 2021\n",
      "Data cannot be retrieved for this team/year combo. Please verify that your team abbreviation is accurate and that the team existed during the season you are searching for.\n",
      "Current Team: MIL 2021\n",
      "[Error] MIL 2021\n",
      "Data cannot be retrieved for this team/year combo. Please verify that your team abbreviation is accurate and that the team existed during the season you are searching for.\n",
      "Current Team: MIN 2021\n",
      "[Error] MIN 2021\n",
      "Data cannot be retrieved for this team/year combo. Please verify that your team abbreviation is accurate and that the team existed during the season you are searching for.\n",
      "Current Team: MON 2021\n",
      "[Error] MON 2021\n",
      "Data cannot be retrieved for this team/year combo. Please verify that your team abbreviation is accurate and that the team existed during the season you are searching for.\n",
      "Current Team: NYM 2021\n",
      "[Error] NYM 2021\n",
      "Data cannot be retrieved for this team/year combo. Please verify that your team abbreviation is accurate and that the team existed during the season you are searching for.\n",
      "Current Team: NYY 2021\n",
      "[Error] NYY 2021\n",
      "Data cannot be retrieved for this team/year combo. Please verify that your team abbreviation is accurate and that the team existed during the season you are searching for.\n",
      "Current Team: OAK 2021\n",
      "[Error] OAK 2021\n",
      "Data cannot be retrieved for this team/year combo. Please verify that your team abbreviation is accurate and that the team existed during the season you are searching for.\n",
      "Current Team: PHI 2021\n",
      "[Error] PHI 2021\n",
      "Data cannot be retrieved for this team/year combo. Please verify that your team abbreviation is accurate and that the team existed during the season you are searching for.\n",
      "Current Team: PIT 2021\n",
      "[Error] PIT 2021\n",
      "Data cannot be retrieved for this team/year combo. Please verify that your team abbreviation is accurate and that the team existed during the season you are searching for.\n",
      "Current Team: SDP 2021\n",
      "[Error] SDP 2021\n",
      "Data cannot be retrieved for this team/year combo. Please verify that your team abbreviation is accurate and that the team existed during the season you are searching for.\n",
      "Current Team: SEA 2021\n",
      "[Error] SEA 2021\n",
      "Data cannot be retrieved for this team/year combo. Please verify that your team abbreviation is accurate and that the team existed during the season you are searching for.\n",
      "Current Team: SFG 2021\n",
      "[Error] SFG 2021\n",
      "Data cannot be retrieved for this team/year combo. Please verify that your team abbreviation is accurate and that the team existed during the season you are searching for.\n",
      "Current Team: STL 2021\n",
      "[Error] STL 2021\n",
      "Data cannot be retrieved for this team/year combo. Please verify that your team abbreviation is accurate and that the team existed during the season you are searching for.\n",
      "Current Team: TBD 2021\n",
      "[Error] TBD 2021\n",
      "Data cannot be retrieved for this team/year combo. Please verify that your team abbreviation is accurate and that the team existed during the season you are searching for.\n",
      "Current Team: TBR 2021\n",
      "[Error] TBR 2021\n",
      "Data cannot be retrieved for this team/year combo. Please verify that your team abbreviation is accurate and that the team existed during the season you are searching for.\n",
      "Current Team: TEX 2021\n",
      "[Error] TEX 2021\n",
      "Data cannot be retrieved for this team/year combo. Please verify that your team abbreviation is accurate and that the team existed during the season you are searching for.\n",
      "Current Team: TOR 2021\n",
      "[Error] TOR 2021\n",
      "Data cannot be retrieved for this team/year combo. Please verify that your team abbreviation is accurate and that the team existed during the season you are searching for.\n",
      "Current Team: WSN 2021\n",
      "[Error] WSN 2021\n",
      "Data cannot be retrieved for this team/year combo. Please verify that your team abbreviation is accurate and that the team existed during the season you are searching for.\n"
     ]
    }
   ],
   "source": [
    "for team in teams:\n",
    "    getSeasonRecord(team, 2021)"
   ]
  },
  {
   "cell_type": "code",
   "execution_count": 23,
   "metadata": {},
   "outputs": [
    {
     "ename": "ValueError",
     "evalue": "Data cannot be retrieved for this team/year combo. Please verify that your team abbreviation is accurate and that the team existed during the season you are searching for.",
     "output_type": "error",
     "traceback": [
      "\u001b[1;31m---------------------------------------------------------------------------\u001b[0m",
      "\u001b[1;31mIndexError\u001b[0m                                Traceback (most recent call last)",
      "File \u001b[1;32m~\\AppData\\Local\\Packages\\PythonSoftwareFoundation.Python.3.9_qbz5n2kfra8p0\\LocalCache\\local-packages\\Python39\\site-packages\\pybaseball\\team_results.py:24\u001b[0m, in \u001b[0;36mget_table\u001b[1;34m(soup, team)\u001b[0m\n\u001b[0;32m     23\u001b[0m \u001b[39mtry\u001b[39;00m:\n\u001b[1;32m---> 24\u001b[0m     table \u001b[39m=\u001b[39m soup\u001b[39m.\u001b[39;49mfind_all(\u001b[39m'\u001b[39;49m\u001b[39mtable\u001b[39;49m\u001b[39m'\u001b[39;49m)[\u001b[39m0\u001b[39;49m]\n\u001b[0;32m     25\u001b[0m \u001b[39mexcept\u001b[39;00m:\n",
      "\u001b[1;31mIndexError\u001b[0m: list index out of range",
      "\nDuring handling of the above exception, another exception occurred:\n",
      "\u001b[1;31mValueError\u001b[0m                                Traceback (most recent call last)",
      "Cell \u001b[1;32mIn [23], line 1\u001b[0m\n\u001b[1;32m----> 1\u001b[0m df \u001b[39m=\u001b[39m schedule_and_record(\u001b[39m2018\u001b[39;49m, \u001b[39m'\u001b[39;49m\u001b[39mBOS\u001b[39;49m\u001b[39m'\u001b[39;49m)\n\u001b[0;32m      2\u001b[0m df\u001b[39m.\u001b[39mhead()\n",
      "File \u001b[1;32m~\\AppData\\Local\\Packages\\PythonSoftwareFoundation.Python.3.9_qbz5n2kfra8p0\\LocalCache\\local-packages\\Python39\\site-packages\\pybaseball\\cache\\cache.py:58\u001b[0m, in \u001b[0;36mdf_cache.__call__.<locals>._cached\u001b[1;34m(*args, **kwargs)\u001b[0m\n\u001b[0;32m     55\u001b[0m result \u001b[39m=\u001b[39m \u001b[39mself\u001b[39m\u001b[39m.\u001b[39m_safe_load_func_cache(func_data)\n\u001b[0;32m     57\u001b[0m \u001b[39mif\u001b[39;00m result \u001b[39mis\u001b[39;00m \u001b[39mNone\u001b[39;00m:\n\u001b[1;32m---> 58\u001b[0m     result \u001b[39m=\u001b[39m func(\u001b[39m*\u001b[39margs, \u001b[39m*\u001b[39m\u001b[39m*\u001b[39mkwargs)\n\u001b[0;32m     59\u001b[0m     \u001b[39mself\u001b[39m\u001b[39m.\u001b[39m_safe_save_func_cache(func_data, result)\n\u001b[0;32m     61\u001b[0m \u001b[39mreturn\u001b[39;00m result\n",
      "File \u001b[1;32m~\\AppData\\Local\\Packages\\PythonSoftwareFoundation.Python.3.9_qbz5n2kfra8p0\\LocalCache\\local-packages\\Python39\\site-packages\\pybaseball\\team_results.py:116\u001b[0m, in \u001b[0;36mschedule_and_record\u001b[1;34m(season, team)\u001b[0m\n\u001b[0;32m    113\u001b[0m     \u001b[39mraise\u001b[39;00m \u001b[39mValueError\u001b[39;00m(\u001b[39m'\u001b[39m\u001b[39mSeason cannot be after current year\u001b[39m\u001b[39m'\u001b[39m)\n\u001b[0;32m    115\u001b[0m soup \u001b[39m=\u001b[39m get_soup(season, team)\n\u001b[1;32m--> 116\u001b[0m table \u001b[39m=\u001b[39m get_table(soup, team)\n\u001b[0;32m    117\u001b[0m table \u001b[39m=\u001b[39m process_win_streak(table)\n\u001b[0;32m    118\u001b[0m table \u001b[39m=\u001b[39m make_numeric(table)\n",
      "File \u001b[1;32m~\\AppData\\Local\\Packages\\PythonSoftwareFoundation.Python.3.9_qbz5n2kfra8p0\\LocalCache\\local-packages\\Python39\\site-packages\\pybaseball\\team_results.py:26\u001b[0m, in \u001b[0;36mget_table\u001b[1;34m(soup, team)\u001b[0m\n\u001b[0;32m     24\u001b[0m     table \u001b[39m=\u001b[39m soup\u001b[39m.\u001b[39mfind_all(\u001b[39m'\u001b[39m\u001b[39mtable\u001b[39m\u001b[39m'\u001b[39m)[\u001b[39m0\u001b[39m]\n\u001b[0;32m     25\u001b[0m \u001b[39mexcept\u001b[39;00m:\n\u001b[1;32m---> 26\u001b[0m     \u001b[39mraise\u001b[39;00m \u001b[39mValueError\u001b[39;00m(\u001b[39m\"\u001b[39m\u001b[39mData cannot be retrieved for this team/year combo. Please verify that your team abbreviation is accurate and that the team existed during the season you are searching for.\u001b[39m\u001b[39m\"\u001b[39m)\n\u001b[0;32m     27\u001b[0m data \u001b[39m=\u001b[39m []\n\u001b[0;32m     28\u001b[0m headings \u001b[39m=\u001b[39m [th\u001b[39m.\u001b[39mget_text() \u001b[39mfor\u001b[39;00m th \u001b[39min\u001b[39;00m table\u001b[39m.\u001b[39mfind(\u001b[39m\"\u001b[39m\u001b[39mtr\u001b[39m\u001b[39m\"\u001b[39m)\u001b[39m.\u001b[39mfind_all(\u001b[39m\"\u001b[39m\u001b[39mth\u001b[39m\u001b[39m\"\u001b[39m)]\n",
      "\u001b[1;31mValueError\u001b[0m: Data cannot be retrieved for this team/year combo. Please verify that your team abbreviation is accurate and that the team existed during the season you are searching for."
     ]
    }
   ],
   "source": [
    "df = schedule_and_record(2018, 'BOS')\n",
    "df.head()"
   ]
  },
  {
   "cell_type": "code",
   "execution_count": null,
   "metadata": {},
   "outputs": [],
   "source": []
  }
 ],
 "metadata": {
  "kernelspec": {
   "display_name": "Python 3.9.13 64-bit (microsoft store)",
   "language": "python",
   "name": "python3"
  },
  "language_info": {
   "codemirror_mode": {
    "name": "ipython",
    "version": 3
   },
   "file_extension": ".py",
   "mimetype": "text/x-python",
   "name": "python",
   "nbconvert_exporter": "python",
   "pygments_lexer": "ipython3",
   "version": "3.9.13"
  },
  "orig_nbformat": 4,
  "vscode": {
   "interpreter": {
    "hash": "640829cba0c996ec1edfe38112f06d06ccbb529c69ad00e2e287bb19236004a2"
   }
  }
 },
 "nbformat": 4,
 "nbformat_minor": 2
}
