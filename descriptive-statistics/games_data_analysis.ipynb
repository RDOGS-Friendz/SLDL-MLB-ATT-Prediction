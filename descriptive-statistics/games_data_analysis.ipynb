{
 "cells": [
  {
   "cell_type": "code",
   "execution_count": 1,
   "metadata": {},
   "outputs": [],
   "source": [
    "import pandas as pd"
   ]
  },
  {
   "cell_type": "code",
   "execution_count": 5,
   "metadata": {},
   "outputs": [],
   "source": [
    "# read pickle file into pandas dataframe\n",
    "games_2022 = pd.read_pickle(\"../gamesData2022.pickle\")"
   ]
  },
  {
   "cell_type": "code",
   "execution_count": 7,
   "metadata": {},
   "outputs": [
    {
     "name": "stdout",
     "output_type": "stream",
     "text": [
      "there are 2470 games in the dataset\n"
     ]
    }
   ],
   "source": [
    "print(f\"there are {len(games_2022.keys())} games in the dataset\")"
   ]
  },
  {
   "cell_type": "code",
   "execution_count": 10,
   "metadata": {},
   "outputs": [
    {
     "name": "stdout",
     "output_type": "stream",
     "text": [
      "for every game, the value is a dictionary with following keys: dict_keys(['meta_game_info', 'team1', 'team2'])\n"
     ]
    }
   ],
   "source": [
    "print(f\"for every game, the value is a dictionary with following keys: {games_2022[list(games_2022.keys())[0]].keys()}\")"
   ]
  },
  {
   "cell_type": "code",
   "execution_count": 14,
   "metadata": {},
   "outputs": [
    {
     "name": "stdout",
     "output_type": "stream",
     "text": [
      "for every game's meta_game_info, the value is a dictionary with following keys\n",
      "dict_keys(['have_att', 'start_time', 'duration', 'venue', 'at_night', 'on_grass', 'Start Time Weather', 'Umpires', 'att'])\n"
     ]
    }
   ],
   "source": [
    "# print first game's meta_game_info\n",
    "print(\"for every game's meta_game_info, the value is a dictionary with following keys\")\n",
    "print(games_2022[list(games_2022.keys())[0]]['meta_game_info'].keys())"
   ]
  },
  {
   "cell_type": "code",
   "execution_count": 17,
   "metadata": {},
   "outputs": [
    {
     "name": "stdout",
     "output_type": "stream",
     "text": [
      "for every game's team1, the value is a dictionary with following keys\n",
      "dict_keys(['name', 'pre_win', 'pre_loss', 'player_df'])\n"
     ]
    }
   ],
   "source": [
    "print(\"for every game's team1, the value is a dictionary with following keys\")\n",
    "print(games_2022[list(games_2022.keys())[0]]['team1'].keys())"
   ]
  },
  {
   "cell_type": "code",
   "execution_count": 28,
   "metadata": {},
   "outputs": [
    {
     "name": "stdout",
     "output_type": "stream",
     "text": [
      "first game's team1's name is HoustonAstros\n",
      "first game's team1's pre_win is 0\n",
      "first game's team1's pre_loss is 0\n"
     ]
    }
   ],
   "source": [
    "# see the first game's team1's name\n",
    "print(f\"first game's team1's name is {games_2022[list(games_2022.keys())[0]]['team1']['name']}\")\n",
    "print(f\"first game's team1's pre_win is {games_2022[list(games_2022.keys())[0]]['team1']['pre_win']}\")\n",
    "print(f\"first game's team1's pre_loss is {games_2022[list(games_2022.keys())[0]]['team1']['pre_loss']}\")"
   ]
  },
  {
   "cell_type": "code",
   "execution_count": 29,
   "metadata": {},
   "outputs": [
    {
     "name": "stdout",
     "output_type": "stream",
     "text": [
      "first game's team1's player dataframe\n",
      "                Batting AB  R  H RBI BB SO PA    BA   OBP  ...     WPA    aLI  \\\n",
      "0        Jose Altuve 2B  4  0  0   0  1  3  5  .000  .200  ...  -0.100   0.78   \n",
      "1   Michael Brantley DH  5  1  2   0  0  1  5  .400  .400  ...  -0.043   0.88   \n",
      "2       Alex Bregman 3B  4  1  2   2  0  0  4  .500  .500  ...   0.175   1.07   \n",
      "3     Yordan Alvarez LF  3  1  1   1  1  0  4  .333  .500  ...   0.044   0.69   \n",
      "4       Yuli Gurriel 1B  4  0  1   0  0  1  4  .250  .250  ...  -0.045   0.81   \n",
      "5        Kyle Tucker RF  3  0  0   0  1  1  4  .000  .250  ...  -0.035   0.78   \n",
      "6        Jeremy Pena SS  4  0  0   0  0  2  4  .000  .000  ...  -0.077   0.76   \n",
      "7     Chas McCormick CF  4  0  2   0  0  1  4  .500  .500  ...   0.116   0.65   \n",
      "8    Martin Maldonado C  4  0  0   0  0  1  4  .000  .000  ...  -0.121   0.93   \n",
      "9      Framber Valdez P                                    ...                  \n",
      "10         Phil Maton P                                    ...                  \n",
      "11       Hector Neris P                                    ...                  \n",
      "12       Ryan Pressly P                                    ...                  \n",
      "\n",
      "     WPA+     WPA-    cWPA   acLI   RE24 PO  A Details  \n",
      "0   0.008  -0.108%  -0.06%   0.79   -0.8  2  3      SB  \n",
      "1   0.049  -0.092%  -0.03%   0.90   -0.5            2B  \n",
      "2   0.227  -0.052%   0.11%   1.09    1.4  1  2      HR  \n",
      "3   0.083  -0.040%   0.03%   0.70    0.8  0  0      HR  \n",
      "4   0.026  -0.071%  -0.03%   0.82   -0.7  9  0      2B  \n",
      "5   0.009  -0.044%  -0.02%   0.79   -0.4  2  0      IW  \n",
      "6   0.000  -0.077%  -0.05%   0.77   -0.8  3  8          \n",
      "7   0.134  -0.018%   0.07%   0.66    0.9  3  0    2·2B  \n",
      "8   0.000  -0.121%  -0.07%   0.94   -1.3  7  0          \n",
      "9                                         0  0          \n",
      "10                                        0  0          \n",
      "11                                        0  0          \n",
      "12                                        0  0          \n",
      "\n",
      "[13 rows x 24 columns]\n"
     ]
    }
   ],
   "source": [
    "# see the first game's team1's player dataframe\n",
    "print(\"first game's team1's player dataframe\")\n",
    "print(games_2022[list(games_2022.keys())[0]]['team1']['player_df'])"
   ]
  },
  {
   "cell_type": "code",
   "execution_count": 18,
   "metadata": {},
   "outputs": [
    {
     "name": "stdout",
     "output_type": "stream",
     "text": [
      "for every game's team2, the value is a dictionary with following keys\n",
      "dict_keys(['name', 'pre_win', 'pre_loss', 'player_df'])\n"
     ]
    }
   ],
   "source": [
    "print(\"for every game's team2, the value is a dictionary with following keys\")\n",
    "print(games_2022[list(games_2022.keys())[0]]['team2'].keys())"
   ]
  },
  {
   "cell_type": "code",
   "execution_count": null,
   "metadata": {},
   "outputs": [],
   "source": []
  }
 ],
 "metadata": {
  "kernelspec": {
   "display_name": "Python 3.9.12 ('python39')",
   "language": "python",
   "name": "python3"
  },
  "language_info": {
   "codemirror_mode": {
    "name": "ipython",
    "version": 3
   },
   "file_extension": ".py",
   "mimetype": "text/x-python",
   "name": "python",
   "nbconvert_exporter": "python",
   "pygments_lexer": "ipython3",
   "version": "3.9.12"
  },
  "orig_nbformat": 4,
  "vscode": {
   "interpreter": {
    "hash": "f1f0ca08df83ebe1228368c35aef2dd5bdef6efbf7330e5bb8a931893862d7fc"
   }
  }
 },
 "nbformat": 4,
 "nbformat_minor": 2
}
