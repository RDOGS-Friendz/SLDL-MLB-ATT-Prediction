{
 "cells": [
  {
   "cell_type": "code",
   "execution_count": 1,
   "metadata": {},
   "outputs": [],
   "source": [
    "import pandas as pd"
   ]
  },
  {
   "cell_type": "markdown",
   "metadata": {},
   "source": [
    "## Take a look at the gamesData pickle file"
   ]
  },
  {
   "cell_type": "code",
   "execution_count": 75,
   "metadata": {},
   "outputs": [],
   "source": [
    "# read pickle file into pandas dataframe\n",
    "games = pd.read_pickle(\"../gamesData2022.pickle\")"
   ]
  },
  {
   "cell_type": "code",
   "execution_count": 76,
   "metadata": {},
   "outputs": [
    {
     "name": "stdout",
     "output_type": "stream",
     "text": [
      "there are 2470 games in the dataset\n"
     ]
    }
   ],
   "source": [
    "print(f\"there are {len(games.keys())} games in the dataset\")"
   ]
  },
  {
   "cell_type": "code",
   "execution_count": 77,
   "metadata": {},
   "outputs": [
    {
     "name": "stdout",
     "output_type": "stream",
     "text": [
      "for every game, the value is a dictionary with following keys: dict_keys(['meta_game_info', 'team1', 'team2'])\n"
     ]
    }
   ],
   "source": [
    "print(f\"for every game, the value is a dictionary with following keys: {games[list(games.keys())[0]].keys()}\")"
   ]
  },
  {
   "cell_type": "code",
   "execution_count": 78,
   "metadata": {},
   "outputs": [
    {
     "name": "stdout",
     "output_type": "stream",
     "text": [
      "for every game's meta_game_info, the value is a dictionary with following keys\n",
      "dict_keys(['have_att', 'start_time', 'duration', 'venue', 'at_night', 'on_grass', 'Start Time Weather', 'Umpires', 'att'])\n"
     ]
    }
   ],
   "source": [
    "# print first game's meta_game_info\n",
    "print(\"for every game's meta_game_info, the value is a dictionary with following keys\")\n",
    "print(games[list(games.keys())[0]]['meta_game_info'].keys())"
   ]
  },
  {
   "cell_type": "code",
   "execution_count": 79,
   "metadata": {},
   "outputs": [
    {
     "name": "stdout",
     "output_type": "stream",
     "text": [
      "take a look at the first game's meta_game_info\n",
      "{'have_att': True, 'start_time': datetime.datetime(2022, 4, 7, 18, 38), 'duration': datetime.timedelta(seconds=11700), 'venue': 'Angel Stadium of Anaheim', 'at_night': True, 'on_grass': True, 'Start Time Weather': ' 93° F, Wind 6mph out to Rightfield, Sunny, No Precipitation.', 'Umpires': ' HP - Ed Hickox, 1B - Vic Carapazza, 2B - Jansen Visconti, 3B - Ryan Wills, LF - (none), RF - (none).', 'att': 44723}\n"
     ]
    }
   ],
   "source": [
    "print(\"take a look at the first game's meta_game_info\")\n",
    "print(games[list(games.keys())[0]]['meta_game_info'])"
   ]
  },
  {
   "cell_type": "code",
   "execution_count": 80,
   "metadata": {},
   "outputs": [
    {
     "name": "stdout",
     "output_type": "stream",
     "text": [
      "take a look at the first twenty game's start time weather in the meta_game_info\n",
      " 93° F, Wind 6mph out to Rightfield, Sunny, No Precipitation.\n",
      " 93° F, Wind 6mph from Left to Right, Sunny, No Precipitation.\n",
      " 63° F, Wind 15mph from Right to Left, Cloudy, No Precipitation.\n",
      " 44° F, Wind 14mph out to Centerfield, Cloudy, No Precipitation.\n",
      " 47° F, Wind 16mph from Left to Right, Cloudy, No Precipitation.\n",
      " 50° F, Wind 20mph out to Rightfield, Cloudy, No Precipitation.\n",
      " 52° F, Wind 4mph out to Rightfield, Cloudy, No Precipitation.\n",
      " 93° F, Wind 10mph from Right to Left, Sunny, No Precipitation.\n",
      " 95° F, Wind 2mph in unknown direction, Sunny, No Precipitation.\n",
      " 46° F, Wind 3mph from Right to Left, Cloudy, No Precipitation.\n",
      " 66° F, Wind 6mph from Right to Left, Sunny, No Precipitation.\n",
      " 45° F, Wind 10mph from Right to Left, Cloudy, No Precipitation.\n",
      " 45° F, Wind 17mph out to Rightfield, Sunny, No Precipitation.\n",
      " 59° F, Wind 10mph out to Centerfield, Cloudy, No Precipitation.\n",
      " 64° F, Wind 10mph out to Centerfield, Sunny, No Precipitation.\n",
      " 69° F, Wind 23mph out to Rightfield, Sunny, No Precipitation.\n",
      " 72° F, Wind 0mph, In Dome.\n",
      " 68° F, Wind 0mph, In Dome.\n",
      " 62° F, Wind 6mph out to Centerfield, Cloudy, No Precipitation.\n",
      " 72° F, Wind 12mph out to Centerfield, Sunny, No Precipitation.\n"
     ]
    }
   ],
   "source": [
    "# print first ten game's start time weather in the meta_game_info\n",
    "print(\"take a look at the first twenty game's start time weather in the meta_game_info\")\n",
    "for game_id in list(games.keys())[:20]:\n",
    "    print(games[game_id]['meta_game_info']['Start Time Weather'])"
   ]
  },
  {
   "cell_type": "markdown",
   "metadata": {},
   "source": [
    "from above message, we can see that the start time weather basically contains four parts: temperature, wind speed, weather, and precipitation"
   ]
  },
  {
   "cell_type": "code",
   "execution_count": 81,
   "metadata": {},
   "outputs": [
    {
     "name": "stdout",
     "output_type": "stream",
     "text": [
      "the first game's start time is 2022-04-07 18:38:00\n",
      "the first game's start time is Thursday, April 7\n"
     ]
    }
   ],
   "source": [
    "import calendar\n",
    "first_game_start_time = games[list(games.keys())[0]]['meta_game_info']['start_time']\n",
    "print(f\"the first game's start time is {first_game_start_time}\")\n",
    "# transfer datetime to day of week\n",
    "day_of_week = calendar.day_name[first_game_start_time.weekday()]\n",
    "month = calendar.month_name[first_game_start_time.month]\n",
    "print(f\"the first game's start time is {day_of_week}, {month} {first_game_start_time.day}\")"
   ]
  },
  {
   "cell_type": "code",
   "execution_count": 82,
   "metadata": {},
   "outputs": [
    {
     "name": "stdout",
     "output_type": "stream",
     "text": [
      "for every game's team1, the value is a dictionary with following keys\n",
      "dict_keys(['name', 'pre_win', 'pre_loss', 'player_df'])\n"
     ]
    }
   ],
   "source": [
    "print(\"for every game's team1, the value is a dictionary with following keys\")\n",
    "print(games[list(games.keys())[0]]['team1'].keys())"
   ]
  },
  {
   "cell_type": "code",
   "execution_count": 83,
   "metadata": {},
   "outputs": [
    {
     "name": "stdout",
     "output_type": "stream",
     "text": [
      "first game's team1's name is HoustonAstros\n",
      "first game's team1's pre_win is 0\n",
      "first game's team1's pre_loss is 0\n"
     ]
    }
   ],
   "source": [
    "# see the first game's team1's name\n",
    "print(f\"first game's team1's name is {games[list(games.keys())[0]]['team1']['name']}\")\n",
    "print(f\"first game's team1's pre_win is {games[list(games.keys())[0]]['team1']['pre_win']}\")\n",
    "print(f\"first game's team1's pre_loss is {games[list(games.keys())[0]]['team1']['pre_loss']}\")"
   ]
  },
  {
   "cell_type": "code",
   "execution_count": 84,
   "metadata": {},
   "outputs": [
    {
     "name": "stdout",
     "output_type": "stream",
     "text": [
      "first game's team1's player dataframe\n",
      "                Batting AB  R  H RBI BB SO PA    BA   OBP  ...     WPA    aLI  \\\n",
      "0        Jose Altuve 2B  4  0  0   0  1  3  5  .000  .200  ...  -0.100   0.78   \n",
      "1   Michael Brantley DH  5  1  2   0  0  1  5  .400  .400  ...  -0.043   0.88   \n",
      "2       Alex Bregman 3B  4  1  2   2  0  0  4  .500  .500  ...   0.175   1.07   \n",
      "3     Yordan Alvarez LF  3  1  1   1  1  0  4  .333  .500  ...   0.044   0.69   \n",
      "4       Yuli Gurriel 1B  4  0  1   0  0  1  4  .250  .250  ...  -0.045   0.81   \n",
      "5        Kyle Tucker RF  3  0  0   0  1  1  4  .000  .250  ...  -0.035   0.78   \n",
      "6        Jeremy Pena SS  4  0  0   0  0  2  4  .000  .000  ...  -0.077   0.76   \n",
      "7     Chas McCormick CF  4  0  2   0  0  1  4  .500  .500  ...   0.116   0.65   \n",
      "8    Martin Maldonado C  4  0  0   0  0  1  4  .000  .000  ...  -0.121   0.93   \n",
      "9      Framber Valdez P                                    ...                  \n",
      "10         Phil Maton P                                    ...                  \n",
      "11       Hector Neris P                                    ...                  \n",
      "12       Ryan Pressly P                                    ...                  \n",
      "\n",
      "     WPA+     WPA-    cWPA   acLI   RE24 PO  A Details  \n",
      "0   0.008  -0.108%  -0.06%   0.79   -0.8  2  3      SB  \n",
      "1   0.049  -0.092%  -0.03%   0.90   -0.5            2B  \n",
      "2   0.227  -0.052%   0.11%   1.09    1.4  1  2      HR  \n",
      "3   0.083  -0.040%   0.03%   0.70    0.8  0  0      HR  \n",
      "4   0.026  -0.071%  -0.03%   0.82   -0.7  9  0      2B  \n",
      "5   0.009  -0.044%  -0.02%   0.79   -0.4  2  0      IW  \n",
      "6   0.000  -0.077%  -0.05%   0.77   -0.8  3  8          \n",
      "7   0.134  -0.018%   0.07%   0.66    0.9  3  0    2·2B  \n",
      "8   0.000  -0.121%  -0.07%   0.94   -1.3  7  0          \n",
      "9                                         0  0          \n",
      "10                                        0  0          \n",
      "11                                        0  0          \n",
      "12                                        0  0          \n",
      "\n",
      "[13 rows x 24 columns]\n"
     ]
    }
   ],
   "source": [
    "# see the first game's team1's player dataframe\n",
    "print(\"first game's team1's player dataframe\")\n",
    "print(games[list(games.keys())[0]]['team1']['player_df'])"
   ]
  },
  {
   "cell_type": "code",
   "execution_count": 85,
   "metadata": {},
   "outputs": [
    {
     "name": "stdout",
     "output_type": "stream",
     "text": [
      "for every game's team2, the value is a dictionary with following keys\n",
      "dict_keys(['name', 'pre_win', 'pre_loss', 'player_df'])\n"
     ]
    }
   ],
   "source": [
    "print(\"for every game's team2, the value is a dictionary with following keys\")\n",
    "print(games[list(games.keys())[0]]['team2'].keys())"
   ]
  },
  {
   "cell_type": "markdown",
   "metadata": {},
   "source": [
    "## Start to flatten the data"
   ]
  },
  {
   "cell_type": "markdown",
   "metadata": {},
   "source": [
    "for every game, it should look like the following format:\n",
    "\n",
    "```\n",
    "{\n",
    "  'have_att': True, \n",
    "  'start_time': datetime.datetime(2022, 4, 7, 18, 38),\n",
    "  'is_federal_holiday': 1, // 1: true, 0: false\n",
    "  'day': 'Sunday',\n",
    "  'month': 'April',\n",
    "  'duration': datetime.timedelta(seconds=11700), \n",
    "  'venue': 'Angel Stadium of Anaheim', \n",
    "  'at_night': True, \n",
    "  'on_grass': True, \n",
    "  'weather_description': ' 93° F, Wind 6mph out to Rightfield, Sunny, No Precipitation.', \n",
    "  'temperature': 93,\n",
    "  'wind_speed': 6,\n",
    "  'weather': 'Sunny', // if in Dome, then it is 'in Dome'\n",
    "  'precipitation': 1, // 0: no precipitation, 1: drizzle, 2: rain, 3: in Dome, 4: null\n",
    "  'Umpires': ' HP - Ed Hickox, 1B - Vic Carapazza, 2B - Jansen Visconti, 3B - Ryan Wills, LF - (none), RF - (none).', \n",
    "  'att': 44723,\n",
    "  'team1_name': 'Los Angeles Angels',\n",
    "  'team1_pre_win': 1,\n",
    "  'team1_pre_loss': 2,\n",
    "  'team1_pre_win_pct': 0.333,\n",
    "  'team1_streak': 1, // cumulative win or loss streak\n",
    "  'team1_players': dataframes of players,\n",
    "  'team2_name': 'Oakland Athletics',\n",
    "  'team2_pre_win': 0,\n",
    "  'team2_pre_loss': 3,\n",
    "  'team2_pre_win_pct': 0,\n",
    "  'team2_streak': -1, // cumulative win or loss streak\n",
    "  'team2_players': dataframes of players,\n",
    "}\n",
    "```"
   ]
  },
  {
   "cell_type": "code",
   "execution_count": 87,
   "metadata": {},
   "outputs": [
    {
     "name": "stdout",
     "output_type": "stream",
     "text": [
      "there are 3 unique precipitation values\n",
      "{' Drizzle.', ' No Precipitation.', ' Rain.'}\n"
     ]
    }
   ],
   "source": [
    "# print unique precipitation values\n",
    "precipitation_values = set()\n",
    "for game_id in games.keys():\n",
    "    # get the precipitation value from Start Time Weather split by comma\n",
    "    # get comma count in Start Time Weather\n",
    "    comma_count = games[game_id]['meta_game_info']['Start Time Weather'].count(',')\n",
    "    if comma_count < 3:\n",
    "        continue\n",
    "    precipitation = games[game_id]['meta_game_info']['Start Time Weather'].split(',')[3]\n",
    "\n",
    "    # add precipitation value to set\n",
    "    precipitation_values.add(precipitation)\n",
    "\n",
    "print(f\"there are {len(precipitation_values)} unique precipitation values\")\n",
    "print(precipitation_values)"
   ]
  },
  {
   "cell_type": "markdown",
   "metadata": {},
   "source": [
    "#### Take a look at 2021 Data to see how to decide whether the game is after COVID or not"
   ]
  },
  {
   "cell_type": "code",
   "execution_count": 1,
   "metadata": {},
   "outputs": [
    {
     "name": "stdout",
     "output_type": "stream",
     "text": [
      "['https://www.baseball-reference.com/boxes/ANA/ANA202104010.shtml', 'https://www.baseball-reference.com/boxes/CHN/CHN202104010.shtml', 'https://www.baseball-reference.com/boxes/CIN/CIN202104010.shtml', 'https://www.baseball-reference.com/boxes/COL/COL202104010.shtml', 'https://www.baseball-reference.com/boxes/DET/DET202104010.shtml', 'https://www.baseball-reference.com/boxes/KCA/KCA202104010.shtml', 'https://www.baseball-reference.com/boxes/MIA/MIA202104010.shtml', 'https://www.baseball-reference.com/boxes/MIL/MIL202104010.shtml', 'https://www.baseball-reference.com/boxes/NYA/NYA202104010.shtml', 'https://www.baseball-reference.com/boxes/OAK/OAK202104010.shtml']\n"
     ]
    }
   ],
   "source": [
    "import pandas as pd\n",
    "data_2021 = pd.read_pickle(\"../gamesData2021.pickle\")\n",
    "print(list(data_2021.keys())[:10])"
   ]
  },
  {
   "cell_type": "code",
   "execution_count": 2,
   "metadata": {},
   "outputs": [
    {
     "data": {
      "text/plain": [
       "{'meta_game_info': {'have_att': True,\n",
       "  'start_time': datetime.datetime(2021, 4, 1, 19, 5),\n",
       "  'duration': datetime.timedelta(seconds=10260),\n",
       "  'venue': 'Angel Stadium of Anaheim',\n",
       "  'at_night': True,\n",
       "  'on_grass': True,\n",
       "  'Start Time Weather': ' 81° F, Wind 6mph out to Centerfield, Cloudy, No Precipitation.',\n",
       "  'Umpires': ' HP - Larry Vanover, 1B - Marvin Hudson, 2B - David Rackley, 3B - Edwin Moscoso, LF - (none), RF - (none).',\n",
       "  'att': 13207},\n",
       " 'team1': {'name': 'ChicagoWhiteSox',\n",
       "  'pre_win': 0,\n",
       "  'pre_loss': 0,\n",
       "  'player_df':               Batting AB  R  H RBI BB SO PA    BA   OBP  ...     WPA    aLI  \\\n",
       "  0     Tim Anderson SS  4  1  1   0  0  2  4  .250  .250  ...  -0.036   0.65   \n",
       "  1       Adam Eaton RF  4  1  1   2  0  1  4  .250  .250  ...   0.200   0.78   \n",
       "  2       José Abreu 1B  4  0  1   0  0  2  4  .250  .250  ...  -0.039   0.60   \n",
       "  3     Yoan Moncada 3B  3  0  2   0  1  1  4  .667  .750  ...   0.071   0.74   \n",
       "  4   Yasmani Grandal C  3  0  0   0  1  1  4  .000  .250  ...  -0.069   1.16   \n",
       "  5     Leury Garcia LF  4  0  0   0  0  2  4  .000  .000  ...  -0.153   1.71   \n",
       "  6      Luis Robert CF  4  1  1   0  0  1  4  .250  .250  ...  -0.037   1.35   \n",
       "  7     Zack Collins DH  4  0  0   0  0  0  4  .000  .000  ...  -0.105   1.01   \n",
       "  8    Nick Madrigal 2B  3  0  1   0  0  0  3  .333  .333  ...  -0.063   0.96   \n",
       "  9     Lucas Giolito P                                    ...                  \n",
       "  10       Codi Heuer P                                    ...                  \n",
       "  11     Aaron Bummer P                                    ...                  \n",
       "  12      Matt Foster P                                    ...                  \n",
       "  \n",
       "       WPA+     WPA-    cWPA   acLI   RE24  PO  A Details  \n",
       "  0   0.017  -0.052%  -0.02%   0.63   -0.4   0  1          \n",
       "  1   0.251  -0.051%   0.12%   0.75    1.3   3  0      HR  \n",
       "  2   0.012  -0.051%  -0.02%   0.58   -0.4   6  0          \n",
       "  3   0.094  -0.023%   0.04%   0.71    0.7   1  4      2B  \n",
       "  4   0.018  -0.087%  -0.04%   1.12   -0.6  10  0          \n",
       "  5   0.000  -0.153%  -0.09%   1.64   -1.1   0  0          \n",
       "  6   0.106  -0.143%  -0.02%   1.30   -0.0   2  0   2B,SB  \n",
       "  7   0.000  -0.105%  -0.06%   0.98   -0.7                 \n",
       "  8   0.027  -0.091%  -0.04%   0.92   -0.6   2  2      CS  \n",
       "  9                                          0  0          \n",
       "  10                                         0  0          \n",
       "  11                                         0  0          \n",
       "  12                                         0  0          \n",
       "  \n",
       "  [13 rows x 24 columns]},\n",
       " 'team2': {'name': 'LosAngelesAngels',\n",
       "  'pre_win': 0,\n",
       "  'pre_loss': 0,\n",
       "  'player_df':                  Batting AB  R  H RBI BB SO PA    BA   OBP  ...     WPA  \\\n",
       "  0      David Fletcher 2B  4  1  1   0  0  2  4  .250  .250  ...   0.122   \n",
       "  1       Shohei Ohtani DH  4  1  0   0  0  1  4  .000  .000  ...   0.058   \n",
       "  2          Mike Trout CF  2  1  1   1  2  1  4  .500  .750  ...   0.170   \n",
       "  3      Anthony Rendon 3B  3  0  1   0  1  1  4  .333  .500  ...  -0.030   \n",
       "  4        Justin Upton LF  3  0  1   1  1  1  4  .333  .500  ...   0.060   \n",
       "  5       Albert Pujols 1B  4  0  0   1  0  0  4  .000  .000  ...  -0.021   \n",
       "  6       José Iglesias SS  4  0  0   0  0  0  4  .000  .000  ...  -0.133   \n",
       "  7           Max Stassi C  3  1  2   1  0  1  3  .667  .667  ...   0.131   \n",
       "  8       Dexter Fowler RF  3  0  0   0  0  3  3  .000  .000  ...  -0.091   \n",
       "  9          Dylan Bundy P                                    ...           \n",
       "  10       Aaron Slegers P                                    ...           \n",
       "  11         Mike Mayers P                                    ...           \n",
       "  12     Raisel Iglesias P                                    ...           \n",
       "  \n",
       "        aLI   WPA+     WPA-    cWPA   acLI   RE24  PO  A Details  \n",
       "  0    1.93  0.192  -0.070%   0.07%   1.82    0.1   2  3          \n",
       "  1    1.73  0.137  -0.078%   0.03%   1.62    0.0                 \n",
       "  2    1.40  0.180  -0.011%   0.10%   1.31    0.9   2  0          \n",
       "  3    1.75  0.087  -0.117%  -0.02%   1.64   -0.2   0  2          \n",
       "  4    2.46  0.233  -0.172%   0.03%   2.31    0.6   2  0     GDP  \n",
       "  5    2.21  0.092  -0.114%  -0.01%   2.08   -0.8   8  1          \n",
       "  6    1.25  0.000  -0.133%  -0.07%   1.17   -1.3   1  2          \n",
       "  7    0.87  0.151  -0.020%   0.07%   0.82    1.0  10  1      HR  \n",
       "  8    1.10  0.000  -0.091%  -0.05%   1.04   -0.5   2  0          \n",
       "  9                                                 0  0          \n",
       "  10                                                0  0          \n",
       "  11                                                0  1          \n",
       "  12                                                0  0          \n",
       "  \n",
       "  [13 rows x 24 columns]}}"
      ]
     },
     "execution_count": 2,
     "metadata": {},
     "output_type": "execute_result"
    }
   ],
   "source": [
    "data_2021['https://www.baseball-reference.com/boxes/ANA/ANA202104010.shtml']"
   ]
  },
  {
   "cell_type": "code",
   "execution_count": null,
   "metadata": {},
   "outputs": [],
   "source": []
  }
 ],
 "metadata": {
  "kernelspec": {
   "display_name": "Python 3.9.12 ('python39')",
   "language": "python",
   "name": "python3"
  },
  "language_info": {
   "codemirror_mode": {
    "name": "ipython",
    "version": 3
   },
   "file_extension": ".py",
   "mimetype": "text/x-python",
   "name": "python",
   "nbconvert_exporter": "python",
   "pygments_lexer": "ipython3",
   "version": "3.9.12"
  },
  "orig_nbformat": 4,
  "vscode": {
   "interpreter": {
    "hash": "f1f0ca08df83ebe1228368c35aef2dd5bdef6efbf7330e5bb8a931893862d7fc"
   }
  }
 },
 "nbformat": 4,
 "nbformat_minor": 2
}
