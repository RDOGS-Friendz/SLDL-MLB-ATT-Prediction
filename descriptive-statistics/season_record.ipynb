{
 "cells": [
  {
   "cell_type": "code",
   "execution_count": 19,
   "metadata": {},
   "outputs": [],
   "source": [
    "import pandas as pd\n",
    "import matplotlib.pyplot as plt"
   ]
  },
  {
   "cell_type": "code",
   "execution_count": 7,
   "metadata": {},
   "outputs": [
    {
     "data": {
      "text/html": [
       "<div>\n",
       "<style scoped>\n",
       "    .dataframe tbody tr th:only-of-type {\n",
       "        vertical-align: middle;\n",
       "    }\n",
       "\n",
       "    .dataframe tbody tr th {\n",
       "        vertical-align: top;\n",
       "    }\n",
       "\n",
       "    .dataframe thead th {\n",
       "        text-align: right;\n",
       "    }\n",
       "</style>\n",
       "<table border=\"1\" class=\"dataframe\">\n",
       "  <thead>\n",
       "    <tr style=\"text-align: right;\">\n",
       "      <th></th>\n",
       "      <th>Date</th>\n",
       "      <th>Tm</th>\n",
       "      <th>Home_Away</th>\n",
       "      <th>Opp</th>\n",
       "      <th>W/L</th>\n",
       "      <th>R</th>\n",
       "      <th>RA</th>\n",
       "      <th>Inn</th>\n",
       "      <th>W-L</th>\n",
       "      <th>Rank</th>\n",
       "      <th>GB</th>\n",
       "      <th>Win</th>\n",
       "      <th>Loss</th>\n",
       "      <th>Save</th>\n",
       "      <th>Time</th>\n",
       "      <th>D/N</th>\n",
       "      <th>Attendance</th>\n",
       "      <th>cLI</th>\n",
       "      <th>Streak</th>\n",
       "      <th>Orig. Scheduled</th>\n",
       "    </tr>\n",
       "  </thead>\n",
       "  <tbody>\n",
       "    <tr>\n",
       "      <th>1</th>\n",
       "      <td>Monday, Apr 3</td>\n",
       "      <td>LAA</td>\n",
       "      <td>@</td>\n",
       "      <td>OAK</td>\n",
       "      <td>L</td>\n",
       "      <td>2.0</td>\n",
       "      <td>4.0</td>\n",
       "      <td>9.0</td>\n",
       "      <td>0-1</td>\n",
       "      <td>3.0</td>\n",
       "      <td>1.0</td>\n",
       "      <td>Graveman</td>\n",
       "      <td>Nolasco</td>\n",
       "      <td>Casilla</td>\n",
       "      <td>2:56</td>\n",
       "      <td>N</td>\n",
       "      <td>36067.0</td>\n",
       "      <td>1.05</td>\n",
       "      <td>-1</td>\n",
       "      <td>NaN</td>\n",
       "    </tr>\n",
       "    <tr>\n",
       "      <th>2</th>\n",
       "      <td>Tuesday, Apr 4</td>\n",
       "      <td>LAA</td>\n",
       "      <td>@</td>\n",
       "      <td>OAK</td>\n",
       "      <td>W</td>\n",
       "      <td>7.0</td>\n",
       "      <td>6.0</td>\n",
       "      <td>9.0</td>\n",
       "      <td>1-1</td>\n",
       "      <td>2.0</td>\n",
       "      <td>1.0</td>\n",
       "      <td>Bailey</td>\n",
       "      <td>Dull</td>\n",
       "      <td>Bedrosian</td>\n",
       "      <td>3:17</td>\n",
       "      <td>N</td>\n",
       "      <td>11225.0</td>\n",
       "      <td>1.02</td>\n",
       "      <td>1</td>\n",
       "      <td>NaN</td>\n",
       "    </tr>\n",
       "    <tr>\n",
       "      <th>3</th>\n",
       "      <td>Wednesday, Apr 5</td>\n",
       "      <td>LAA</td>\n",
       "      <td>@</td>\n",
       "      <td>OAK</td>\n",
       "      <td>W</td>\n",
       "      <td>5.0</td>\n",
       "      <td>0.0</td>\n",
       "      <td>9.0</td>\n",
       "      <td>2-1</td>\n",
       "      <td>2.0</td>\n",
       "      <td>1.0</td>\n",
       "      <td>Ramirez</td>\n",
       "      <td>Cotton</td>\n",
       "      <td>None</td>\n",
       "      <td>3:15</td>\n",
       "      <td>N</td>\n",
       "      <td>13405.0</td>\n",
       "      <td>1.08</td>\n",
       "      <td>2</td>\n",
       "      <td>NaN</td>\n",
       "    </tr>\n",
       "    <tr>\n",
       "      <th>4</th>\n",
       "      <td>Thursday, Apr 6</td>\n",
       "      <td>LAA</td>\n",
       "      <td>@</td>\n",
       "      <td>OAK</td>\n",
       "      <td>L</td>\n",
       "      <td>1.0</td>\n",
       "      <td>5.0</td>\n",
       "      <td>9.0</td>\n",
       "      <td>2-2</td>\n",
       "      <td>2.0</td>\n",
       "      <td>1.0</td>\n",
       "      <td>Triggs</td>\n",
       "      <td>Skaggs</td>\n",
       "      <td>None</td>\n",
       "      <td>2:44</td>\n",
       "      <td>D</td>\n",
       "      <td>13292.0</td>\n",
       "      <td>1.15</td>\n",
       "      <td>-1</td>\n",
       "      <td>NaN</td>\n",
       "    </tr>\n",
       "    <tr>\n",
       "      <th>5</th>\n",
       "      <td>Friday, Apr 7</td>\n",
       "      <td>LAA</td>\n",
       "      <td>Home</td>\n",
       "      <td>SEA</td>\n",
       "      <td>W</td>\n",
       "      <td>5.0</td>\n",
       "      <td>1.0</td>\n",
       "      <td>9.0</td>\n",
       "      <td>3-2</td>\n",
       "      <td>1.0</td>\n",
       "      <td>Tied</td>\n",
       "      <td>Chavez</td>\n",
       "      <td>Gallardo</td>\n",
       "      <td>None</td>\n",
       "      <td>2:56</td>\n",
       "      <td>N</td>\n",
       "      <td>43911.0</td>\n",
       "      <td>1.09</td>\n",
       "      <td>1</td>\n",
       "      <td>NaN</td>\n",
       "    </tr>\n",
       "  </tbody>\n",
       "</table>\n",
       "</div>"
      ],
      "text/plain": [
       "               Date   Tm Home_Away  Opp W/L    R   RA  Inn  W-L  Rank    GB  \\\n",
       "1     Monday, Apr 3  LAA         @  OAK   L  2.0  4.0  9.0  0-1   3.0   1.0   \n",
       "2    Tuesday, Apr 4  LAA         @  OAK   W  7.0  6.0  9.0  1-1   2.0   1.0   \n",
       "3  Wednesday, Apr 5  LAA         @  OAK   W  5.0  0.0  9.0  2-1   2.0   1.0   \n",
       "4   Thursday, Apr 6  LAA         @  OAK   L  1.0  5.0  9.0  2-2   2.0   1.0   \n",
       "5     Friday, Apr 7  LAA      Home  SEA   W  5.0  1.0  9.0  3-2   1.0  Tied   \n",
       "\n",
       "        Win      Loss       Save  Time D/N  Attendance   cLI  Streak  \\\n",
       "1  Graveman   Nolasco    Casilla  2:56   N     36067.0  1.05      -1   \n",
       "2    Bailey      Dull  Bedrosian  3:17   N     11225.0  1.02       1   \n",
       "3   Ramirez    Cotton       None  3:15   N     13405.0  1.08       2   \n",
       "4    Triggs    Skaggs       None  2:44   D     13292.0  1.15      -1   \n",
       "5    Chavez  Gallardo       None  2:56   N     43911.0  1.09       1   \n",
       "\n",
       "   Orig. Scheduled  \n",
       "1              NaN  \n",
       "2              NaN  \n",
       "3              NaN  \n",
       "4              NaN  \n",
       "5              NaN  "
      ]
     },
     "metadata": {},
     "output_type": "display_data"
    },
    {
     "data": {
      "text/html": [
       "<div>\n",
       "<style scoped>\n",
       "    .dataframe tbody tr th:only-of-type {\n",
       "        vertical-align: middle;\n",
       "    }\n",
       "\n",
       "    .dataframe tbody tr th {\n",
       "        vertical-align: top;\n",
       "    }\n",
       "\n",
       "    .dataframe thead th {\n",
       "        text-align: right;\n",
       "    }\n",
       "</style>\n",
       "<table border=\"1\" class=\"dataframe\">\n",
       "  <thead>\n",
       "    <tr style=\"text-align: right;\">\n",
       "      <th></th>\n",
       "      <th>Date</th>\n",
       "      <th>Tm</th>\n",
       "      <th>Home_Away</th>\n",
       "      <th>Opp</th>\n",
       "      <th>W/L</th>\n",
       "      <th>R</th>\n",
       "      <th>RA</th>\n",
       "      <th>Inn</th>\n",
       "      <th>W-L</th>\n",
       "      <th>Rank</th>\n",
       "      <th>GB</th>\n",
       "      <th>Win</th>\n",
       "      <th>Loss</th>\n",
       "      <th>Save</th>\n",
       "      <th>Time</th>\n",
       "      <th>D/N</th>\n",
       "      <th>Attendance</th>\n",
       "      <th>cLI</th>\n",
       "      <th>Streak</th>\n",
       "      <th>Orig. Scheduled</th>\n",
       "    </tr>\n",
       "  </thead>\n",
       "  <tbody>\n",
       "    <tr>\n",
       "      <th>158</th>\n",
       "      <td>Wednesday, Sep 27</td>\n",
       "      <td>LAA</td>\n",
       "      <td>@</td>\n",
       "      <td>CHW</td>\n",
       "      <td>L-wo</td>\n",
       "      <td>4.0</td>\n",
       "      <td>6.0</td>\n",
       "      <td>10.0</td>\n",
       "      <td>78-80</td>\n",
       "      <td>2.0</td>\n",
       "      <td>20.0</td>\n",
       "      <td>Farquhar</td>\n",
       "      <td>Parker</td>\n",
       "      <td>None</td>\n",
       "      <td>3:58</td>\n",
       "      <td>N</td>\n",
       "      <td>17012.0</td>\n",
       "      <td>0.01</td>\n",
       "      <td>-1</td>\n",
       "      <td>NaN</td>\n",
       "    </tr>\n",
       "    <tr>\n",
       "      <th>159</th>\n",
       "      <td>Thursday, Sep 28</td>\n",
       "      <td>LAA</td>\n",
       "      <td>@</td>\n",
       "      <td>CHW</td>\n",
       "      <td>L</td>\n",
       "      <td>4.0</td>\n",
       "      <td>5.0</td>\n",
       "      <td>9.0</td>\n",
       "      <td>78-81</td>\n",
       "      <td>2.0</td>\n",
       "      <td>21.0</td>\n",
       "      <td>Infante</td>\n",
       "      <td>Chavez</td>\n",
       "      <td>Minaya</td>\n",
       "      <td>3:04</td>\n",
       "      <td>N</td>\n",
       "      <td>19596.0</td>\n",
       "      <td>0.00</td>\n",
       "      <td>-2</td>\n",
       "      <td>NaN</td>\n",
       "    </tr>\n",
       "    <tr>\n",
       "      <th>160</th>\n",
       "      <td>Friday, Sep 29</td>\n",
       "      <td>LAA</td>\n",
       "      <td>Home</td>\n",
       "      <td>SEA</td>\n",
       "      <td>W</td>\n",
       "      <td>6.0</td>\n",
       "      <td>5.0</td>\n",
       "      <td>9.0</td>\n",
       "      <td>79-81</td>\n",
       "      <td>2.0</td>\n",
       "      <td>21.0</td>\n",
       "      <td>Wood</td>\n",
       "      <td>Rzepczynski</td>\n",
       "      <td>Parker</td>\n",
       "      <td>3:01</td>\n",
       "      <td>N</td>\n",
       "      <td>35106.0</td>\n",
       "      <td>0.00</td>\n",
       "      <td>1</td>\n",
       "      <td>NaN</td>\n",
       "    </tr>\n",
       "    <tr>\n",
       "      <th>161</th>\n",
       "      <td>Saturday, Sep 30</td>\n",
       "      <td>LAA</td>\n",
       "      <td>Home</td>\n",
       "      <td>SEA</td>\n",
       "      <td>L</td>\n",
       "      <td>4.0</td>\n",
       "      <td>6.0</td>\n",
       "      <td>9.0</td>\n",
       "      <td>79-82</td>\n",
       "      <td>2.0</td>\n",
       "      <td>21.0</td>\n",
       "      <td>Lawrence</td>\n",
       "      <td>Bedrosian</td>\n",
       "      <td>Díaz</td>\n",
       "      <td>3:32</td>\n",
       "      <td>N</td>\n",
       "      <td>38075.0</td>\n",
       "      <td>0.00</td>\n",
       "      <td>-1</td>\n",
       "      <td>NaN</td>\n",
       "    </tr>\n",
       "    <tr>\n",
       "      <th>162</th>\n",
       "      <td>Sunday, Oct 1</td>\n",
       "      <td>LAA</td>\n",
       "      <td>Home</td>\n",
       "      <td>SEA</td>\n",
       "      <td>W</td>\n",
       "      <td>6.0</td>\n",
       "      <td>2.0</td>\n",
       "      <td>9.0</td>\n",
       "      <td>80-82</td>\n",
       "      <td>2.0</td>\n",
       "      <td>21.0</td>\n",
       "      <td>Bridwell</td>\n",
       "      <td>Simmons</td>\n",
       "      <td>None</td>\n",
       "      <td>2:38</td>\n",
       "      <td>D</td>\n",
       "      <td>34940.0</td>\n",
       "      <td>0.00</td>\n",
       "      <td>1</td>\n",
       "      <td>NaN</td>\n",
       "    </tr>\n",
       "  </tbody>\n",
       "</table>\n",
       "</div>"
      ],
      "text/plain": [
       "                  Date   Tm Home_Away  Opp   W/L    R   RA   Inn    W-L  Rank  \\\n",
       "158  Wednesday, Sep 27  LAA         @  CHW  L-wo  4.0  6.0  10.0  78-80   2.0   \n",
       "159   Thursday, Sep 28  LAA         @  CHW     L  4.0  5.0   9.0  78-81   2.0   \n",
       "160     Friday, Sep 29  LAA      Home  SEA     W  6.0  5.0   9.0  79-81   2.0   \n",
       "161   Saturday, Sep 30  LAA      Home  SEA     L  4.0  6.0   9.0  79-82   2.0   \n",
       "162      Sunday, Oct 1  LAA      Home  SEA     W  6.0  2.0   9.0  80-82   2.0   \n",
       "\n",
       "       GB       Win         Loss    Save  Time D/N  Attendance   cLI  Streak  \\\n",
       "158  20.0  Farquhar       Parker    None  3:58   N     17012.0  0.01      -1   \n",
       "159  21.0   Infante       Chavez  Minaya  3:04   N     19596.0  0.00      -2   \n",
       "160  21.0      Wood  Rzepczynski  Parker  3:01   N     35106.0  0.00       1   \n",
       "161  21.0  Lawrence    Bedrosian    Díaz  3:32   N     38075.0  0.00      -1   \n",
       "162  21.0  Bridwell      Simmons    None  2:38   D     34940.0  0.00       1   \n",
       "\n",
       "     Orig. Scheduled  \n",
       "158              NaN  \n",
       "159              NaN  \n",
       "160              NaN  \n",
       "161              NaN  \n",
       "162              NaN  "
      ]
     },
     "metadata": {},
     "output_type": "display_data"
    }
   ],
   "source": [
    "# read the file and display\n",
    "df = pd.read_csv(\"../data/season_record_LAA_2017.csv\", index_col=0)\n",
    "display(df.head())\n",
    "display(df.tail())"
   ]
  },
  {
   "cell_type": "code",
   "execution_count": 25,
   "metadata": {},
   "outputs": [
    {
     "name": "stderr",
     "output_type": "stream",
     "text": [
      "C:\\Users\\user\\AppData\\Local\\Temp\\ipykernel_18844\\3975637066.py:4: SettingWithCopyWarning: \n",
      "A value is trying to be set on a copy of a slice from a DataFrame.\n",
      "Try using .loc[row_indexer,col_indexer] = value instead\n",
      "\n",
      "See the caveats in the documentation: https://pandas.pydata.org/pandas-docs/stable/user_guide/indexing.html#returning-a-view-versus-a-copy\n",
      "  statistics_df[\"Prev_W/L\"] = statistics_df[\"W/L\"].shift(1)\n",
      "C:\\Users\\user\\AppData\\Local\\Temp\\ipykernel_18844\\3975637066.py:5: SettingWithCopyWarning: \n",
      "A value is trying to be set on a copy of a slice from a DataFrame.\n",
      "Try using .loc[row_indexer,col_indexer] = value instead\n",
      "\n",
      "See the caveats in the documentation: https://pandas.pydata.org/pandas-docs/stable/user_guide/indexing.html#returning-a-view-versus-a-copy\n",
      "  statistics_df[\"Prev_W-L\"] = statistics_df[\"W-L\"].shift(1, fill_value=\"0-0\")\n",
      "C:\\Users\\user\\AppData\\Local\\Temp\\ipykernel_18844\\3975637066.py:6: SettingWithCopyWarning: \n",
      "A value is trying to be set on a copy of a slice from a DataFrame.\n",
      "Try using .loc[row_indexer,col_indexer] = value instead\n",
      "\n",
      "See the caveats in the documentation: https://pandas.pydata.org/pandas-docs/stable/user_guide/indexing.html#returning-a-view-versus-a-copy\n",
      "  statistics_df[\"Prev_Rank\"] = statistics_df[\"Rank\"].shift(1)\n",
      "C:\\Users\\user\\AppData\\Local\\Temp\\ipykernel_18844\\3975637066.py:7: SettingWithCopyWarning: \n",
      "A value is trying to be set on a copy of a slice from a DataFrame.\n",
      "Try using .loc[row_indexer,col_indexer] = value instead\n",
      "\n",
      "See the caveats in the documentation: https://pandas.pydata.org/pandas-docs/stable/user_guide/indexing.html#returning-a-view-versus-a-copy\n",
      "  statistics_df[\"Prev_Streak\"] = statistics_df[\"Streak\"].shift(1)\n",
      "C:\\Users\\user\\AppData\\Local\\Temp\\ipykernel_18844\\3975637066.py:9: SettingWithCopyWarning: \n",
      "A value is trying to be set on a copy of a slice from a DataFrame.\n",
      "Try using .loc[row_indexer,col_indexer] = value instead\n",
      "\n",
      "See the caveats in the documentation: https://pandas.pydata.org/pandas-docs/stable/user_guide/indexing.html#returning-a-view-versus-a-copy\n",
      "  statistics_df[\"Prev_IsOvertime\"] = statistics_df[\"W/L\"].apply(lambda x: 1 if \"-wo\" in str(x) else 0).shift(1)\n",
      "C:\\Users\\user\\AppData\\Local\\Temp\\ipykernel_18844\\3975637066.py:13: SettingWithCopyWarning: \n",
      "A value is trying to be set on a copy of a slice from a DataFrame.\n",
      "Try using .loc[row_indexer,col_indexer] = value instead\n",
      "\n",
      "See the caveats in the documentation: https://pandas.pydata.org/pandas-docs/stable/user_guide/indexing.html#returning-a-view-versus-a-copy\n",
      "  statistics_df[\"Winning_Rate\"] = statistics_df[\"Prev_W-L\"].apply(lambda x: int(x.split(\"-\")[0])) / statistics_df[\"Prev_W-L\"].apply(lambda x: int(x.split(\"-\")[0]) + int(x.split(\"-\")[1]))\n",
      "C:\\Users\\user\\AppData\\Local\\Temp\\ipykernel_18844\\3975637066.py:15: SettingWithCopyWarning: \n",
      "A value is trying to be set on a copy of a slice from a DataFrame.\n",
      "Try using .loc[row_indexer,col_indexer] = value instead\n",
      "\n",
      "See the caveats in the documentation: https://pandas.pydata.org/pandas-docs/stable/user_guide/indexing.html#returning-a-view-versus-a-copy\n",
      "  statistics_df[\"Day\"] = statistics_df[\"Date\"].apply(lambda x: x.split(\",\")[0])\n",
      "C:\\Users\\user\\AppData\\Local\\Temp\\ipykernel_18844\\3975637066.py:17: SettingWithCopyWarning: \n",
      "A value is trying to be set on a copy of a slice from a DataFrame.\n",
      "Try using .loc[row_indexer,col_indexer] = value instead\n",
      "\n",
      "See the caveats in the documentation: https://pandas.pydata.org/pandas-docs/stable/user_guide/indexing.html#returning-a-view-versus-a-copy\n",
      "  statistics_df[\"Month\"] = statistics_df[\"Date\"].apply(lambda x: x.split(\",\")[1].split(\" \")[1])\n",
      "C:\\Users\\user\\AppData\\Local\\Temp\\ipykernel_18844\\3975637066.py:20: SettingWithCopyWarning: \n",
      "A value is trying to be set on a copy of a slice from a DataFrame.\n",
      "Try using .loc[row_indexer,col_indexer] = value instead\n",
      "\n",
      "See the caveats in the documentation: https://pandas.pydata.org/pandas-docs/stable/user_guide/indexing.html#returning-a-view-versus-a-copy\n",
      "  statistics_df[\"W/L\"] = statistics_df[\"W/L\"].apply(lambda x: str(x).split(\"-\")[0] if \"-wo\" in str(x) else x)\n",
      "C:\\Users\\user\\AppData\\Local\\Temp\\ipykernel_18844\\3975637066.py:21: SettingWithCopyWarning: \n",
      "A value is trying to be set on a copy of a slice from a DataFrame.\n",
      "Try using .loc[row_indexer,col_indexer] = value instead\n",
      "\n",
      "See the caveats in the documentation: https://pandas.pydata.org/pandas-docs/stable/user_guide/indexing.html#returning-a-view-versus-a-copy\n",
      "  statistics_df[\"Prev_W/L\"] = statistics_df[\"Prev_W/L\"].apply(lambda x: str(x).split(\"-\")[0] if \"-wo\" in str(x) else x)\n"
     ]
    },
    {
     "data": {
      "text/html": [
       "<div>\n",
       "<style scoped>\n",
       "    .dataframe tbody tr th:only-of-type {\n",
       "        vertical-align: middle;\n",
       "    }\n",
       "\n",
       "    .dataframe tbody tr th {\n",
       "        vertical-align: top;\n",
       "    }\n",
       "\n",
       "    .dataframe thead th {\n",
       "        text-align: right;\n",
       "    }\n",
       "</style>\n",
       "<table border=\"1\" class=\"dataframe\">\n",
       "  <thead>\n",
       "    <tr style=\"text-align: right;\">\n",
       "      <th></th>\n",
       "      <th>Date</th>\n",
       "      <th>W/L</th>\n",
       "      <th>W-L</th>\n",
       "      <th>Rank</th>\n",
       "      <th>Attendance</th>\n",
       "      <th>Streak</th>\n",
       "      <th>Prev_W/L</th>\n",
       "      <th>Prev_W-L</th>\n",
       "      <th>Prev_Rank</th>\n",
       "      <th>Prev_Streak</th>\n",
       "      <th>Prev_IsOvertime</th>\n",
       "      <th>Winning_Rate</th>\n",
       "      <th>Day</th>\n",
       "      <th>Month</th>\n",
       "    </tr>\n",
       "  </thead>\n",
       "  <tbody>\n",
       "    <tr>\n",
       "      <th>1</th>\n",
       "      <td>Monday, Apr 3</td>\n",
       "      <td>L</td>\n",
       "      <td>0-1</td>\n",
       "      <td>3.0</td>\n",
       "      <td>36067.0</td>\n",
       "      <td>-1</td>\n",
       "      <td>NaN</td>\n",
       "      <td>0-0</td>\n",
       "      <td>NaN</td>\n",
       "      <td>NaN</td>\n",
       "      <td>NaN</td>\n",
       "      <td>NaN</td>\n",
       "      <td>Monday</td>\n",
       "      <td>Apr</td>\n",
       "    </tr>\n",
       "    <tr>\n",
       "      <th>2</th>\n",
       "      <td>Tuesday, Apr 4</td>\n",
       "      <td>W</td>\n",
       "      <td>1-1</td>\n",
       "      <td>2.0</td>\n",
       "      <td>11225.0</td>\n",
       "      <td>1</td>\n",
       "      <td>L</td>\n",
       "      <td>0-1</td>\n",
       "      <td>3.0</td>\n",
       "      <td>-1.0</td>\n",
       "      <td>0.0</td>\n",
       "      <td>0.000000</td>\n",
       "      <td>Tuesday</td>\n",
       "      <td>Apr</td>\n",
       "    </tr>\n",
       "    <tr>\n",
       "      <th>3</th>\n",
       "      <td>Wednesday, Apr 5</td>\n",
       "      <td>W</td>\n",
       "      <td>2-1</td>\n",
       "      <td>2.0</td>\n",
       "      <td>13405.0</td>\n",
       "      <td>2</td>\n",
       "      <td>W</td>\n",
       "      <td>1-1</td>\n",
       "      <td>2.0</td>\n",
       "      <td>1.0</td>\n",
       "      <td>0.0</td>\n",
       "      <td>0.500000</td>\n",
       "      <td>Wednesday</td>\n",
       "      <td>Apr</td>\n",
       "    </tr>\n",
       "    <tr>\n",
       "      <th>4</th>\n",
       "      <td>Thursday, Apr 6</td>\n",
       "      <td>L</td>\n",
       "      <td>2-2</td>\n",
       "      <td>2.0</td>\n",
       "      <td>13292.0</td>\n",
       "      <td>-1</td>\n",
       "      <td>W</td>\n",
       "      <td>2-1</td>\n",
       "      <td>2.0</td>\n",
       "      <td>2.0</td>\n",
       "      <td>0.0</td>\n",
       "      <td>0.666667</td>\n",
       "      <td>Thursday</td>\n",
       "      <td>Apr</td>\n",
       "    </tr>\n",
       "    <tr>\n",
       "      <th>5</th>\n",
       "      <td>Friday, Apr 7</td>\n",
       "      <td>W</td>\n",
       "      <td>3-2</td>\n",
       "      <td>1.0</td>\n",
       "      <td>43911.0</td>\n",
       "      <td>1</td>\n",
       "      <td>L</td>\n",
       "      <td>2-2</td>\n",
       "      <td>2.0</td>\n",
       "      <td>-1.0</td>\n",
       "      <td>0.0</td>\n",
       "      <td>0.500000</td>\n",
       "      <td>Friday</td>\n",
       "      <td>Apr</td>\n",
       "    </tr>\n",
       "  </tbody>\n",
       "</table>\n",
       "</div>"
      ],
      "text/plain": [
       "               Date W/L  W-L  Rank  Attendance  Streak Prev_W/L Prev_W-L  \\\n",
       "1     Monday, Apr 3   L  0-1   3.0     36067.0      -1      NaN      0-0   \n",
       "2    Tuesday, Apr 4   W  1-1   2.0     11225.0       1        L      0-1   \n",
       "3  Wednesday, Apr 5   W  2-1   2.0     13405.0       2        W      1-1   \n",
       "4   Thursday, Apr 6   L  2-2   2.0     13292.0      -1        W      2-1   \n",
       "5     Friday, Apr 7   W  3-2   1.0     43911.0       1        L      2-2   \n",
       "\n",
       "   Prev_Rank  Prev_Streak  Prev_IsOvertime  Winning_Rate        Day Month  \n",
       "1        NaN          NaN              NaN           NaN     Monday   Apr  \n",
       "2        3.0         -1.0              0.0      0.000000    Tuesday   Apr  \n",
       "3        2.0          1.0              0.0      0.500000  Wednesday   Apr  \n",
       "4        2.0          2.0              0.0      0.666667   Thursday   Apr  \n",
       "5        2.0         -1.0              0.0      0.500000     Friday   Apr  "
      ]
     },
     "metadata": {},
     "output_type": "display_data"
    },
    {
     "data": {
      "text/html": [
       "<div>\n",
       "<style scoped>\n",
       "    .dataframe tbody tr th:only-of-type {\n",
       "        vertical-align: middle;\n",
       "    }\n",
       "\n",
       "    .dataframe tbody tr th {\n",
       "        vertical-align: top;\n",
       "    }\n",
       "\n",
       "    .dataframe thead th {\n",
       "        text-align: right;\n",
       "    }\n",
       "</style>\n",
       "<table border=\"1\" class=\"dataframe\">\n",
       "  <thead>\n",
       "    <tr style=\"text-align: right;\">\n",
       "      <th></th>\n",
       "      <th>Date</th>\n",
       "      <th>W/L</th>\n",
       "      <th>W-L</th>\n",
       "      <th>Rank</th>\n",
       "      <th>Attendance</th>\n",
       "      <th>Streak</th>\n",
       "      <th>Prev_W/L</th>\n",
       "      <th>Prev_W-L</th>\n",
       "      <th>Prev_Rank</th>\n",
       "      <th>Prev_Streak</th>\n",
       "      <th>Prev_IsOvertime</th>\n",
       "      <th>Winning_Rate</th>\n",
       "      <th>Day</th>\n",
       "      <th>Month</th>\n",
       "    </tr>\n",
       "  </thead>\n",
       "  <tbody>\n",
       "    <tr>\n",
       "      <th>158</th>\n",
       "      <td>Wednesday, Sep 27</td>\n",
       "      <td>L</td>\n",
       "      <td>78-80</td>\n",
       "      <td>2.0</td>\n",
       "      <td>17012.0</td>\n",
       "      <td>-1</td>\n",
       "      <td>W</td>\n",
       "      <td>78-79</td>\n",
       "      <td>2.0</td>\n",
       "      <td>1.0</td>\n",
       "      <td>0.0</td>\n",
       "      <td>0.496815</td>\n",
       "      <td>Wednesday</td>\n",
       "      <td>Sep</td>\n",
       "    </tr>\n",
       "    <tr>\n",
       "      <th>159</th>\n",
       "      <td>Thursday, Sep 28</td>\n",
       "      <td>L</td>\n",
       "      <td>78-81</td>\n",
       "      <td>2.0</td>\n",
       "      <td>19596.0</td>\n",
       "      <td>-2</td>\n",
       "      <td>L</td>\n",
       "      <td>78-80</td>\n",
       "      <td>2.0</td>\n",
       "      <td>-1.0</td>\n",
       "      <td>1.0</td>\n",
       "      <td>0.493671</td>\n",
       "      <td>Thursday</td>\n",
       "      <td>Sep</td>\n",
       "    </tr>\n",
       "    <tr>\n",
       "      <th>160</th>\n",
       "      <td>Friday, Sep 29</td>\n",
       "      <td>W</td>\n",
       "      <td>79-81</td>\n",
       "      <td>2.0</td>\n",
       "      <td>35106.0</td>\n",
       "      <td>1</td>\n",
       "      <td>L</td>\n",
       "      <td>78-81</td>\n",
       "      <td>2.0</td>\n",
       "      <td>-2.0</td>\n",
       "      <td>0.0</td>\n",
       "      <td>0.490566</td>\n",
       "      <td>Friday</td>\n",
       "      <td>Sep</td>\n",
       "    </tr>\n",
       "    <tr>\n",
       "      <th>161</th>\n",
       "      <td>Saturday, Sep 30</td>\n",
       "      <td>L</td>\n",
       "      <td>79-82</td>\n",
       "      <td>2.0</td>\n",
       "      <td>38075.0</td>\n",
       "      <td>-1</td>\n",
       "      <td>W</td>\n",
       "      <td>79-81</td>\n",
       "      <td>2.0</td>\n",
       "      <td>1.0</td>\n",
       "      <td>0.0</td>\n",
       "      <td>0.493750</td>\n",
       "      <td>Saturday</td>\n",
       "      <td>Sep</td>\n",
       "    </tr>\n",
       "    <tr>\n",
       "      <th>162</th>\n",
       "      <td>Sunday, Oct 1</td>\n",
       "      <td>W</td>\n",
       "      <td>80-82</td>\n",
       "      <td>2.0</td>\n",
       "      <td>34940.0</td>\n",
       "      <td>1</td>\n",
       "      <td>L</td>\n",
       "      <td>79-82</td>\n",
       "      <td>2.0</td>\n",
       "      <td>-1.0</td>\n",
       "      <td>0.0</td>\n",
       "      <td>0.490683</td>\n",
       "      <td>Sunday</td>\n",
       "      <td>Oct</td>\n",
       "    </tr>\n",
       "  </tbody>\n",
       "</table>\n",
       "</div>"
      ],
      "text/plain": [
       "                  Date W/L    W-L  Rank  Attendance  Streak Prev_W/L Prev_W-L  \\\n",
       "158  Wednesday, Sep 27   L  78-80   2.0     17012.0      -1        W    78-79   \n",
       "159   Thursday, Sep 28   L  78-81   2.0     19596.0      -2        L    78-80   \n",
       "160     Friday, Sep 29   W  79-81   2.0     35106.0       1        L    78-81   \n",
       "161   Saturday, Sep 30   L  79-82   2.0     38075.0      -1        W    79-81   \n",
       "162      Sunday, Oct 1   W  80-82   2.0     34940.0       1        L    79-82   \n",
       "\n",
       "     Prev_Rank  Prev_Streak  Prev_IsOvertime  Winning_Rate        Day Month  \n",
       "158        2.0          1.0              0.0      0.496815  Wednesday   Sep  \n",
       "159        2.0         -1.0              1.0      0.493671   Thursday   Sep  \n",
       "160        2.0         -2.0              0.0      0.490566     Friday   Sep  \n",
       "161        2.0          1.0              0.0      0.493750   Saturday   Sep  \n",
       "162        2.0         -1.0              0.0      0.490683     Sunday   Oct  "
      ]
     },
     "metadata": {},
     "output_type": "display_data"
    }
   ],
   "source": [
    "# construct a new dataframe with the columns we want\n",
    "statistics_df = df[[\"Date\", \"W/L\", \"W-L\", \"Rank\", \"Attendance\", \"Streak\"]]\n",
    "# add columns for previous w/l, w-l and rank\n",
    "statistics_df[\"Prev_W/L\"] = statistics_df[\"W/L\"].shift(1)\n",
    "statistics_df[\"Prev_W-L\"] = statistics_df[\"W-L\"].shift(1, fill_value=\"0-0\")\n",
    "statistics_df[\"Prev_Rank\"] = statistics_df[\"Rank\"].shift(1)\n",
    "statistics_df[\"Prev_Streak\"] = statistics_df[\"Streak\"].shift(1)\n",
    "# add a column to determine if last game was overtime or not (using W/L column, if the value contains -wo, then it was overtime)\n",
    "statistics_df[\"Prev_IsOvertime\"] = statistics_df[\"W/L\"].apply(lambda x: 1 if \"-wo\" in str(x) else 0).shift(1)\n",
    "\n",
    "# add a winning-rate column (W / (W + L))\n",
    "\n",
    "statistics_df[\"Winning_Rate\"] = statistics_df[\"Prev_W-L\"].apply(lambda x: int(x.split(\"-\")[0])) / statistics_df[\"Prev_W-L\"].apply(lambda x: int(x.split(\"-\")[0]) + int(x.split(\"-\")[1]))\n",
    "# add a column to show the game day of the week\n",
    "statistics_df[\"Day\"] = statistics_df[\"Date\"].apply(lambda x: x.split(\",\")[0])\n",
    "# add a column to show the game month\n",
    "statistics_df[\"Month\"] = statistics_df[\"Date\"].apply(lambda x: x.split(\",\")[1].split(\" \")[1])\n",
    "\n",
    "# convert values containing -wo in W/L and Prev_W/L to W or L\n",
    "statistics_df[\"W/L\"] = statistics_df[\"W/L\"].apply(lambda x: str(x).split(\"-\")[0] if \"-wo\" in str(x) else x)\n",
    "statistics_df[\"Prev_W/L\"] = statistics_df[\"Prev_W/L\"].apply(lambda x: str(x).split(\"-\")[0] if \"-wo\" in str(x) else x)\n",
    "\n",
    "# display the new dataframe\n",
    "display(statistics_df.head())\n",
    "display(statistics_df.tail())\n"
   ]
  },
  {
   "cell_type": "code",
   "execution_count": 26,
   "metadata": {},
   "outputs": [
    {
     "data": {
      "text/plain": [
       "Text(0, 0.5, 'Winning Rate')"
      ]
     },
     "execution_count": 26,
     "metadata": {},
     "output_type": "execute_result"
    },
    {
     "data": {
      "image/png": "[encoded data removed]",
      "text/plain": [
       "<Figure size 432x288 with 1 Axes>"
      ]
     },
     "metadata": {
      "needs_background": "light"
     },
     "output_type": "display_data"
    }
   ],
   "source": [
    "# plot winning rate line chart\n",
    "plt.plot(statistics_df[\"Winning_Rate\"])\n",
    "plt.title(\"Winning Rate\")\n",
    "plt.xlabel(\"Game\")\n",
    "plt.ylabel(\"Winning Rate\")"
   ]
  },
  {
   "cell_type": "code",
   "execution_count": 27,
   "metadata": {},
   "outputs": [
    {
     "data": {
      "text/plain": [
       "Text(0, 0.5, 'Attendance')"
      ]
     },
     "execution_count": 27,
     "metadata": {},
     "output_type": "execute_result"
    },
    {
     "data": {
      "image/png": "[encoded data removed]",
      "text/plain": [
       "<Figure size 432x288 with 1 Axes>"
      ]
     },
     "metadata": {
      "needs_background": "light"
     },
     "output_type": "display_data"
    }
   ],
   "source": [
    "# plot attendance line chart\n",
    "plt.plot(statistics_df[\"Attendance\"])\n",
    "plt.title(\"Attendance\")\n",
    "plt.xlabel(\"Game\")\n",
    "plt.ylabel(\"Attendance\")"
   ]
  },
  {
   "cell_type": "code",
   "execution_count": 28,
   "metadata": {},
   "outputs": [
    {
     "data": {
      "text/plain": [
       "Text(0, 0.5, 'Attendance')"
      ]
     },
     "execution_count": 28,
     "metadata": {},
     "output_type": "execute_result"
    },
    {
     "data": {
      "image/png": "[encoded data removed]",
      "text/plain": [
       "<Figure size 432x288 with 1 Axes>"
      ]
     },
     "metadata": {
      "needs_background": "light"
     },
     "output_type": "display_data"
    }
   ],
   "source": [
    "# plot a bar chart to see if previous game was win or loss, the average attendance difference\n",
    "\n",
    "# calculate the average attendance when the previous game was win\n",
    "prev_win_attendance = statistics_df[statistics_df[\"Prev_W/L\"] == \"W\"][\"Attendance\"].mean()\n",
    "# calculate the average attendance when the previous game was loss\n",
    "prev_loss_attendance = statistics_df[statistics_df[\"Prev_W/L\"] == \"L\"][\"Attendance\"].mean()\n",
    "# plot bar chart\n",
    "plt.bar([\"Win\", \"Loss\"], [prev_win_attendance, prev_loss_attendance])\n",
    "plt.title(\"Average Attendance for Previous Win or Loss\")\n",
    "plt.xlabel(\"Previous Win / Loss\")\n",
    "plt.ylabel(\"Attendance\")"
   ]
  },
  {
   "cell_type": "code",
   "execution_count": 29,
   "metadata": {},
   "outputs": [
    {
     "data": {
      "text/plain": [
       "Text(0, 0.5, 'Attendance')"
      ]
     },
     "execution_count": 29,
     "metadata": {},
     "output_type": "execute_result"
    },
    {
     "data": {
      "image/png": "[encoded data removed]",
      "text/plain": [
       "<Figure size 432x288 with 1 Axes>"
      ]
     },
     "metadata": {
      "needs_background": "light"
     },
     "output_type": "display_data"
    }
   ],
   "source": [
    "# plot a bar chart to see if previous game was overtime or not, the average attendance difference\n",
    "\n",
    "# calculate the average attendance when the previous game was overtime\n",
    "prev_overtime_attendance = statistics_df[statistics_df[\"Prev_IsOvertime\"] == 1][\"Attendance\"].mean()\n",
    "# calculate the average attendance when the previous game was not overtime\n",
    "prev_not_overtime_attendance = statistics_df[statistics_df[\"Prev_IsOvertime\"] == 0][\"Attendance\"].mean()\n",
    "# plot bar chart\n",
    "plt.bar([\"Overtime\", \"Not Overtime\"], [prev_overtime_attendance, prev_not_overtime_attendance])\n",
    "plt.title(\"Average Attendance for Previous Overtime or Not\")\n",
    "plt.xlabel(\"Previous Overtime / Not\")\n",
    "plt.ylabel(\"Attendance\")"
   ]
  },
  {
   "cell_type": "code",
   "execution_count": 30,
   "metadata": {},
   "outputs": [
    {
     "data": {
      "text/plain": [
       "Text(0, 0.5, 'Attendance')"
      ]
     },
     "execution_count": 30,
     "metadata": {},
     "output_type": "execute_result"
    },
    {
     "data": {
      "image/png": "[encoded data removed]",
      "text/plain": [
       "<Figure size 432x288 with 1 Axes>"
      ]
     },
     "metadata": {
      "needs_background": "light"
     },
     "output_type": "display_data"
    }
   ],
   "source": [
    "# plot a scatter chart to see accumulated winning rate and attendance\n",
    "\n",
    "plt.scatter(statistics_df[\"Winning_Rate\"], statistics_df[\"Attendance\"])\n",
    "plt.title(\"Accumulated Winning Rate and Attendance\")\n",
    "plt.xlabel(\"Accumulated Winning Rate\")\n",
    "plt.ylabel(\"Attendance\")"
   ]
  },
  {
   "cell_type": "code",
   "execution_count": 31,
   "metadata": {},
   "outputs": [
    {
     "data": {
      "text/plain": [
       "Text(0, 0.5, 'Attendance')"
      ]
     },
     "execution_count": 31,
     "metadata": {},
     "output_type": "execute_result"
    },
    {
     "data": {
      "image/png": "[encoded data removed]",
      "text/plain": [
       "<Figure size 432x288 with 1 Axes>"
      ]
     },
     "metadata": {
      "needs_background": "light"
     },
     "output_type": "display_data"
    }
   ],
   "source": [
    "# plot a bar chart to see the streak and attendance\n",
    "\n",
    "# get the streak values\n",
    "streak_values = statistics_df[\"Streak\"].unique()\n",
    "# calculate the average attendance for each streak value\n",
    "streak_attendance = [statistics_df[statistics_df[\"Streak\"] == streak][\"Attendance\"].mean() for streak in streak_values]\n",
    "# plot bar chart\n",
    "plt.bar(streak_values, streak_attendance)\n",
    "plt.title(\"Average Attendance for Streak\")\n",
    "plt.xlabel(\"Streak\")\n",
    "plt.ylabel(\"Attendance\")"
   ]
  },
  {
   "cell_type": "code",
   "execution_count": 32,
   "metadata": {},
   "outputs": [
    {
     "data": {
      "text/plain": [
       "Text(0, 0.5, 'Attendance')"
      ]
     },
     "execution_count": 32,
     "metadata": {},
     "output_type": "execute_result"
    },
    {
     "data": {
      "image/png": "[encoded data removed]",
      "text/plain": [
       "<Figure size 432x288 with 1 Axes>"
      ]
     },
     "metadata": {
      "needs_background": "light"
     },
     "output_type": "display_data"
    }
   ],
   "source": [
    "# plot a bar chart to see the day of the week and attendance\n",
    "\n",
    "# get the day values\n",
    "day_values = statistics_df[\"Day\"].unique()\n",
    "# calculate the average attendance for each day value\n",
    "day_attendance = [statistics_df[statistics_df[\"Day\"] == day][\"Attendance\"].mean() for day in day_values]\n",
    "# plot bar chart\n",
    "plt.bar(day_values, day_attendance)\n",
    "plt.title(\"Average Attendance for Day\")\n",
    "plt.xlabel(\"Day\")\n",
    "plt.ylabel(\"Attendance\")"
   ]
  },
  {
   "cell_type": "code",
   "execution_count": 33,
   "metadata": {},
   "outputs": [
    {
     "data": {
      "text/plain": [
       "Text(0, 0.5, 'Attendance')"
      ]
     },
     "execution_count": 33,
     "metadata": {},
     "output_type": "execute_result"
    },
    {
     "data": {
      "image/png": "[encoded data removed]",
      "text/plain": [
       "<Figure size 432x288 with 1 Axes>"
      ]
     },
     "metadata": {
      "needs_background": "light"
     },
     "output_type": "display_data"
    }
   ],
   "source": [
    "# plot a bar chart to see the month and attendance\n",
    "\n",
    "# get the month values\n",
    "month_values = statistics_df[\"Month\"].unique()\n",
    "# calculate the average attendance for each month value\n",
    "month_attendance = [statistics_df[statistics_df[\"Month\"] == month][\"Attendance\"].mean() for month in month_values]\n",
    "# plot bar chart\n",
    "plt.bar(month_values, month_attendance)\n",
    "plt.title(\"Average Attendance for Month\")\n",
    "plt.xlabel(\"Month\")\n",
    "plt.ylabel(\"Attendance\")"
   ]
  },
  {
   "cell_type": "code",
   "execution_count": null,
   "metadata": {},
   "outputs": [],
   "source": []
  }
 ],
 "metadata": {
  "kernelspec": {
   "display_name": "Python 3.9.12 ('python39')",
   "language": "python",
   "name": "python3"
  },
  "language_info": {
   "codemirror_mode": {
    "name": "ipython",
    "version": 3
   },
   "file_extension": ".py",
   "mimetype": "text/x-python",
   "name": "python",
   "nbconvert_exporter": "python",
   "pygments_lexer": "ipython3",
   "version": "3.9.12"
  },
  "orig_nbformat": 4,
  "vscode": {
   "interpreter": {
    "hash": "f1f0ca08df83ebe1228368c35aef2dd5bdef6efbf7330e5bb8a931893862d7fc"
   }
  }
 },
 "nbformat": 4,
 "nbformat_minor": 2
}
