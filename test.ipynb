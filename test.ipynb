{
 "cells": [
  {
   "cell_type": "code",
   "execution_count": 22,
   "metadata": {},
   "outputs": [],
   "source": [
    "import pandas as pd\n",
    "data = pd.read_pickle('testset.pickle')"
   ]
  },
  {
   "cell_type": "code",
   "execution_count": 23,
   "metadata": {},
   "outputs": [
    {
     "name": "stdout",
     "output_type": "stream",
     "text": [
      "2470\n"
     ]
    }
   ],
   "source": [
    "# print first 5 data keys\n",
    "print(len(list(data.keys())))"
   ]
  },
  {
   "cell_type": "code",
   "execution_count": 25,
   "metadata": {},
   "outputs": [
    {
     "data": {
      "text/plain": [
       "['https://www.baseball-reference.com/boxes/PHI/PHI202210150.shtml',\n",
       " 'https://www.baseball-reference.com/boxes/SDN/SDN202210150.shtml',\n",
       " 'https://www.baseball-reference.com/boxes/SEA/SEA202210150.shtml',\n",
       " 'https://www.baseball-reference.com/boxes/CLE/CLE202210160.shtml',\n",
       " 'https://www.baseball-reference.com/boxes/NYA/NYA202210180.shtml']"
      ]
     },
     "execution_count": 25,
     "metadata": {},
     "output_type": "execute_result"
    }
   ],
   "source": [
    "list(list(data.keys())[2450:2455])"
   ]
  },
  {
   "cell_type": "code",
   "execution_count": 26,
   "metadata": {},
   "outputs": [
    {
     "data": {
      "text/plain": [
       "{'game_page_url': 'https://www.baseball-reference.com/boxes/PHI/PHI202210150.shtml',\n",
       " 'have_att': True,\n",
       " 'start_time': datetime.datetime(2022, 10, 15, 14, 7),\n",
       " 'day': 'Saturday',\n",
       " 'month': 'October',\n",
       " 'is_federal_holiday': 0,\n",
       " 'duration': datetime.timedelta(seconds=11880),\n",
       " 'venue': 'Citizens Bank Park',\n",
       " 'at_night': False,\n",
       " 'on_grass': True,\n",
       " 'weather_description': ' 72° F, Wind 12mph out to Centerfield, Sunny, No Precipitation.',\n",
       " 'temperature': 72,\n",
       " 'wind_speed': 12,\n",
       " 'weather': ' Sunny',\n",
       " 'precipitation': 1,\n",
       " 'umpires': ' HP - Stu Scheurwater, 1B - Chad Fairchild, 2B - Ryan Blakney, 3B - David Rackley, LF - Nic Lentz, RF - Bill Miller.',\n",
       " 'attendance': 45660,\n",
       " 'team1_name': 'AtlantaBraves',\n",
       " 'team1_pre_win': 101,\n",
       " 'team1_pre_loss': 60,\n",
       " 'team1_pre_win_pct': 0.6273291925465838,\n",
       " 'team1_players':                  Batting AB  R  H RBI BB SO PA    BA   OBP  ...     WPA  \\\n",
       " 0    Ronald Acuna Jr. RF  4  0  0   0  0  3  4  .333  .412  ...  -0.067   \n",
       " 1      Dansby Swanson SS  4  0  0   0  0  2  4  .125  .176  ...  -0.062   \n",
       " 2          Matt Olson 1B  4  1  1   1  0  2  4  .333  .529  ...   0.056   \n",
       " 3      Travis d'Arnaud C  4  1  1   1  0  2  4  .375  .375  ...  -0.016   \n",
       " 4        Austin Riley 3B  3  0  0   0  0  1  3  .067  .125  ...  -0.042   \n",
       " 5      Michael Harris CF  3  0  0   0  0  1  3  .071  .071  ...  -0.048   \n",
       " 6   William Contreras DH  3  0  0   0  0  2  3  .125  .222  ...  -0.045   \n",
       " 7       Orlando Arcia 2B  3  1  2   1  0  1  3  .300  .417  ...   0.083   \n",
       " 8       Eddie Rosario LF  3  0  0   0  0  1  3  .000  .000  ...  -0.051   \n",
       " 9       Charlie Morton P                                    ...           \n",
       " 10       Collin McHugh P                                    ...           \n",
       " 11         A.J. Minter P                                    ...           \n",
       " 12     Raisel Iglesias P                                    ...           \n",
       " 13           Dylan Lee P                                    ...           \n",
       " 14       Kenley Jansen P                                    ...           \n",
       " \n",
       "       aLI   WPA+     WPA-    cWPA   acLI   RE24  PO  A Details  \n",
       " 0    0.66  0.000  -0.067%  -0.83%  14.72   -0.7   2  0          \n",
       " 1    0.62  0.000  -0.062%  -0.77%  13.94   -0.8   1  1          \n",
       " 2    0.39  0.081  -0.025%   0.69%   8.64    0.6   3  1      HR  \n",
       " 3    0.50  0.026  -0.042%  -0.19%  11.21    0.5  11  0      HR  \n",
       " 4    0.56  0.000  -0.042%  -0.53%  12.49   -0.5   1  1          \n",
       " 5    0.63  0.000  -0.048%  -0.59%  14.13   -0.5   3  0          \n",
       " 6    0.60  0.000  -0.045%  -0.55%  13.46   -0.5                 \n",
       " 7    0.51  0.096  -0.013%   1.03%  11.38    0.9   1  1      HR  \n",
       " 8    0.64  0.000  -0.051%  -0.63%  14.28   -0.5   1  0          \n",
       " 9                                                 0  0          \n",
       " 10                                                0  0          \n",
       " 11                                                0  0          \n",
       " 12                                                0  0          \n",
       " 13                                                1  0          \n",
       " 14                                                0  0          \n",
       " \n",
       " [15 rows x 24 columns],\n",
       " 'team1_streak': 0,\n",
       " 'team2_name': 'PhiladelphiaPhillies',\n",
       " 'team2_pre_win': 86,\n",
       " 'team2_pre_loss': 75,\n",
       " 'team2_pre_win_pct': 0.5341614906832298,\n",
       " 'team2_players':                       Batting AB  R  H RBI BB SO PA    BA   OBP  ...     WPA  \\\n",
       " 0           Kyle Schwarber LF  2  1  0   0  2  0  5  .050  .222  ...   0.030   \n",
       " 1            Matt Vierling LF  0  0  0   0  0  0  0  .167  .167  ...           \n",
       " 2             Rhys Hoskins 1B  5  1  2   1  0  1  5  .154  .185  ...   0.103   \n",
       " 3             J.T. Realmuto C  5  1  2   2  0  2  5  .250  .308  ...   0.006   \n",
       " 4             Bryce Harper DH  5  1  2   2  0  2  5  .435  .480  ...  -0.060   \n",
       " 5         Nick Castellanos RF  4  0  0   0  1  2  5  .217  .280  ...  -0.064   \n",
       " 6                Alec Bohm 3B  4  1  1   0  0  1  4  .200  .292  ...   0.018   \n",
       " 7             Bryson Stott SS  4  0  1   0  0  2  4  .133  .278  ...  -0.027   \n",
       " 8              Jean Segura 2B  4  2  3   0  0  0  4  .389  .476  ...   0.075   \n",
       " 9            Brandon Marsh CF  4  1  2   3  0  1  4  .308  .400  ...   0.227   \n",
       " 10         Noah Syndergaard P                                    ...           \n",
       " 11          Andrew Bellatti P                                    ...           \n",
       " 12                Brad Hand P                                    ...           \n",
       " 13            Jose Alvarado P                                    ...           \n",
       " 14               Zach Eflin P                                    ...           \n",
       " 15     Seranthony Dominguez P                                    ...           \n",
       " \n",
       "       aLI   WPA+     WPA-    cWPA   acLI   RE24  PO  A Details  \n",
       " 0    0.62  0.043  -0.013%   0.38%  13.92    0.2   1  0  HBP,IW  \n",
       " 1                                                 0  0          \n",
       " 2    0.85  0.158  -0.055%   1.28%  19.05    0.9   6  1          \n",
       " 3    0.94  0.112  -0.106%   0.08%  20.97    0.4  15  0      HR  \n",
       " 4    0.63  0.030  -0.090%  -0.74%  14.10    0.8             HR  \n",
       " 5    0.51  0.002  -0.067%  -0.79%  11.42   -0.6   0  0          \n",
       " 6    0.42  0.037  -0.020%   0.21%   9.48   -0.6   0  0          \n",
       " 7    0.68  0.023  -0.050%  -0.33%  15.06   -0.4   0  2          \n",
       " 8    0.66  0.097  -0.022%   0.95%  14.68    1.1   1  3   2B,SB  \n",
       " 9    0.90  0.251  -0.024%   2.81%  20.08    2.2   3  0   HR,2B  \n",
       " 10                                                0  0          \n",
       " 11                                                0  0          \n",
       " 12                                                0  0          \n",
       " 13                                                1  0          \n",
       " 14                                                0  0          \n",
       " 15                                                0  0          \n",
       " \n",
       " [16 rows x 24 columns],\n",
       " 'team2_streak': 0}"
      ]
     },
     "execution_count": 26,
     "metadata": {},
     "output_type": "execute_result"
    }
   ],
   "source": [
    "data['https://www.baseball-reference.com/boxes/PHI/PHI202210150.shtml']"
   ]
  },
  {
   "cell_type": "code",
   "execution_count": null,
   "metadata": {},
   "outputs": [],
   "source": []
  }
 ],
 "metadata": {
  "kernelspec": {
   "display_name": "Python 3.9.12 ('python39')",
   "language": "python",
   "name": "python3"
  },
  "language_info": {
   "codemirror_mode": {
    "name": "ipython",
    "version": 3
   },
   "file_extension": ".py",
   "mimetype": "text/x-python",
   "name": "python",
   "nbconvert_exporter": "python",
   "pygments_lexer": "ipython3",
   "version": "3.9.12"
  },
  "orig_nbformat": 4,
  "vscode": {
   "interpreter": {
    "hash": "f1f0ca08df83ebe1228368c35aef2dd5bdef6efbf7330e5bb8a931893862d7fc"
   }
  }
 },
 "nbformat": 4,
 "nbformat_minor": 2
}
