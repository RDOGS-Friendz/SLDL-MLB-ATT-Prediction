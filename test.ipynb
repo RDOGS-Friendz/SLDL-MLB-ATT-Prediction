{
 "cells": [
  {
   "cell_type": "markdown",
   "metadata": {},
   "source": [
    "## 20221209"
   ]
  },
  {
   "cell_type": "code",
   "execution_count": null,
   "metadata": {},
   "outputs": [],
   "source": [
    "# import\n",
    "\n",
    "from collections import defaultdict, namedtuple\n",
    "from htbuilder import div, big, h2, styles\n",
    "from htbuilder.units import rem\n",
    "from math import floor\n",
    "import altair as alt\n",
    "import datetime\n",
    "import functools\n",
    "import numpy as np\n",
    "import pandas as pd\n",
    "import re\n",
    "import streamlit as st\n",
    "import time\n",
    "import plotly.express as px\n",
    "from vega_datasets import data\n",
    "from st_aggrid import AgGrid\n",
    "\n",
    "from streamlit_app import instruction as instr\n",
    "from streamlit_app import form as form\n",
    "from streamlit_app import custom_display as cd\n",
    "\n",
    "import altair_viewer\n",
    "alt.renderers.enable('altair_viewer', inline=True)\n",
    "# alt.renderers.enable('notebook')\n",
    "# alt.renderers.enable('mimetype')"
   ]
  },
  {
   "cell_type": "code",
   "execution_count": null,
   "metadata": {},
   "outputs": [],
   "source": [
    "COLOR_RED = \"#ED2E24\"\n",
    "COLOR_DARK_BLUE = \"#052A5F\"\n",
    "COLOR_BLUE = \"#0476BF\""
   ]
  },
  {
   "cell_type": "markdown",
   "metadata": {},
   "source": [
    "### Baseline MA"
   ]
  },
  {
   "cell_type": "code",
   "execution_count": null,
   "metadata": {},
   "outputs": [],
   "source": [
    "# MA 5-10 chart\n",
    "\n",
    "path = 'models-v2-lle/testset_w_lle.csv'\n",
    "df = pd.read_csv(path)\n",
    "df.head()"
   ]
  },
  {
   "cell_type": "code",
   "execution_count": null,
   "metadata": {},
   "outputs": [],
   "source": [
    "home_team_name = 'Arizona Diamondbacks (ARI)'\n",
    "# extract\n",
    "home_team_name = home_team_name.split(' (')[1].replace(')', '')\n",
    "home_team_name"
   ]
  },
  {
   "cell_type": "code",
   "execution_count": null,
   "metadata": {},
   "outputs": [],
   "source": [
    "home_team_name = \"ARI\"\n",
    "\n",
    "df_home = df[df[\"team2_name\"] == home_team_name]\n",
    "df_home.head(3)"
   ]
  },
  {
   "cell_type": "code",
   "execution_count": null,
   "metadata": {},
   "outputs": [],
   "source": [
    "# baseline value \n",
    "\n",
    "# given date and team name \n",
    "\n",
    "def nearest(items, pivot):\n",
    "    target_date = pd.to_datetime(min([i for i in items if i <= pivot], key=lambda x: abs(x - pivot)))\n",
    "    return target_date\n",
    "\n",
    "\n",
    "date_str = np.datetime64('2022-04-20')\n",
    "team_name = \"ARI\"\n",
    "\n",
    "# get baseline value\n",
    "baseline_value = df_home[(df_home[\"date\"] == nearest(df_home['date'].values, date_str)) & (df_home[\"team2_name\"] == team_name)][\"previous_5_to_10MA\"].values[0]\n",
    "baseline_value"
   ]
  },
  {
   "cell_type": "code",
   "execution_count": null,
   "metadata": {},
   "outputs": [],
   "source": [
    "df_home[\"date\"] = pd.to_datetime(df_home[\"start_time\"].apply(lambda x: datetime.datetime.strptime(x, \"%Y-%m-%d %H:%M:%S\").date()))\n",
    "df_home[\"date\"]"
   ]
  },
  {
   "cell_type": "code",
   "execution_count": null,
   "metadata": {},
   "outputs": [],
   "source": []
  },
  {
   "cell_type": "code",
   "execution_count": null,
   "metadata": {},
   "outputs": [],
   "source": [
    "source = df_home\n",
    "\n",
    "bar = alt.Chart(source).mark_bar(color=COLOR_BLUE).encode(  # type: ignore\n",
    "    x = alt.X('date:O', axis=alt.Axis(title='Date', labelAngle=30)), # type: ignore\n",
    "    y = alt.Y('attendance:Q', axis=alt.Axis(title='Attendance')), # type: ignore\n",
    "    tooltip=[\n",
    "        alt.Tooltip('attendance', title='Attendance'), # type: ignore\n",
    "        alt.Tooltip('previous_5_to_10MA', title='Previous 5-10 MA'), # type: ignore\n",
    "        alt.Tooltip('date', title='Date'), # type: ignore\n",
    "    ]\n",
    ")\n",
    "\n",
    "line = alt.Chart(source).mark_line(color=COLOR_RED).encode( # type: ignore\n",
    "    x = 'date:T',\n",
    "    y = 'previous_5_to_10MA:Q',\n",
    ")\n",
    "\n",
    "\n",
    "tmp_plt = (bar + line).interactive()\n",
    "altair_viewer.display(tmp_plt, inline=True)"
   ]
  },
  {
   "cell_type": "code",
   "execution_count": null,
   "metadata": {},
   "outputs": [],
   "source": [
    "source = data.wheat()\n",
    "\n",
    "bar = alt.Chart(source).mark_bar(color=COLOR_BLUE).encode(  # type: ignore\n",
    "    x='year:O',\n",
    "    y='wheat:Q',\n",
    "    tooltip=['year', 'wheat']\n",
    ")\n",
    "\n",
    "line = alt.Chart(source).mark_line(color=COLOR_RED).transform_window(  # type: ignore\n",
    "    # The field to average\n",
    "    rolling_mean='mean(wheat)',\n",
    "    # The number of values before and after the current value to include.\n",
    "    frame=[-9, 0]\n",
    ").encode(\n",
    "    x='year:O',\n",
    "    y='rolling_mean:Q',\n",
    "    tooltip=['year']\n",
    ")\n",
    "\n",
    "tmp_plt = (bar + line).interactive()\n",
    "altair_viewer.display(tmp_plt, inline=True)"
   ]
  },
  {
   "cell_type": "markdown",
   "metadata": {},
   "source": [
    "### Feature Importance"
   ]
  },
  {
   "cell_type": "code",
   "execution_count": null,
   "metadata": {},
   "outputs": [],
   "source": [
    "path = 'streamlit_app/instruction/model_feature_importance.xlsx'\n",
    "summary_df = pd.read_excel(path, sheet_name='Summary', engine='openpyxl')\n",
    "raw_df = pd.read_excel(path, sheet_name='Ft. Importance Table', engine='openpyxl')"
   ]
  },
  {
   "cell_type": "code",
   "execution_count": null,
   "metadata": {},
   "outputs": [],
   "source": [
    "raw_df.head()"
   ]
  },
  {
   "cell_type": "code",
   "execution_count": null,
   "metadata": {},
   "outputs": [],
   "source": [
    "model_df = raw_df[raw_df[\"Model\"] == \"XGBoost\"]"
   ]
  },
  {
   "cell_type": "code",
   "execution_count": null,
   "metadata": {},
   "outputs": [],
   "source": [
    "source = model_df\n",
    "\n",
    "tmp_plt = alt.Chart(source).mark_bar(color=COLOR_BLUE).encode(  # type: ignore\n",
    "    x='Metric:Q',\n",
    "    y=alt.Y('Processed Feature Name:N', sort='-x', axis=alt.Axis(labelLimit=100)), # type: ignore\n",
    "    tooltip=[\n",
    "        'Model',\n",
    "        'Metric', \n",
    "             alt.Tooltip('Processed Feature Name', title='Feature Name'), # type: ignore\n",
    "             alt.Tooltip('Feature', title='Raw Feature Name'), # type: ignore\n",
    "             \n",
    "            ]\n",
    ")\n",
    "\n",
    "# st.altair_chart(tmp_plt, use_container_width=True)\n",
    "altair_viewer.display(tmp_plt, inline=True)"
   ]
  },
  {
   "cell_type": "markdown",
   "metadata": {},
   "source": [
    "## Before 20221209"
   ]
  },
  {
   "cell_type": "code",
   "execution_count": null,
   "metadata": {},
   "outputs": [],
   "source": [
    "import pandas as pd\n",
    "data = pd.read_pickle('testset.pickle')"
   ]
  },
  {
   "cell_type": "markdown",
   "metadata": {},
   "source": []
  },
  {
   "cell_type": "code",
   "execution_count": null,
   "metadata": {},
   "outputs": [],
   "source": [
    "# print first 5 data keys\n",
    "print(len(list(data.keys())))"
   ]
  },
  {
   "cell_type": "code",
   "execution_count": null,
   "metadata": {},
   "outputs": [],
   "source": [
    "list(list(data.keys())[2450:2455])"
   ]
  },
  {
   "cell_type": "code",
   "execution_count": null,
   "metadata": {},
   "outputs": [],
   "source": [
    "data['https://www.baseball-reference.com/boxes/PHI/PHI202210150.shtml']"
   ]
  },
  {
   "cell_type": "code",
   "execution_count": null,
   "metadata": {},
   "outputs": [],
   "source": []
  }
 ],
 "metadata": {
  "kernelspec": {
   "display_name": "Python 3.9.12 ('SLDL-MLB-ATT-Prediction-gFjMjB_x')",
   "language": "python",
   "name": "python3"
  },
  "language_info": {
   "codemirror_mode": {
    "name": "ipython",
    "version": 3
   },
   "file_extension": ".py",
   "mimetype": "text/x-python",
   "name": "python",
   "nbconvert_exporter": "python",
   "pygments_lexer": "ipython3",
   "version": "3.9.12"
  },
  "orig_nbformat": 4,
  "vscode": {
   "interpreter": {
    "hash": "54619d867bc32e6f59ef525cc4bb40e4ca44b8df25f2d10f00373698523f8dfd"
   }
  }
 },
 "nbformat": 4,
 "nbformat_minor": 2
}
