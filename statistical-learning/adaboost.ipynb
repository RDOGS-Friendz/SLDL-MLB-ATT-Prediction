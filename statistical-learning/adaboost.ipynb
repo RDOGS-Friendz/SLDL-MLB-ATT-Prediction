{
 "cells": [
  {
   "cell_type": "markdown",
   "metadata": {},
   "source": [
    "# AdaBoost"
   ]
  },
  {
   "cell_type": "code",
   "execution_count": 1,
   "metadata": {},
   "outputs": [],
   "source": [
    "import pandas as pd\n",
    "import numpy as np\n",
    "from sklearn.ensemble import AdaBoostRegressor"
   ]
  },
  {
   "cell_type": "markdown",
   "metadata": {},
   "source": [
    "## Read dataset"
   ]
  },
  {
   "cell_type": "code",
   "execution_count": 2,
   "metadata": {},
   "outputs": [
    {
     "data": {
      "text/html": [
       "<div>\n",
       "<style scoped>\n",
       "    .dataframe tbody tr th:only-of-type {\n",
       "        vertical-align: middle;\n",
       "    }\n",
       "\n",
       "    .dataframe tbody tr th {\n",
       "        vertical-align: top;\n",
       "    }\n",
       "\n",
       "    .dataframe thead th {\n",
       "        text-align: right;\n",
       "    }\n",
       "</style>\n",
       "<table border=\"1\" class=\"dataframe\">\n",
       "  <thead>\n",
       "    <tr style=\"text-align: right;\">\n",
       "      <th></th>\n",
       "      <th>attendance</th>\n",
       "      <th>is_federal_holiday</th>\n",
       "      <th>venue</th>\n",
       "      <th>on_grass</th>\n",
       "      <th>temperature</th>\n",
       "      <th>wind_speed</th>\n",
       "      <th>team1_name</th>\n",
       "      <th>team1_pre_win</th>\n",
       "      <th>team1_pre_loss</th>\n",
       "      <th>team1_pre_win_pct</th>\n",
       "      <th>...</th>\n",
       "      <th>weather_Rain</th>\n",
       "      <th>weather_Sunny</th>\n",
       "      <th>season_type</th>\n",
       "      <th>season</th>\n",
       "      <th>home_team_avg_att_last_year</th>\n",
       "      <th>start_hour</th>\n",
       "      <th>start_hour_label_afternoon</th>\n",
       "      <th>start_hour_label_evening</th>\n",
       "      <th>start_hour_label_night</th>\n",
       "      <th>start_hour_label_noon</th>\n",
       "    </tr>\n",
       "  </thead>\n",
       "  <tbody>\n",
       "    <tr>\n",
       "      <th>0</th>\n",
       "      <td>35055</td>\n",
       "      <td>0</td>\n",
       "      <td>Wrigley Field</td>\n",
       "      <td>1</td>\n",
       "      <td>-2.786672</td>\n",
       "      <td>-0.093090</td>\n",
       "      <td>STL</td>\n",
       "      <td>-1.62645</td>\n",
       "      <td>-1.654514</td>\n",
       "      <td>0.0</td>\n",
       "      <td>...</td>\n",
       "      <td>0</td>\n",
       "      <td>1</td>\n",
       "      <td>regular</td>\n",
       "      <td>2015</td>\n",
       "      <td>0.345307</td>\n",
       "      <td>19</td>\n",
       "      <td>0</td>\n",
       "      <td>1</td>\n",
       "      <td>0</td>\n",
       "      <td>0</td>\n",
       "    </tr>\n",
       "    <tr>\n",
       "      <th>1</th>\n",
       "      <td>49043</td>\n",
       "      <td>0</td>\n",
       "      <td>Chase Field</td>\n",
       "      <td>1</td>\n",
       "      <td>0.705205</td>\n",
       "      <td>-0.093090</td>\n",
       "      <td>SFG</td>\n",
       "      <td>-1.62645</td>\n",
       "      <td>-1.654514</td>\n",
       "      <td>0.0</td>\n",
       "      <td>...</td>\n",
       "      <td>0</td>\n",
       "      <td>1</td>\n",
       "      <td>regular</td>\n",
       "      <td>2015</td>\n",
       "      <td>-0.573314</td>\n",
       "      <td>19</td>\n",
       "      <td>0</td>\n",
       "      <td>1</td>\n",
       "      <td>0</td>\n",
       "      <td>0</td>\n",
       "    </tr>\n",
       "    <tr>\n",
       "      <th>2</th>\n",
       "      <td>43633</td>\n",
       "      <td>0</td>\n",
       "      <td>Great American Ball Park</td>\n",
       "      <td>1</td>\n",
       "      <td>-0.521670</td>\n",
       "      <td>1.490839</td>\n",
       "      <td>PIT</td>\n",
       "      <td>-1.62645</td>\n",
       "      <td>-1.654514</td>\n",
       "      <td>0.0</td>\n",
       "      <td>...</td>\n",
       "      <td>0</td>\n",
       "      <td>0</td>\n",
       "      <td>regular</td>\n",
       "      <td>2015</td>\n",
       "      <td>0.066649</td>\n",
       "      <td>16</td>\n",
       "      <td>1</td>\n",
       "      <td>0</td>\n",
       "      <td>0</td>\n",
       "      <td>0</td>\n",
       "    </tr>\n",
       "    <tr>\n",
       "      <th>3</th>\n",
       "      <td>45030</td>\n",
       "      <td>0</td>\n",
       "      <td>Comerica Park</td>\n",
       "      <td>1</td>\n",
       "      <td>-2.031671</td>\n",
       "      <td>-0.489072</td>\n",
       "      <td>MIN</td>\n",
       "      <td>-1.62645</td>\n",
       "      <td>-1.654514</td>\n",
       "      <td>0.0</td>\n",
       "      <td>...</td>\n",
       "      <td>0</td>\n",
       "      <td>0</td>\n",
       "      <td>regular</td>\n",
       "      <td>2015</td>\n",
       "      <td>0.766348</td>\n",
       "      <td>13</td>\n",
       "      <td>0</td>\n",
       "      <td>0</td>\n",
       "      <td>0</td>\n",
       "      <td>1</td>\n",
       "    </tr>\n",
       "    <tr>\n",
       "      <th>4</th>\n",
       "      <td>43753</td>\n",
       "      <td>0</td>\n",
       "      <td>Minute Maid Park</td>\n",
       "      <td>1</td>\n",
       "      <td>0.516455</td>\n",
       "      <td>1.292848</td>\n",
       "      <td>CLE</td>\n",
       "      <td>-1.62645</td>\n",
       "      <td>-1.654514</td>\n",
       "      <td>0.0</td>\n",
       "      <td>...</td>\n",
       "      <td>0</td>\n",
       "      <td>0</td>\n",
       "      <td>regular</td>\n",
       "      <td>2015</td>\n",
       "      <td>-1.084575</td>\n",
       "      <td>18</td>\n",
       "      <td>0</td>\n",
       "      <td>1</td>\n",
       "      <td>0</td>\n",
       "      <td>0</td>\n",
       "    </tr>\n",
       "  </tbody>\n",
       "</table>\n",
       "<p>5 rows × 217 columns</p>\n",
       "</div>"
      ],
      "text/plain": [
       "   attendance  is_federal_holiday                     venue  on_grass  \\\n",
       "0       35055                   0             Wrigley Field         1   \n",
       "1       49043                   0               Chase Field         1   \n",
       "2       43633                   0  Great American Ball Park         1   \n",
       "3       45030                   0             Comerica Park         1   \n",
       "4       43753                   0          Minute Maid Park         1   \n",
       "\n",
       "   temperature  wind_speed team1_name  team1_pre_win  team1_pre_loss  \\\n",
       "0    -2.786672   -0.093090        STL       -1.62645       -1.654514   \n",
       "1     0.705205   -0.093090        SFG       -1.62645       -1.654514   \n",
       "2    -0.521670    1.490839        PIT       -1.62645       -1.654514   \n",
       "3    -2.031671   -0.489072        MIN       -1.62645       -1.654514   \n",
       "4     0.516455    1.292848        CLE       -1.62645       -1.654514   \n",
       "\n",
       "   team1_pre_win_pct  ...  weather_Rain weather_Sunny  season_type  season  \\\n",
       "0                0.0  ...             0             1      regular    2015   \n",
       "1                0.0  ...             0             1      regular    2015   \n",
       "2                0.0  ...             0             0      regular    2015   \n",
       "3                0.0  ...             0             0      regular    2015   \n",
       "4                0.0  ...             0             0      regular    2015   \n",
       "\n",
       "   home_team_avg_att_last_year  start_hour  start_hour_label_afternoon  \\\n",
       "0                     0.345307          19                           0   \n",
       "1                    -0.573314          19                           0   \n",
       "2                     0.066649          16                           1   \n",
       "3                     0.766348          13                           0   \n",
       "4                    -1.084575          18                           0   \n",
       "\n",
       "   start_hour_label_evening  start_hour_label_night  start_hour_label_noon  \n",
       "0                         1                       0                      0  \n",
       "1                         1                       0                      0  \n",
       "2                         0                       0                      0  \n",
       "3                         0                       0                      1  \n",
       "4                         1                       0                      0  \n",
       "\n",
       "[5 rows x 217 columns]"
      ]
     },
     "execution_count": 2,
     "metadata": {},
     "output_type": "execute_result"
    }
   ],
   "source": [
    "data_train = pd.read_csv('processed_training.csv')\n",
    "data_test = pd.read_csv('processed_test.csv')\n",
    "data_train.head()"
   ]
  },
  {
   "cell_type": "code",
   "execution_count": 4,
   "metadata": {},
   "outputs": [],
   "source": [
    "data_train.drop(['venue', 'start_hour'], axis=1, inplace=True)\n",
    "data_test.drop(['venue', 'start_hour'], axis=1, inplace=True)"
   ]
  },
  {
   "cell_type": "code",
   "execution_count": 5,
   "metadata": {},
   "outputs": [],
   "source": [
    "data_train = pd.get_dummies(data_train, columns=['team1_name'])\n",
    "data_test = pd.get_dummies(data_test, columns=['team1_name'])"
   ]
  },
  {
   "cell_type": "code",
   "execution_count": 6,
   "metadata": {},
   "outputs": [],
   "source": [
    "data_train = pd.get_dummies(data_train, columns=['team2_name'])\n",
    "data_test = pd.get_dummies(data_test, columns=['team2_name'])"
   ]
  },
  {
   "cell_type": "code",
   "execution_count": 7,
   "metadata": {},
   "outputs": [],
   "source": [
    "data_train = pd.get_dummies(data_train, columns=['season_type'])\n",
    "data_test = pd.get_dummies(data_test, columns=['season_type'])"
   ]
  },
  {
   "cell_type": "code",
   "execution_count": 3,
   "metadata": {},
   "outputs": [],
   "source": [
    "train_cols = data_train.columns.tolist()\n",
    "data_test = data_test[train_cols].copy()"
   ]
  },
  {
   "cell_type": "code",
   "execution_count": 8,
   "metadata": {},
   "outputs": [
    {
     "data": {
      "text/plain": [
       "set()"
      ]
     },
     "execution_count": 8,
     "metadata": {},
     "output_type": "execute_result"
    }
   ],
   "source": [
    "print(set(data_train.columns) - set(data_test.columns))\n",
    "print(set(data_test.columns) - set(data_train.columns))"
   ]
  },
  {
   "cell_type": "code",
   "execution_count": 9,
   "metadata": {},
   "outputs": [],
   "source": [
    "from sklearn.utils import shuffle\n",
    "data_train = shuffle(data_train)"
   ]
  },
  {
   "cell_type": "code",
   "execution_count": 10,
   "metadata": {},
   "outputs": [
    {
     "name": "stdout",
     "output_type": "stream",
     "text": [
      "(12270, 273)\n"
     ]
    }
   ],
   "source": [
    "y_train = data_train['attendance'].to_numpy()\n",
    "y_test = data_test['attendance'].to_numpy()\n",
    "\n",
    "data_train.drop(['attendance'], axis=1, inplace=True)\n",
    "data_test.drop(['attendance'], axis=1, inplace=True)\n",
    "\n",
    "x_train = data_train.to_numpy()\n",
    "x_test = data_test.to_numpy()\n",
    "\n",
    "print(x_train.shape)"
   ]
  },
  {
   "cell_type": "markdown",
   "metadata": {},
   "source": [
    "## kfold"
   ]
  },
  {
   "cell_type": "code",
   "execution_count": 11,
   "metadata": {},
   "outputs": [],
   "source": [
    "from sklearn.model_selection import GridSearchCV"
   ]
  },
  {
   "cell_type": "code",
   "execution_count": 12,
   "metadata": {},
   "outputs": [
    {
     "data": {
      "text/html": [
       "<style>#sk-container-id-1 {color: black;background-color: white;}#sk-container-id-1 pre{padding: 0;}#sk-container-id-1 div.sk-toggleable {background-color: white;}#sk-container-id-1 label.sk-toggleable__label {cursor: pointer;display: block;width: 100%;margin-bottom: 0;padding: 0.3em;box-sizing: border-box;text-align: center;}#sk-container-id-1 label.sk-toggleable__label-arrow:before {content: \"▸\";float: left;margin-right: 0.25em;color: #696969;}#sk-container-id-1 label.sk-toggleable__label-arrow:hover:before {color: black;}#sk-container-id-1 div.sk-estimator:hover label.sk-toggleable__label-arrow:before {color: black;}#sk-container-id-1 div.sk-toggleable__content {max-height: 0;max-width: 0;overflow: hidden;text-align: left;background-color: #f0f8ff;}#sk-container-id-1 div.sk-toggleable__content pre {margin: 0.2em;color: black;border-radius: 0.25em;background-color: #f0f8ff;}#sk-container-id-1 input.sk-toggleable__control:checked~div.sk-toggleable__content {max-height: 200px;max-width: 100%;overflow: auto;}#sk-container-id-1 input.sk-toggleable__control:checked~label.sk-toggleable__label-arrow:before {content: \"▾\";}#sk-container-id-1 div.sk-estimator input.sk-toggleable__control:checked~label.sk-toggleable__label {background-color: #d4ebff;}#sk-container-id-1 div.sk-label input.sk-toggleable__control:checked~label.sk-toggleable__label {background-color: #d4ebff;}#sk-container-id-1 input.sk-hidden--visually {border: 0;clip: rect(1px 1px 1px 1px);clip: rect(1px, 1px, 1px, 1px);height: 1px;margin: -1px;overflow: hidden;padding: 0;position: absolute;width: 1px;}#sk-container-id-1 div.sk-estimator {font-family: monospace;background-color: #f0f8ff;border: 1px dotted black;border-radius: 0.25em;box-sizing: border-box;margin-bottom: 0.5em;}#sk-container-id-1 div.sk-estimator:hover {background-color: #d4ebff;}#sk-container-id-1 div.sk-parallel-item::after {content: \"\";width: 100%;border-bottom: 1px solid gray;flex-grow: 1;}#sk-container-id-1 div.sk-label:hover label.sk-toggleable__label {background-color: #d4ebff;}#sk-container-id-1 div.sk-serial::before {content: \"\";position: absolute;border-left: 1px solid gray;box-sizing: border-box;top: 0;bottom: 0;left: 50%;z-index: 0;}#sk-container-id-1 div.sk-serial {display: flex;flex-direction: column;align-items: center;background-color: white;padding-right: 0.2em;padding-left: 0.2em;position: relative;}#sk-container-id-1 div.sk-item {position: relative;z-index: 1;}#sk-container-id-1 div.sk-parallel {display: flex;align-items: stretch;justify-content: center;background-color: white;position: relative;}#sk-container-id-1 div.sk-item::before, #sk-container-id-1 div.sk-parallel-item::before {content: \"\";position: absolute;border-left: 1px solid gray;box-sizing: border-box;top: 0;bottom: 0;left: 50%;z-index: -1;}#sk-container-id-1 div.sk-parallel-item {display: flex;flex-direction: column;z-index: 1;position: relative;background-color: white;}#sk-container-id-1 div.sk-parallel-item:first-child::after {align-self: flex-end;width: 50%;}#sk-container-id-1 div.sk-parallel-item:last-child::after {align-self: flex-start;width: 50%;}#sk-container-id-1 div.sk-parallel-item:only-child::after {width: 0;}#sk-container-id-1 div.sk-dashed-wrapped {border: 1px dashed gray;margin: 0 0.4em 0.5em 0.4em;box-sizing: border-box;padding-bottom: 0.4em;background-color: white;}#sk-container-id-1 div.sk-label label {font-family: monospace;font-weight: bold;display: inline-block;line-height: 1.2em;}#sk-container-id-1 div.sk-label-container {text-align: center;}#sk-container-id-1 div.sk-container {/* jupyter's `normalize.less` sets `[hidden] { display: none; }` but bootstrap.min.css set `[hidden] { display: none !important; }` so we also need the `!important` here to be able to override the default hidden behavior on the sphinx rendered scikit-learn.org. See: https://github.com/scikit-learn/scikit-learn/issues/21755 */display: inline-block !important;position: relative;}#sk-container-id-1 div.sk-text-repr-fallback {display: none;}</style><div id=\"sk-container-id-1\" class=\"sk-top-container\"><div class=\"sk-text-repr-fallback\"><pre>GridSearchCV(cv=5, estimator=AdaBoostRegressor(random_state=42), n_jobs=-1,\n",
       "             param_grid={&#x27;learning_rate&#x27;: [0.5, 0.1, 0.01, 0.001],\n",
       "                         &#x27;loss&#x27;: [&#x27;linear&#x27;, &#x27;square&#x27;, &#x27;exponential&#x27;],\n",
       "                         &#x27;n_estimators&#x27;: [50, 100, 500, 1000]},\n",
       "             refit=&#x27;neg_root_mean_squared_error&#x27;,\n",
       "             scoring=[&#x27;neg_mean_squared_error&#x27;, &#x27;neg_root_mean_squared_error&#x27;,\n",
       "                      &#x27;neg_mean_absolute_error&#x27;,\n",
       "                      &#x27;neg_mean_absolute_percentage_error&#x27;])</pre><b>In a Jupyter environment, please rerun this cell to show the HTML representation or trust the notebook. <br />On GitHub, the HTML representation is unable to render, please try loading this page with nbviewer.org.</b></div><div class=\"sk-container\" hidden><div class=\"sk-item sk-dashed-wrapped\"><div class=\"sk-label-container\"><div class=\"sk-label sk-toggleable\"><input class=\"sk-toggleable__control sk-hidden--visually\" id=\"sk-estimator-id-1\" type=\"checkbox\" ><label for=\"sk-estimator-id-1\" class=\"sk-toggleable__label sk-toggleable__label-arrow\">GridSearchCV</label><div class=\"sk-toggleable__content\"><pre>GridSearchCV(cv=5, estimator=AdaBoostRegressor(random_state=42), n_jobs=-1,\n",
       "             param_grid={&#x27;learning_rate&#x27;: [0.5, 0.1, 0.01, 0.001],\n",
       "                         &#x27;loss&#x27;: [&#x27;linear&#x27;, &#x27;square&#x27;, &#x27;exponential&#x27;],\n",
       "                         &#x27;n_estimators&#x27;: [50, 100, 500, 1000]},\n",
       "             refit=&#x27;neg_root_mean_squared_error&#x27;,\n",
       "             scoring=[&#x27;neg_mean_squared_error&#x27;, &#x27;neg_root_mean_squared_error&#x27;,\n",
       "                      &#x27;neg_mean_absolute_error&#x27;,\n",
       "                      &#x27;neg_mean_absolute_percentage_error&#x27;])</pre></div></div></div><div class=\"sk-parallel\"><div class=\"sk-parallel-item\"><div class=\"sk-item\"><div class=\"sk-label-container\"><div class=\"sk-label sk-toggleable\"><input class=\"sk-toggleable__control sk-hidden--visually\" id=\"sk-estimator-id-2\" type=\"checkbox\" ><label for=\"sk-estimator-id-2\" class=\"sk-toggleable__label sk-toggleable__label-arrow\">estimator: AdaBoostRegressor</label><div class=\"sk-toggleable__content\"><pre>AdaBoostRegressor(random_state=42)</pre></div></div></div><div class=\"sk-serial\"><div class=\"sk-item\"><div class=\"sk-estimator sk-toggleable\"><input class=\"sk-toggleable__control sk-hidden--visually\" id=\"sk-estimator-id-3\" type=\"checkbox\" ><label for=\"sk-estimator-id-3\" class=\"sk-toggleable__label sk-toggleable__label-arrow\">AdaBoostRegressor</label><div class=\"sk-toggleable__content\"><pre>AdaBoostRegressor(random_state=42)</pre></div></div></div></div></div></div></div></div></div></div>"
      ],
      "text/plain": [
       "GridSearchCV(cv=5, estimator=AdaBoostRegressor(random_state=42), n_jobs=-1,\n",
       "             param_grid={'learning_rate': [0.5, 0.1, 0.01, 0.001],\n",
       "                         'loss': ['linear', 'square', 'exponential'],\n",
       "                         'n_estimators': [50, 100, 500, 1000]},\n",
       "             refit='neg_root_mean_squared_error',\n",
       "             scoring=['neg_mean_squared_error', 'neg_root_mean_squared_error',\n",
       "                      'neg_mean_absolute_error',\n",
       "                      'neg_mean_absolute_percentage_error'])"
      ]
     },
     "execution_count": 12,
     "metadata": {},
     "output_type": "execute_result"
    }
   ],
   "source": [
    "scoring = ['neg_mean_squared_error', 'neg_root_mean_squared_error', 'neg_mean_absolute_error', 'neg_mean_absolute_percentage_error']\n",
    "parameters = {'n_estimators': [50, 100, 500, 1000], 'learning_rate': [0.5, 0.1, 0.01, 0.001], 'loss': ['linear', 'square', 'exponential']}\n",
    "model = AdaBoostRegressor(random_state=42)\n",
    "clf = GridSearchCV(model, parameters, cv=5, n_jobs=-1, scoring=scoring, refit='neg_root_mean_squared_error')\n",
    "clf.fit(x_train, y_train)"
   ]
  },
  {
   "cell_type": "code",
   "execution_count": 13,
   "metadata": {},
   "outputs": [
    {
     "name": "stdout",
     "output_type": "stream",
     "text": [
      "Best estimators: AdaBoostRegressor(learning_rate=0.1, loss='exponential', n_estimators=100,\n",
      "                  random_state=42)\n",
      "Best parameters: {'learning_rate': 0.1, 'loss': 'exponential', 'n_estimators': 100}\n"
     ]
    }
   ],
   "source": [
    "print(\"Best estimators:\", clf.best_estimator_)\n",
    "print(\"Best parameters:\", clf.best_params_)"
   ]
  },
  {
   "cell_type": "code",
   "execution_count": 16,
   "metadata": {},
   "outputs": [
    {
     "data": {
      "text/html": [
       "<div>\n",
       "<style scoped>\n",
       "    .dataframe tbody tr th:only-of-type {\n",
       "        vertical-align: middle;\n",
       "    }\n",
       "\n",
       "    .dataframe tbody tr th {\n",
       "        vertical-align: top;\n",
       "    }\n",
       "\n",
       "    .dataframe thead th {\n",
       "        text-align: right;\n",
       "    }\n",
       "</style>\n",
       "<table border=\"1\" class=\"dataframe\">\n",
       "  <thead>\n",
       "    <tr style=\"text-align: right;\">\n",
       "      <th></th>\n",
       "      <th>mean_fit_time</th>\n",
       "      <th>std_fit_time</th>\n",
       "      <th>mean_score_time</th>\n",
       "      <th>std_score_time</th>\n",
       "      <th>param_learning_rate</th>\n",
       "      <th>param_loss</th>\n",
       "      <th>param_n_estimators</th>\n",
       "      <th>params</th>\n",
       "      <th>split0_test_neg_mean_squared_error</th>\n",
       "      <th>split1_test_neg_mean_squared_error</th>\n",
       "      <th>...</th>\n",
       "      <th>std_test_neg_mean_absolute_error</th>\n",
       "      <th>rank_test_neg_mean_absolute_error</th>\n",
       "      <th>split0_test_neg_mean_absolute_percentage_error</th>\n",
       "      <th>split1_test_neg_mean_absolute_percentage_error</th>\n",
       "      <th>split2_test_neg_mean_absolute_percentage_error</th>\n",
       "      <th>split3_test_neg_mean_absolute_percentage_error</th>\n",
       "      <th>split4_test_neg_mean_absolute_percentage_error</th>\n",
       "      <th>mean_test_neg_mean_absolute_percentage_error</th>\n",
       "      <th>std_test_neg_mean_absolute_percentage_error</th>\n",
       "      <th>rank_test_neg_mean_absolute_percentage_error</th>\n",
       "    </tr>\n",
       "  </thead>\n",
       "  <tbody>\n",
       "    <tr>\n",
       "      <th>0</th>\n",
       "      <td>22.508837</td>\n",
       "      <td>0.616215</td>\n",
       "      <td>0.451210</td>\n",
       "      <td>0.011833</td>\n",
       "      <td>0.5</td>\n",
       "      <td>linear</td>\n",
       "      <td>50</td>\n",
       "      <td>{'learning_rate': 0.5, 'loss': 'linear', 'n_es...</td>\n",
       "      <td>-4.758108e+07</td>\n",
       "      <td>-4.796242e+07</td>\n",
       "      <td>...</td>\n",
       "      <td>16.268686</td>\n",
       "      <td>30</td>\n",
       "      <td>-0.259911</td>\n",
       "      <td>-0.261567</td>\n",
       "      <td>-0.253064</td>\n",
       "      <td>-0.259719</td>\n",
       "      <td>-0.257057</td>\n",
       "      <td>-0.258264</td>\n",
       "      <td>0.002975</td>\n",
       "      <td>30</td>\n",
       "    </tr>\n",
       "    <tr>\n",
       "      <th>1</th>\n",
       "      <td>45.257090</td>\n",
       "      <td>2.541378</td>\n",
       "      <td>0.887406</td>\n",
       "      <td>0.076824</td>\n",
       "      <td>0.5</td>\n",
       "      <td>linear</td>\n",
       "      <td>100</td>\n",
       "      <td>{'learning_rate': 0.5, 'loss': 'linear', 'n_es...</td>\n",
       "      <td>-5.008462e+07</td>\n",
       "      <td>-5.125343e+07</td>\n",
       "      <td>...</td>\n",
       "      <td>74.276887</td>\n",
       "      <td>35</td>\n",
       "      <td>-0.269883</td>\n",
       "      <td>-0.272294</td>\n",
       "      <td>-0.265547</td>\n",
       "      <td>-0.269305</td>\n",
       "      <td>-0.263869</td>\n",
       "      <td>-0.268180</td>\n",
       "      <td>0.003053</td>\n",
       "      <td>35</td>\n",
       "    </tr>\n",
       "    <tr>\n",
       "      <th>2</th>\n",
       "      <td>48.311164</td>\n",
       "      <td>7.116659</td>\n",
       "      <td>0.909127</td>\n",
       "      <td>0.074438</td>\n",
       "      <td>0.5</td>\n",
       "      <td>linear</td>\n",
       "      <td>500</td>\n",
       "      <td>{'learning_rate': 0.5, 'loss': 'linear', 'n_es...</td>\n",
       "      <td>-5.008462e+07</td>\n",
       "      <td>-5.212701e+07</td>\n",
       "      <td>...</td>\n",
       "      <td>98.771203</td>\n",
       "      <td>37</td>\n",
       "      <td>-0.269883</td>\n",
       "      <td>-0.275193</td>\n",
       "      <td>-0.265547</td>\n",
       "      <td>-0.271251</td>\n",
       "      <td>-0.263869</td>\n",
       "      <td>-0.269149</td>\n",
       "      <td>0.004058</td>\n",
       "      <td>37</td>\n",
       "    </tr>\n",
       "    <tr>\n",
       "      <th>3</th>\n",
       "      <td>48.659079</td>\n",
       "      <td>6.493892</td>\n",
       "      <td>0.878798</td>\n",
       "      <td>0.109103</td>\n",
       "      <td>0.5</td>\n",
       "      <td>linear</td>\n",
       "      <td>1000</td>\n",
       "      <td>{'learning_rate': 0.5, 'loss': 'linear', 'n_es...</td>\n",
       "      <td>-5.008462e+07</td>\n",
       "      <td>-5.212701e+07</td>\n",
       "      <td>...</td>\n",
       "      <td>98.771203</td>\n",
       "      <td>37</td>\n",
       "      <td>-0.269883</td>\n",
       "      <td>-0.275193</td>\n",
       "      <td>-0.265547</td>\n",
       "      <td>-0.271251</td>\n",
       "      <td>-0.263869</td>\n",
       "      <td>-0.269149</td>\n",
       "      <td>0.004058</td>\n",
       "      <td>37</td>\n",
       "    </tr>\n",
       "    <tr>\n",
       "      <th>4</th>\n",
       "      <td>23.376624</td>\n",
       "      <td>0.401879</td>\n",
       "      <td>0.446806</td>\n",
       "      <td>0.015604</td>\n",
       "      <td>0.5</td>\n",
       "      <td>square</td>\n",
       "      <td>50</td>\n",
       "      <td>{'learning_rate': 0.5, 'loss': 'square', 'n_es...</td>\n",
       "      <td>-4.970404e+07</td>\n",
       "      <td>-5.108639e+07</td>\n",
       "      <td>...</td>\n",
       "      <td>39.110355</td>\n",
       "      <td>36</td>\n",
       "      <td>-0.270903</td>\n",
       "      <td>-0.273686</td>\n",
       "      <td>-0.264634</td>\n",
       "      <td>-0.271637</td>\n",
       "      <td>-0.274150</td>\n",
       "      <td>-0.271002</td>\n",
       "      <td>0.003408</td>\n",
       "      <td>40</td>\n",
       "    </tr>\n",
       "  </tbody>\n",
       "</table>\n",
       "<p>5 rows × 40 columns</p>\n",
       "</div>"
      ],
      "text/plain": [
       "   mean_fit_time  std_fit_time  mean_score_time  std_score_time  \\\n",
       "0      22.508837      0.616215         0.451210        0.011833   \n",
       "1      45.257090      2.541378         0.887406        0.076824   \n",
       "2      48.311164      7.116659         0.909127        0.074438   \n",
       "3      48.659079      6.493892         0.878798        0.109103   \n",
       "4      23.376624      0.401879         0.446806        0.015604   \n",
       "\n",
       "  param_learning_rate param_loss param_n_estimators  \\\n",
       "0                 0.5     linear                 50   \n",
       "1                 0.5     linear                100   \n",
       "2                 0.5     linear                500   \n",
       "3                 0.5     linear               1000   \n",
       "4                 0.5     square                 50   \n",
       "\n",
       "                                              params  \\\n",
       "0  {'learning_rate': 0.5, 'loss': 'linear', 'n_es...   \n",
       "1  {'learning_rate': 0.5, 'loss': 'linear', 'n_es...   \n",
       "2  {'learning_rate': 0.5, 'loss': 'linear', 'n_es...   \n",
       "3  {'learning_rate': 0.5, 'loss': 'linear', 'n_es...   \n",
       "4  {'learning_rate': 0.5, 'loss': 'square', 'n_es...   \n",
       "\n",
       "   split0_test_neg_mean_squared_error  split1_test_neg_mean_squared_error  \\\n",
       "0                       -4.758108e+07                       -4.796242e+07   \n",
       "1                       -5.008462e+07                       -5.125343e+07   \n",
       "2                       -5.008462e+07                       -5.212701e+07   \n",
       "3                       -5.008462e+07                       -5.212701e+07   \n",
       "4                       -4.970404e+07                       -5.108639e+07   \n",
       "\n",
       "   ...  std_test_neg_mean_absolute_error  rank_test_neg_mean_absolute_error  \\\n",
       "0  ...                         16.268686                                 30   \n",
       "1  ...                         74.276887                                 35   \n",
       "2  ...                         98.771203                                 37   \n",
       "3  ...                         98.771203                                 37   \n",
       "4  ...                         39.110355                                 36   \n",
       "\n",
       "   split0_test_neg_mean_absolute_percentage_error  \\\n",
       "0                                       -0.259911   \n",
       "1                                       -0.269883   \n",
       "2                                       -0.269883   \n",
       "3                                       -0.269883   \n",
       "4                                       -0.270903   \n",
       "\n",
       "   split1_test_neg_mean_absolute_percentage_error  \\\n",
       "0                                       -0.261567   \n",
       "1                                       -0.272294   \n",
       "2                                       -0.275193   \n",
       "3                                       -0.275193   \n",
       "4                                       -0.273686   \n",
       "\n",
       "   split2_test_neg_mean_absolute_percentage_error  \\\n",
       "0                                       -0.253064   \n",
       "1                                       -0.265547   \n",
       "2                                       -0.265547   \n",
       "3                                       -0.265547   \n",
       "4                                       -0.264634   \n",
       "\n",
       "   split3_test_neg_mean_absolute_percentage_error  \\\n",
       "0                                       -0.259719   \n",
       "1                                       -0.269305   \n",
       "2                                       -0.271251   \n",
       "3                                       -0.271251   \n",
       "4                                       -0.271637   \n",
       "\n",
       "   split4_test_neg_mean_absolute_percentage_error  \\\n",
       "0                                       -0.257057   \n",
       "1                                       -0.263869   \n",
       "2                                       -0.263869   \n",
       "3                                       -0.263869   \n",
       "4                                       -0.274150   \n",
       "\n",
       "   mean_test_neg_mean_absolute_percentage_error  \\\n",
       "0                                     -0.258264   \n",
       "1                                     -0.268180   \n",
       "2                                     -0.269149   \n",
       "3                                     -0.269149   \n",
       "4                                     -0.271002   \n",
       "\n",
       "   std_test_neg_mean_absolute_percentage_error  \\\n",
       "0                                     0.002975   \n",
       "1                                     0.003053   \n",
       "2                                     0.004058   \n",
       "3                                     0.004058   \n",
       "4                                     0.003408   \n",
       "\n",
       "   rank_test_neg_mean_absolute_percentage_error  \n",
       "0                                            30  \n",
       "1                                            35  \n",
       "2                                            37  \n",
       "3                                            37  \n",
       "4                                            40  \n",
       "\n",
       "[5 rows x 40 columns]"
      ]
     },
     "execution_count": 16,
     "metadata": {},
     "output_type": "execute_result"
    }
   ],
   "source": [
    "df_res = pd.DataFrame(data=clf.cv_results_)\n",
    "df_res.head()\n"
   ]
  },
  {
   "cell_type": "markdown",
   "metadata": {},
   "source": [
    "## Train with best params"
   ]
  },
  {
   "cell_type": "code",
   "execution_count": 17,
   "metadata": {},
   "outputs": [],
   "source": [
    "ada = AdaBoostRegressor(learning_rate=0.1, loss='exponential', n_estimators=100, random_state=42)\n",
    "ada = ada.fit(x_train, y_train)"
   ]
  },
  {
   "cell_type": "code",
   "execution_count": 18,
   "metadata": {},
   "outputs": [
    {
     "name": "stdout",
     "output_type": "stream",
     "text": [
      "Train MSE: 44569367.18794399\n",
      "Train RMSE: 6676.029298014201\n",
      "Train MAE: 5302.578710526037\n",
      "Train MAPE: 0.23958861233492285\n"
     ]
    }
   ],
   "source": [
    "from sklearn.metrics import mean_squared_error, mean_absolute_error, mean_absolute_percentage_error\n",
    "train_predict = ada.predict(x_train)\n",
    "print(\"Train MSE:\", mean_squared_error(y_train, train_predict))\n",
    "print(\"Train RMSE:\", mean_squared_error(y_train, train_predict, squared=False))\n",
    "print(\"Train MAE:\", mean_absolute_error(y_train, train_predict))\n",
    "print(\"Train MAPE:\", mean_absolute_percentage_error(y_train, train_predict))"
   ]
  },
  {
   "cell_type": "code",
   "execution_count": 19,
   "metadata": {},
   "outputs": [
    {
     "data": {
      "text/plain": [
       "Text(0.5, 0, 'AdaBoost Feature Importance')"
      ]
     },
     "execution_count": 19,
     "metadata": {},
     "output_type": "execute_result"
    },
    {
     "data": {
      "image/png": "[encoded data removed]",
      "text/plain": [
       "<Figure size 640x480 with 1 Axes>"
      ]
     },
     "metadata": {},
     "output_type": "display_data"
    }
   ],
   "source": [
    "from matplotlib import pyplot as plt\n",
    "num_features = 20\n",
    "sorted_idx = ada.feature_importances_.argsort()[::-1][:num_features]\n",
    "cols = data_train.columns\n",
    "plt.barh(cols[sorted_idx][:num_features][::-1], ada.feature_importances_[sorted_idx][:num_features][::-1])\n",
    "plt.xlabel(\"AdaBoost Feature Importance\")"
   ]
  },
  {
   "cell_type": "code",
   "execution_count": 20,
   "metadata": {},
   "outputs": [
    {
     "data": {
      "text/plain": [
       "array([0.7524812 , 0.05165005, 0.0418458 , 0.02599209, 0.01559484,\n",
       "       0.01527443, 0.01428601, 0.01133146, 0.00929535, 0.00868515])"
      ]
     },
     "execution_count": 20,
     "metadata": {},
     "output_type": "execute_result"
    }
   ],
   "source": [
    "ada.feature_importances_[sorted_idx][:10]"
   ]
  },
  {
   "cell_type": "markdown",
   "metadata": {},
   "source": [
    "## Testing set"
   ]
  },
  {
   "cell_type": "code",
   "execution_count": 21,
   "metadata": {},
   "outputs": [
    {
     "name": "stdout",
     "output_type": "stream",
     "text": [
      "Test MSE: 63548435.34939566\n",
      "Test RMSE: 7971.727250062916\n",
      "Test MAE: 6516.442072648415\n",
      "Test MAPE: 0.37972597611090336\n"
     ]
    }
   ],
   "source": [
    "from sklearn.metrics import mean_squared_error, mean_absolute_error, mean_absolute_percentage_error\n",
    "y_pred = ada.predict(x_test)\n",
    "print(\"Test MSE:\", mean_squared_error(y_test, y_pred))\n",
    "print(\"Test RMSE:\", mean_squared_error(y_test, y_pred, squared=False))\n",
    "print(\"Test MAE:\", mean_absolute_error(y_test, y_pred))\n",
    "print(\"Test MAPE:\", mean_absolute_percentage_error(y_test, y_pred))"
   ]
  },
  {
   "cell_type": "markdown",
   "metadata": {},
   "source": [
    "## Save model"
   ]
  },
  {
   "cell_type": "code",
   "execution_count": 22,
   "metadata": {},
   "outputs": [],
   "source": [
    "import pickle\n",
    "from datetime import datetime\n",
    "time = datetime.today().strftime('%Y%m%d_%H%M%S')\n",
    "filename = f'./model/adaboost_model_{time}.sav'\n",
    "pickle.dump(ada, open(filename, 'wb'))\n",
    "cv_filename = f'./model/adaboost_model_{time}_cv.csv'\n",
    "df_res.to_csv(cv_filename, index=False)\n",
    "# loaded_model = pickle.load(open(filename, 'rb'))"
   ]
  },
  {
   "cell_type": "code",
   "execution_count": null,
   "metadata": {},
   "outputs": [],
   "source": []
  }
 ],
 "metadata": {
  "kernelspec": {
   "display_name": "Python 3.10.8 64-bit (microsoft store)",
   "language": "python",
   "name": "python3"
  },
  "language_info": {
   "codemirror_mode": {
    "name": "ipython",
    "version": 3
   },
   "file_extension": ".py",
   "mimetype": "text/x-python",
   "name": "python",
   "nbconvert_exporter": "python",
   "pygments_lexer": "ipython3",
   "version": "3.10.8"
  },
  "orig_nbformat": 4,
  "vscode": {
   "interpreter": {
    "hash": "67ca7afeb5b8efa8c3fe0f03b74e12078850e65dfdef21d5a2a5aaaa51489039"
   }
  }
 },
 "nbformat": 4,
 "nbformat_minor": 2
}
