{
 "cells": [
  {
   "cell_type": "markdown",
   "metadata": {},
   "source": [
    "# stacking"
   ]
  },
  {
   "cell_type": "markdown",
   "metadata": {},
   "source": [
    "## Import packages"
   ]
  },
  {
   "cell_type": "code",
   "execution_count": 1,
   "metadata": {},
   "outputs": [],
   "source": [
    "import pandas as pd\n",
    "import numpy as np\n",
    "from sklearn.preprocessing import StandardScaler\n",
    "from sklearn.utils import shuffle\n",
    "from sklearn.model_selection import GridSearchCV\n",
    "from xgboost import XGBRegressor\n",
    "from sklearn.ensemble import RandomForestClassifier\n",
    "from sklearn.linear_model import LogisticRegression"
   ]
  },
  {
   "cell_type": "markdown",
   "metadata": {},
   "source": [
    "## Data preprocessing"
   ]
  },
  {
   "cell_type": "code",
   "execution_count": null,
   "metadata": {},
   "outputs": [],
   "source": [
    "data_train = pd.read_csv('trainset_w_lle.csv')\n",
    "data_test = pd.read_csv('testset_w_lle.csv')\n",
    "data_train.head()"
   ]
  },
  {
   "cell_type": "code",
   "execution_count": null,
   "metadata": {},
   "outputs": [],
   "source": [
    "# standardize\n",
    "number_col = ['previous_5_to_10MA']\n",
    "\n",
    "# Standardize features by removing the mean and scaling to unit variance.\n",
    "xscaler = StandardScaler().fit(data_train[number_col])\n",
    "#standardize feature values\n",
    "data_train[number_col] = xscaler.transform(data_train[number_col])\n",
    "data_test[number_col] = xscaler.transform(data_test[number_col])"
   ]
  },
  {
   "cell_type": "code",
   "execution_count": null,
   "metadata": {},
   "outputs": [],
   "source": [
    "data_train.drop(['venue', 'start_hour', 'start_time', 'game_page_url'], axis=1, inplace=True)\n",
    "data_test.drop(['venue', 'start_hour', 'start_time', 'game_page_url'], axis=1, inplace=True)"
   ]
  },
  {
   "cell_type": "code",
   "execution_count": null,
   "metadata": {},
   "outputs": [],
   "source": [
    "data_train = pd.get_dummies(data_train, columns=['team1_name', 'team2_name', 'season_type'])\n",
    "data_test = pd.get_dummies(data_test, columns=['team1_name', 'team2_name', 'season_type'])"
   ]
  },
  {
   "cell_type": "code",
   "execution_count": null,
   "metadata": {},
   "outputs": [],
   "source": [
    "train_cols = data_train.columns.tolist()\n",
    "data_test = data_test[train_cols].copy()"
   ]
  },
  {
   "cell_type": "code",
   "execution_count": null,
   "metadata": {},
   "outputs": [],
   "source": [
    "print(set(data_train.columns) - set(data_test.columns))\n",
    "print(set(data_test.columns) - set(data_train.columns))"
   ]
  },
  {
   "cell_type": "code",
   "execution_count": null,
   "metadata": {},
   "outputs": [],
   "source": [
    "data_train = shuffle(data_train)"
   ]
  },
  {
   "cell_type": "code",
   "execution_count": null,
   "metadata": {},
   "outputs": [],
   "source": [
    "y_train = data_train['attendance'].to_numpy()\n",
    "y_test = data_test['attendance'].to_numpy()\n",
    "\n",
    "data_train.drop(['attendance'], axis=1, inplace=True)\n",
    "data_test.drop(['attendance'], axis=1, inplace=True)\n",
    "\n",
    "x_train = data_train.to_numpy()\n",
    "x_test = data_test.to_numpy()\n",
    "\n",
    "print(x_train.shape)"
   ]
  },
  {
   "cell_type": "markdown",
   "metadata": {},
   "source": [
    "## List all models"
   ]
  },
  {
   "cell_type": "code",
   "execution_count": null,
   "metadata": {},
   "outputs": [],
   "source": [
    "xgb = XGBRegressor(colsample_bytree=0.3, learning_rate=0.05, max_depth=8, n_estimators=1000, random_state=42)\n",
    "forest = RandomForestClassifier(n_estimators=100,  random_state=123)\n",
    "lgclassifier = LogisticRegression(random_state=123)"
   ]
  },
  {
   "cell_type": "markdown",
   "metadata": {},
   "source": [
    "## stacking"
   ]
  },
  {
   "cell_type": "code",
   "execution_count": null,
   "metadata": {},
   "outputs": [],
   "source": [
    "estimators = [\n",
    "     ('rf', forest),\n",
    "     ('xgb', xgb)\n",
    "]\n",
    "sclf = StackingClassifier(estimators=estimators, final_estimator=lgclassifier, cv=10)"
   ]
  },
  {
   "cell_type": "code",
   "execution_count": null,
   "metadata": {},
   "outputs": [],
   "source": [
    "sclf.fit(x_train, y_train)\n",
    "\n",
    "print()\n",
    "print(f\"Stacking classifier training Accuracy: {sclf.score(x_train, y_train):0.2f}\")\n",
    "print(f\"Stacking classifier test Accuracy: {sclf.score(x_test, y_test):0.2f}\")"
   ]
  }
 ],
 "metadata": {
  "kernelspec": {
   "display_name": "Python 3.9.13 64-bit (microsoft store)",
   "language": "python",
   "name": "python3"
  },
  "language_info": {
   "codemirror_mode": {
    "name": "ipython",
    "version": 3
   },
   "file_extension": ".py",
   "mimetype": "text/x-python",
   "name": "python",
   "nbconvert_exporter": "python",
   "pygments_lexer": "ipython3",
   "version": "3.9.13"
  },
  "orig_nbformat": 4,
  "vscode": {
   "interpreter": {
    "hash": "640829cba0c996ec1edfe38112f06d06ccbb529c69ad00e2e287bb19236004a2"
   }
  }
 },
 "nbformat": 4,
 "nbformat_minor": 2
}
