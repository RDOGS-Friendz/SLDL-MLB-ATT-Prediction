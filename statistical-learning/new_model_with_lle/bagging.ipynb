{
 "cells": [
  {
   "cell_type": "markdown",
   "metadata": {},
   "source": [
    "# Bagging Regressor"
   ]
  },
  {
   "cell_type": "code",
   "execution_count": 1,
   "metadata": {},
   "outputs": [],
   "source": [
    "import pandas as pd\n",
    "import numpy as np\n",
    "from sklearn.ensemble import BaggingRegressor"
   ]
  },
  {
   "cell_type": "markdown",
   "metadata": {},
   "source": [
    "## Read dataset"
   ]
  },
  {
   "cell_type": "code",
   "execution_count": 2,
   "metadata": {},
   "outputs": [
    {
     "data": {
      "text/html": [
       "<div>\n",
       "<style scoped>\n",
       "    .dataframe tbody tr th:only-of-type {\n",
       "        vertical-align: middle;\n",
       "    }\n",
       "\n",
       "    .dataframe tbody tr th {\n",
       "        vertical-align: top;\n",
       "    }\n",
       "\n",
       "    .dataframe thead th {\n",
       "        text-align: right;\n",
       "    }\n",
       "</style>\n",
       "<table border=\"1\" class=\"dataframe\">\n",
       "  <thead>\n",
       "    <tr style=\"text-align: right;\">\n",
       "      <th></th>\n",
       "      <th>attendance</th>\n",
       "      <th>is_federal_holiday</th>\n",
       "      <th>venue</th>\n",
       "      <th>on_grass</th>\n",
       "      <th>temperature</th>\n",
       "      <th>wind_speed</th>\n",
       "      <th>team1_name</th>\n",
       "      <th>team1_pre_win</th>\n",
       "      <th>team1_pre_loss</th>\n",
       "      <th>team1_pre_win_pct</th>\n",
       "      <th>...</th>\n",
       "      <th>start_hour</th>\n",
       "      <th>start_hour_label_afternoon</th>\n",
       "      <th>start_hour_label_evening</th>\n",
       "      <th>start_hour_label_night</th>\n",
       "      <th>start_hour_label_noon</th>\n",
       "      <th>game_page_url</th>\n",
       "      <th>start_time</th>\n",
       "      <th>previous_5_to_10MA</th>\n",
       "      <th>lle1</th>\n",
       "      <th>lle2</th>\n",
       "    </tr>\n",
       "  </thead>\n",
       "  <tbody>\n",
       "    <tr>\n",
       "      <th>0</th>\n",
       "      <td>35055</td>\n",
       "      <td>0</td>\n",
       "      <td>Wrigley Field</td>\n",
       "      <td>1</td>\n",
       "      <td>-2.786672</td>\n",
       "      <td>-0.093090</td>\n",
       "      <td>STL</td>\n",
       "      <td>-1.62645</td>\n",
       "      <td>-1.654514</td>\n",
       "      <td>0.0</td>\n",
       "      <td>...</td>\n",
       "      <td>19</td>\n",
       "      <td>0</td>\n",
       "      <td>1</td>\n",
       "      <td>0</td>\n",
       "      <td>0</td>\n",
       "      <td>https://www.baseball-reference.com/boxes/CHN/C...</td>\n",
       "      <td>2015-04-05 19:17:00</td>\n",
       "      <td>32742.135802</td>\n",
       "      <td>0.007683</td>\n",
       "      <td>0.000329</td>\n",
       "    </tr>\n",
       "    <tr>\n",
       "      <th>1</th>\n",
       "      <td>45030</td>\n",
       "      <td>0</td>\n",
       "      <td>Comerica Park</td>\n",
       "      <td>1</td>\n",
       "      <td>-2.031671</td>\n",
       "      <td>-0.489072</td>\n",
       "      <td>MIN</td>\n",
       "      <td>-1.62645</td>\n",
       "      <td>-1.654514</td>\n",
       "      <td>0.0</td>\n",
       "      <td>...</td>\n",
       "      <td>13</td>\n",
       "      <td>0</td>\n",
       "      <td>0</td>\n",
       "      <td>0</td>\n",
       "      <td>1</td>\n",
       "      <td>https://www.baseball-reference.com/boxes/DET/D...</td>\n",
       "      <td>2015-04-06 13:08:00</td>\n",
       "      <td>36014.925926</td>\n",
       "      <td>0.008566</td>\n",
       "      <td>0.006095</td>\n",
       "    </tr>\n",
       "    <tr>\n",
       "      <th>2</th>\n",
       "      <td>45909</td>\n",
       "      <td>0</td>\n",
       "      <td>Safeco Field</td>\n",
       "      <td>1</td>\n",
       "      <td>-1.842921</td>\n",
       "      <td>-1.281036</td>\n",
       "      <td>LAA</td>\n",
       "      <td>-1.62645</td>\n",
       "      <td>-1.654514</td>\n",
       "      <td>0.0</td>\n",
       "      <td>...</td>\n",
       "      <td>13</td>\n",
       "      <td>0</td>\n",
       "      <td>0</td>\n",
       "      <td>0</td>\n",
       "      <td>1</td>\n",
       "      <td>https://www.baseball-reference.com/boxes/SEA/S...</td>\n",
       "      <td>2015-04-06 13:12:00</td>\n",
       "      <td>25485.604938</td>\n",
       "      <td>0.003695</td>\n",
       "      <td>0.009393</td>\n",
       "    </tr>\n",
       "    <tr>\n",
       "      <th>3</th>\n",
       "      <td>53518</td>\n",
       "      <td>0</td>\n",
       "      <td>Dodger Stadium</td>\n",
       "      <td>1</td>\n",
       "      <td>-0.804795</td>\n",
       "      <td>-1.281036</td>\n",
       "      <td>SDP</td>\n",
       "      <td>-1.62645</td>\n",
       "      <td>-1.654514</td>\n",
       "      <td>0.0</td>\n",
       "      <td>...</td>\n",
       "      <td>13</td>\n",
       "      <td>0</td>\n",
       "      <td>0</td>\n",
       "      <td>0</td>\n",
       "      <td>1</td>\n",
       "      <td>https://www.baseball-reference.com/boxes/LAN/L...</td>\n",
       "      <td>2015-04-06 13:12:00</td>\n",
       "      <td>46695.518519</td>\n",
       "      <td>0.007517</td>\n",
       "      <td>0.002310</td>\n",
       "    </tr>\n",
       "    <tr>\n",
       "      <th>4</th>\n",
       "      <td>48469</td>\n",
       "      <td>0</td>\n",
       "      <td>Yankee Stadium III</td>\n",
       "      <td>1</td>\n",
       "      <td>-1.842921</td>\n",
       "      <td>-0.489072</td>\n",
       "      <td>TOR</td>\n",
       "      <td>-1.62645</td>\n",
       "      <td>-1.654514</td>\n",
       "      <td>0.0</td>\n",
       "      <td>...</td>\n",
       "      <td>13</td>\n",
       "      <td>0</td>\n",
       "      <td>0</td>\n",
       "      <td>0</td>\n",
       "      <td>1</td>\n",
       "      <td>https://www.baseball-reference.com/boxes/NYA/N...</td>\n",
       "      <td>2015-04-06 13:13:00</td>\n",
       "      <td>42520.300000</td>\n",
       "      <td>0.006798</td>\n",
       "      <td>-0.005155</td>\n",
       "    </tr>\n",
       "  </tbody>\n",
       "</table>\n",
       "<p>5 rows × 54 columns</p>\n",
       "</div>"
      ],
      "text/plain": [
       "   attendance  is_federal_holiday               venue  on_grass  temperature  \\\n",
       "0       35055                   0       Wrigley Field         1    -2.786672   \n",
       "1       45030                   0       Comerica Park         1    -2.031671   \n",
       "2       45909                   0        Safeco Field         1    -1.842921   \n",
       "3       53518                   0      Dodger Stadium         1    -0.804795   \n",
       "4       48469                   0  Yankee Stadium III         1    -1.842921   \n",
       "\n",
       "   wind_speed team1_name  team1_pre_win  team1_pre_loss  team1_pre_win_pct  \\\n",
       "0   -0.093090        STL       -1.62645       -1.654514                0.0   \n",
       "1   -0.489072        MIN       -1.62645       -1.654514                0.0   \n",
       "2   -1.281036        LAA       -1.62645       -1.654514                0.0   \n",
       "3   -1.281036        SDP       -1.62645       -1.654514                0.0   \n",
       "4   -0.489072        TOR       -1.62645       -1.654514                0.0   \n",
       "\n",
       "   ...  start_hour start_hour_label_afternoon  start_hour_label_evening  \\\n",
       "0  ...          19                          0                         1   \n",
       "1  ...          13                          0                         0   \n",
       "2  ...          13                          0                         0   \n",
       "3  ...          13                          0                         0   \n",
       "4  ...          13                          0                         0   \n",
       "\n",
       "   start_hour_label_night  start_hour_label_noon  \\\n",
       "0                       0                      0   \n",
       "1                       0                      1   \n",
       "2                       0                      1   \n",
       "3                       0                      1   \n",
       "4                       0                      1   \n",
       "\n",
       "                                       game_page_url           start_time  \\\n",
       "0  https://www.baseball-reference.com/boxes/CHN/C...  2015-04-05 19:17:00   \n",
       "1  https://www.baseball-reference.com/boxes/DET/D...  2015-04-06 13:08:00   \n",
       "2  https://www.baseball-reference.com/boxes/SEA/S...  2015-04-06 13:12:00   \n",
       "3  https://www.baseball-reference.com/boxes/LAN/L...  2015-04-06 13:12:00   \n",
       "4  https://www.baseball-reference.com/boxes/NYA/N...  2015-04-06 13:13:00   \n",
       "\n",
       "   previous_5_to_10MA      lle1      lle2  \n",
       "0        32742.135802  0.007683  0.000329  \n",
       "1        36014.925926  0.008566  0.006095  \n",
       "2        25485.604938  0.003695  0.009393  \n",
       "3        46695.518519  0.007517  0.002310  \n",
       "4        42520.300000  0.006798 -0.005155  \n",
       "\n",
       "[5 rows x 54 columns]"
      ]
     },
     "execution_count": 2,
     "metadata": {},
     "output_type": "execute_result"
    }
   ],
   "source": [
    "data_train = pd.read_csv('trainset_w_lle.csv')\n",
    "data_test = pd.read_csv('testset_w_lle.csv')\n",
    "data_train.head()"
   ]
  },
  {
   "cell_type": "code",
   "execution_count": 3,
   "metadata": {},
   "outputs": [
    {
     "data": {
      "text/plain": [
       "Index(['attendance', 'is_federal_holiday', 'venue', 'on_grass', 'temperature',\n",
       "       'wind_speed', 'team1_name', 'team1_pre_win', 'team1_pre_loss',\n",
       "       'team1_pre_win_pct', 'team1_streak', 'team2_name', 'team2_pre_win',\n",
       "       'team2_pre_loss', 'team2_pre_win_pct', 'team2_streak', 'salary-500-800',\n",
       "       'salary-800-1500', 'salary-1500', 'day_Friday', 'day_Monday',\n",
       "       'day_Saturday', 'day_Sunday', 'day_Thursday', 'day_Tuesday',\n",
       "       'day_Wednesday', 'month_April', 'month_August', 'month_July',\n",
       "       'month_June', 'month_March', 'month_May', 'month_November',\n",
       "       'month_October', 'month_September', 'weather_Cloudy', 'weather_Drizzle',\n",
       "       'weather_In Dome', 'weather_Overcast', 'weather_Rain', 'weather_Sunny',\n",
       "       'season_type', 'season', 'home_team_avg_att_last_year', 'start_hour',\n",
       "       'start_hour_label_afternoon', 'start_hour_label_evening',\n",
       "       'start_hour_label_night', 'start_hour_label_noon', 'game_page_url',\n",
       "       'start_time', 'previous_5_to_10MA', 'lle1', 'lle2'],\n",
       "      dtype='object')"
      ]
     },
     "execution_count": 3,
     "metadata": {},
     "output_type": "execute_result"
    }
   ],
   "source": [
    "data_train.columns"
   ]
  },
  {
   "cell_type": "code",
   "execution_count": 4,
   "metadata": {},
   "outputs": [],
   "source": [
    "from sklearn.preprocessing import StandardScaler\n",
    "# standardize\n",
    "number_col = ['previous_5_to_10MA']\n",
    "\n",
    "# Standardize features by removing the mean and scaling to unit variance.\n",
    "xscaler = StandardScaler().fit(data_train[number_col])\n",
    "#standardize feature values\n",
    "data_train[number_col] = xscaler.transform(data_train[number_col])\n",
    "data_test[number_col] = xscaler.transform(data_test[number_col])"
   ]
  },
  {
   "cell_type": "code",
   "execution_count": 5,
   "metadata": {},
   "outputs": [],
   "source": [
    "data_train.drop(['venue', 'start_hour', 'start_time', 'game_page_url'], axis=1, inplace=True)\n",
    "data_test.drop(['venue', 'start_hour', 'start_time', 'game_page_url'], axis=1, inplace=True)"
   ]
  },
  {
   "cell_type": "code",
   "execution_count": 6,
   "metadata": {},
   "outputs": [],
   "source": [
    "data_train = pd.get_dummies(data_train, columns=['team1_name', 'team2_name', 'season_type'])\n",
    "data_test = pd.get_dummies(data_test, columns=['team1_name', 'team2_name', 'season_type'])"
   ]
  },
  {
   "cell_type": "code",
   "execution_count": 7,
   "metadata": {},
   "outputs": [],
   "source": [
    "train_cols = data_train.columns.tolist()\n",
    "data_test = data_test[train_cols].copy()"
   ]
  },
  {
   "cell_type": "code",
   "execution_count": 8,
   "metadata": {},
   "outputs": [
    {
     "name": "stdout",
     "output_type": "stream",
     "text": [
      "set()\n",
      "set()\n"
     ]
    }
   ],
   "source": [
    "print(set(data_train.columns) - set(data_test.columns))\n",
    "print(set(data_test.columns) - set(data_train.columns))"
   ]
  },
  {
   "cell_type": "code",
   "execution_count": 9,
   "metadata": {},
   "outputs": [
    {
     "data": {
      "text/plain": [
       "Index(['attendance', 'is_federal_holiday', 'on_grass', 'temperature',\n",
       "       'wind_speed', 'team1_pre_win', 'team1_pre_loss', 'team1_pre_win_pct',\n",
       "       'team1_streak', 'team2_pre_win',\n",
       "       ...\n",
       "       'team2_name_SDP', 'team2_name_SEA', 'team2_name_SFG', 'team2_name_STL',\n",
       "       'team2_name_TBR', 'team2_name_TEX', 'team2_name_TOR', 'team2_name_WSN',\n",
       "       'season_type_post', 'season_type_regular'],\n",
       "      dtype='object', length=109)"
      ]
     },
     "execution_count": 9,
     "metadata": {},
     "output_type": "execute_result"
    }
   ],
   "source": [
    "data_train.columns"
   ]
  },
  {
   "cell_type": "code",
   "execution_count": 10,
   "metadata": {},
   "outputs": [],
   "source": [
    "from sklearn.utils import shuffle\n",
    "data_train = shuffle(data_train)"
   ]
  },
  {
   "cell_type": "code",
   "execution_count": 11,
   "metadata": {},
   "outputs": [
    {
     "name": "stdout",
     "output_type": "stream",
     "text": [
      "(12270, 108)\n"
     ]
    }
   ],
   "source": [
    "y_train = data_train['attendance'].to_numpy()\n",
    "y_test = data_test['attendance'].to_numpy()\n",
    "\n",
    "data_train.drop(['attendance'], axis=1, inplace=True)\n",
    "data_test.drop(['attendance'], axis=1, inplace=True)\n",
    "\n",
    "x_train = data_train.to_numpy()\n",
    "x_test = data_test.to_numpy()\n",
    "\n",
    "print(x_train.shape)"
   ]
  },
  {
   "cell_type": "markdown",
   "metadata": {},
   "source": [
    "## kfold"
   ]
  },
  {
   "cell_type": "code",
   "execution_count": 12,
   "metadata": {},
   "outputs": [],
   "source": [
    "from sklearn.model_selection import GridSearchCV"
   ]
  },
  {
   "cell_type": "code",
   "execution_count": 13,
   "metadata": {},
   "outputs": [
    {
     "data": {
      "text/html": [
       "<style>#sk-container-id-1 {color: black;background-color: white;}#sk-container-id-1 pre{padding: 0;}#sk-container-id-1 div.sk-toggleable {background-color: white;}#sk-container-id-1 label.sk-toggleable__label {cursor: pointer;display: block;width: 100%;margin-bottom: 0;padding: 0.3em;box-sizing: border-box;text-align: center;}#sk-container-id-1 label.sk-toggleable__label-arrow:before {content: \"▸\";float: left;margin-right: 0.25em;color: #696969;}#sk-container-id-1 label.sk-toggleable__label-arrow:hover:before {color: black;}#sk-container-id-1 div.sk-estimator:hover label.sk-toggleable__label-arrow:before {color: black;}#sk-container-id-1 div.sk-toggleable__content {max-height: 0;max-width: 0;overflow: hidden;text-align: left;background-color: #f0f8ff;}#sk-container-id-1 div.sk-toggleable__content pre {margin: 0.2em;color: black;border-radius: 0.25em;background-color: #f0f8ff;}#sk-container-id-1 input.sk-toggleable__control:checked~div.sk-toggleable__content {max-height: 200px;max-width: 100%;overflow: auto;}#sk-container-id-1 input.sk-toggleable__control:checked~label.sk-toggleable__label-arrow:before {content: \"▾\";}#sk-container-id-1 div.sk-estimator input.sk-toggleable__control:checked~label.sk-toggleable__label {background-color: #d4ebff;}#sk-container-id-1 div.sk-label input.sk-toggleable__control:checked~label.sk-toggleable__label {background-color: #d4ebff;}#sk-container-id-1 input.sk-hidden--visually {border: 0;clip: rect(1px 1px 1px 1px);clip: rect(1px, 1px, 1px, 1px);height: 1px;margin: -1px;overflow: hidden;padding: 0;position: absolute;width: 1px;}#sk-container-id-1 div.sk-estimator {font-family: monospace;background-color: #f0f8ff;border: 1px dotted black;border-radius: 0.25em;box-sizing: border-box;margin-bottom: 0.5em;}#sk-container-id-1 div.sk-estimator:hover {background-color: #d4ebff;}#sk-container-id-1 div.sk-parallel-item::after {content: \"\";width: 100%;border-bottom: 1px solid gray;flex-grow: 1;}#sk-container-id-1 div.sk-label:hover label.sk-toggleable__label {background-color: #d4ebff;}#sk-container-id-1 div.sk-serial::before {content: \"\";position: absolute;border-left: 1px solid gray;box-sizing: border-box;top: 0;bottom: 0;left: 50%;z-index: 0;}#sk-container-id-1 div.sk-serial {display: flex;flex-direction: column;align-items: center;background-color: white;padding-right: 0.2em;padding-left: 0.2em;position: relative;}#sk-container-id-1 div.sk-item {position: relative;z-index: 1;}#sk-container-id-1 div.sk-parallel {display: flex;align-items: stretch;justify-content: center;background-color: white;position: relative;}#sk-container-id-1 div.sk-item::before, #sk-container-id-1 div.sk-parallel-item::before {content: \"\";position: absolute;border-left: 1px solid gray;box-sizing: border-box;top: 0;bottom: 0;left: 50%;z-index: -1;}#sk-container-id-1 div.sk-parallel-item {display: flex;flex-direction: column;z-index: 1;position: relative;background-color: white;}#sk-container-id-1 div.sk-parallel-item:first-child::after {align-self: flex-end;width: 50%;}#sk-container-id-1 div.sk-parallel-item:last-child::after {align-self: flex-start;width: 50%;}#sk-container-id-1 div.sk-parallel-item:only-child::after {width: 0;}#sk-container-id-1 div.sk-dashed-wrapped {border: 1px dashed gray;margin: 0 0.4em 0.5em 0.4em;box-sizing: border-box;padding-bottom: 0.4em;background-color: white;}#sk-container-id-1 div.sk-label label {font-family: monospace;font-weight: bold;display: inline-block;line-height: 1.2em;}#sk-container-id-1 div.sk-label-container {text-align: center;}#sk-container-id-1 div.sk-container {/* jupyter's `normalize.less` sets `[hidden] { display: none; }` but bootstrap.min.css set `[hidden] { display: none !important; }` so we also need the `!important` here to be able to override the default hidden behavior on the sphinx rendered scikit-learn.org. See: https://github.com/scikit-learn/scikit-learn/issues/21755 */display: inline-block !important;position: relative;}#sk-container-id-1 div.sk-text-repr-fallback {display: none;}</style><div id=\"sk-container-id-1\" class=\"sk-top-container\"><div class=\"sk-text-repr-fallback\"><pre>GridSearchCV(cv=5, estimator=BaggingRegressor(random_state=42), n_jobs=-1,\n",
       "             param_grid={&#x27;n_estimators&#x27;: array([  10,   16,   27,   46,   77,  129,  215,  359,  599, 1000])},\n",
       "             refit=&#x27;neg_root_mean_squared_error&#x27;,\n",
       "             scoring=[&#x27;neg_mean_squared_error&#x27;, &#x27;neg_root_mean_squared_error&#x27;,\n",
       "                      &#x27;neg_mean_absolute_error&#x27;,\n",
       "                      &#x27;neg_mean_absolute_percentage_error&#x27;])</pre><b>In a Jupyter environment, please rerun this cell to show the HTML representation or trust the notebook. <br />On GitHub, the HTML representation is unable to render, please try loading this page with nbviewer.org.</b></div><div class=\"sk-container\" hidden><div class=\"sk-item sk-dashed-wrapped\"><div class=\"sk-label-container\"><div class=\"sk-label sk-toggleable\"><input class=\"sk-toggleable__control sk-hidden--visually\" id=\"sk-estimator-id-1\" type=\"checkbox\" ><label for=\"sk-estimator-id-1\" class=\"sk-toggleable__label sk-toggleable__label-arrow\">GridSearchCV</label><div class=\"sk-toggleable__content\"><pre>GridSearchCV(cv=5, estimator=BaggingRegressor(random_state=42), n_jobs=-1,\n",
       "             param_grid={&#x27;n_estimators&#x27;: array([  10,   16,   27,   46,   77,  129,  215,  359,  599, 1000])},\n",
       "             refit=&#x27;neg_root_mean_squared_error&#x27;,\n",
       "             scoring=[&#x27;neg_mean_squared_error&#x27;, &#x27;neg_root_mean_squared_error&#x27;,\n",
       "                      &#x27;neg_mean_absolute_error&#x27;,\n",
       "                      &#x27;neg_mean_absolute_percentage_error&#x27;])</pre></div></div></div><div class=\"sk-parallel\"><div class=\"sk-parallel-item\"><div class=\"sk-item\"><div class=\"sk-label-container\"><div class=\"sk-label sk-toggleable\"><input class=\"sk-toggleable__control sk-hidden--visually\" id=\"sk-estimator-id-2\" type=\"checkbox\" ><label for=\"sk-estimator-id-2\" class=\"sk-toggleable__label sk-toggleable__label-arrow\">estimator: BaggingRegressor</label><div class=\"sk-toggleable__content\"><pre>BaggingRegressor(random_state=42)</pre></div></div></div><div class=\"sk-serial\"><div class=\"sk-item\"><div class=\"sk-estimator sk-toggleable\"><input class=\"sk-toggleable__control sk-hidden--visually\" id=\"sk-estimator-id-3\" type=\"checkbox\" ><label for=\"sk-estimator-id-3\" class=\"sk-toggleable__label sk-toggleable__label-arrow\">BaggingRegressor</label><div class=\"sk-toggleable__content\"><pre>BaggingRegressor(random_state=42)</pre></div></div></div></div></div></div></div></div></div></div>"
      ],
      "text/plain": [
       "GridSearchCV(cv=5, estimator=BaggingRegressor(random_state=42), n_jobs=-1,\n",
       "             param_grid={'n_estimators': array([  10,   16,   27,   46,   77,  129,  215,  359,  599, 1000])},\n",
       "             refit='neg_root_mean_squared_error',\n",
       "             scoring=['neg_mean_squared_error', 'neg_root_mean_squared_error',\n",
       "                      'neg_mean_absolute_error',\n",
       "                      'neg_mean_absolute_percentage_error'])"
      ]
     },
     "execution_count": 13,
     "metadata": {},
     "output_type": "execute_result"
    }
   ],
   "source": [
    "scoring = ['neg_mean_squared_error', 'neg_root_mean_squared_error', 'neg_mean_absolute_error', 'neg_mean_absolute_percentage_error']\n",
    "n_estimators_grid = np.geomspace(10, 1000, 10, endpoint=True, dtype=int) # 10 numbers between 10 and 1000\n",
    "parameters = {'n_estimators' : n_estimators_grid}\n",
    "model = BaggingRegressor(random_state=42)\n",
    "clf = GridSearchCV(model, parameters, cv=5, n_jobs=-1, scoring=scoring, refit='neg_root_mean_squared_error')\n",
    "clf.fit(x_train, y_train)"
   ]
  },
  {
   "cell_type": "code",
   "execution_count": 14,
   "metadata": {},
   "outputs": [
    {
     "name": "stdout",
     "output_type": "stream",
     "text": [
      "Best estimators: BaggingRegressor(n_estimators=1000, random_state=42)\n",
      "Best parameters: {'n_estimators': 1000}\n"
     ]
    }
   ],
   "source": [
    "print(\"Best estimators:\", clf.best_estimator_)\n",
    "print(\"Best parameters:\", clf.best_params_)"
   ]
  },
  {
   "cell_type": "code",
   "execution_count": 15,
   "metadata": {},
   "outputs": [
    {
     "data": {
      "text/html": [
       "<div>\n",
       "<style scoped>\n",
       "    .dataframe tbody tr th:only-of-type {\n",
       "        vertical-align: middle;\n",
       "    }\n",
       "\n",
       "    .dataframe tbody tr th {\n",
       "        vertical-align: top;\n",
       "    }\n",
       "\n",
       "    .dataframe thead th {\n",
       "        text-align: right;\n",
       "    }\n",
       "</style>\n",
       "<table border=\"1\" class=\"dataframe\">\n",
       "  <thead>\n",
       "    <tr style=\"text-align: right;\">\n",
       "      <th></th>\n",
       "      <th>mean_fit_time</th>\n",
       "      <th>std_fit_time</th>\n",
       "      <th>mean_score_time</th>\n",
       "      <th>std_score_time</th>\n",
       "      <th>param_n_estimators</th>\n",
       "      <th>params</th>\n",
       "      <th>split0_test_neg_mean_squared_error</th>\n",
       "      <th>split1_test_neg_mean_squared_error</th>\n",
       "      <th>split2_test_neg_mean_squared_error</th>\n",
       "      <th>split3_test_neg_mean_squared_error</th>\n",
       "      <th>...</th>\n",
       "      <th>std_test_neg_mean_absolute_error</th>\n",
       "      <th>rank_test_neg_mean_absolute_error</th>\n",
       "      <th>split0_test_neg_mean_absolute_percentage_error</th>\n",
       "      <th>split1_test_neg_mean_absolute_percentage_error</th>\n",
       "      <th>split2_test_neg_mean_absolute_percentage_error</th>\n",
       "      <th>split3_test_neg_mean_absolute_percentage_error</th>\n",
       "      <th>split4_test_neg_mean_absolute_percentage_error</th>\n",
       "      <th>mean_test_neg_mean_absolute_percentage_error</th>\n",
       "      <th>std_test_neg_mean_absolute_percentage_error</th>\n",
       "      <th>rank_test_neg_mean_absolute_percentage_error</th>\n",
       "    </tr>\n",
       "  </thead>\n",
       "  <tbody>\n",
       "    <tr>\n",
       "      <th>0</th>\n",
       "      <td>3.281755</td>\n",
       "      <td>0.180765</td>\n",
       "      <td>0.104873</td>\n",
       "      <td>0.043572</td>\n",
       "      <td>10</td>\n",
       "      <td>{'n_estimators': 10}</td>\n",
       "      <td>-2.472859e+07</td>\n",
       "      <td>-2.251040e+07</td>\n",
       "      <td>-2.436446e+07</td>\n",
       "      <td>-2.591753e+07</td>\n",
       "      <td>...</td>\n",
       "      <td>74.268989</td>\n",
       "      <td>10</td>\n",
       "      <td>-0.142698</td>\n",
       "      <td>-0.140328</td>\n",
       "      <td>-0.147282</td>\n",
       "      <td>-0.148857</td>\n",
       "      <td>-0.141545</td>\n",
       "      <td>-0.144142</td>\n",
       "      <td>0.003331</td>\n",
       "      <td>10</td>\n",
       "    </tr>\n",
       "    <tr>\n",
       "      <th>1</th>\n",
       "      <td>5.851016</td>\n",
       "      <td>0.344457</td>\n",
       "      <td>0.116401</td>\n",
       "      <td>0.014178</td>\n",
       "      <td>16</td>\n",
       "      <td>{'n_estimators': 16}</td>\n",
       "      <td>-2.333123e+07</td>\n",
       "      <td>-2.135282e+07</td>\n",
       "      <td>-2.312528e+07</td>\n",
       "      <td>-2.460462e+07</td>\n",
       "      <td>...</td>\n",
       "      <td>71.767320</td>\n",
       "      <td>9</td>\n",
       "      <td>-0.139832</td>\n",
       "      <td>-0.137849</td>\n",
       "      <td>-0.143212</td>\n",
       "      <td>-0.144900</td>\n",
       "      <td>-0.137617</td>\n",
       "      <td>-0.140682</td>\n",
       "      <td>0.002910</td>\n",
       "      <td>9</td>\n",
       "    </tr>\n",
       "    <tr>\n",
       "      <th>2</th>\n",
       "      <td>9.071096</td>\n",
       "      <td>0.580153</td>\n",
       "      <td>0.174001</td>\n",
       "      <td>0.031516</td>\n",
       "      <td>27</td>\n",
       "      <td>{'n_estimators': 27}</td>\n",
       "      <td>-2.266615e+07</td>\n",
       "      <td>-2.092231e+07</td>\n",
       "      <td>-2.235544e+07</td>\n",
       "      <td>-2.350341e+07</td>\n",
       "      <td>...</td>\n",
       "      <td>71.034869</td>\n",
       "      <td>8</td>\n",
       "      <td>-0.138759</td>\n",
       "      <td>-0.137010</td>\n",
       "      <td>-0.140933</td>\n",
       "      <td>-0.141833</td>\n",
       "      <td>-0.134705</td>\n",
       "      <td>-0.138648</td>\n",
       "      <td>0.002593</td>\n",
       "      <td>8</td>\n",
       "    </tr>\n",
       "    <tr>\n",
       "      <th>3</th>\n",
       "      <td>14.602293</td>\n",
       "      <td>1.300136</td>\n",
       "      <td>0.185200</td>\n",
       "      <td>0.006013</td>\n",
       "      <td>46</td>\n",
       "      <td>{'n_estimators': 46}</td>\n",
       "      <td>-2.246959e+07</td>\n",
       "      <td>-2.044115e+07</td>\n",
       "      <td>-2.204131e+07</td>\n",
       "      <td>-2.319690e+07</td>\n",
       "      <td>...</td>\n",
       "      <td>74.076484</td>\n",
       "      <td>7</td>\n",
       "      <td>-0.138141</td>\n",
       "      <td>-0.135201</td>\n",
       "      <td>-0.140153</td>\n",
       "      <td>-0.140086</td>\n",
       "      <td>-0.133683</td>\n",
       "      <td>-0.137453</td>\n",
       "      <td>0.002607</td>\n",
       "      <td>7</td>\n",
       "    </tr>\n",
       "    <tr>\n",
       "      <th>4</th>\n",
       "      <td>22.759502</td>\n",
       "      <td>1.084773</td>\n",
       "      <td>0.355984</td>\n",
       "      <td>0.094060</td>\n",
       "      <td>77</td>\n",
       "      <td>{'n_estimators': 77}</td>\n",
       "      <td>-2.224775e+07</td>\n",
       "      <td>-2.021625e+07</td>\n",
       "      <td>-2.178026e+07</td>\n",
       "      <td>-2.306780e+07</td>\n",
       "      <td>...</td>\n",
       "      <td>70.585748</td>\n",
       "      <td>6</td>\n",
       "      <td>-0.137105</td>\n",
       "      <td>-0.134463</td>\n",
       "      <td>-0.139441</td>\n",
       "      <td>-0.140038</td>\n",
       "      <td>-0.132710</td>\n",
       "      <td>-0.136751</td>\n",
       "      <td>0.002819</td>\n",
       "      <td>6</td>\n",
       "    </tr>\n",
       "  </tbody>\n",
       "</table>\n",
       "<p>5 rows × 38 columns</p>\n",
       "</div>"
      ],
      "text/plain": [
       "   mean_fit_time  std_fit_time  mean_score_time  std_score_time  \\\n",
       "0       3.281755      0.180765         0.104873        0.043572   \n",
       "1       5.851016      0.344457         0.116401        0.014178   \n",
       "2       9.071096      0.580153         0.174001        0.031516   \n",
       "3      14.602293      1.300136         0.185200        0.006013   \n",
       "4      22.759502      1.084773         0.355984        0.094060   \n",
       "\n",
       "  param_n_estimators                params  \\\n",
       "0                 10  {'n_estimators': 10}   \n",
       "1                 16  {'n_estimators': 16}   \n",
       "2                 27  {'n_estimators': 27}   \n",
       "3                 46  {'n_estimators': 46}   \n",
       "4                 77  {'n_estimators': 77}   \n",
       "\n",
       "   split0_test_neg_mean_squared_error  split1_test_neg_mean_squared_error  \\\n",
       "0                       -2.472859e+07                       -2.251040e+07   \n",
       "1                       -2.333123e+07                       -2.135282e+07   \n",
       "2                       -2.266615e+07                       -2.092231e+07   \n",
       "3                       -2.246959e+07                       -2.044115e+07   \n",
       "4                       -2.224775e+07                       -2.021625e+07   \n",
       "\n",
       "   split2_test_neg_mean_squared_error  split3_test_neg_mean_squared_error  \\\n",
       "0                       -2.436446e+07                       -2.591753e+07   \n",
       "1                       -2.312528e+07                       -2.460462e+07   \n",
       "2                       -2.235544e+07                       -2.350341e+07   \n",
       "3                       -2.204131e+07                       -2.319690e+07   \n",
       "4                       -2.178026e+07                       -2.306780e+07   \n",
       "\n",
       "   ...  std_test_neg_mean_absolute_error  rank_test_neg_mean_absolute_error  \\\n",
       "0  ...                         74.268989                                 10   \n",
       "1  ...                         71.767320                                  9   \n",
       "2  ...                         71.034869                                  8   \n",
       "3  ...                         74.076484                                  7   \n",
       "4  ...                         70.585748                                  6   \n",
       "\n",
       "   split0_test_neg_mean_absolute_percentage_error  \\\n",
       "0                                       -0.142698   \n",
       "1                                       -0.139832   \n",
       "2                                       -0.138759   \n",
       "3                                       -0.138141   \n",
       "4                                       -0.137105   \n",
       "\n",
       "   split1_test_neg_mean_absolute_percentage_error  \\\n",
       "0                                       -0.140328   \n",
       "1                                       -0.137849   \n",
       "2                                       -0.137010   \n",
       "3                                       -0.135201   \n",
       "4                                       -0.134463   \n",
       "\n",
       "   split2_test_neg_mean_absolute_percentage_error  \\\n",
       "0                                       -0.147282   \n",
       "1                                       -0.143212   \n",
       "2                                       -0.140933   \n",
       "3                                       -0.140153   \n",
       "4                                       -0.139441   \n",
       "\n",
       "   split3_test_neg_mean_absolute_percentage_error  \\\n",
       "0                                       -0.148857   \n",
       "1                                       -0.144900   \n",
       "2                                       -0.141833   \n",
       "3                                       -0.140086   \n",
       "4                                       -0.140038   \n",
       "\n",
       "   split4_test_neg_mean_absolute_percentage_error  \\\n",
       "0                                       -0.141545   \n",
       "1                                       -0.137617   \n",
       "2                                       -0.134705   \n",
       "3                                       -0.133683   \n",
       "4                                       -0.132710   \n",
       "\n",
       "   mean_test_neg_mean_absolute_percentage_error  \\\n",
       "0                                     -0.144142   \n",
       "1                                     -0.140682   \n",
       "2                                     -0.138648   \n",
       "3                                     -0.137453   \n",
       "4                                     -0.136751   \n",
       "\n",
       "   std_test_neg_mean_absolute_percentage_error  \\\n",
       "0                                     0.003331   \n",
       "1                                     0.002910   \n",
       "2                                     0.002593   \n",
       "3                                     0.002607   \n",
       "4                                     0.002819   \n",
       "\n",
       "   rank_test_neg_mean_absolute_percentage_error  \n",
       "0                                            10  \n",
       "1                                             9  \n",
       "2                                             8  \n",
       "3                                             7  \n",
       "4                                             6  \n",
       "\n",
       "[5 rows x 38 columns]"
      ]
     },
     "execution_count": 15,
     "metadata": {},
     "output_type": "execute_result"
    }
   ],
   "source": [
    "df_res = pd.DataFrame(data=clf.cv_results_)\n",
    "df_res.head()"
   ]
  },
  {
   "cell_type": "markdown",
   "metadata": {},
   "source": [
    "## Train with best params"
   ]
  },
  {
   "cell_type": "code",
   "execution_count": 16,
   "metadata": {},
   "outputs": [],
   "source": [
    "br = BaggingRegressor(n_estimators=1000, random_state=42)\n",
    "br = br.fit(x_train, y_train)"
   ]
  },
  {
   "cell_type": "code",
   "execution_count": 17,
   "metadata": {},
   "outputs": [
    {
     "name": "stdout",
     "output_type": "stream",
     "text": [
      "Train MSE: 2803396.9799364423\n",
      "Train RMSE: 1674.3347872920883\n",
      "Train MAE: 1220.1309039119803\n",
      "Train MAPE: 0.04877887360974677\n"
     ]
    }
   ],
   "source": [
    "from sklearn.metrics import mean_squared_error, mean_absolute_error, mean_absolute_percentage_error\n",
    "train_predict = br.predict(x_train)\n",
    "print(\"Train MSE:\", mean_squared_error(y_train, train_predict))\n",
    "print(\"Train RMSE:\", mean_squared_error(y_train, train_predict, squared=False))\n",
    "print(\"Train MAE:\", mean_absolute_error(y_train, train_predict))\n",
    "print(\"Train MAPE:\", mean_absolute_percentage_error(y_train, train_predict))"
   ]
  },
  {
   "cell_type": "code",
   "execution_count": 21,
   "metadata": {},
   "outputs": [
    {
     "data": {
      "image/png": "[encoded data removed]",
      "text/plain": [
       "<Figure size 640x480 with 1 Axes>"
      ]
     },
     "metadata": {},
     "output_type": "display_data"
    }
   ],
   "source": [
    "# matplotlib\n",
    "import matplotlib.pyplot as plt\n",
    "\n",
    "feature_importances = np.mean([\n",
    "    tree.feature_importances_ for tree in br.estimators_\n",
    "], axis=0)\n",
    "\n",
    "num_features = 20\n",
    "\n",
    "indices = np.argsort(feature_importances)[::-1][:num_features]\n",
    "\n",
    "fig, ax = plt.subplots()\n",
    "ax.barh(range(num_features), feature_importances[indices][::-1])\n",
    "ax.set_yticks(range(num_features))\n",
    "_ = ax.set_yticklabels(np.array(data_train.columns)[indices][::-1])\n",
    "# font size\n",
    "plt.rcParams.update({'font.size': 8})"
   ]
  },
  {
   "cell_type": "code",
   "execution_count": 22,
   "metadata": {},
   "outputs": [
    {
     "data": {
      "text/plain": [
       "array([0.0062269 , 0.00658438, 0.00665925, 0.00895665, 0.00974634,\n",
       "       0.01223174, 0.01347008, 0.01399294, 0.01402935, 0.01515095,\n",
       "       0.01533082, 0.01587853, 0.01607371, 0.01638866, 0.0171854 ,\n",
       "       0.02271372, 0.02617917, 0.04186902, 0.09986817, 0.52914992])"
      ]
     },
     "execution_count": 22,
     "metadata": {},
     "output_type": "execute_result"
    }
   ],
   "source": [
    "feature_importances[indices][::-1]"
   ]
  },
  {
   "cell_type": "markdown",
   "metadata": {},
   "source": [
    "## Testing set"
   ]
  },
  {
   "cell_type": "code",
   "execution_count": 23,
   "metadata": {},
   "outputs": [
    {
     "name": "stdout",
     "output_type": "stream",
     "text": [
      "Test MSE: 45683154.48039606\n",
      "Test RMSE: 6758.931459956971\n",
      "Test MAE: 5278.125982413088\n",
      "Test MAPE: 0.2645739388893955\n"
     ]
    }
   ],
   "source": [
    "from sklearn.metrics import mean_squared_error, mean_absolute_error, mean_absolute_percentage_error\n",
    "y_pred = br.predict(x_test)\n",
    "print(\"Test MSE:\", mean_squared_error(y_test, y_pred))\n",
    "print(\"Test RMSE:\", mean_squared_error(y_test, y_pred, squared=False))\n",
    "print(\"Test MAE:\", mean_absolute_error(y_test, y_pred))\n",
    "print(\"Test MAPE:\", mean_absolute_percentage_error(y_test, y_pred))"
   ]
  },
  {
   "cell_type": "markdown",
   "metadata": {},
   "source": [
    "## Save model"
   ]
  },
  {
   "cell_type": "code",
   "execution_count": 24,
   "metadata": {},
   "outputs": [],
   "source": [
    "import pickle\n",
    "from datetime import datetime\n",
    "time = datetime.today().strftime('%Y%m%d_%H%M%S')\n",
    "filename = f'./model/br_model_{time}.sav'\n",
    "pickle.dump(br, open(filename, 'wb'))\n",
    "cv_filename = f'./model/br_model_{time}_cv.csv'\n",
    "df_res.to_csv(cv_filename, index=False)\n",
    "# loaded_model = pickle.load(open(filename, 'rb'))"
   ]
  },
  {
   "cell_type": "code",
   "execution_count": null,
   "metadata": {},
   "outputs": [],
   "source": []
  }
 ],
 "metadata": {
  "kernelspec": {
   "display_name": "Python 3.10.8 64-bit (microsoft store)",
   "language": "python",
   "name": "python3"
  },
  "language_info": {
   "codemirror_mode": {
    "name": "ipython",
    "version": 3
   },
   "file_extension": ".py",
   "mimetype": "text/x-python",
   "name": "python",
   "nbconvert_exporter": "python",
   "pygments_lexer": "ipython3",
   "version": "3.10.8"
  },
  "orig_nbformat": 4,
  "vscode": {
   "interpreter": {
    "hash": "6d499e121c8c1f22da4146ec2c671e378c3766abc3900b0fd93c7f346c056e1b"
   }
  }
 },
 "nbformat": 4,
 "nbformat_minor": 2
}
