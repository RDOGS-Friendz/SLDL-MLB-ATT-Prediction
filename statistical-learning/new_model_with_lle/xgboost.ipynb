{
 "cells": [
  {
   "cell_type": "markdown",
   "metadata": {},
   "source": [
    "# XGBoost"
   ]
  },
  {
   "cell_type": "code",
   "execution_count": 1,
   "metadata": {},
   "outputs": [],
   "source": [
    "import pandas as pd\n",
    "import numpy as np"
   ]
  },
  {
   "cell_type": "markdown",
   "metadata": {},
   "source": [
    "## Read dataset"
   ]
  },
  {
   "cell_type": "code",
   "execution_count": 2,
   "metadata": {},
   "outputs": [
    {
     "data": {
      "text/html": [
       "<div>\n",
       "<style scoped>\n",
       "    .dataframe tbody tr th:only-of-type {\n",
       "        vertical-align: middle;\n",
       "    }\n",
       "\n",
       "    .dataframe tbody tr th {\n",
       "        vertical-align: top;\n",
       "    }\n",
       "\n",
       "    .dataframe thead th {\n",
       "        text-align: right;\n",
       "    }\n",
       "</style>\n",
       "<table border=\"1\" class=\"dataframe\">\n",
       "  <thead>\n",
       "    <tr style=\"text-align: right;\">\n",
       "      <th></th>\n",
       "      <th>attendance</th>\n",
       "      <th>is_federal_holiday</th>\n",
       "      <th>venue</th>\n",
       "      <th>on_grass</th>\n",
       "      <th>temperature</th>\n",
       "      <th>wind_speed</th>\n",
       "      <th>team1_name</th>\n",
       "      <th>team1_pre_win</th>\n",
       "      <th>team1_pre_loss</th>\n",
       "      <th>team1_pre_win_pct</th>\n",
       "      <th>...</th>\n",
       "      <th>start_hour</th>\n",
       "      <th>start_hour_label_afternoon</th>\n",
       "      <th>start_hour_label_evening</th>\n",
       "      <th>start_hour_label_night</th>\n",
       "      <th>start_hour_label_noon</th>\n",
       "      <th>game_page_url</th>\n",
       "      <th>start_time</th>\n",
       "      <th>previous_5_to_10MA</th>\n",
       "      <th>lle1</th>\n",
       "      <th>lle2</th>\n",
       "    </tr>\n",
       "  </thead>\n",
       "  <tbody>\n",
       "    <tr>\n",
       "      <th>0</th>\n",
       "      <td>35055</td>\n",
       "      <td>0</td>\n",
       "      <td>Wrigley Field</td>\n",
       "      <td>1</td>\n",
       "      <td>-2.786672</td>\n",
       "      <td>-0.093090</td>\n",
       "      <td>STL</td>\n",
       "      <td>-1.62645</td>\n",
       "      <td>-1.654514</td>\n",
       "      <td>0.0</td>\n",
       "      <td>...</td>\n",
       "      <td>19</td>\n",
       "      <td>0</td>\n",
       "      <td>1</td>\n",
       "      <td>0</td>\n",
       "      <td>0</td>\n",
       "      <td>https://www.baseball-reference.com/boxes/CHN/C...</td>\n",
       "      <td>2015-04-05 19:17:00</td>\n",
       "      <td>32742.135802</td>\n",
       "      <td>0.007683</td>\n",
       "      <td>0.000329</td>\n",
       "    </tr>\n",
       "    <tr>\n",
       "      <th>1</th>\n",
       "      <td>45030</td>\n",
       "      <td>0</td>\n",
       "      <td>Comerica Park</td>\n",
       "      <td>1</td>\n",
       "      <td>-2.031671</td>\n",
       "      <td>-0.489072</td>\n",
       "      <td>MIN</td>\n",
       "      <td>-1.62645</td>\n",
       "      <td>-1.654514</td>\n",
       "      <td>0.0</td>\n",
       "      <td>...</td>\n",
       "      <td>13</td>\n",
       "      <td>0</td>\n",
       "      <td>0</td>\n",
       "      <td>0</td>\n",
       "      <td>1</td>\n",
       "      <td>https://www.baseball-reference.com/boxes/DET/D...</td>\n",
       "      <td>2015-04-06 13:08:00</td>\n",
       "      <td>36014.925926</td>\n",
       "      <td>0.008566</td>\n",
       "      <td>0.006095</td>\n",
       "    </tr>\n",
       "    <tr>\n",
       "      <th>2</th>\n",
       "      <td>45909</td>\n",
       "      <td>0</td>\n",
       "      <td>Safeco Field</td>\n",
       "      <td>1</td>\n",
       "      <td>-1.842921</td>\n",
       "      <td>-1.281036</td>\n",
       "      <td>LAA</td>\n",
       "      <td>-1.62645</td>\n",
       "      <td>-1.654514</td>\n",
       "      <td>0.0</td>\n",
       "      <td>...</td>\n",
       "      <td>13</td>\n",
       "      <td>0</td>\n",
       "      <td>0</td>\n",
       "      <td>0</td>\n",
       "      <td>1</td>\n",
       "      <td>https://www.baseball-reference.com/boxes/SEA/S...</td>\n",
       "      <td>2015-04-06 13:12:00</td>\n",
       "      <td>25485.604938</td>\n",
       "      <td>0.003695</td>\n",
       "      <td>0.009393</td>\n",
       "    </tr>\n",
       "    <tr>\n",
       "      <th>3</th>\n",
       "      <td>53518</td>\n",
       "      <td>0</td>\n",
       "      <td>Dodger Stadium</td>\n",
       "      <td>1</td>\n",
       "      <td>-0.804795</td>\n",
       "      <td>-1.281036</td>\n",
       "      <td>SDP</td>\n",
       "      <td>-1.62645</td>\n",
       "      <td>-1.654514</td>\n",
       "      <td>0.0</td>\n",
       "      <td>...</td>\n",
       "      <td>13</td>\n",
       "      <td>0</td>\n",
       "      <td>0</td>\n",
       "      <td>0</td>\n",
       "      <td>1</td>\n",
       "      <td>https://www.baseball-reference.com/boxes/LAN/L...</td>\n",
       "      <td>2015-04-06 13:12:00</td>\n",
       "      <td>46695.518519</td>\n",
       "      <td>0.007517</td>\n",
       "      <td>0.002310</td>\n",
       "    </tr>\n",
       "    <tr>\n",
       "      <th>4</th>\n",
       "      <td>48469</td>\n",
       "      <td>0</td>\n",
       "      <td>Yankee Stadium III</td>\n",
       "      <td>1</td>\n",
       "      <td>-1.842921</td>\n",
       "      <td>-0.489072</td>\n",
       "      <td>TOR</td>\n",
       "      <td>-1.62645</td>\n",
       "      <td>-1.654514</td>\n",
       "      <td>0.0</td>\n",
       "      <td>...</td>\n",
       "      <td>13</td>\n",
       "      <td>0</td>\n",
       "      <td>0</td>\n",
       "      <td>0</td>\n",
       "      <td>1</td>\n",
       "      <td>https://www.baseball-reference.com/boxes/NYA/N...</td>\n",
       "      <td>2015-04-06 13:13:00</td>\n",
       "      <td>42520.300000</td>\n",
       "      <td>0.006798</td>\n",
       "      <td>-0.005155</td>\n",
       "    </tr>\n",
       "  </tbody>\n",
       "</table>\n",
       "<p>5 rows × 54 columns</p>\n",
       "</div>"
      ],
      "text/plain": [
       "   attendance  is_federal_holiday               venue  on_grass  temperature  \\\n",
       "0       35055                   0       Wrigley Field         1    -2.786672   \n",
       "1       45030                   0       Comerica Park         1    -2.031671   \n",
       "2       45909                   0        Safeco Field         1    -1.842921   \n",
       "3       53518                   0      Dodger Stadium         1    -0.804795   \n",
       "4       48469                   0  Yankee Stadium III         1    -1.842921   \n",
       "\n",
       "   wind_speed team1_name  team1_pre_win  team1_pre_loss  team1_pre_win_pct  \\\n",
       "0   -0.093090        STL       -1.62645       -1.654514                0.0   \n",
       "1   -0.489072        MIN       -1.62645       -1.654514                0.0   \n",
       "2   -1.281036        LAA       -1.62645       -1.654514                0.0   \n",
       "3   -1.281036        SDP       -1.62645       -1.654514                0.0   \n",
       "4   -0.489072        TOR       -1.62645       -1.654514                0.0   \n",
       "\n",
       "   ...  start_hour start_hour_label_afternoon  start_hour_label_evening  \\\n",
       "0  ...          19                          0                         1   \n",
       "1  ...          13                          0                         0   \n",
       "2  ...          13                          0                         0   \n",
       "3  ...          13                          0                         0   \n",
       "4  ...          13                          0                         0   \n",
       "\n",
       "   start_hour_label_night  start_hour_label_noon  \\\n",
       "0                       0                      0   \n",
       "1                       0                      1   \n",
       "2                       0                      1   \n",
       "3                       0                      1   \n",
       "4                       0                      1   \n",
       "\n",
       "                                       game_page_url           start_time  \\\n",
       "0  https://www.baseball-reference.com/boxes/CHN/C...  2015-04-05 19:17:00   \n",
       "1  https://www.baseball-reference.com/boxes/DET/D...  2015-04-06 13:08:00   \n",
       "2  https://www.baseball-reference.com/boxes/SEA/S...  2015-04-06 13:12:00   \n",
       "3  https://www.baseball-reference.com/boxes/LAN/L...  2015-04-06 13:12:00   \n",
       "4  https://www.baseball-reference.com/boxes/NYA/N...  2015-04-06 13:13:00   \n",
       "\n",
       "   previous_5_to_10MA      lle1      lle2  \n",
       "0        32742.135802  0.007683  0.000329  \n",
       "1        36014.925926  0.008566  0.006095  \n",
       "2        25485.604938  0.003695  0.009393  \n",
       "3        46695.518519  0.007517  0.002310  \n",
       "4        42520.300000  0.006798 -0.005155  \n",
       "\n",
       "[5 rows x 54 columns]"
      ]
     },
     "execution_count": 2,
     "metadata": {},
     "output_type": "execute_result"
    }
   ],
   "source": [
    "data_train = pd.read_csv('trainset_w_lle.csv')\n",
    "data_test = pd.read_csv('testset_w_lle.csv')\n",
    "data_train.head()"
   ]
  },
  {
   "cell_type": "code",
   "execution_count": 3,
   "metadata": {},
   "outputs": [
    {
     "data": {
      "text/plain": [
       "Index(['attendance', 'is_federal_holiday', 'venue', 'on_grass', 'temperature',\n",
       "       'wind_speed', 'team1_name', 'team1_pre_win', 'team1_pre_loss',\n",
       "       'team1_pre_win_pct', 'team1_streak', 'team2_name', 'team2_pre_win',\n",
       "       'team2_pre_loss', 'team2_pre_win_pct', 'team2_streak', 'salary-500-800',\n",
       "       'salary-800-1500', 'salary-1500', 'day_Friday', 'day_Monday',\n",
       "       'day_Saturday', 'day_Sunday', 'day_Thursday', 'day_Tuesday',\n",
       "       'day_Wednesday', 'month_April', 'month_August', 'month_July',\n",
       "       'month_June', 'month_March', 'month_May', 'month_November',\n",
       "       'month_October', 'month_September', 'weather_Cloudy', 'weather_Drizzle',\n",
       "       'weather_In Dome', 'weather_Overcast', 'weather_Rain', 'weather_Sunny',\n",
       "       'season_type', 'season', 'home_team_avg_att_last_year', 'start_hour',\n",
       "       'start_hour_label_afternoon', 'start_hour_label_evening',\n",
       "       'start_hour_label_night', 'start_hour_label_noon', 'game_page_url',\n",
       "       'start_time', 'previous_5_to_10MA', 'lle1', 'lle2'],\n",
       "      dtype='object')"
      ]
     },
     "execution_count": 3,
     "metadata": {},
     "output_type": "execute_result"
    }
   ],
   "source": [
    "data_train.columns"
   ]
  },
  {
   "cell_type": "code",
   "execution_count": 4,
   "metadata": {},
   "outputs": [],
   "source": [
    "from sklearn.preprocessing import StandardScaler\n",
    "# standardize\n",
    "number_col = ['previous_5_to_10MA']\n",
    "\n",
    "# Standardize features by removing the mean and scaling to unit variance.\n",
    "xscaler = StandardScaler().fit(data_train[number_col])\n",
    "#standardize feature values\n",
    "data_train[number_col] = xscaler.transform(data_train[number_col])\n",
    "data_test[number_col] = xscaler.transform(data_test[number_col])"
   ]
  },
  {
   "cell_type": "code",
   "execution_count": 5,
   "metadata": {},
   "outputs": [],
   "source": [
    "data_train.drop(['venue', 'start_hour', 'start_time', 'game_page_url'], axis=1, inplace=True)\n",
    "data_test.drop(['venue', 'start_hour', 'start_time', 'game_page_url'], axis=1, inplace=True)"
   ]
  },
  {
   "cell_type": "code",
   "execution_count": 6,
   "metadata": {},
   "outputs": [],
   "source": [
    "data_train = pd.get_dummies(data_train, columns=['team1_name', 'team2_name', 'season_type'])\n",
    "data_test = pd.get_dummies(data_test, columns=['team1_name', 'team2_name', 'season_type'])"
   ]
  },
  {
   "cell_type": "code",
   "execution_count": 7,
   "metadata": {},
   "outputs": [],
   "source": [
    "train_cols = data_train.columns.tolist()\n",
    "data_test = data_test[train_cols].copy()"
   ]
  },
  {
   "cell_type": "code",
   "execution_count": 8,
   "metadata": {},
   "outputs": [
    {
     "name": "stdout",
     "output_type": "stream",
     "text": [
      "set()\n",
      "set()\n"
     ]
    }
   ],
   "source": [
    "print(set(data_train.columns) - set(data_test.columns))\n",
    "print(set(data_test.columns) - set(data_train.columns))"
   ]
  },
  {
   "cell_type": "code",
   "execution_count": 9,
   "metadata": {},
   "outputs": [
    {
     "data": {
      "text/plain": [
       "Index(['attendance', 'is_federal_holiday', 'on_grass', 'temperature',\n",
       "       'wind_speed', 'team1_pre_win', 'team1_pre_loss', 'team1_pre_win_pct',\n",
       "       'team1_streak', 'team2_pre_win',\n",
       "       ...\n",
       "       'team2_name_SDP', 'team2_name_SEA', 'team2_name_SFG', 'team2_name_STL',\n",
       "       'team2_name_TBR', 'team2_name_TEX', 'team2_name_TOR', 'team2_name_WSN',\n",
       "       'season_type_post', 'season_type_regular'],\n",
       "      dtype='object', length=109)"
      ]
     },
     "execution_count": 9,
     "metadata": {},
     "output_type": "execute_result"
    }
   ],
   "source": [
    "data_train.columns"
   ]
  },
  {
   "cell_type": "code",
   "execution_count": 10,
   "metadata": {},
   "outputs": [],
   "source": [
    "from sklearn.utils import shuffle\n",
    "data_train = shuffle(data_train)"
   ]
  },
  {
   "cell_type": "code",
   "execution_count": 11,
   "metadata": {},
   "outputs": [
    {
     "name": "stdout",
     "output_type": "stream",
     "text": [
      "(12270, 108)\n"
     ]
    }
   ],
   "source": [
    "y_train = data_train['attendance'].to_numpy()\n",
    "y_test = data_test['attendance'].to_numpy()\n",
    "\n",
    "data_train.drop(['attendance'], axis=1, inplace=True)\n",
    "data_test.drop(['attendance'], axis=1, inplace=True)\n",
    "\n",
    "x_train = data_train.to_numpy()\n",
    "x_test = data_test.to_numpy()\n",
    "\n",
    "print(x_train.shape)"
   ]
  },
  {
   "cell_type": "markdown",
   "metadata": {},
   "source": [
    "## kfold"
   ]
  },
  {
   "cell_type": "code",
   "execution_count": 12,
   "metadata": {},
   "outputs": [],
   "source": [
    "from sklearn.model_selection import GridSearchCV\n",
    "from xgboost import XGBRegressor"
   ]
  },
  {
   "cell_type": "code",
   "execution_count": 13,
   "metadata": {},
   "outputs": [
    {
     "data": {
      "text/html": [
       "<style>#sk-container-id-1 {color: black;background-color: white;}#sk-container-id-1 pre{padding: 0;}#sk-container-id-1 div.sk-toggleable {background-color: white;}#sk-container-id-1 label.sk-toggleable__label {cursor: pointer;display: block;width: 100%;margin-bottom: 0;padding: 0.3em;box-sizing: border-box;text-align: center;}#sk-container-id-1 label.sk-toggleable__label-arrow:before {content: \"▸\";float: left;margin-right: 0.25em;color: #696969;}#sk-container-id-1 label.sk-toggleable__label-arrow:hover:before {color: black;}#sk-container-id-1 div.sk-estimator:hover label.sk-toggleable__label-arrow:before {color: black;}#sk-container-id-1 div.sk-toggleable__content {max-height: 0;max-width: 0;overflow: hidden;text-align: left;background-color: #f0f8ff;}#sk-container-id-1 div.sk-toggleable__content pre {margin: 0.2em;color: black;border-radius: 0.25em;background-color: #f0f8ff;}#sk-container-id-1 input.sk-toggleable__control:checked~div.sk-toggleable__content {max-height: 200px;max-width: 100%;overflow: auto;}#sk-container-id-1 input.sk-toggleable__control:checked~label.sk-toggleable__label-arrow:before {content: \"▾\";}#sk-container-id-1 div.sk-estimator input.sk-toggleable__control:checked~label.sk-toggleable__label {background-color: #d4ebff;}#sk-container-id-1 div.sk-label input.sk-toggleable__control:checked~label.sk-toggleable__label {background-color: #d4ebff;}#sk-container-id-1 input.sk-hidden--visually {border: 0;clip: rect(1px 1px 1px 1px);clip: rect(1px, 1px, 1px, 1px);height: 1px;margin: -1px;overflow: hidden;padding: 0;position: absolute;width: 1px;}#sk-container-id-1 div.sk-estimator {font-family: monospace;background-color: #f0f8ff;border: 1px dotted black;border-radius: 0.25em;box-sizing: border-box;margin-bottom: 0.5em;}#sk-container-id-1 div.sk-estimator:hover {background-color: #d4ebff;}#sk-container-id-1 div.sk-parallel-item::after {content: \"\";width: 100%;border-bottom: 1px solid gray;flex-grow: 1;}#sk-container-id-1 div.sk-label:hover label.sk-toggleable__label {background-color: #d4ebff;}#sk-container-id-1 div.sk-serial::before {content: \"\";position: absolute;border-left: 1px solid gray;box-sizing: border-box;top: 0;bottom: 0;left: 50%;z-index: 0;}#sk-container-id-1 div.sk-serial {display: flex;flex-direction: column;align-items: center;background-color: white;padding-right: 0.2em;padding-left: 0.2em;position: relative;}#sk-container-id-1 div.sk-item {position: relative;z-index: 1;}#sk-container-id-1 div.sk-parallel {display: flex;align-items: stretch;justify-content: center;background-color: white;position: relative;}#sk-container-id-1 div.sk-item::before, #sk-container-id-1 div.sk-parallel-item::before {content: \"\";position: absolute;border-left: 1px solid gray;box-sizing: border-box;top: 0;bottom: 0;left: 50%;z-index: -1;}#sk-container-id-1 div.sk-parallel-item {display: flex;flex-direction: column;z-index: 1;position: relative;background-color: white;}#sk-container-id-1 div.sk-parallel-item:first-child::after {align-self: flex-end;width: 50%;}#sk-container-id-1 div.sk-parallel-item:last-child::after {align-self: flex-start;width: 50%;}#sk-container-id-1 div.sk-parallel-item:only-child::after {width: 0;}#sk-container-id-1 div.sk-dashed-wrapped {border: 1px dashed gray;margin: 0 0.4em 0.5em 0.4em;box-sizing: border-box;padding-bottom: 0.4em;background-color: white;}#sk-container-id-1 div.sk-label label {font-family: monospace;font-weight: bold;display: inline-block;line-height: 1.2em;}#sk-container-id-1 div.sk-label-container {text-align: center;}#sk-container-id-1 div.sk-container {/* jupyter's `normalize.less` sets `[hidden] { display: none; }` but bootstrap.min.css set `[hidden] { display: none !important; }` so we also need the `!important` here to be able to override the default hidden behavior on the sphinx rendered scikit-learn.org. See: https://github.com/scikit-learn/scikit-learn/issues/21755 */display: inline-block !important;position: relative;}#sk-container-id-1 div.sk-text-repr-fallback {display: none;}</style><div id=\"sk-container-id-1\" class=\"sk-top-container\"><div class=\"sk-text-repr-fallback\"><pre>GridSearchCV(cv=5,\n",
       "             estimator=XGBRegressor(base_score=None, booster=None,\n",
       "                                    callbacks=None, colsample_bylevel=None,\n",
       "                                    colsample_bynode=None,\n",
       "                                    colsample_bytree=None,\n",
       "                                    early_stopping_rounds=None,\n",
       "                                    enable_categorical=False, eval_metric=None,\n",
       "                                    feature_types=None, gamma=None, gpu_id=None,\n",
       "                                    grow_policy=None, importance_type=None,\n",
       "                                    interaction_constraints=None,\n",
       "                                    learning_rate=None, m...\n",
       "                                    n_jobs=None, num_parallel_tree=None,\n",
       "                                    predictor=None, random_state=42, ...),\n",
       "             n_jobs=-1,\n",
       "             param_grid={&#x27;colsample_bytree&#x27;: [0.3, 0.7, 1],\n",
       "                         &#x27;learning_rate&#x27;: [0.1, 0.05, 0.01, 0.001],\n",
       "                         &#x27;max_depth&#x27;: [3, 5, 8, 10],\n",
       "                         &#x27;n_estimators&#x27;: [100, 300, 500, 1000]},\n",
       "             refit=&#x27;neg_root_mean_squared_error&#x27;,\n",
       "             scoring=[&#x27;neg_mean_squared_error&#x27;, &#x27;neg_root_mean_squared_error&#x27;,\n",
       "                      &#x27;neg_mean_absolute_error&#x27;,\n",
       "                      &#x27;neg_mean_absolute_percentage_error&#x27;])</pre><b>In a Jupyter environment, please rerun this cell to show the HTML representation or trust the notebook. <br />On GitHub, the HTML representation is unable to render, please try loading this page with nbviewer.org.</b></div><div class=\"sk-container\" hidden><div class=\"sk-item sk-dashed-wrapped\"><div class=\"sk-label-container\"><div class=\"sk-label sk-toggleable\"><input class=\"sk-toggleable__control sk-hidden--visually\" id=\"sk-estimator-id-1\" type=\"checkbox\" ><label for=\"sk-estimator-id-1\" class=\"sk-toggleable__label sk-toggleable__label-arrow\">GridSearchCV</label><div class=\"sk-toggleable__content\"><pre>GridSearchCV(cv=5,\n",
       "             estimator=XGBRegressor(base_score=None, booster=None,\n",
       "                                    callbacks=None, colsample_bylevel=None,\n",
       "                                    colsample_bynode=None,\n",
       "                                    colsample_bytree=None,\n",
       "                                    early_stopping_rounds=None,\n",
       "                                    enable_categorical=False, eval_metric=None,\n",
       "                                    feature_types=None, gamma=None, gpu_id=None,\n",
       "                                    grow_policy=None, importance_type=None,\n",
       "                                    interaction_constraints=None,\n",
       "                                    learning_rate=None, m...\n",
       "                                    n_jobs=None, num_parallel_tree=None,\n",
       "                                    predictor=None, random_state=42, ...),\n",
       "             n_jobs=-1,\n",
       "             param_grid={&#x27;colsample_bytree&#x27;: [0.3, 0.7, 1],\n",
       "                         &#x27;learning_rate&#x27;: [0.1, 0.05, 0.01, 0.001],\n",
       "                         &#x27;max_depth&#x27;: [3, 5, 8, 10],\n",
       "                         &#x27;n_estimators&#x27;: [100, 300, 500, 1000]},\n",
       "             refit=&#x27;neg_root_mean_squared_error&#x27;,\n",
       "             scoring=[&#x27;neg_mean_squared_error&#x27;, &#x27;neg_root_mean_squared_error&#x27;,\n",
       "                      &#x27;neg_mean_absolute_error&#x27;,\n",
       "                      &#x27;neg_mean_absolute_percentage_error&#x27;])</pre></div></div></div><div class=\"sk-parallel\"><div class=\"sk-parallel-item\"><div class=\"sk-item\"><div class=\"sk-label-container\"><div class=\"sk-label sk-toggleable\"><input class=\"sk-toggleable__control sk-hidden--visually\" id=\"sk-estimator-id-2\" type=\"checkbox\" ><label for=\"sk-estimator-id-2\" class=\"sk-toggleable__label sk-toggleable__label-arrow\">estimator: XGBRegressor</label><div class=\"sk-toggleable__content\"><pre>XGBRegressor(base_score=None, booster=None, callbacks=None,\n",
       "             colsample_bylevel=None, colsample_bynode=None,\n",
       "             colsample_bytree=None, early_stopping_rounds=None,\n",
       "             enable_categorical=False, eval_metric=None, feature_types=None,\n",
       "             gamma=None, gpu_id=None, grow_policy=None, importance_type=None,\n",
       "             interaction_constraints=None, learning_rate=None, max_bin=None,\n",
       "             max_cat_threshold=None, max_cat_to_onehot=None,\n",
       "             max_delta_step=None, max_depth=None, max_leaves=None,\n",
       "             min_child_weight=None, missing=nan, monotone_constraints=None,\n",
       "             n_estimators=100, n_jobs=None, num_parallel_tree=None,\n",
       "             predictor=None, random_state=42, ...)</pre></div></div></div><div class=\"sk-serial\"><div class=\"sk-item\"><div class=\"sk-estimator sk-toggleable\"><input class=\"sk-toggleable__control sk-hidden--visually\" id=\"sk-estimator-id-3\" type=\"checkbox\" ><label for=\"sk-estimator-id-3\" class=\"sk-toggleable__label sk-toggleable__label-arrow\">XGBRegressor</label><div class=\"sk-toggleable__content\"><pre>XGBRegressor(base_score=None, booster=None, callbacks=None,\n",
       "             colsample_bylevel=None, colsample_bynode=None,\n",
       "             colsample_bytree=None, early_stopping_rounds=None,\n",
       "             enable_categorical=False, eval_metric=None, feature_types=None,\n",
       "             gamma=None, gpu_id=None, grow_policy=None, importance_type=None,\n",
       "             interaction_constraints=None, learning_rate=None, max_bin=None,\n",
       "             max_cat_threshold=None, max_cat_to_onehot=None,\n",
       "             max_delta_step=None, max_depth=None, max_leaves=None,\n",
       "             min_child_weight=None, missing=nan, monotone_constraints=None,\n",
       "             n_estimators=100, n_jobs=None, num_parallel_tree=None,\n",
       "             predictor=None, random_state=42, ...)</pre></div></div></div></div></div></div></div></div></div></div>"
      ],
      "text/plain": [
       "GridSearchCV(cv=5,\n",
       "             estimator=XGBRegressor(base_score=None, booster=None,\n",
       "                                    callbacks=None, colsample_bylevel=None,\n",
       "                                    colsample_bynode=None,\n",
       "                                    colsample_bytree=None,\n",
       "                                    early_stopping_rounds=None,\n",
       "                                    enable_categorical=False, eval_metric=None,\n",
       "                                    feature_types=None, gamma=None, gpu_id=None,\n",
       "                                    grow_policy=None, importance_type=None,\n",
       "                                    interaction_constraints=None,\n",
       "                                    learning_rate=None, m...\n",
       "                                    n_jobs=None, num_parallel_tree=None,\n",
       "                                    predictor=None, random_state=42, ...),\n",
       "             n_jobs=-1,\n",
       "             param_grid={'colsample_bytree': [0.3, 0.7, 1],\n",
       "                         'learning_rate': [0.1, 0.05, 0.01, 0.001],\n",
       "                         'max_depth': [3, 5, 8, 10],\n",
       "                         'n_estimators': [100, 300, 500, 1000]},\n",
       "             refit='neg_root_mean_squared_error',\n",
       "             scoring=['neg_mean_squared_error', 'neg_root_mean_squared_error',\n",
       "                      'neg_mean_absolute_error',\n",
       "                      'neg_mean_absolute_percentage_error'])"
      ]
     },
     "execution_count": 13,
     "metadata": {},
     "output_type": "execute_result"
    }
   ],
   "source": [
    "scoring = ['neg_mean_squared_error', 'neg_root_mean_squared_error', 'neg_mean_absolute_error', 'neg_mean_absolute_percentage_error']\n",
    "parameters = {'n_estimators': [100, 300, 500, 1000], 'max_depth':[3, 5, 8, 10], 'learning_rate': [0.1, 0.05, 0.01, 0.001], 'colsample_bytree': [0.3, 0.7, 1]}\n",
    "model = XGBRegressor(random_state=42)\n",
    "clf = GridSearchCV(model, parameters, cv=5, n_jobs=-1, scoring=scoring, refit='neg_root_mean_squared_error')\n",
    "clf.fit(x_train, y_train)"
   ]
  },
  {
   "cell_type": "code",
   "execution_count": 14,
   "metadata": {},
   "outputs": [
    {
     "name": "stdout",
     "output_type": "stream",
     "text": [
      "Best estimators: XGBRegressor(base_score=0.5, booster='gbtree', callbacks=None,\n",
      "             colsample_bylevel=1, colsample_bynode=1, colsample_bytree=0.3,\n",
      "             early_stopping_rounds=None, enable_categorical=False,\n",
      "             eval_metric=None, feature_types=None, gamma=0, gpu_id=-1,\n",
      "             grow_policy='depthwise', importance_type=None,\n",
      "             interaction_constraints='', learning_rate=0.05, max_bin=256,\n",
      "             max_cat_threshold=64, max_cat_to_onehot=4, max_delta_step=0,\n",
      "             max_depth=8, max_leaves=0, min_child_weight=1, missing=nan,\n",
      "             monotone_constraints='()', n_estimators=1000, n_jobs=0,\n",
      "             num_parallel_tree=1, predictor='auto', random_state=42, ...)\n",
      "Best parameters: {'colsample_bytree': 0.3, 'learning_rate': 0.05, 'max_depth': 8, 'n_estimators': 1000}\n"
     ]
    }
   ],
   "source": [
    "print(\"Best estimators:\", clf.best_estimator_)\n",
    "print(\"Best parameters:\", clf.best_params_)"
   ]
  },
  {
   "cell_type": "code",
   "execution_count": 15,
   "metadata": {},
   "outputs": [
    {
     "data": {
      "text/html": [
       "<div>\n",
       "<style scoped>\n",
       "    .dataframe tbody tr th:only-of-type {\n",
       "        vertical-align: middle;\n",
       "    }\n",
       "\n",
       "    .dataframe tbody tr th {\n",
       "        vertical-align: top;\n",
       "    }\n",
       "\n",
       "    .dataframe thead th {\n",
       "        text-align: right;\n",
       "    }\n",
       "</style>\n",
       "<table border=\"1\" class=\"dataframe\">\n",
       "  <thead>\n",
       "    <tr style=\"text-align: right;\">\n",
       "      <th></th>\n",
       "      <th>mean_fit_time</th>\n",
       "      <th>std_fit_time</th>\n",
       "      <th>mean_score_time</th>\n",
       "      <th>std_score_time</th>\n",
       "      <th>param_colsample_bytree</th>\n",
       "      <th>param_learning_rate</th>\n",
       "      <th>param_max_depth</th>\n",
       "      <th>param_n_estimators</th>\n",
       "      <th>params</th>\n",
       "      <th>split0_test_neg_mean_squared_error</th>\n",
       "      <th>...</th>\n",
       "      <th>std_test_neg_mean_absolute_error</th>\n",
       "      <th>rank_test_neg_mean_absolute_error</th>\n",
       "      <th>split0_test_neg_mean_absolute_percentage_error</th>\n",
       "      <th>split1_test_neg_mean_absolute_percentage_error</th>\n",
       "      <th>split2_test_neg_mean_absolute_percentage_error</th>\n",
       "      <th>split3_test_neg_mean_absolute_percentage_error</th>\n",
       "      <th>split4_test_neg_mean_absolute_percentage_error</th>\n",
       "      <th>mean_test_neg_mean_absolute_percentage_error</th>\n",
       "      <th>std_test_neg_mean_absolute_percentage_error</th>\n",
       "      <th>rank_test_neg_mean_absolute_percentage_error</th>\n",
       "    </tr>\n",
       "  </thead>\n",
       "  <tbody>\n",
       "    <tr>\n",
       "      <th>0</th>\n",
       "      <td>2.269679</td>\n",
       "      <td>0.089486</td>\n",
       "      <td>0.025791</td>\n",
       "      <td>0.002665</td>\n",
       "      <td>0.3</td>\n",
       "      <td>0.1</td>\n",
       "      <td>3</td>\n",
       "      <td>100</td>\n",
       "      <td>{'colsample_bytree': 0.3, 'learning_rate': 0.1...</td>\n",
       "      <td>-2.425527e+07</td>\n",
       "      <td>...</td>\n",
       "      <td>36.183440</td>\n",
       "      <td>116</td>\n",
       "      <td>-0.151206</td>\n",
       "      <td>-0.162221</td>\n",
       "      <td>-0.162909</td>\n",
       "      <td>-0.152774</td>\n",
       "      <td>-0.151575</td>\n",
       "      <td>-0.156137</td>\n",
       "      <td>0.005278</td>\n",
       "      <td>119</td>\n",
       "    </tr>\n",
       "    <tr>\n",
       "      <th>1</th>\n",
       "      <td>6.845363</td>\n",
       "      <td>0.249606</td>\n",
       "      <td>0.029762</td>\n",
       "      <td>0.002136</td>\n",
       "      <td>0.3</td>\n",
       "      <td>0.1</td>\n",
       "      <td>3</td>\n",
       "      <td>300</td>\n",
       "      <td>{'colsample_bytree': 0.3, 'learning_rate': 0.1...</td>\n",
       "      <td>-2.156413e+07</td>\n",
       "      <td>...</td>\n",
       "      <td>29.587957</td>\n",
       "      <td>96</td>\n",
       "      <td>-0.137124</td>\n",
       "      <td>-0.146534</td>\n",
       "      <td>-0.147467</td>\n",
       "      <td>-0.138006</td>\n",
       "      <td>-0.137893</td>\n",
       "      <td>-0.141405</td>\n",
       "      <td>0.004588</td>\n",
       "      <td>97</td>\n",
       "    </tr>\n",
       "    <tr>\n",
       "      <th>2</th>\n",
       "      <td>11.585741</td>\n",
       "      <td>0.335723</td>\n",
       "      <td>0.040869</td>\n",
       "      <td>0.004528</td>\n",
       "      <td>0.3</td>\n",
       "      <td>0.1</td>\n",
       "      <td>3</td>\n",
       "      <td>500</td>\n",
       "      <td>{'colsample_bytree': 0.3, 'learning_rate': 0.1...</td>\n",
       "      <td>-2.036101e+07</td>\n",
       "      <td>...</td>\n",
       "      <td>31.240256</td>\n",
       "      <td>83</td>\n",
       "      <td>-0.132052</td>\n",
       "      <td>-0.141476</td>\n",
       "      <td>-0.142775</td>\n",
       "      <td>-0.133560</td>\n",
       "      <td>-0.133338</td>\n",
       "      <td>-0.136640</td>\n",
       "      <td>0.004527</td>\n",
       "      <td>83</td>\n",
       "    </tr>\n",
       "    <tr>\n",
       "      <th>3</th>\n",
       "      <td>24.597726</td>\n",
       "      <td>0.572496</td>\n",
       "      <td>0.063271</td>\n",
       "      <td>0.015026</td>\n",
       "      <td>0.3</td>\n",
       "      <td>0.1</td>\n",
       "      <td>3</td>\n",
       "      <td>1000</td>\n",
       "      <td>{'colsample_bytree': 0.3, 'learning_rate': 0.1...</td>\n",
       "      <td>-1.903194e+07</td>\n",
       "      <td>...</td>\n",
       "      <td>22.256316</td>\n",
       "      <td>70</td>\n",
       "      <td>-0.127227</td>\n",
       "      <td>-0.137257</td>\n",
       "      <td>-0.136631</td>\n",
       "      <td>-0.128467</td>\n",
       "      <td>-0.128143</td>\n",
       "      <td>-0.131545</td>\n",
       "      <td>0.004431</td>\n",
       "      <td>68</td>\n",
       "    </tr>\n",
       "    <tr>\n",
       "      <th>4</th>\n",
       "      <td>3.666557</td>\n",
       "      <td>0.088281</td>\n",
       "      <td>0.033861</td>\n",
       "      <td>0.004056</td>\n",
       "      <td>0.3</td>\n",
       "      <td>0.1</td>\n",
       "      <td>5</td>\n",
       "      <td>100</td>\n",
       "      <td>{'colsample_bytree': 0.3, 'learning_rate': 0.1...</td>\n",
       "      <td>-2.103318e+07</td>\n",
       "      <td>...</td>\n",
       "      <td>36.522716</td>\n",
       "      <td>92</td>\n",
       "      <td>-0.136794</td>\n",
       "      <td>-0.145933</td>\n",
       "      <td>-0.147362</td>\n",
       "      <td>-0.138993</td>\n",
       "      <td>-0.137425</td>\n",
       "      <td>-0.141302</td>\n",
       "      <td>0.004446</td>\n",
       "      <td>95</td>\n",
       "    </tr>\n",
       "  </tbody>\n",
       "</table>\n",
       "<p>5 rows × 41 columns</p>\n",
       "</div>"
      ],
      "text/plain": [
       "   mean_fit_time  std_fit_time  mean_score_time  std_score_time  \\\n",
       "0       2.269679      0.089486         0.025791        0.002665   \n",
       "1       6.845363      0.249606         0.029762        0.002136   \n",
       "2      11.585741      0.335723         0.040869        0.004528   \n",
       "3      24.597726      0.572496         0.063271        0.015026   \n",
       "4       3.666557      0.088281         0.033861        0.004056   \n",
       "\n",
       "  param_colsample_bytree param_learning_rate param_max_depth  \\\n",
       "0                    0.3                 0.1               3   \n",
       "1                    0.3                 0.1               3   \n",
       "2                    0.3                 0.1               3   \n",
       "3                    0.3                 0.1               3   \n",
       "4                    0.3                 0.1               5   \n",
       "\n",
       "  param_n_estimators                                             params  \\\n",
       "0                100  {'colsample_bytree': 0.3, 'learning_rate': 0.1...   \n",
       "1                300  {'colsample_bytree': 0.3, 'learning_rate': 0.1...   \n",
       "2                500  {'colsample_bytree': 0.3, 'learning_rate': 0.1...   \n",
       "3               1000  {'colsample_bytree': 0.3, 'learning_rate': 0.1...   \n",
       "4                100  {'colsample_bytree': 0.3, 'learning_rate': 0.1...   \n",
       "\n",
       "   split0_test_neg_mean_squared_error  ...  std_test_neg_mean_absolute_error  \\\n",
       "0                       -2.425527e+07  ...                         36.183440   \n",
       "1                       -2.156413e+07  ...                         29.587957   \n",
       "2                       -2.036101e+07  ...                         31.240256   \n",
       "3                       -1.903194e+07  ...                         22.256316   \n",
       "4                       -2.103318e+07  ...                         36.522716   \n",
       "\n",
       "   rank_test_neg_mean_absolute_error  \\\n",
       "0                                116   \n",
       "1                                 96   \n",
       "2                                 83   \n",
       "3                                 70   \n",
       "4                                 92   \n",
       "\n",
       "   split0_test_neg_mean_absolute_percentage_error  \\\n",
       "0                                       -0.151206   \n",
       "1                                       -0.137124   \n",
       "2                                       -0.132052   \n",
       "3                                       -0.127227   \n",
       "4                                       -0.136794   \n",
       "\n",
       "   split1_test_neg_mean_absolute_percentage_error  \\\n",
       "0                                       -0.162221   \n",
       "1                                       -0.146534   \n",
       "2                                       -0.141476   \n",
       "3                                       -0.137257   \n",
       "4                                       -0.145933   \n",
       "\n",
       "   split2_test_neg_mean_absolute_percentage_error  \\\n",
       "0                                       -0.162909   \n",
       "1                                       -0.147467   \n",
       "2                                       -0.142775   \n",
       "3                                       -0.136631   \n",
       "4                                       -0.147362   \n",
       "\n",
       "   split3_test_neg_mean_absolute_percentage_error  \\\n",
       "0                                       -0.152774   \n",
       "1                                       -0.138006   \n",
       "2                                       -0.133560   \n",
       "3                                       -0.128467   \n",
       "4                                       -0.138993   \n",
       "\n",
       "   split4_test_neg_mean_absolute_percentage_error  \\\n",
       "0                                       -0.151575   \n",
       "1                                       -0.137893   \n",
       "2                                       -0.133338   \n",
       "3                                       -0.128143   \n",
       "4                                       -0.137425   \n",
       "\n",
       "   mean_test_neg_mean_absolute_percentage_error  \\\n",
       "0                                     -0.156137   \n",
       "1                                     -0.141405   \n",
       "2                                     -0.136640   \n",
       "3                                     -0.131545   \n",
       "4                                     -0.141302   \n",
       "\n",
       "   std_test_neg_mean_absolute_percentage_error  \\\n",
       "0                                     0.005278   \n",
       "1                                     0.004588   \n",
       "2                                     0.004527   \n",
       "3                                     0.004431   \n",
       "4                                     0.004446   \n",
       "\n",
       "   rank_test_neg_mean_absolute_percentage_error  \n",
       "0                                           119  \n",
       "1                                            97  \n",
       "2                                            83  \n",
       "3                                            68  \n",
       "4                                            95  \n",
       "\n",
       "[5 rows x 41 columns]"
      ]
     },
     "execution_count": 15,
     "metadata": {},
     "output_type": "execute_result"
    }
   ],
   "source": [
    "df_res = pd.DataFrame(data=clf.cv_results_)\n",
    "df_res.head()"
   ]
  },
  {
   "cell_type": "markdown",
   "metadata": {},
   "source": [
    "## Train with best params"
   ]
  },
  {
   "cell_type": "code",
   "execution_count": 16,
   "metadata": {},
   "outputs": [],
   "source": [
    "# colsample_bytree': 0.3, 'learning_rate': 0.05, 'max_depth': 8, 'n_estimators': 1000\n",
    "xgb = XGBRegressor(colsample_bytree=0.3, learning_rate=0.05, max_depth=8, n_estimators=1000, random_state=42)\n",
    "xgb = xgb.fit(x_train, y_train)"
   ]
  },
  {
   "cell_type": "code",
   "execution_count": 17,
   "metadata": {},
   "outputs": [
    {
     "name": "stdout",
     "output_type": "stream",
     "text": [
      "Train MSE: 1056936.3065743684\n",
      "Train RMSE: 1028.0740764042096\n",
      "Train MAE: 745.7976958457493\n",
      "Train MAPE: 0.029333705995687617\n"
     ]
    }
   ],
   "source": [
    "from sklearn.metrics import mean_squared_error, mean_absolute_error, mean_absolute_percentage_error\n",
    "train_predict = xgb.predict(x_train)\n",
    "print(\"Train MSE:\", mean_squared_error(y_train, train_predict))\n",
    "print(\"Train RMSE:\", mean_squared_error(y_train, train_predict, squared=False))\n",
    "print(\"Train MAE:\", mean_absolute_error(y_train, train_predict))\n",
    "print(\"Train MAPE:\", mean_absolute_percentage_error(y_train, train_predict))"
   ]
  },
  {
   "cell_type": "code",
   "execution_count": 18,
   "metadata": {},
   "outputs": [
    {
     "data": {
      "text/plain": [
       "Text(0.5, 0, 'Xgboost Feature Importance')"
      ]
     },
     "execution_count": 18,
     "metadata": {},
     "output_type": "execute_result"
    },
    {
     "data": {
      "image/png": "[encoded data removed]",
      "text/plain": [
       "<Figure size 640x480 with 1 Axes>"
      ]
     },
     "metadata": {},
     "output_type": "display_data"
    }
   ],
   "source": [
    "from matplotlib import pyplot as plt\n",
    "sorted_idx = xgb.feature_importances_.argsort()[::-1]\n",
    "cols = data_train.columns\n",
    "plt.barh(cols[sorted_idx][:10], xgb.feature_importances_[sorted_idx][:10])\n",
    "plt.xlabel(\"Xgboost Feature Importance\")"
   ]
  },
  {
   "cell_type": "code",
   "execution_count": 19,
   "metadata": {},
   "outputs": [
    {
     "data": {
      "text/plain": [
       "array([0.10774267, 0.08652952, 0.08346674, 0.04587775, 0.04555788,\n",
       "       0.0441349 , 0.04005523, 0.03146826, 0.0307041 , 0.02910312],\n",
       "      dtype=float32)"
      ]
     },
     "execution_count": 19,
     "metadata": {},
     "output_type": "execute_result"
    }
   ],
   "source": [
    "xgb.feature_importances_[sorted_idx][:10]"
   ]
  },
  {
   "cell_type": "markdown",
   "metadata": {},
   "source": [
    "## Testing set"
   ]
  },
  {
   "cell_type": "code",
   "execution_count": 20,
   "metadata": {},
   "outputs": [
    {
     "name": "stdout",
     "output_type": "stream",
     "text": [
      "Test MSE: 35279835.98536661\n",
      "Test RMSE: 5939.683155301014\n",
      "Test MAE: 4632.906123186669\n",
      "Test MAPE: 0.23616716217264272\n"
     ]
    }
   ],
   "source": [
    "from sklearn.metrics import mean_squared_error, mean_absolute_error, mean_absolute_percentage_error\n",
    "y_pred = xgb.predict(x_test)\n",
    "print(\"Test MSE:\", mean_squared_error(y_test, y_pred))\n",
    "print(\"Test RMSE:\", mean_squared_error(y_test, y_pred, squared=False))\n",
    "print(\"Test MAE:\", mean_absolute_error(y_test, y_pred))\n",
    "print(\"Test MAPE:\", mean_absolute_percentage_error(y_test, y_pred))"
   ]
  },
  {
   "cell_type": "markdown",
   "metadata": {},
   "source": [
    "## Save model"
   ]
  },
  {
   "cell_type": "code",
   "execution_count": 21,
   "metadata": {},
   "outputs": [],
   "source": [
    "import pickle\n",
    "from datetime import datetime\n",
    "time = datetime.today().strftime('%Y%m%d_%H%M%S')\n",
    "filename = f'./model/xgboost_model_{time}.sav'\n",
    "pickle.dump(xgb, open(filename, 'wb'))\n",
    "cv_filename = f'./model/xgboost_model_{time}_cv.csv'\n",
    "df_res.to_csv(cv_filename, index=False)\n",
    "# loaded_model = pickle.load(open(filename, 'rb'))"
   ]
  },
  {
   "cell_type": "code",
   "execution_count": null,
   "metadata": {},
   "outputs": [],
   "source": []
  }
 ],
 "metadata": {
  "kernelspec": {
   "display_name": "Python 3.9.13 64-bit (microsoft store)",
   "language": "python",
   "name": "python3"
  },
  "language_info": {
   "codemirror_mode": {
    "name": "ipython",
    "version": 3
   },
   "file_extension": ".py",
   "mimetype": "text/x-python",
   "name": "python",
   "nbconvert_exporter": "python",
   "pygments_lexer": "ipython3",
   "version": "3.9.13"
  },
  "orig_nbformat": 4,
  "vscode": {
   "interpreter": {
    "hash": "640829cba0c996ec1edfe38112f06d06ccbb529c69ad00e2e287bb19236004a2"
   }
  }
 },
 "nbformat": 4,
 "nbformat_minor": 2
}
