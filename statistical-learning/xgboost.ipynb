{
 "cells": [
  {
   "cell_type": "markdown",
   "metadata": {},
   "source": [
    "# XGBoost"
   ]
  },
  {
   "cell_type": "code",
   "execution_count": 1,
   "metadata": {},
   "outputs": [],
   "source": [
    "import pandas as pd\n",
    "import numpy as np\n",
    "import xgboost as xgb"
   ]
  },
  {
   "cell_type": "markdown",
   "metadata": {},
   "source": [
    "## Read dataset"
   ]
  },
  {
   "cell_type": "code",
   "execution_count": 2,
   "metadata": {},
   "outputs": [
    {
     "data": {
      "text/html": [
       "<div>\n",
       "<style scoped>\n",
       "    .dataframe tbody tr th:only-of-type {\n",
       "        vertical-align: middle;\n",
       "    }\n",
       "\n",
       "    .dataframe tbody tr th {\n",
       "        vertical-align: top;\n",
       "    }\n",
       "\n",
       "    .dataframe thead th {\n",
       "        text-align: right;\n",
       "    }\n",
       "</style>\n",
       "<table border=\"1\" class=\"dataframe\">\n",
       "  <thead>\n",
       "    <tr style=\"text-align: right;\">\n",
       "      <th></th>\n",
       "      <th>attendance</th>\n",
       "      <th>is_federal_holiday</th>\n",
       "      <th>venue</th>\n",
       "      <th>on_grass</th>\n",
       "      <th>temperature</th>\n",
       "      <th>wind_speed</th>\n",
       "      <th>team1_name</th>\n",
       "      <th>team1_pre_win</th>\n",
       "      <th>team1_pre_loss</th>\n",
       "      <th>team1_pre_win_pct</th>\n",
       "      <th>...</th>\n",
       "      <th>weather_Rain</th>\n",
       "      <th>weather_Sunny</th>\n",
       "      <th>season_type</th>\n",
       "      <th>season</th>\n",
       "      <th>home_team_avg_att_last_year</th>\n",
       "      <th>start_hour</th>\n",
       "      <th>start_hour_label_afternoon</th>\n",
       "      <th>start_hour_label_evening</th>\n",
       "      <th>start_hour_label_night</th>\n",
       "      <th>start_hour_label_noon</th>\n",
       "    </tr>\n",
       "  </thead>\n",
       "  <tbody>\n",
       "    <tr>\n",
       "      <th>0</th>\n",
       "      <td>35055</td>\n",
       "      <td>0</td>\n",
       "      <td>Wrigley Field</td>\n",
       "      <td>1</td>\n",
       "      <td>-2.786672</td>\n",
       "      <td>-0.093090</td>\n",
       "      <td>STL</td>\n",
       "      <td>-1.62645</td>\n",
       "      <td>-1.654514</td>\n",
       "      <td>0.0</td>\n",
       "      <td>...</td>\n",
       "      <td>0</td>\n",
       "      <td>1</td>\n",
       "      <td>regular</td>\n",
       "      <td>2015</td>\n",
       "      <td>0.345307</td>\n",
       "      <td>19</td>\n",
       "      <td>0</td>\n",
       "      <td>1</td>\n",
       "      <td>0</td>\n",
       "      <td>0</td>\n",
       "    </tr>\n",
       "    <tr>\n",
       "      <th>1</th>\n",
       "      <td>49043</td>\n",
       "      <td>0</td>\n",
       "      <td>Chase Field</td>\n",
       "      <td>1</td>\n",
       "      <td>0.705205</td>\n",
       "      <td>-0.093090</td>\n",
       "      <td>SFG</td>\n",
       "      <td>-1.62645</td>\n",
       "      <td>-1.654514</td>\n",
       "      <td>0.0</td>\n",
       "      <td>...</td>\n",
       "      <td>0</td>\n",
       "      <td>1</td>\n",
       "      <td>regular</td>\n",
       "      <td>2015</td>\n",
       "      <td>-0.573314</td>\n",
       "      <td>19</td>\n",
       "      <td>0</td>\n",
       "      <td>1</td>\n",
       "      <td>0</td>\n",
       "      <td>0</td>\n",
       "    </tr>\n",
       "    <tr>\n",
       "      <th>2</th>\n",
       "      <td>43633</td>\n",
       "      <td>0</td>\n",
       "      <td>Great American Ball Park</td>\n",
       "      <td>1</td>\n",
       "      <td>-0.521670</td>\n",
       "      <td>1.490839</td>\n",
       "      <td>PIT</td>\n",
       "      <td>-1.62645</td>\n",
       "      <td>-1.654514</td>\n",
       "      <td>0.0</td>\n",
       "      <td>...</td>\n",
       "      <td>0</td>\n",
       "      <td>0</td>\n",
       "      <td>regular</td>\n",
       "      <td>2015</td>\n",
       "      <td>0.066649</td>\n",
       "      <td>16</td>\n",
       "      <td>1</td>\n",
       "      <td>0</td>\n",
       "      <td>0</td>\n",
       "      <td>0</td>\n",
       "    </tr>\n",
       "    <tr>\n",
       "      <th>3</th>\n",
       "      <td>45030</td>\n",
       "      <td>0</td>\n",
       "      <td>Comerica Park</td>\n",
       "      <td>1</td>\n",
       "      <td>-2.031671</td>\n",
       "      <td>-0.489072</td>\n",
       "      <td>MIN</td>\n",
       "      <td>-1.62645</td>\n",
       "      <td>-1.654514</td>\n",
       "      <td>0.0</td>\n",
       "      <td>...</td>\n",
       "      <td>0</td>\n",
       "      <td>0</td>\n",
       "      <td>regular</td>\n",
       "      <td>2015</td>\n",
       "      <td>0.766348</td>\n",
       "      <td>13</td>\n",
       "      <td>0</td>\n",
       "      <td>0</td>\n",
       "      <td>0</td>\n",
       "      <td>1</td>\n",
       "    </tr>\n",
       "    <tr>\n",
       "      <th>4</th>\n",
       "      <td>43753</td>\n",
       "      <td>0</td>\n",
       "      <td>Minute Maid Park</td>\n",
       "      <td>1</td>\n",
       "      <td>0.516455</td>\n",
       "      <td>1.292848</td>\n",
       "      <td>CLE</td>\n",
       "      <td>-1.62645</td>\n",
       "      <td>-1.654514</td>\n",
       "      <td>0.0</td>\n",
       "      <td>...</td>\n",
       "      <td>0</td>\n",
       "      <td>0</td>\n",
       "      <td>regular</td>\n",
       "      <td>2015</td>\n",
       "      <td>-1.084575</td>\n",
       "      <td>18</td>\n",
       "      <td>0</td>\n",
       "      <td>1</td>\n",
       "      <td>0</td>\n",
       "      <td>0</td>\n",
       "    </tr>\n",
       "  </tbody>\n",
       "</table>\n",
       "<p>5 rows × 217 columns</p>\n",
       "</div>"
      ],
      "text/plain": [
       "   attendance  is_federal_holiday                     venue  on_grass  \\\n",
       "0       35055                   0             Wrigley Field         1   \n",
       "1       49043                   0               Chase Field         1   \n",
       "2       43633                   0  Great American Ball Park         1   \n",
       "3       45030                   0             Comerica Park         1   \n",
       "4       43753                   0          Minute Maid Park         1   \n",
       "\n",
       "   temperature  wind_speed team1_name  team1_pre_win  team1_pre_loss  \\\n",
       "0    -2.786672   -0.093090        STL       -1.62645       -1.654514   \n",
       "1     0.705205   -0.093090        SFG       -1.62645       -1.654514   \n",
       "2    -0.521670    1.490839        PIT       -1.62645       -1.654514   \n",
       "3    -2.031671   -0.489072        MIN       -1.62645       -1.654514   \n",
       "4     0.516455    1.292848        CLE       -1.62645       -1.654514   \n",
       "\n",
       "   team1_pre_win_pct  ...  weather_Rain weather_Sunny  season_type  season  \\\n",
       "0                0.0  ...             0             1      regular    2015   \n",
       "1                0.0  ...             0             1      regular    2015   \n",
       "2                0.0  ...             0             0      regular    2015   \n",
       "3                0.0  ...             0             0      regular    2015   \n",
       "4                0.0  ...             0             0      regular    2015   \n",
       "\n",
       "   home_team_avg_att_last_year  start_hour  start_hour_label_afternoon  \\\n",
       "0                     0.345307          19                           0   \n",
       "1                    -0.573314          19                           0   \n",
       "2                     0.066649          16                           1   \n",
       "3                     0.766348          13                           0   \n",
       "4                    -1.084575          18                           0   \n",
       "\n",
       "   start_hour_label_evening  start_hour_label_night  start_hour_label_noon  \n",
       "0                         1                       0                      0  \n",
       "1                         1                       0                      0  \n",
       "2                         0                       0                      0  \n",
       "3                         0                       0                      1  \n",
       "4                         1                       0                      0  \n",
       "\n",
       "[5 rows x 217 columns]"
      ]
     },
     "execution_count": 2,
     "metadata": {},
     "output_type": "execute_result"
    }
   ],
   "source": [
    "data_train = pd.read_csv('processed_training.csv')\n",
    "data_test = pd.read_csv('processed_test.csv')\n",
    "data_train.head()"
   ]
  },
  {
   "cell_type": "code",
   "execution_count": 3,
   "metadata": {},
   "outputs": [],
   "source": [
    "data_train.drop(['venue', 'start_hour'], axis=1, inplace=True)\n",
    "data_test.drop(['venue', 'start_hour'], axis=1, inplace=True)"
   ]
  },
  {
   "cell_type": "code",
   "execution_count": 4,
   "metadata": {},
   "outputs": [],
   "source": [
    "data_train = pd.get_dummies(data_train, columns=['team1_name'])\n",
    "data_test = pd.get_dummies(data_test, columns=['team1_name'])"
   ]
  },
  {
   "cell_type": "code",
   "execution_count": 5,
   "metadata": {},
   "outputs": [],
   "source": [
    "data_train = pd.get_dummies(data_train, columns=['team2_name'])\n",
    "data_test = pd.get_dummies(data_test, columns=['team2_name'])"
   ]
  },
  {
   "cell_type": "code",
   "execution_count": 6,
   "metadata": {},
   "outputs": [],
   "source": [
    "data_train = pd.get_dummies(data_train, columns=['season_type'])\n",
    "data_test = pd.get_dummies(data_test, columns=['season_type'])"
   ]
  },
  {
   "cell_type": "code",
   "execution_count": 7,
   "metadata": {},
   "outputs": [
    {
     "data": {
      "text/plain": [
       "set()"
      ]
     },
     "execution_count": 7,
     "metadata": {},
     "output_type": "execute_result"
    }
   ],
   "source": [
    "set(data_train.columns) - set(data_test.columns)"
   ]
  },
  {
   "cell_type": "code",
   "execution_count": 8,
   "metadata": {},
   "outputs": [],
   "source": [
    "from sklearn.utils import shuffle\n",
    "data_train = shuffle(data_train)"
   ]
  },
  {
   "cell_type": "code",
   "execution_count": 9,
   "metadata": {},
   "outputs": [
    {
     "name": "stdout",
     "output_type": "stream",
     "text": [
      "(12270, 273)\n"
     ]
    }
   ],
   "source": [
    "y_train = data_train['attendance'].to_numpy()\n",
    "y_test = data_test['attendance'].to_numpy()\n",
    "\n",
    "data_train.drop(['attendance'], axis=1, inplace=True)\n",
    "data_test.drop(['attendance'], axis=1, inplace=True)\n",
    "\n",
    "x_train = data_train.to_numpy()\n",
    "x_test = data_test.to_numpy()\n",
    "\n",
    "print(x_train.shape)"
   ]
  },
  {
   "cell_type": "markdown",
   "metadata": {},
   "source": [
    "## kfold"
   ]
  },
  {
   "cell_type": "code",
   "execution_count": 10,
   "metadata": {},
   "outputs": [
    {
     "data": {
      "text/plain": [
       "5"
      ]
     },
     "execution_count": 10,
     "metadata": {},
     "output_type": "execute_result"
    }
   ],
   "source": [
    "from sklearn.model_selection import KFold\n",
    "kf = KFold(n_splits=5)\n",
    "kf.get_n_splits(x_train)"
   ]
  },
  {
   "cell_type": "code",
   "execution_count": 11,
   "metadata": {},
   "outputs": [],
   "source": [
    "from sklearn.model_selection import GridSearchCV\n",
    "from xgboost import XGBRegressor"
   ]
  },
  {
   "cell_type": "code",
   "execution_count": 12,
   "metadata": {},
   "outputs": [],
   "source": [
    "parameters = {'n_estimators': [100, 500, 1000], 'max_depth':[3, 4, 5, 6, 7, 8], 'learning_rate': [0.1, 0.01, 0.001], 'colsample_bytree': [0.3, 0.7]}\n",
    "model = XGBRegressor(random_state=42)\n",
    "clf = GridSearchCV(model, parameters, cv=5, n_jobs=-1, scoring='neg_root_mean_squared_error')\n",
    "clf.fit(x_train, y_train)\n",
    "\n",
    "print(\"Best parameters:\", clf.best_params_)"
   ]
  },
  {
   "cell_type": "markdown",
   "metadata": {},
   "source": [
    "## Train with best params"
   ]
  },
  {
   "cell_type": "code",
   "execution_count": null,
   "metadata": {},
   "outputs": [],
   "source": [
    "xgb = XGBRegressor(colsample_bytree= 0.3, learning_rate=0.01, max_depth= 3, n_estimators=1000)\n",
    "xgb = xgb.fit(x_train, y_train)"
   ]
  },
  {
   "cell_type": "code",
   "execution_count": null,
   "metadata": {},
   "outputs": [],
   "source": [
    "from sklearn.metrics import mean_squared_error, mean_absolute_error, mean_absolute_percentage_error\n",
    "train_predict = xgb.predict(x_train)\n",
    "print(\"Train MSE:\", mean_squared_error(y_train, train_predict))\n",
    "print(\"Train RMSE:\", mean_squared_error(y_train, train_predict, squared=False))\n",
    "print(\"Train MAE:\", mean_absolute_error(y_train, train_predict))\n",
    "print(\"Train MAPE:\", mean_absolute_percentage_error(y_train, train_predict))"
   ]
  },
  {
   "cell_type": "markdown",
   "metadata": {},
   "source": [
    "## Testing set"
   ]
  },
  {
   "cell_type": "code",
   "execution_count": null,
   "metadata": {},
   "outputs": [],
   "source": [
    "from sklearn.metrics import mean_squared_error, mean_absolute_error, mean_absolute_percentage_error\n",
    "y_pred = xgb.predict(x_test)\n",
    "print(\"Train MSE:\", mean_squared_error(y_test, y_pred))\n",
    "print(\"Train RMSE:\", mean_squared_error(y_test, y_pred, squared=False))\n",
    "print(\"Train MAE:\", mean_absolute_error(y_test, y_pred))\n",
    "print(\"Train MAPE:\", mean_absolute_percentage_error(y_test, y_pred))"
   ]
  }
 ],
 "metadata": {
  "kernelspec": {
   "display_name": "Python 3.9.13 64-bit (microsoft store)",
   "language": "python",
   "name": "python3"
  },
  "language_info": {
   "codemirror_mode": {
    "name": "ipython",
    "version": 3
   },
   "file_extension": ".py",
   "mimetype": "text/x-python",
   "name": "python",
   "nbconvert_exporter": "python",
   "pygments_lexer": "ipython3",
   "version": "3.9.13"
  },
  "orig_nbformat": 4,
  "vscode": {
   "interpreter": {
    "hash": "640829cba0c996ec1edfe38112f06d06ccbb529c69ad00e2e287bb19236004a2"
   }
  }
 },
 "nbformat": 4,
 "nbformat_minor": 2
}
