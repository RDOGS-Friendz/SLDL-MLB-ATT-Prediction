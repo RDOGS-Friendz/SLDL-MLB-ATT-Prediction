{
 "cells": [
  {
   "cell_type": "markdown",
   "metadata": {},
   "source": [
    "# XGBoost"
   ]
  },
  {
   "cell_type": "code",
   "execution_count": 2,
   "metadata": {},
   "outputs": [],
   "source": [
    "import pandas as pd\n",
    "import numpy as np\n",
    "import xgboost as xgb"
   ]
  },
  {
   "cell_type": "markdown",
   "metadata": {},
   "source": [
    "## Read dataset"
   ]
  },
  {
   "cell_type": "code",
   "execution_count": 3,
   "metadata": {},
   "outputs": [
    {
     "data": {
      "text/html": [
       "<div>\n",
       "<style scoped>\n",
       "    .dataframe tbody tr th:only-of-type {\n",
       "        vertical-align: middle;\n",
       "    }\n",
       "\n",
       "    .dataframe tbody tr th {\n",
       "        vertical-align: top;\n",
       "    }\n",
       "\n",
       "    .dataframe thead th {\n",
       "        text-align: right;\n",
       "    }\n",
       "</style>\n",
       "<table border=\"1\" class=\"dataframe\">\n",
       "  <thead>\n",
       "    <tr style=\"text-align: right;\">\n",
       "      <th></th>\n",
       "      <th>attendance</th>\n",
       "      <th>is_federal_holiday</th>\n",
       "      <th>venue</th>\n",
       "      <th>on_grass</th>\n",
       "      <th>temperature</th>\n",
       "      <th>wind_speed</th>\n",
       "      <th>team1_name</th>\n",
       "      <th>team1_pre_win</th>\n",
       "      <th>team1_pre_loss</th>\n",
       "      <th>team1_pre_win_pct</th>\n",
       "      <th>...</th>\n",
       "      <th>weather_Cloudy</th>\n",
       "      <th>weather_Drizzle</th>\n",
       "      <th>weather_In Dome</th>\n",
       "      <th>weather_Overcast</th>\n",
       "      <th>weather_Rain</th>\n",
       "      <th>weather_Sunny</th>\n",
       "      <th>season_type</th>\n",
       "      <th>season</th>\n",
       "      <th>home_team_avg_att_last_year</th>\n",
       "      <th>start_hour_noon</th>\n",
       "    </tr>\n",
       "  </thead>\n",
       "  <tbody>\n",
       "    <tr>\n",
       "      <th>0</th>\n",
       "      <td>35055</td>\n",
       "      <td>0</td>\n",
       "      <td>Wrigley Field</td>\n",
       "      <td>1</td>\n",
       "      <td>-2.786672</td>\n",
       "      <td>-0.093090</td>\n",
       "      <td>STL</td>\n",
       "      <td>-1.62645</td>\n",
       "      <td>-1.654514</td>\n",
       "      <td>0.0</td>\n",
       "      <td>...</td>\n",
       "      <td>0</td>\n",
       "      <td>0</td>\n",
       "      <td>0</td>\n",
       "      <td>0</td>\n",
       "      <td>0</td>\n",
       "      <td>1</td>\n",
       "      <td>regular</td>\n",
       "      <td>2015</td>\n",
       "      <td>0.345307</td>\n",
       "      <td>1</td>\n",
       "    </tr>\n",
       "    <tr>\n",
       "      <th>1</th>\n",
       "      <td>49043</td>\n",
       "      <td>0</td>\n",
       "      <td>Chase Field</td>\n",
       "      <td>1</td>\n",
       "      <td>0.705205</td>\n",
       "      <td>-0.093090</td>\n",
       "      <td>SFG</td>\n",
       "      <td>-1.62645</td>\n",
       "      <td>-1.654514</td>\n",
       "      <td>0.0</td>\n",
       "      <td>...</td>\n",
       "      <td>0</td>\n",
       "      <td>0</td>\n",
       "      <td>0</td>\n",
       "      <td>0</td>\n",
       "      <td>0</td>\n",
       "      <td>1</td>\n",
       "      <td>regular</td>\n",
       "      <td>2015</td>\n",
       "      <td>-0.573314</td>\n",
       "      <td>1</td>\n",
       "    </tr>\n",
       "    <tr>\n",
       "      <th>2</th>\n",
       "      <td>43633</td>\n",
       "      <td>0</td>\n",
       "      <td>Great American Ball Park</td>\n",
       "      <td>1</td>\n",
       "      <td>-0.521670</td>\n",
       "      <td>1.490839</td>\n",
       "      <td>PIT</td>\n",
       "      <td>-1.62645</td>\n",
       "      <td>-1.654514</td>\n",
       "      <td>0.0</td>\n",
       "      <td>...</td>\n",
       "      <td>0</td>\n",
       "      <td>0</td>\n",
       "      <td>0</td>\n",
       "      <td>1</td>\n",
       "      <td>0</td>\n",
       "      <td>0</td>\n",
       "      <td>regular</td>\n",
       "      <td>2015</td>\n",
       "      <td>0.066649</td>\n",
       "      <td>1</td>\n",
       "    </tr>\n",
       "    <tr>\n",
       "      <th>3</th>\n",
       "      <td>45030</td>\n",
       "      <td>0</td>\n",
       "      <td>Comerica Park</td>\n",
       "      <td>1</td>\n",
       "      <td>-2.031671</td>\n",
       "      <td>-0.489072</td>\n",
       "      <td>MIN</td>\n",
       "      <td>-1.62645</td>\n",
       "      <td>-1.654514</td>\n",
       "      <td>0.0</td>\n",
       "      <td>...</td>\n",
       "      <td>1</td>\n",
       "      <td>0</td>\n",
       "      <td>0</td>\n",
       "      <td>0</td>\n",
       "      <td>0</td>\n",
       "      <td>0</td>\n",
       "      <td>regular</td>\n",
       "      <td>2015</td>\n",
       "      <td>0.766348</td>\n",
       "      <td>1</td>\n",
       "    </tr>\n",
       "    <tr>\n",
       "      <th>4</th>\n",
       "      <td>43753</td>\n",
       "      <td>0</td>\n",
       "      <td>Minute Maid Park</td>\n",
       "      <td>1</td>\n",
       "      <td>0.516455</td>\n",
       "      <td>1.292848</td>\n",
       "      <td>CLE</td>\n",
       "      <td>-1.62645</td>\n",
       "      <td>-1.654514</td>\n",
       "      <td>0.0</td>\n",
       "      <td>...</td>\n",
       "      <td>1</td>\n",
       "      <td>0</td>\n",
       "      <td>0</td>\n",
       "      <td>0</td>\n",
       "      <td>0</td>\n",
       "      <td>0</td>\n",
       "      <td>regular</td>\n",
       "      <td>2015</td>\n",
       "      <td>-1.084575</td>\n",
       "      <td>1</td>\n",
       "    </tr>\n",
       "  </tbody>\n",
       "</table>\n",
       "<p>5 rows × 213 columns</p>\n",
       "</div>"
      ],
      "text/plain": [
       "   attendance  is_federal_holiday                     venue  on_grass  \\\n",
       "0       35055                   0             Wrigley Field         1   \n",
       "1       49043                   0               Chase Field         1   \n",
       "2       43633                   0  Great American Ball Park         1   \n",
       "3       45030                   0             Comerica Park         1   \n",
       "4       43753                   0          Minute Maid Park         1   \n",
       "\n",
       "   temperature  wind_speed team1_name  team1_pre_win  team1_pre_loss  \\\n",
       "0    -2.786672   -0.093090        STL       -1.62645       -1.654514   \n",
       "1     0.705205   -0.093090        SFG       -1.62645       -1.654514   \n",
       "2    -0.521670    1.490839        PIT       -1.62645       -1.654514   \n",
       "3    -2.031671   -0.489072        MIN       -1.62645       -1.654514   \n",
       "4     0.516455    1.292848        CLE       -1.62645       -1.654514   \n",
       "\n",
       "   team1_pre_win_pct  ...  weather_Cloudy weather_Drizzle  weather_In Dome  \\\n",
       "0                0.0  ...               0               0                0   \n",
       "1                0.0  ...               0               0                0   \n",
       "2                0.0  ...               0               0                0   \n",
       "3                0.0  ...               1               0                0   \n",
       "4                0.0  ...               1               0                0   \n",
       "\n",
       "   weather_Overcast  weather_Rain  weather_Sunny  season_type  season  \\\n",
       "0                 0             0              1      regular    2015   \n",
       "1                 0             0              1      regular    2015   \n",
       "2                 1             0              0      regular    2015   \n",
       "3                 0             0              0      regular    2015   \n",
       "4                 0             0              0      regular    2015   \n",
       "\n",
       "   home_team_avg_att_last_year  start_hour_noon  \n",
       "0                     0.345307                1  \n",
       "1                    -0.573314                1  \n",
       "2                     0.066649                1  \n",
       "3                     0.766348                1  \n",
       "4                    -1.084575                1  \n",
       "\n",
       "[5 rows x 213 columns]"
      ]
     },
     "execution_count": 3,
     "metadata": {},
     "output_type": "execute_result"
    }
   ],
   "source": [
    "data_train = pd.read_csv('processed_training.csv')\n",
    "data_test = pd.read_csv('processed_test.csv')\n",
    "data_train.head()"
   ]
  },
  {
   "cell_type": "code",
   "execution_count": 6,
   "metadata": {},
   "outputs": [
    {
     "data": {
      "text/plain": [
       "Index(['attendance', 'is_federal_holiday', 'venue', 'on_grass', 'temperature',\n",
       "       'wind_speed', 'team1_name', 'team1_pre_win', 'team1_pre_loss',\n",
       "       'team1_pre_win_pct', 'team1_streak', 'team2_name', 'team2_pre_win',\n",
       "       'team2_pre_loss', 'team2_pre_win_pct', 'team2_streak', 'Adam-Jones',\n",
       "       'Chris-Sale', 'Aroldis-Chapman', 'Miguel-Cabrera', 'David-Price',\n",
       "       'Giancarlo-Stanton', 'Wade-Davis', 'Alex-Gordon', 'Albert-Pujols',\n",
       "       'Mike-Trout', 'Adrian-Gonzalez', 'Zack-Greinke', 'Clayton-Kershaw',\n",
       "       'Ryan-Braun', 'Brett-Gardner', 'Mark-Teixeira', 'A.J.-Burnett',\n",
       "       'Andrew-McCutchen', 'Mark-Melancon', 'Justin-Upton',\n",
       "       'Madison-Bumgarner', 'Buster-Posey', 'Nelson-Cruz', 'Felix-Hernandez'],\n",
       "      dtype='object')"
      ]
     },
     "execution_count": 6,
     "metadata": {},
     "output_type": "execute_result"
    }
   ],
   "source": [
    "data_train.columns[0:40]"
   ]
  },
  {
   "cell_type": "code",
   "execution_count": 8,
   "metadata": {},
   "outputs": [
    {
     "data": {
      "text/plain": [
       "Index(['Tyler-Anderson', 'Corbin-Burnes', 'Pete-Alonso', 'Edwin-Díaz',\n",
       "       'Starling-Marte', 'Joe-Musgrove', 'Joc-Pederson', 'Carlos-Rodon',\n",
       "       'Corey-Seager', 'Vladimir-Guerrero-Jr.', 'Byron-Buxton',\n",
       "       'salary-500-800', 'salary-800-1500', 'salary-1500', 'day_Friday',\n",
       "       'day_Monday', 'day_Saturday', 'day_Sunday', 'day_Thursday',\n",
       "       'day_Tuesday', 'day_Wednesday', 'month_April', 'month_August',\n",
       "       'month_July', 'month_June', 'month_March', 'month_May',\n",
       "       'month_November', 'month_October', 'month_September', 'weather_Cloudy',\n",
       "       'weather_Drizzle', 'weather_In Dome', 'weather_Overcast',\n",
       "       'weather_Rain', 'weather_Sunny', 'season_type', 'season',\n",
       "       'home_team_avg_att_last_year', 'start_hour_noon'],\n",
       "      dtype='object')"
      ]
     },
     "execution_count": 8,
     "metadata": {},
     "output_type": "execute_result"
    }
   ],
   "source": [
    "data_train.columns[-40:]"
   ]
  },
  {
   "cell_type": "code",
   "execution_count": 5,
   "metadata": {},
   "outputs": [
    {
     "data": {
      "text/plain": [
       "1    12270\n",
       "Name: start_hour_noon, dtype: int64"
      ]
     },
     "execution_count": 5,
     "metadata": {},
     "output_type": "execute_result"
    }
   ],
   "source": [
    "data_train['start_hour_noon'].value_counts()"
   ]
  },
  {
   "cell_type": "code",
   "execution_count": null,
   "metadata": {},
   "outputs": [],
   "source": []
  }
 ],
 "metadata": {
  "kernelspec": {
   "display_name": "Python 3.9.13 64-bit (microsoft store)",
   "language": "python",
   "name": "python3"
  },
  "language_info": {
   "codemirror_mode": {
    "name": "ipython",
    "version": 3
   },
   "file_extension": ".py",
   "mimetype": "text/x-python",
   "name": "python",
   "nbconvert_exporter": "python",
   "pygments_lexer": "ipython3",
   "version": "3.9.13"
  },
  "orig_nbformat": 4,
  "vscode": {
   "interpreter": {
    "hash": "640829cba0c996ec1edfe38112f06d06ccbb529c69ad00e2e287bb19236004a2"
   }
  }
 },
 "nbformat": 4,
 "nbformat_minor": 2
}
