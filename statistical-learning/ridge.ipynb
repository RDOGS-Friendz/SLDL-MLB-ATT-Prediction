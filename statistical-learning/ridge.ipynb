{
 "cells": [
  {
   "cell_type": "markdown",
   "metadata": {},
   "source": [
    "# Ridge"
   ]
  },
  {
   "cell_type": "code",
   "execution_count": 1,
   "metadata": {},
   "outputs": [],
   "source": [
    "import pandas as pd\n",
    "import numpy as np\n",
    "\n",
    "from sklearn.linear_model import Ridge"
   ]
  },
  {
   "cell_type": "code",
   "execution_count": 2,
   "metadata": {},
   "outputs": [],
   "source": [
    "data_train = pd.read_csv(\"processed_training.csv\")\n",
    "data_test = pd.read_csv(\"processed_test.csv\")"
   ]
  },
  {
   "cell_type": "markdown",
   "metadata": {},
   "source": [
    "### Data Preparation"
   ]
  },
  {
   "cell_type": "code",
   "execution_count": 3,
   "metadata": {},
   "outputs": [
    {
     "name": "stdout",
     "output_type": "stream",
     "text": [
      "set()\n",
      "set()\n",
      "X_train:  (12270, 273)\n",
      "Y_train (12270,)\n",
      "X_test (2445, 273)\n",
      "Y_test (2445,)\n"
     ]
    }
   ],
   "source": [
    "train_cols = data_train.columns.tolist()\n",
    "data_test = data_test[train_cols].copy()\n",
    "\n",
    "data_train.drop(['venue', 'start_hour'], axis=1, inplace=True)\n",
    "data_test.drop(['venue', 'start_hour'], axis=1, inplace=True)\n",
    "\n",
    "data_train = pd.get_dummies(data_train, columns=['team1_name', 'team2_name', 'season_type'])\n",
    "data_test = pd.get_dummies(data_test, columns=['team1_name', 'team2_name', 'season_type'])\n",
    "\n",
    "# ensure the train and test data have the same columns\n",
    "\n",
    "train_cols = set(data_train.columns)\n",
    "test_cols = set(data_test.columns)\n",
    "\n",
    "print(train_cols - test_cols)\n",
    "print(test_cols - train_cols)\n",
    "\n",
    "from sklearn.utils import shuffle\n",
    "\n",
    "data_train = shuffle(data_train)\n",
    "\n",
    "Y_train = data_train['attendance'].to_numpy()\n",
    "X_train = data_train.drop(['attendance'], axis=1).to_numpy()\n",
    "\n",
    "Y_test = data_test['attendance'].to_numpy()\n",
    "X_test = data_test.drop(['attendance'], axis=1).to_numpy()\n",
    "\n",
    "# print shape of data\n",
    "print(\"X_train: \", X_train.shape)\n",
    "print(\"Y_train\", Y_train.shape)\n",
    "print(\"X_test\", X_test.shape)\n",
    "print(\"Y_test\", Y_test.shape)"
   ]
  },
  {
   "cell_type": "markdown",
   "metadata": {},
   "source": [
    "### KFold Cross Validation (with 5 folds)"
   ]
  },
  {
   "cell_type": "code",
   "execution_count": 4,
   "metadata": {},
   "outputs": [
    {
     "data": {
      "text/plain": [
       "5"
      ]
     },
     "execution_count": 4,
     "metadata": {},
     "output_type": "execute_result"
    }
   ],
   "source": [
    "# use 5-folds cross validation to find the best alpha\n",
    "from sklearn.model_selection import KFold, GridSearchCV\n",
    "from sklearn.metrics import mean_squared_error\n",
    "\n",
    "kf = KFold(n_splits=5, shuffle=True)\n",
    "kf.get_n_splits(X_train)"
   ]
  },
  {
   "cell_type": "code",
   "execution_count": 5,
   "metadata": {},
   "outputs": [
    {
     "name": "stdout",
     "output_type": "stream",
     "text": [
      "[1.00000000e-03 2.06913808e-03 4.28133240e-03 8.85866790e-03\n",
      " 1.83298071e-02 3.79269019e-02 7.84759970e-02 1.62377674e-01\n",
      " 3.35981829e-01 6.95192796e-01 1.43844989e+00 2.97635144e+00\n",
      " 6.15848211e+00 1.27427499e+01 2.63665090e+01 5.45559478e+01\n",
      " 1.12883789e+02 2.33572147e+02 4.83293024e+02 1.00000000e+03]\n"
     ]
    }
   ],
   "source": [
    "# use grid search to find the best alpha\n",
    "alphas = np.logspace(-3, 3, 20)\n",
    "print(alphas)"
   ]
  },
  {
   "cell_type": "code",
   "execution_count": 6,
   "metadata": {},
   "outputs": [
    {
     "name": "stdout",
     "output_type": "stream",
     "text": [
      "best alpha:  2.976351441631316\n"
     ]
    }
   ],
   "source": [
    "model = Ridge()\n",
    "grid = GridSearchCV(estimator=model, param_grid=dict(alpha=alphas), cv=kf, scoring='neg_root_mean_squared_error')\n",
    "grid.fit(X_train, Y_train)\n",
    "\n",
    "print(\"best alpha: \", grid.best_estimator_.alpha)\n"
   ]
  },
  {
   "cell_type": "markdown",
   "metadata": {},
   "source": [
    "#### Train the model with the best alpha"
   ]
  },
  {
   "cell_type": "code",
   "execution_count": 7,
   "metadata": {},
   "outputs": [
    {
     "data": {
      "text/plain": [
       "Ridge(alpha=2.976351441631316)"
      ]
     },
     "execution_count": 7,
     "metadata": {},
     "output_type": "execute_result"
    }
   ],
   "source": [
    "best_alpha = grid.best_estimator_.alpha\n",
    "\n",
    "# train the model with the best alpha\n",
    "best_model = Ridge(alpha=best_alpha)\n",
    "best_model.fit(X_train, Y_train)"
   ]
  },
  {
   "cell_type": "code",
   "execution_count": 8,
   "metadata": {},
   "outputs": [
    {
     "name": "stdout",
     "output_type": "stream",
     "text": [
      "Train MSE:  26453178.283040363\n",
      "Train RMSE:  5143.265332747316\n",
      "Train MAE:  3986.715834617138\n",
      "Train MAPE:  0.1605140671248119\n"
     ]
    }
   ],
   "source": [
    "from sklearn.metrics import mean_squared_error, mean_absolute_error, mean_absolute_percentage_error\n",
    "\n",
    "train_predict = best_model.predict(X_train)\n",
    "print(\"Train MSE: \", mean_squared_error(Y_train, train_predict))\n",
    "print(\"Train RMSE: \", np.sqrt(mean_squared_error(Y_train, train_predict)))\n",
    "print(\"Train MAE: \", mean_absolute_error(Y_train, train_predict))\n",
    "print(\"Train MAPE: \", mean_absolute_percentage_error(Y_train, train_predict))"
   ]
  },
  {
   "cell_type": "code",
   "execution_count": 9,
   "metadata": {},
   "outputs": [
    {
     "name": "stdout",
     "output_type": "stream",
     "text": [
      "top 10 features with the highest coefficients:\n",
      " team2_name_LAD                 7248.621969\n",
      "team2_name_STL                 5542.191659\n",
      "team2_name_LAA                 5473.253064\n",
      "day_Saturday                   4799.031389\n",
      "team2_name_SFG                 4683.151973\n",
      "team1_name_BOS                 4233.115932\n",
      "team2_name_NYY                 4228.676330\n",
      "home_team_avg_att_last_year    3899.217351\n",
      "team1_name_CHC                 3814.660223\n",
      "team1_name_NYY                 3713.577660\n",
      "dtype: float64\n"
     ]
    }
   ],
   "source": [
    "# print top 10 features with the highest coefficients\n",
    "coef = pd.Series(best_model.coef_, index = data_train.drop(['attendance'], axis=1).columns)\n",
    "print(\"top 10 features with the highest coefficients:\\n\", coef.sort_values(ascending=False)[:10])"
   ]
  },
  {
   "cell_type": "code",
   "execution_count": 10,
   "metadata": {},
   "outputs": [
    {
     "name": "stdout",
     "output_type": "stream",
     "text": [
      "top 10 features with the lowest coefficients:\n",
      " team2_name_BAL      -3200.742975\n",
      "team1_name_COL      -3370.459045\n",
      "team2_name_OAK      -3423.039754\n",
      "team2_name_PIT      -4498.787818\n",
      "team2_pre_loss      -4831.469553\n",
      "team2_name_MIA      -5096.218400\n",
      "team2_pre_win_pct   -5476.854859\n",
      "team2_name_CLE      -6421.014448\n",
      "team2_name_TBR      -6670.370595\n",
      "team1_pre_win_pct   -7367.872378\n",
      "dtype: float64\n"
     ]
    }
   ],
   "source": [
    "# also print the top 10 features with the lowest coefficients\n",
    "print(\"top 10 features with the lowest coefficients:\\n\", coef.sort_values(ascending=False)[-10:])"
   ]
  },
  {
   "cell_type": "code",
   "execution_count": 11,
   "metadata": {},
   "outputs": [
    {
     "name": "stdout",
     "output_type": "stream",
     "text": [
      "top 10 features with the highest coefficients with absolute value:\n",
      " team1_pre_win_pct    7367.872378\n",
      "team2_name_LAD       7248.621969\n",
      "team2_name_TBR       6670.370595\n",
      "team2_name_CLE       6421.014448\n",
      "team2_name_STL       5542.191659\n",
      "team2_pre_win_pct    5476.854859\n",
      "team2_name_LAA       5473.253064\n",
      "team2_name_MIA       5096.218400\n",
      "team2_pre_loss       4831.469553\n",
      "day_Saturday         4799.031389\n",
      "dtype: float64\n"
     ]
    }
   ],
   "source": [
    "# print top 10 features with the highest coefficients with absolute value\n",
    "print(\"top 10 features with the highest coefficients with absolute value:\\n\", coef.abs().sort_values(ascending=False)[:10])"
   ]
  },
  {
   "cell_type": "markdown",
   "metadata": {},
   "source": [
    "#### test on test data"
   ]
  },
  {
   "cell_type": "code",
   "execution_count": 12,
   "metadata": {},
   "outputs": [
    {
     "name": "stdout",
     "output_type": "stream",
     "text": [
      "Test MSE:  41186911.19626421\n",
      "Test RMSE:  6417.702953258604\n",
      "Test MAE:  4965.704296100361\n",
      "Test MAPE:  0.22846001764434362\n"
     ]
    }
   ],
   "source": [
    "test_predict = best_model.predict(X_test)\n",
    "print(\"Test MSE: \", mean_squared_error(Y_test, test_predict))\n",
    "print(\"Test RMSE: \", np.sqrt(mean_squared_error(Y_test, test_predict)))\n",
    "print(\"Test MAE: \", mean_absolute_error(Y_test, test_predict))\n",
    "print(\"Test MAPE: \", mean_absolute_percentage_error(Y_test, test_predict))"
   ]
  },
  {
   "cell_type": "code",
   "execution_count": null,
   "metadata": {},
   "outputs": [],
   "source": []
  }
 ],
 "metadata": {
  "kernelspec": {
   "display_name": "Python 3.9.12 ('python39')",
   "language": "python",
   "name": "python3"
  },
  "language_info": {
   "codemirror_mode": {
    "name": "ipython",
    "version": 3
   },
   "file_extension": ".py",
   "mimetype": "text/x-python",
   "name": "python",
   "nbconvert_exporter": "python",
   "pygments_lexer": "ipython3",
   "version": "3.9.12"
  },
  "orig_nbformat": 4,
  "vscode": {
   "interpreter": {
    "hash": "f1f0ca08df83ebe1228368c35aef2dd5bdef6efbf7330e5bb8a931893862d7fc"
   }
  }
 },
 "nbformat": 4,
 "nbformat_minor": 2
}
