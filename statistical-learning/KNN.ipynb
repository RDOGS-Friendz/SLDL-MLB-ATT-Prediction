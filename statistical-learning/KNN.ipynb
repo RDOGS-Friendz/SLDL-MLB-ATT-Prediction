{
 "cells": [
  {
   "cell_type": "markdown",
   "metadata": {},
   "source": [
    "# KNN"
   ]
  },
  {
   "cell_type": "code",
   "execution_count": 1,
   "metadata": {},
   "outputs": [],
   "source": [
    "import pandas as pd\n",
    "import numpy as np\n",
    "from sklearn.neighbors import KNeighborsRegressor"
   ]
  },
  {
   "cell_type": "markdown",
   "metadata": {},
   "source": [
    "## Read dataset"
   ]
  },
  {
   "cell_type": "code",
   "execution_count": 2,
   "metadata": {},
   "outputs": [
    {
     "data": {
      "text/html": [
       "<div>\n",
       "<style scoped>\n",
       "    .dataframe tbody tr th:only-of-type {\n",
       "        vertical-align: middle;\n",
       "    }\n",
       "\n",
       "    .dataframe tbody tr th {\n",
       "        vertical-align: top;\n",
       "    }\n",
       "\n",
       "    .dataframe thead th {\n",
       "        text-align: right;\n",
       "    }\n",
       "</style>\n",
       "<table border=\"1\" class=\"dataframe\">\n",
       "  <thead>\n",
       "    <tr style=\"text-align: right;\">\n",
       "      <th></th>\n",
       "      <th>attendance</th>\n",
       "      <th>is_federal_holiday</th>\n",
       "      <th>venue</th>\n",
       "      <th>on_grass</th>\n",
       "      <th>temperature</th>\n",
       "      <th>wind_speed</th>\n",
       "      <th>team1_name</th>\n",
       "      <th>team1_pre_win</th>\n",
       "      <th>team1_pre_loss</th>\n",
       "      <th>team1_pre_win_pct</th>\n",
       "      <th>...</th>\n",
       "      <th>weather_Rain</th>\n",
       "      <th>weather_Sunny</th>\n",
       "      <th>season_type</th>\n",
       "      <th>season</th>\n",
       "      <th>home_team_avg_att_last_year</th>\n",
       "      <th>start_hour</th>\n",
       "      <th>start_hour_label_afternoon</th>\n",
       "      <th>start_hour_label_evening</th>\n",
       "      <th>start_hour_label_night</th>\n",
       "      <th>start_hour_label_noon</th>\n",
       "    </tr>\n",
       "  </thead>\n",
       "  <tbody>\n",
       "    <tr>\n",
       "      <th>0</th>\n",
       "      <td>35055</td>\n",
       "      <td>0</td>\n",
       "      <td>Wrigley Field</td>\n",
       "      <td>1</td>\n",
       "      <td>-2.786672</td>\n",
       "      <td>-0.093090</td>\n",
       "      <td>STL</td>\n",
       "      <td>-1.62645</td>\n",
       "      <td>-1.654514</td>\n",
       "      <td>0.0</td>\n",
       "      <td>...</td>\n",
       "      <td>0</td>\n",
       "      <td>1</td>\n",
       "      <td>regular</td>\n",
       "      <td>2015</td>\n",
       "      <td>0.345307</td>\n",
       "      <td>19</td>\n",
       "      <td>0</td>\n",
       "      <td>1</td>\n",
       "      <td>0</td>\n",
       "      <td>0</td>\n",
       "    </tr>\n",
       "    <tr>\n",
       "      <th>1</th>\n",
       "      <td>49043</td>\n",
       "      <td>0</td>\n",
       "      <td>Chase Field</td>\n",
       "      <td>1</td>\n",
       "      <td>0.705205</td>\n",
       "      <td>-0.093090</td>\n",
       "      <td>SFG</td>\n",
       "      <td>-1.62645</td>\n",
       "      <td>-1.654514</td>\n",
       "      <td>0.0</td>\n",
       "      <td>...</td>\n",
       "      <td>0</td>\n",
       "      <td>1</td>\n",
       "      <td>regular</td>\n",
       "      <td>2015</td>\n",
       "      <td>-0.573314</td>\n",
       "      <td>19</td>\n",
       "      <td>0</td>\n",
       "      <td>1</td>\n",
       "      <td>0</td>\n",
       "      <td>0</td>\n",
       "    </tr>\n",
       "    <tr>\n",
       "      <th>2</th>\n",
       "      <td>43633</td>\n",
       "      <td>0</td>\n",
       "      <td>Great American Ball Park</td>\n",
       "      <td>1</td>\n",
       "      <td>-0.521670</td>\n",
       "      <td>1.490839</td>\n",
       "      <td>PIT</td>\n",
       "      <td>-1.62645</td>\n",
       "      <td>-1.654514</td>\n",
       "      <td>0.0</td>\n",
       "      <td>...</td>\n",
       "      <td>0</td>\n",
       "      <td>0</td>\n",
       "      <td>regular</td>\n",
       "      <td>2015</td>\n",
       "      <td>0.066649</td>\n",
       "      <td>16</td>\n",
       "      <td>1</td>\n",
       "      <td>0</td>\n",
       "      <td>0</td>\n",
       "      <td>0</td>\n",
       "    </tr>\n",
       "    <tr>\n",
       "      <th>3</th>\n",
       "      <td>45030</td>\n",
       "      <td>0</td>\n",
       "      <td>Comerica Park</td>\n",
       "      <td>1</td>\n",
       "      <td>-2.031671</td>\n",
       "      <td>-0.489072</td>\n",
       "      <td>MIN</td>\n",
       "      <td>-1.62645</td>\n",
       "      <td>-1.654514</td>\n",
       "      <td>0.0</td>\n",
       "      <td>...</td>\n",
       "      <td>0</td>\n",
       "      <td>0</td>\n",
       "      <td>regular</td>\n",
       "      <td>2015</td>\n",
       "      <td>0.766348</td>\n",
       "      <td>13</td>\n",
       "      <td>0</td>\n",
       "      <td>0</td>\n",
       "      <td>0</td>\n",
       "      <td>1</td>\n",
       "    </tr>\n",
       "    <tr>\n",
       "      <th>4</th>\n",
       "      <td>43753</td>\n",
       "      <td>0</td>\n",
       "      <td>Minute Maid Park</td>\n",
       "      <td>1</td>\n",
       "      <td>0.516455</td>\n",
       "      <td>1.292848</td>\n",
       "      <td>CLE</td>\n",
       "      <td>-1.62645</td>\n",
       "      <td>-1.654514</td>\n",
       "      <td>0.0</td>\n",
       "      <td>...</td>\n",
       "      <td>0</td>\n",
       "      <td>0</td>\n",
       "      <td>regular</td>\n",
       "      <td>2015</td>\n",
       "      <td>-1.084575</td>\n",
       "      <td>18</td>\n",
       "      <td>0</td>\n",
       "      <td>1</td>\n",
       "      <td>0</td>\n",
       "      <td>0</td>\n",
       "    </tr>\n",
       "  </tbody>\n",
       "</table>\n",
       "<p>5 rows × 217 columns</p>\n",
       "</div>"
      ],
      "text/plain": [
       "   attendance  is_federal_holiday                     venue  on_grass  \\\n",
       "0       35055                   0             Wrigley Field         1   \n",
       "1       49043                   0               Chase Field         1   \n",
       "2       43633                   0  Great American Ball Park         1   \n",
       "3       45030                   0             Comerica Park         1   \n",
       "4       43753                   0          Minute Maid Park         1   \n",
       "\n",
       "   temperature  wind_speed team1_name  team1_pre_win  team1_pre_loss  \\\n",
       "0    -2.786672   -0.093090        STL       -1.62645       -1.654514   \n",
       "1     0.705205   -0.093090        SFG       -1.62645       -1.654514   \n",
       "2    -0.521670    1.490839        PIT       -1.62645       -1.654514   \n",
       "3    -2.031671   -0.489072        MIN       -1.62645       -1.654514   \n",
       "4     0.516455    1.292848        CLE       -1.62645       -1.654514   \n",
       "\n",
       "   team1_pre_win_pct  ...  weather_Rain weather_Sunny  season_type  season  \\\n",
       "0                0.0  ...             0             1      regular    2015   \n",
       "1                0.0  ...             0             1      regular    2015   \n",
       "2                0.0  ...             0             0      regular    2015   \n",
       "3                0.0  ...             0             0      regular    2015   \n",
       "4                0.0  ...             0             0      regular    2015   \n",
       "\n",
       "   home_team_avg_att_last_year  start_hour  start_hour_label_afternoon  \\\n",
       "0                     0.345307          19                           0   \n",
       "1                    -0.573314          19                           0   \n",
       "2                     0.066649          16                           1   \n",
       "3                     0.766348          13                           0   \n",
       "4                    -1.084575          18                           0   \n",
       "\n",
       "   start_hour_label_evening  start_hour_label_night  start_hour_label_noon  \n",
       "0                         1                       0                      0  \n",
       "1                         1                       0                      0  \n",
       "2                         0                       0                      0  \n",
       "3                         0                       0                      1  \n",
       "4                         1                       0                      0  \n",
       "\n",
       "[5 rows x 217 columns]"
      ]
     },
     "execution_count": 2,
     "metadata": {},
     "output_type": "execute_result"
    }
   ],
   "source": [
    "data_train = pd.read_csv('processed_training.csv')\n",
    "data_test = pd.read_csv('processed_test.csv')\n",
    "data_train.head()"
   ]
  },
  {
   "cell_type": "code",
   "execution_count": 3,
   "metadata": {},
   "outputs": [],
   "source": [
    "data_train.drop(['venue', 'start_hour'], axis=1, inplace=True)\n",
    "data_test.drop(['venue', 'start_hour'], axis=1, inplace=True)"
   ]
  },
  {
   "cell_type": "code",
   "execution_count": 4,
   "metadata": {},
   "outputs": [],
   "source": [
    "data_train = pd.get_dummies(data_train, columns=['team1_name'])\n",
    "data_test = pd.get_dummies(data_test, columns=['team1_name'])"
   ]
  },
  {
   "cell_type": "code",
   "execution_count": 5,
   "metadata": {},
   "outputs": [],
   "source": [
    "data_train = pd.get_dummies(data_train, columns=['team2_name'])\n",
    "data_test = pd.get_dummies(data_test, columns=['team2_name'])"
   ]
  },
  {
   "cell_type": "code",
   "execution_count": 6,
   "metadata": {},
   "outputs": [],
   "source": [
    "data_train = pd.get_dummies(data_train, columns=['season_type'])\n",
    "data_test = pd.get_dummies(data_test, columns=['season_type'])"
   ]
  },
  {
   "cell_type": "code",
   "execution_count": 7,
   "metadata": {},
   "outputs": [],
   "source": [
    "train_cols = data_train.columns.tolist()\n",
    "data_test = data_test[train_cols].copy()"
   ]
  },
  {
   "cell_type": "code",
   "execution_count": 8,
   "metadata": {},
   "outputs": [
    {
     "name": "stdout",
     "output_type": "stream",
     "text": [
      "set()\n",
      "set()\n"
     ]
    }
   ],
   "source": [
    "print(set(data_train.columns) - set(data_test.columns))\n",
    "print(set(data_test.columns) - set(data_train.columns))"
   ]
  },
  {
   "cell_type": "code",
   "execution_count": 9,
   "metadata": {},
   "outputs": [],
   "source": [
    "from sklearn.utils import shuffle\n",
    "data_train = shuffle(data_train)"
   ]
  },
  {
   "cell_type": "code",
   "execution_count": 10,
   "metadata": {},
   "outputs": [
    {
     "name": "stdout",
     "output_type": "stream",
     "text": [
      "(12270, 273)\n"
     ]
    }
   ],
   "source": [
    "y_train = data_train['attendance'].to_numpy()\n",
    "y_test = data_test['attendance'].to_numpy()\n",
    "\n",
    "data_train.drop(['attendance'], axis=1, inplace=True)\n",
    "data_test.drop(['attendance'], axis=1, inplace=True)\n",
    "\n",
    "x_train = data_train.to_numpy()\n",
    "x_test = data_test.to_numpy()\n",
    "\n",
    "print(x_train.shape)"
   ]
  },
  {
   "cell_type": "markdown",
   "metadata": {},
   "source": [
    "## kfold"
   ]
  },
  {
   "cell_type": "code",
   "execution_count": 11,
   "metadata": {},
   "outputs": [],
   "source": [
    "from sklearn.model_selection import GridSearchCV"
   ]
  },
  {
   "cell_type": "code",
   "execution_count": 16,
   "metadata": {},
   "outputs": [
    {
     "data": {
      "text/html": [
       "<style>#sk-container-id-2 {color: black;background-color: white;}#sk-container-id-2 pre{padding: 0;}#sk-container-id-2 div.sk-toggleable {background-color: white;}#sk-container-id-2 label.sk-toggleable__label {cursor: pointer;display: block;width: 100%;margin-bottom: 0;padding: 0.3em;box-sizing: border-box;text-align: center;}#sk-container-id-2 label.sk-toggleable__label-arrow:before {content: \"▸\";float: left;margin-right: 0.25em;color: #696969;}#sk-container-id-2 label.sk-toggleable__label-arrow:hover:before {color: black;}#sk-container-id-2 div.sk-estimator:hover label.sk-toggleable__label-arrow:before {color: black;}#sk-container-id-2 div.sk-toggleable__content {max-height: 0;max-width: 0;overflow: hidden;text-align: left;background-color: #f0f8ff;}#sk-container-id-2 div.sk-toggleable__content pre {margin: 0.2em;color: black;border-radius: 0.25em;background-color: #f0f8ff;}#sk-container-id-2 input.sk-toggleable__control:checked~div.sk-toggleable__content {max-height: 200px;max-width: 100%;overflow: auto;}#sk-container-id-2 input.sk-toggleable__control:checked~label.sk-toggleable__label-arrow:before {content: \"▾\";}#sk-container-id-2 div.sk-estimator input.sk-toggleable__control:checked~label.sk-toggleable__label {background-color: #d4ebff;}#sk-container-id-2 div.sk-label input.sk-toggleable__control:checked~label.sk-toggleable__label {background-color: #d4ebff;}#sk-container-id-2 input.sk-hidden--visually {border: 0;clip: rect(1px 1px 1px 1px);clip: rect(1px, 1px, 1px, 1px);height: 1px;margin: -1px;overflow: hidden;padding: 0;position: absolute;width: 1px;}#sk-container-id-2 div.sk-estimator {font-family: monospace;background-color: #f0f8ff;border: 1px dotted black;border-radius: 0.25em;box-sizing: border-box;margin-bottom: 0.5em;}#sk-container-id-2 div.sk-estimator:hover {background-color: #d4ebff;}#sk-container-id-2 div.sk-parallel-item::after {content: \"\";width: 100%;border-bottom: 1px solid gray;flex-grow: 1;}#sk-container-id-2 div.sk-label:hover label.sk-toggleable__label {background-color: #d4ebff;}#sk-container-id-2 div.sk-serial::before {content: \"\";position: absolute;border-left: 1px solid gray;box-sizing: border-box;top: 0;bottom: 0;left: 50%;z-index: 0;}#sk-container-id-2 div.sk-serial {display: flex;flex-direction: column;align-items: center;background-color: white;padding-right: 0.2em;padding-left: 0.2em;position: relative;}#sk-container-id-2 div.sk-item {position: relative;z-index: 1;}#sk-container-id-2 div.sk-parallel {display: flex;align-items: stretch;justify-content: center;background-color: white;position: relative;}#sk-container-id-2 div.sk-item::before, #sk-container-id-2 div.sk-parallel-item::before {content: \"\";position: absolute;border-left: 1px solid gray;box-sizing: border-box;top: 0;bottom: 0;left: 50%;z-index: -1;}#sk-container-id-2 div.sk-parallel-item {display: flex;flex-direction: column;z-index: 1;position: relative;background-color: white;}#sk-container-id-2 div.sk-parallel-item:first-child::after {align-self: flex-end;width: 50%;}#sk-container-id-2 div.sk-parallel-item:last-child::after {align-self: flex-start;width: 50%;}#sk-container-id-2 div.sk-parallel-item:only-child::after {width: 0;}#sk-container-id-2 div.sk-dashed-wrapped {border: 1px dashed gray;margin: 0 0.4em 0.5em 0.4em;box-sizing: border-box;padding-bottom: 0.4em;background-color: white;}#sk-container-id-2 div.sk-label label {font-family: monospace;font-weight: bold;display: inline-block;line-height: 1.2em;}#sk-container-id-2 div.sk-label-container {text-align: center;}#sk-container-id-2 div.sk-container {/* jupyter's `normalize.less` sets `[hidden] { display: none; }` but bootstrap.min.css set `[hidden] { display: none !important; }` so we also need the `!important` here to be able to override the default hidden behavior on the sphinx rendered scikit-learn.org. See: https://github.com/scikit-learn/scikit-learn/issues/21755 */display: inline-block !important;position: relative;}#sk-container-id-2 div.sk-text-repr-fallback {display: none;}</style><div id=\"sk-container-id-2\" class=\"sk-top-container\"><div class=\"sk-text-repr-fallback\"><pre>GridSearchCV(cv=5, estimator=KNeighborsRegressor(n_jobs=-1), n_jobs=-1,\n",
       "             param_grid={&#x27;algorithm&#x27;: [&#x27;auto&#x27;, &#x27;ball_tree&#x27;, &#x27;kd_tree&#x27;, &#x27;brute&#x27;],\n",
       "                         &#x27;n_neighbors&#x27;: [3, 5, 10, 20, 30, 50, 100],\n",
       "                         &#x27;p&#x27;: [1, 2], &#x27;weights&#x27;: [&#x27;uniform&#x27;, &#x27;distance&#x27;]},\n",
       "             refit=&#x27;neg_root_mean_squared_error&#x27;,\n",
       "             scoring=[&#x27;neg_mean_squared_error&#x27;, &#x27;neg_root_mean_squared_error&#x27;,\n",
       "                      &#x27;neg_mean_absolute_error&#x27;,\n",
       "                      &#x27;neg_mean_absolute_percentage_error&#x27;])</pre><b>In a Jupyter environment, please rerun this cell to show the HTML representation or trust the notebook. <br />On GitHub, the HTML representation is unable to render, please try loading this page with nbviewer.org.</b></div><div class=\"sk-container\" hidden><div class=\"sk-item sk-dashed-wrapped\"><div class=\"sk-label-container\"><div class=\"sk-label sk-toggleable\"><input class=\"sk-toggleable__control sk-hidden--visually\" id=\"sk-estimator-id-4\" type=\"checkbox\" ><label for=\"sk-estimator-id-4\" class=\"sk-toggleable__label sk-toggleable__label-arrow\">GridSearchCV</label><div class=\"sk-toggleable__content\"><pre>GridSearchCV(cv=5, estimator=KNeighborsRegressor(n_jobs=-1), n_jobs=-1,\n",
       "             param_grid={&#x27;algorithm&#x27;: [&#x27;auto&#x27;, &#x27;ball_tree&#x27;, &#x27;kd_tree&#x27;, &#x27;brute&#x27;],\n",
       "                         &#x27;n_neighbors&#x27;: [3, 5, 10, 20, 30, 50, 100],\n",
       "                         &#x27;p&#x27;: [1, 2], &#x27;weights&#x27;: [&#x27;uniform&#x27;, &#x27;distance&#x27;]},\n",
       "             refit=&#x27;neg_root_mean_squared_error&#x27;,\n",
       "             scoring=[&#x27;neg_mean_squared_error&#x27;, &#x27;neg_root_mean_squared_error&#x27;,\n",
       "                      &#x27;neg_mean_absolute_error&#x27;,\n",
       "                      &#x27;neg_mean_absolute_percentage_error&#x27;])</pre></div></div></div><div class=\"sk-parallel\"><div class=\"sk-parallel-item\"><div class=\"sk-item\"><div class=\"sk-label-container\"><div class=\"sk-label sk-toggleable\"><input class=\"sk-toggleable__control sk-hidden--visually\" id=\"sk-estimator-id-5\" type=\"checkbox\" ><label for=\"sk-estimator-id-5\" class=\"sk-toggleable__label sk-toggleable__label-arrow\">estimator: KNeighborsRegressor</label><div class=\"sk-toggleable__content\"><pre>KNeighborsRegressor(n_jobs=-1)</pre></div></div></div><div class=\"sk-serial\"><div class=\"sk-item\"><div class=\"sk-estimator sk-toggleable\"><input class=\"sk-toggleable__control sk-hidden--visually\" id=\"sk-estimator-id-6\" type=\"checkbox\" ><label for=\"sk-estimator-id-6\" class=\"sk-toggleable__label sk-toggleable__label-arrow\">KNeighborsRegressor</label><div class=\"sk-toggleable__content\"><pre>KNeighborsRegressor(n_jobs=-1)</pre></div></div></div></div></div></div></div></div></div></div>"
      ],
      "text/plain": [
       "GridSearchCV(cv=5, estimator=KNeighborsRegressor(n_jobs=-1), n_jobs=-1,\n",
       "             param_grid={'algorithm': ['auto', 'ball_tree', 'kd_tree', 'brute'],\n",
       "                         'n_neighbors': [3, 5, 10, 20, 30, 50, 100],\n",
       "                         'p': [1, 2], 'weights': ['uniform', 'distance']},\n",
       "             refit='neg_root_mean_squared_error',\n",
       "             scoring=['neg_mean_squared_error', 'neg_root_mean_squared_error',\n",
       "                      'neg_mean_absolute_error',\n",
       "                      'neg_mean_absolute_percentage_error'])"
      ]
     },
     "execution_count": 16,
     "metadata": {},
     "output_type": "execute_result"
    }
   ],
   "source": [
    "scoring = ['neg_mean_squared_error', 'neg_root_mean_squared_error', 'neg_mean_absolute_error', 'neg_mean_absolute_percentage_error']\n",
    "parameters = {'n_neighbors': [3, 5, 10, 20, 30, 50, 100], 'p': [1, 2],\n",
    " 'weights': ['uniform', 'distance'], 'algorithm': ['auto', 'ball_tree', 'kd_tree', 'brute']}\n",
    "model = KNeighborsRegressor(n_jobs=-1)\n",
    "clf = GridSearchCV(model, parameters, cv=5, n_jobs=-1, scoring=scoring, refit='neg_root_mean_squared_error')\n",
    "clf.fit(x_train, y_train)"
   ]
  },
  {
   "cell_type": "code",
   "execution_count": 17,
   "metadata": {},
   "outputs": [
    {
     "name": "stdout",
     "output_type": "stream",
     "text": [
      "Best estimators: KNeighborsRegressor(n_jobs=-1, p=1, weights='distance')\n",
      "Best parameters: {'algorithm': 'auto', 'n_neighbors': 5, 'p': 1, 'weights': 'distance'}\n"
     ]
    }
   ],
   "source": [
    "print(\"Best estimators:\", clf.best_estimator_)\n",
    "print(\"Best parameters:\", clf.best_params_)"
   ]
  },
  {
   "cell_type": "code",
   "execution_count": 18,
   "metadata": {},
   "outputs": [
    {
     "data": {
      "text/html": [
       "<div>\n",
       "<style scoped>\n",
       "    .dataframe tbody tr th:only-of-type {\n",
       "        vertical-align: middle;\n",
       "    }\n",
       "\n",
       "    .dataframe tbody tr th {\n",
       "        vertical-align: top;\n",
       "    }\n",
       "\n",
       "    .dataframe thead th {\n",
       "        text-align: right;\n",
       "    }\n",
       "</style>\n",
       "<table border=\"1\" class=\"dataframe\">\n",
       "  <thead>\n",
       "    <tr style=\"text-align: right;\">\n",
       "      <th></th>\n",
       "      <th>mean_fit_time</th>\n",
       "      <th>std_fit_time</th>\n",
       "      <th>mean_score_time</th>\n",
       "      <th>std_score_time</th>\n",
       "      <th>param_algorithm</th>\n",
       "      <th>param_n_neighbors</th>\n",
       "      <th>param_p</th>\n",
       "      <th>param_weights</th>\n",
       "      <th>params</th>\n",
       "      <th>split0_test_neg_mean_squared_error</th>\n",
       "      <th>...</th>\n",
       "      <th>std_test_neg_mean_absolute_error</th>\n",
       "      <th>rank_test_neg_mean_absolute_error</th>\n",
       "      <th>split0_test_neg_mean_absolute_percentage_error</th>\n",
       "      <th>split1_test_neg_mean_absolute_percentage_error</th>\n",
       "      <th>split2_test_neg_mean_absolute_percentage_error</th>\n",
       "      <th>split3_test_neg_mean_absolute_percentage_error</th>\n",
       "      <th>split4_test_neg_mean_absolute_percentage_error</th>\n",
       "      <th>mean_test_neg_mean_absolute_percentage_error</th>\n",
       "      <th>std_test_neg_mean_absolute_percentage_error</th>\n",
       "      <th>rank_test_neg_mean_absolute_percentage_error</th>\n",
       "    </tr>\n",
       "  </thead>\n",
       "  <tbody>\n",
       "    <tr>\n",
       "      <th>0</th>\n",
       "      <td>0.036198</td>\n",
       "      <td>0.002786</td>\n",
       "      <td>8.969412</td>\n",
       "      <td>0.511707</td>\n",
       "      <td>auto</td>\n",
       "      <td>3</td>\n",
       "      <td>1</td>\n",
       "      <td>uniform</td>\n",
       "      <td>{'algorithm': 'auto', 'n_neighbors': 3, 'p': 1...</td>\n",
       "      <td>-3.198338e+07</td>\n",
       "      <td>...</td>\n",
       "      <td>82.828566</td>\n",
       "      <td>9</td>\n",
       "      <td>-0.163238</td>\n",
       "      <td>-0.163793</td>\n",
       "      <td>-0.156657</td>\n",
       "      <td>-0.157887</td>\n",
       "      <td>-0.169582</td>\n",
       "      <td>-0.162232</td>\n",
       "      <td>0.004635</td>\n",
       "      <td>9</td>\n",
       "    </tr>\n",
       "    <tr>\n",
       "      <th>1</th>\n",
       "      <td>0.041615</td>\n",
       "      <td>0.010172</td>\n",
       "      <td>9.214550</td>\n",
       "      <td>0.899181</td>\n",
       "      <td>auto</td>\n",
       "      <td>3</td>\n",
       "      <td>1</td>\n",
       "      <td>distance</td>\n",
       "      <td>{'algorithm': 'auto', 'n_neighbors': 3, 'p': 1...</td>\n",
       "      <td>-3.027757e+07</td>\n",
       "      <td>...</td>\n",
       "      <td>83.594107</td>\n",
       "      <td>1</td>\n",
       "      <td>-0.157106</td>\n",
       "      <td>-0.156979</td>\n",
       "      <td>-0.150450</td>\n",
       "      <td>-0.152231</td>\n",
       "      <td>-0.162908</td>\n",
       "      <td>-0.155935</td>\n",
       "      <td>0.004356</td>\n",
       "      <td>1</td>\n",
       "    </tr>\n",
       "    <tr>\n",
       "      <th>2</th>\n",
       "      <td>0.038991</td>\n",
       "      <td>0.002593</td>\n",
       "      <td>0.737424</td>\n",
       "      <td>0.098235</td>\n",
       "      <td>auto</td>\n",
       "      <td>3</td>\n",
       "      <td>2</td>\n",
       "      <td>uniform</td>\n",
       "      <td>{'algorithm': 'auto', 'n_neighbors': 3, 'p': 2...</td>\n",
       "      <td>-3.387858e+07</td>\n",
       "      <td>...</td>\n",
       "      <td>91.303532</td>\n",
       "      <td>21</td>\n",
       "      <td>-0.171562</td>\n",
       "      <td>-0.169354</td>\n",
       "      <td>-0.162304</td>\n",
       "      <td>-0.163784</td>\n",
       "      <td>-0.177062</td>\n",
       "      <td>-0.168813</td>\n",
       "      <td>0.005358</td>\n",
       "      <td>17</td>\n",
       "    </tr>\n",
       "    <tr>\n",
       "      <th>3</th>\n",
       "      <td>0.047268</td>\n",
       "      <td>0.005237</td>\n",
       "      <td>0.848741</td>\n",
       "      <td>0.073533</td>\n",
       "      <td>auto</td>\n",
       "      <td>3</td>\n",
       "      <td>2</td>\n",
       "      <td>distance</td>\n",
       "      <td>{'algorithm': 'auto', 'n_neighbors': 3, 'p': 2...</td>\n",
       "      <td>-3.275833e+07</td>\n",
       "      <td>...</td>\n",
       "      <td>87.971539</td>\n",
       "      <td>15</td>\n",
       "      <td>-0.167665</td>\n",
       "      <td>-0.165623</td>\n",
       "      <td>-0.159062</td>\n",
       "      <td>-0.160823</td>\n",
       "      <td>-0.173394</td>\n",
       "      <td>-0.165314</td>\n",
       "      <td>0.005102</td>\n",
       "      <td>15</td>\n",
       "    </tr>\n",
       "    <tr>\n",
       "      <th>4</th>\n",
       "      <td>0.048969</td>\n",
       "      <td>0.012149</td>\n",
       "      <td>9.654542</td>\n",
       "      <td>0.862578</td>\n",
       "      <td>auto</td>\n",
       "      <td>5</td>\n",
       "      <td>1</td>\n",
       "      <td>uniform</td>\n",
       "      <td>{'algorithm': 'auto', 'n_neighbors': 5, 'p': 1...</td>\n",
       "      <td>-3.180218e+07</td>\n",
       "      <td>...</td>\n",
       "      <td>71.549185</td>\n",
       "      <td>29</td>\n",
       "      <td>-0.169857</td>\n",
       "      <td>-0.171104</td>\n",
       "      <td>-0.165079</td>\n",
       "      <td>-0.164769</td>\n",
       "      <td>-0.178426</td>\n",
       "      <td>-0.169847</td>\n",
       "      <td>0.004974</td>\n",
       "      <td>25</td>\n",
       "    </tr>\n",
       "  </tbody>\n",
       "</table>\n",
       "<p>5 rows × 41 columns</p>\n",
       "</div>"
      ],
      "text/plain": [
       "   mean_fit_time  std_fit_time  mean_score_time  std_score_time  \\\n",
       "0       0.036198      0.002786         8.969412        0.511707   \n",
       "1       0.041615      0.010172         9.214550        0.899181   \n",
       "2       0.038991      0.002593         0.737424        0.098235   \n",
       "3       0.047268      0.005237         0.848741        0.073533   \n",
       "4       0.048969      0.012149         9.654542        0.862578   \n",
       "\n",
       "  param_algorithm param_n_neighbors param_p param_weights  \\\n",
       "0            auto                 3       1       uniform   \n",
       "1            auto                 3       1      distance   \n",
       "2            auto                 3       2       uniform   \n",
       "3            auto                 3       2      distance   \n",
       "4            auto                 5       1       uniform   \n",
       "\n",
       "                                              params  \\\n",
       "0  {'algorithm': 'auto', 'n_neighbors': 3, 'p': 1...   \n",
       "1  {'algorithm': 'auto', 'n_neighbors': 3, 'p': 1...   \n",
       "2  {'algorithm': 'auto', 'n_neighbors': 3, 'p': 2...   \n",
       "3  {'algorithm': 'auto', 'n_neighbors': 3, 'p': 2...   \n",
       "4  {'algorithm': 'auto', 'n_neighbors': 5, 'p': 1...   \n",
       "\n",
       "   split0_test_neg_mean_squared_error  ...  std_test_neg_mean_absolute_error  \\\n",
       "0                       -3.198338e+07  ...                         82.828566   \n",
       "1                       -3.027757e+07  ...                         83.594107   \n",
       "2                       -3.387858e+07  ...                         91.303532   \n",
       "3                       -3.275833e+07  ...                         87.971539   \n",
       "4                       -3.180218e+07  ...                         71.549185   \n",
       "\n",
       "   rank_test_neg_mean_absolute_error  \\\n",
       "0                                  9   \n",
       "1                                  1   \n",
       "2                                 21   \n",
       "3                                 15   \n",
       "4                                 29   \n",
       "\n",
       "   split0_test_neg_mean_absolute_percentage_error  \\\n",
       "0                                       -0.163238   \n",
       "1                                       -0.157106   \n",
       "2                                       -0.171562   \n",
       "3                                       -0.167665   \n",
       "4                                       -0.169857   \n",
       "\n",
       "   split1_test_neg_mean_absolute_percentage_error  \\\n",
       "0                                       -0.163793   \n",
       "1                                       -0.156979   \n",
       "2                                       -0.169354   \n",
       "3                                       -0.165623   \n",
       "4                                       -0.171104   \n",
       "\n",
       "   split2_test_neg_mean_absolute_percentage_error  \\\n",
       "0                                       -0.156657   \n",
       "1                                       -0.150450   \n",
       "2                                       -0.162304   \n",
       "3                                       -0.159062   \n",
       "4                                       -0.165079   \n",
       "\n",
       "   split3_test_neg_mean_absolute_percentage_error  \\\n",
       "0                                       -0.157887   \n",
       "1                                       -0.152231   \n",
       "2                                       -0.163784   \n",
       "3                                       -0.160823   \n",
       "4                                       -0.164769   \n",
       "\n",
       "   split4_test_neg_mean_absolute_percentage_error  \\\n",
       "0                                       -0.169582   \n",
       "1                                       -0.162908   \n",
       "2                                       -0.177062   \n",
       "3                                       -0.173394   \n",
       "4                                       -0.178426   \n",
       "\n",
       "   mean_test_neg_mean_absolute_percentage_error  \\\n",
       "0                                     -0.162232   \n",
       "1                                     -0.155935   \n",
       "2                                     -0.168813   \n",
       "3                                     -0.165314   \n",
       "4                                     -0.169847   \n",
       "\n",
       "   std_test_neg_mean_absolute_percentage_error  \\\n",
       "0                                     0.004635   \n",
       "1                                     0.004356   \n",
       "2                                     0.005358   \n",
       "3                                     0.005102   \n",
       "4                                     0.004974   \n",
       "\n",
       "   rank_test_neg_mean_absolute_percentage_error  \n",
       "0                                             9  \n",
       "1                                             1  \n",
       "2                                            17  \n",
       "3                                            15  \n",
       "4                                            25  \n",
       "\n",
       "[5 rows x 41 columns]"
      ]
     },
     "execution_count": 18,
     "metadata": {},
     "output_type": "execute_result"
    }
   ],
   "source": [
    "df_res = pd.DataFrame(data=clf.cv_results_)\n",
    "df_res.head()"
   ]
  },
  {
   "cell_type": "markdown",
   "metadata": {},
   "source": [
    "## Train with best params"
   ]
  },
  {
   "cell_type": "code",
   "execution_count": 20,
   "metadata": {},
   "outputs": [],
   "source": [
    "knn = KNeighborsRegressor(algorithm='auto', n_neighbors=5, p=1, weights='distance', n_jobs=-1)\n",
    "knn = knn.fit(x_train, y_train)"
   ]
  },
  {
   "cell_type": "code",
   "execution_count": 21,
   "metadata": {},
   "outputs": [
    {
     "name": "stdout",
     "output_type": "stream",
     "text": [
      "Train MSE: 0.0\n",
      "Train RMSE: 0.0\n",
      "Train MAE: 0.0\n",
      "Train MAPE: 0.0\n"
     ]
    }
   ],
   "source": [
    "from sklearn.metrics import mean_squared_error, mean_absolute_error, mean_absolute_percentage_error\n",
    "train_predict = knn.predict(x_train)\n",
    "print(\"Train MSE:\", mean_squared_error(y_train, train_predict))\n",
    "print(\"Train RMSE:\", mean_squared_error(y_train, train_predict, squared=False))\n",
    "print(\"Train MAE:\", mean_absolute_error(y_train, train_predict))\n",
    "print(\"Train MAPE:\", mean_absolute_percentage_error(y_train, train_predict))"
   ]
  },
  {
   "cell_type": "markdown",
   "metadata": {},
   "source": [
    "## Testing set"
   ]
  },
  {
   "cell_type": "code",
   "execution_count": 22,
   "metadata": {},
   "outputs": [
    {
     "name": "stdout",
     "output_type": "stream",
     "text": [
      "Test MSE: 60502758.128228575\n",
      "Test RMSE: 7778.351890228969\n",
      "Test MAE: 6060.722916084423\n",
      "Test MAPE: 0.2829741209038142\n"
     ]
    }
   ],
   "source": [
    "from sklearn.metrics import mean_squared_error, mean_absolute_error, mean_absolute_percentage_error\n",
    "y_pred = knn.predict(x_test)\n",
    "print(\"Test MSE:\", mean_squared_error(y_test, y_pred))\n",
    "print(\"Test RMSE:\", mean_squared_error(y_test, y_pred, squared=False))\n",
    "print(\"Test MAE:\", mean_absolute_error(y_test, y_pred))\n",
    "print(\"Test MAPE:\", mean_absolute_percentage_error(y_test, y_pred))"
   ]
  },
  {
   "cell_type": "markdown",
   "metadata": {},
   "source": [
    "## Save model"
   ]
  },
  {
   "cell_type": "code",
   "execution_count": 23,
   "metadata": {},
   "outputs": [],
   "source": [
    "import pickle\n",
    "from datetime import datetime\n",
    "time = datetime.today().strftime('%Y%m%d_%H%M%S')\n",
    "filename = f'./model/knn_model_{time}.sav'\n",
    "pickle.dump(knn, open(filename, 'wb'))\n",
    "cv_filename = f'./model/knn_model_{time}_cv.csv'\n",
    "df_res.to_csv(cv_filename, index=False)\n",
    "# loaded_model = pickle.load(open(filename, 'rb'))"
   ]
  },
  {
   "cell_type": "code",
   "execution_count": null,
   "metadata": {},
   "outputs": [],
   "source": []
  }
 ],
 "metadata": {
  "kernelspec": {
   "display_name": "Python 3.9.13 64-bit (microsoft store)",
   "language": "python",
   "name": "python3"
  },
  "language_info": {
   "codemirror_mode": {
    "name": "ipython",
    "version": 3
   },
   "file_extension": ".py",
   "mimetype": "text/x-python",
   "name": "python",
   "nbconvert_exporter": "python",
   "pygments_lexer": "ipython3",
   "version": "3.9.13"
  },
  "orig_nbformat": 4,
  "vscode": {
   "interpreter": {
    "hash": "640829cba0c996ec1edfe38112f06d06ccbb529c69ad00e2e287bb19236004a2"
   }
  }
 },
 "nbformat": 4,
 "nbformat_minor": 2
}
