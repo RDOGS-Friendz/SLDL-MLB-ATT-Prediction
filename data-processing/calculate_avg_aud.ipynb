{
 "cells": [
  {
   "cell_type": "markdown",
   "metadata": {},
   "source": [
    "# Calculate average audience"
   ]
  },
  {
   "cell_type": "code",
   "execution_count": 2,
   "metadata": {},
   "outputs": [],
   "source": [
    "teams = ['ARI', 'ATL', 'BAL', 'BOS', 'CHC', 'CHW', 'CIN',\n",
    "       'CLE', 'COL', 'DET', 'HOU', 'KCR', 'LAA', 'LAD', 'MIA',\n",
    "       'MIL', 'MIN', 'NYM', 'NYY', 'OAK', 'PHI', 'PIT', 'SDP', \n",
    "       'SEA', 'SFG', 'STL', 'TBR', 'TEX', 'TOR', 'WSN']"
   ]
  },
  {
   "cell_type": "code",
   "execution_count": 3,
   "metadata": {},
   "outputs": [],
   "source": [
    "import pandas as pd\n",
    "import numpy as np"
   ]
  },
  {
   "cell_type": "code",
   "execution_count": 12,
   "metadata": {},
   "outputs": [
    {
     "name": "stdout",
     "output_type": "stream",
     "text": [
      "[26364.320987654322, 32776.79012345679, 16347.5875, 35993.851851851854, 38208.20987654321, 21425.64935064935, 22334.25925925926, 22008.12658227848, 36953.62962962963, 18767.875, 35276.135802469136, 18495.7375, 37321.135802469136, 49065.543209876545, 10016.074074074075, 36090.53086419753, 28435.79012345679, 30531.65, 41827.898734177215, 20626.345679012345, 33671.864197530864, 18412.827160493827, 29585.172839506173, 22112.456790123455, 33429.135802469136, 42967.81481481482, 14734.1875, 26333.25925925926, 21606.716049382718, 27898.53086419753]\n"
     ]
    }
   ],
   "source": [
    "avg_lists = []\n",
    "for team in teams:\n",
    "    df = pd.read_csv(\"../data/record/season_record_\" + team + \"_2019.csv\")\n",
    "    df = df[df['Home_Away'] == 'Home']\n",
    "    avg_lists.append(df['Attendance'].mean())\n",
    "print(avg_lists)"
   ]
  },
  {
   "cell_type": "code",
   "execution_count": 13,
   "metadata": {},
   "outputs": [],
   "source": [
    "df = pd.DataFrame({'Team': teams, 'Avg Attendance': avg_lists})\n",
    "df.to_csv(\"../data/stadium/avg_attendance_2019.csv\", index=False)"
   ]
  },
  {
   "cell_type": "code",
   "execution_count": null,
   "metadata": {},
   "outputs": [],
   "source": []
  }
 ],
 "metadata": {
  "kernelspec": {
   "display_name": "Python 3.9.13 64-bit (microsoft store)",
   "language": "python",
   "name": "python3"
  },
  "language_info": {
   "codemirror_mode": {
    "name": "ipython",
    "version": 3
   },
   "file_extension": ".py",
   "mimetype": "text/x-python",
   "name": "python",
   "nbconvert_exporter": "python",
   "pygments_lexer": "ipython3",
   "version": "3.9.13"
  },
  "orig_nbformat": 4,
  "vscode": {
   "interpreter": {
    "hash": "640829cba0c996ec1edfe38112f06d06ccbb529c69ad00e2e287bb19236004a2"
   }
  }
 },
 "nbformat": 4,
 "nbformat_minor": 2
}
