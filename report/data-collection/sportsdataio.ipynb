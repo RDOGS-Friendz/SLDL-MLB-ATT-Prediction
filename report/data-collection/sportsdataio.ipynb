{
 "cells": [
  {
   "attachments": {},
   "cell_type": "markdown",
   "metadata": {},
   "source": [
    "# Collect data from sportsiodata\n",
    "Due to some restriction, each ip can only call the api about 15th times, so you may need to change your ip when executing following cells.\n",
    "\n",
    "In each game, we collect following information:\n",
    "1. attendance\n",
    "2. history winning rate\n",
    "3. stadium information"
   ]
  },
  {
   "cell_type": "code",
   "execution_count": 1,
   "metadata": {},
   "outputs": [],
   "source": [
    "teams = ['ANA', 'ARI', 'ATL', 'BAL', 'BOS', 'CAL', 'CHC', 'CHW', 'CIN',\n",
    "       'CLE', 'COL', 'DET', 'FLA', 'HOU', 'KCR']\n",
    "teams2 = ['LAA', 'LAD', 'MIA',\n",
    "       'MIL', 'MIN', 'MON', 'NYM', 'NYY', 'OAK', 'PHI', 'PIT', 'SDP', 'SEA', 'SFG', 'STL']\n",
    "teams3 = ['TBD', 'TBR', 'TEX', 'TOR', 'WSN']"
   ]
  },
  {
   "cell_type": "code",
   "execution_count": 2,
   "metadata": {},
   "outputs": [],
   "source": [
    "from pybaseball import schedule_and_record"
   ]
  },
  {
   "cell_type": "code",
   "execution_count": 6,
   "metadata": {},
   "outputs": [],
   "source": [
    "def getSeasonRecord(team, year):\n",
    "    print(\"Current Team: \" + team + \" \" + str(year))\n",
    "    try:\n",
    "        df = schedule_and_record(year, team)\n",
    "        filename = \"./data/record/season_record_\" + team + \"_\" + str(year) + \".csv\"\n",
    "        df.to_csv(filename)\n",
    "        return df\n",
    "    except Exception as e:\n",
    "        print(\"[Error] \" + team + \" \" + str(year) + \"\\n\" + str(e))"
   ]
  },
  {
   "cell_type": "code",
   "execution_count": 7,
   "metadata": {},
   "outputs": [],
   "source": [
    "import warnings\n",
    "warnings.filterwarnings('ignore')"
   ]
  },
  {
   "cell_type": "code",
   "execution_count": 9,
   "metadata": {},
   "outputs": [],
   "source": [
    "year_list = [2014, 2015, 2016, 2017, 2018, 2019, 2022]"
   ]
  },
  {
   "cell_type": "code",
   "execution_count": 8,
   "metadata": {},
   "outputs": [
    {
     "name": "stdout",
     "output_type": "stream",
     "text": [
      "Current Team: TBD 2014\n",
      "[Error] TBD 2014\n",
      "Data cannot be retrieved for this team/year combo. Please verify that your team abbreviation is accurate and that the team existed during the season you are searching for.\n",
      "Current Team: TBR 2014\n",
      "Current Team: TEX 2014\n",
      "Current Team: TOR 2014\n",
      "Current Team: WSN 2014\n"
     ]
    }
   ],
   "source": [
    "for team in teams3:\n",
    "    for year in year_list:\n",
    "        getSeasonRecord(team, year)"
   ]
  },
  {
   "cell_type": "code",
   "execution_count": 10,
   "metadata": {},
   "outputs": [
    {
     "name": "stdout",
     "output_type": "stream",
     "text": [
      "Current Team: LAA 2014\n",
      "Current Team: LAD 2014\n",
      "Current Team: MIA 2014\n",
      "Current Team: MIL 2014\n",
      "Current Team: MIN 2014\n",
      "Current Team: MON 2014\n",
      "[Error] MON 2014\n",
      "Data cannot be retrieved for this team/year combo. Please verify that your team abbreviation is accurate and that the team existed during the season you are searching for.\n",
      "Current Team: NYM 2014\n",
      "Current Team: NYY 2014\n",
      "Current Team: OAK 2014\n",
      "Current Team: PHI 2014\n",
      "Current Team: PIT 2014\n",
      "Current Team: SDP 2014\n",
      "Current Team: SEA 2014\n",
      "Current Team: SFG 2014\n",
      "Current Team: STL 2014\n"
     ]
    }
   ],
   "source": [
    "for team in teams2:\n",
    "    for year in year_list:\n",
    "        getSeasonRecord(team, year)"
   ]
  },
  {
   "cell_type": "code",
   "execution_count": 11,
   "metadata": {},
   "outputs": [
    {
     "name": "stdout",
     "output_type": "stream",
     "text": [
      "Current Team: ANA 2014\n",
      "[Error] ANA 2014\n",
      "Data cannot be retrieved for this team/year combo. Please verify that your team abbreviation is accurate and that the team existed during the season you are searching for.\n",
      "Current Team: ARI 2014\n",
      "[Error] ARI 2014\n",
      "Data cannot be retrieved for this team/year combo. Please verify that your team abbreviation is accurate and that the team existed during the season you are searching for.\n",
      "Current Team: ATL 2014\n",
      "[Error] ATL 2014\n",
      "Data cannot be retrieved for this team/year combo. Please verify that your team abbreviation is accurate and that the team existed during the season you are searching for.\n",
      "Current Team: BAL 2014\n",
      "[Error] BAL 2014\n",
      "Data cannot be retrieved for this team/year combo. Please verify that your team abbreviation is accurate and that the team existed during the season you are searching for.\n",
      "Current Team: BOS 2014\n",
      "[Error] BOS 2014\n",
      "Data cannot be retrieved for this team/year combo. Please verify that your team abbreviation is accurate and that the team existed during the season you are searching for.\n",
      "Current Team: CAL 2014\n",
      "[Error] CAL 2014\n",
      "Data cannot be retrieved for this team/year combo. Please verify that your team abbreviation is accurate and that the team existed during the season you are searching for.\n",
      "Current Team: CHC 2014\n",
      "[Error] CHC 2014\n",
      "Data cannot be retrieved for this team/year combo. Please verify that your team abbreviation is accurate and that the team existed during the season you are searching for.\n",
      "Current Team: CHW 2014\n",
      "[Error] CHW 2014\n",
      "Data cannot be retrieved for this team/year combo. Please verify that your team abbreviation is accurate and that the team existed during the season you are searching for.\n",
      "Current Team: CIN 2014\n",
      "[Error] CIN 2014\n",
      "Data cannot be retrieved for this team/year combo. Please verify that your team abbreviation is accurate and that the team existed during the season you are searching for.\n",
      "Current Team: CLE 2014\n",
      "[Error] CLE 2014\n",
      "Data cannot be retrieved for this team/year combo. Please verify that your team abbreviation is accurate and that the team existed during the season you are searching for.\n",
      "Current Team: COL 2014\n",
      "[Error] COL 2014\n",
      "Data cannot be retrieved for this team/year combo. Please verify that your team abbreviation is accurate and that the team existed during the season you are searching for.\n",
      "Current Team: DET 2014\n",
      "[Error] DET 2014\n",
      "Data cannot be retrieved for this team/year combo. Please verify that your team abbreviation is accurate and that the team existed during the season you are searching for.\n",
      "Current Team: FLA 2014\n",
      "[Error] FLA 2014\n",
      "Data cannot be retrieved for this team/year combo. Please verify that your team abbreviation is accurate and that the team existed during the season you are searching for.\n",
      "Current Team: HOU 2014\n",
      "[Error] HOU 2014\n",
      "Data cannot be retrieved for this team/year combo. Please verify that your team abbreviation is accurate and that the team existed during the season you are searching for.\n",
      "Current Team: KCR 2014\n",
      "[Error] KCR 2014\n",
      "Data cannot be retrieved for this team/year combo. Please verify that your team abbreviation is accurate and that the team existed during the season you are searching for.\n"
     ]
    }
   ],
   "source": [
    "for team in teams:\n",
    "    for year in year_list:\n",
    "        getSeasonRecord(team, year)"
   ]
  },
  {
   "cell_type": "code",
   "execution_count": null,
   "metadata": {},
   "outputs": [],
   "source": []
  }
 ],
 "metadata": {
  "kernelspec": {
   "display_name": "base",
   "language": "python",
   "name": "python3"
  },
  "language_info": {
   "codemirror_mode": {
    "name": "ipython",
    "version": 3
   },
   "file_extension": ".py",
   "mimetype": "text/x-python",
   "name": "python",
   "nbconvert_exporter": "python",
   "pygments_lexer": "ipython3",
   "version": "3.8.8 (default, Apr 13 2021, 15:08:03) [MSC v.1916 64 bit (AMD64)]"
  },
  "orig_nbformat": 4,
  "vscode": {
   "interpreter": {
    "hash": "b881d7d647b99d6d14eaae6204912b6a54644d55796571ff1cc40dd37efe80a9"
   }
  }
 },
 "nbformat": 4,
 "nbformat_minor": 2
}
