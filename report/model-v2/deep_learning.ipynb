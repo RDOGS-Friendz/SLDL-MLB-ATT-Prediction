{
 "cells": [
  {
   "cell_type": "markdown",
   "source": [
    "## Deep learning regression for attendance prediction"
   ],
   "metadata": {
    "collapsed": false,
    "pycharm": {
     "name": "#%% md\n"
    }
   }
  },
  {
   "cell_type": "code",
   "execution_count": 1,
   "outputs": [],
   "source": [
    "import datetime\n",
    "import warnings\n",
    "# warnings.simplefilter(\"ignore\", UserWarning)\n",
    "import pandas as pd\n",
    "import numpy as np\n",
    "import torch\n",
    "import torch.nn as nn\n",
    "import torch.nn.functional as F\n",
    "from torch import optim\n",
    "from torch.utils.data import DataLoader, Dataset\n",
    "from sklearn.preprocessing import OneHotEncoder\n",
    "import random\n",
    "from tqdm.autonotebook import tqdm\n",
    "from sklearn.preprocessing import StandardScaler"
   ],
   "metadata": {
    "collapsed": false,
    "pycharm": {
     "name": "#%%\n"
    }
   }
  },
  {
   "cell_type": "markdown",
   "source": [
    "## Setup dataset and collate function code"
   ],
   "metadata": {
    "collapsed": false,
    "pycharm": {
     "name": "#%% md\n"
    }
   }
  },
  {
   "cell_type": "code",
   "execution_count": 5,
   "id": "15977526",
   "metadata": {
    "pycharm": {
     "name": "#%%\n"
    }
   },
   "outputs": [],
   "source": [
    "class BaseballDataset(Dataset):\n",
    "    def __init__(\n",
    "        self,\n",
    "        split: str,\n",
    "    ):\n",
    "        assert split in [\"train\", \"test\"], \"Invalid split\"\n",
    "        self.df = pd.read_csv(f\"models-v2-lle//{split}set_w_lle.csv\")\n",
    "        # self.df = pd.read_csv(f\"statistical-learning/processed_{split}.csv\")\n",
    "        number_col = ['previous_5_to_10MA']\n",
    "        xscaler = StandardScaler().fit(self.df[number_col])\n",
    "        self.df[number_col] = xscaler.transform(self.df[number_col])\n",
    "        self.df.drop(['venue', 'start_hour', 'start_time', 'game_page_url', 'wind_speed'], axis=1, inplace=True)\n",
    "        self.df = pd.get_dummies(self.df, columns=['team1_name', 'team2_name', 'season_type'])\n",
    "\n",
    "        self.split = split\n",
    "\n",
    "    def __len__(self):\n",
    "        return len(self.df)\n",
    "\n",
    "    def __getitem__(self, index):\n",
    "        row = self.df.iloc[index]\n",
    "        return {\n",
    "            \"y\": row[\"attendance\"],\n",
    "            \"x\": list(row.drop(\"attendance\")),\n",
    "            # \"x\": list(ret.values()) + venue,\n",
    "        }\n",
    "\n",
    "\n",
    "def collate_fn(batch):\n",
    "    y = [data[\"y\"] for data in batch]\n",
    "    x = [data[\"x\"] for data in batch]\n",
    "\n",
    "    return {\n",
    "        \"x\": torch.Tensor(x),\n",
    "        \"y\": torch.Tensor(y),\n",
    "    }"
   ]
  },
  {
   "cell_type": "code",
   "execution_count": 6,
   "outputs": [
    {
     "data": {
      "text/plain": "107"
     },
     "execution_count": 6,
     "metadata": {},
     "output_type": "execute_result"
    }
   ],
   "source": [
    "dataset = BaseballDataset(split=\"train\")\n",
    "len(dataset.__getitem__(1000)[\"x\"])"
   ],
   "metadata": {
    "collapsed": false,
    "pycharm": {
     "name": "#%%\n"
    }
   }
  },
  {
   "cell_type": "markdown",
   "source": [
    "### Configure model"
   ],
   "metadata": {
    "collapsed": false,
    "pycharm": {
     "name": "#%% md\n"
    }
   }
  },
  {
   "cell_type": "code",
   "execution_count": 7,
   "outputs": [],
   "source": [
    "class Net(nn.Module):\n",
    "    def __init__(self):\n",
    "        super().__init__()\n",
    "        self.fc1 = nn.Linear(107, 1024)\n",
    "        self.fc2 = nn.Linear(1024, 512)\n",
    "        self.fc3 = nn.Linear(512, 128)\n",
    "        self.fc4 = nn.Linear(128, 1)\n",
    "        nn.init.xavier_uniform_(self.fc1.weight)\n",
    "        nn.init.zeros_(self.fc1.bias)\n",
    "        nn.init.xavier_uniform_(self.fc2.weight)\n",
    "        nn.init.zeros_(self.fc2.bias)\n",
    "        nn.init.xavier_uniform_(self.fc3.weight)\n",
    "        nn.init.zeros_(self.fc3.bias)\n",
    "        nn.init.xavier_uniform_(self.fc4.weight)\n",
    "        nn.init.zeros_(self.fc4.bias)\n",
    "\n",
    "    def forward(self, x):\n",
    "        x = F.relu(self.fc1(x))\n",
    "        x = F.relu(self.fc2(x))\n",
    "        x = F.relu(self.fc3(x))\n",
    "\n",
    "        return self.fc4(x)"
   ],
   "metadata": {
    "collapsed": false,
    "pycharm": {
     "name": "#%%\n"
    }
   }
  },
  {
   "cell_type": "markdown",
   "source": [
    "## Set up for training"
   ],
   "metadata": {
    "collapsed": false,
    "pycharm": {
     "name": "#%% md\n"
    }
   }
  },
  {
   "cell_type": "code",
   "execution_count": 85,
   "outputs": [],
   "source": [
    "class cfg:\n",
    "    epoch = 20\n",
    "    lr = 2e-3\n",
    "    weight_decay = 0\n",
    "    batch_size = 32\n",
    "    random_seed = 1"
   ],
   "metadata": {
    "collapsed": false,
    "pycharm": {
     "name": "#%%\n"
    }
   }
  },
  {
   "cell_type": "code",
   "execution_count": 86,
   "outputs": [],
   "source": [
    "torch.manual_seed(cfg.random_seed)\n",
    "torch.use_deterministic_algorithms(True)\n",
    "net = Net()\n",
    "loss_fn = nn.L1Loss()\n",
    "optimizer = torch.optim.AdamW(net.parameters(), lr=cfg.lr, weight_decay=cfg.weight_decay)\n",
    "# optimizer = torch.optim.SGD(net.parameters(), lr=cfg.lr)\n",
    "\n",
    "train_dataset = BaseballDataset(split=\"train\")\n",
    "test_dataset = BaseballDataset(split=\"test\")\n",
    "\n",
    "train_dataloader = DataLoader(train_dataset, batch_size=cfg.batch_size, collate_fn=collate_fn, shuffle=True, drop_last=True)\n",
    "test_dataloader = DataLoader(test_dataset, batch_size=1, collate_fn=collate_fn, shuffle=True)"
   ],
   "metadata": {
    "collapsed": false,
    "pycharm": {
     "name": "#%%\n"
    }
   }
  },
  {
   "cell_type": "code",
   "execution_count": 87,
   "outputs": [
    {
     "data": {
      "text/plain": "  0%|          | 0/383 [00:00<?, ?it/s]",
      "application/vnd.jupyter.widget-view+json": {
       "version_major": 2,
       "version_minor": 0,
       "model_id": "5ec995bccb9c42208aba7bee9cfa463f"
      }
     },
     "metadata": {},
     "output_type": "display_data"
    },
    {
     "name": "stdout",
     "output_type": "stream",
     "text": [
      "Epoch: 1, loss: 9229.936533636586\n",
      "Epoch: 1, eval loss: 8991.453125\n"
     ]
    },
    {
     "data": {
      "text/plain": "  0%|          | 0/383 [00:00<?, ?it/s]",
      "application/vnd.jupyter.widget-view+json": {
       "version_major": 2,
       "version_minor": 0,
       "model_id": "06615afbf27840c2a76aa33972cb7c8d"
      }
     },
     "metadata": {},
     "output_type": "display_data"
    },
    {
     "name": "stdout",
     "output_type": "stream",
     "text": [
      "Epoch: 2, loss: 5374.487646356886\n",
      "Epoch: 2, eval loss: 5066.2802734375\n"
     ]
    },
    {
     "data": {
      "text/plain": "  0%|          | 0/383 [00:00<?, ?it/s]",
      "application/vnd.jupyter.widget-view+json": {
       "version_major": 2,
       "version_minor": 0,
       "model_id": "d38215bf35d44b39ab44164fe3dd803d"
      }
     },
     "metadata": {},
     "output_type": "display_data"
    },
    {
     "name": "stdout",
     "output_type": "stream",
     "text": [
      "Epoch: 3, loss: 4398.635842266033\n",
      "Epoch: 3, eval loss: 5085.9169921875\n"
     ]
    },
    {
     "data": {
      "text/plain": "  0%|          | 0/383 [00:00<?, ?it/s]",
      "application/vnd.jupyter.widget-view+json": {
       "version_major": 2,
       "version_minor": 0,
       "model_id": "4aaca14c141e43be917e790d83b6e624"
      }
     },
     "metadata": {},
     "output_type": "display_data"
    },
    {
     "name": "stdout",
     "output_type": "stream",
     "text": [
      "Epoch: 4, loss: 4262.256152598728\n",
      "Epoch: 4, eval loss: 5087.05517578125\n"
     ]
    },
    {
     "data": {
      "text/plain": "  0%|          | 0/383 [00:00<?, ?it/s]",
      "application/vnd.jupyter.widget-view+json": {
       "version_major": 2,
       "version_minor": 0,
       "model_id": "7cabf70bd2864c568606525028da5e13"
      }
     },
     "metadata": {},
     "output_type": "display_data"
    },
    {
     "name": "stdout",
     "output_type": "stream",
     "text": [
      "Epoch: 5, loss: 4301.626765716792\n",
      "Epoch: 5, eval loss: 6787.62158203125\n"
     ]
    },
    {
     "data": {
      "text/plain": "  0%|          | 0/383 [00:00<?, ?it/s]",
      "application/vnd.jupyter.widget-view+json": {
       "version_major": 2,
       "version_minor": 0,
       "model_id": "9e75ac4458a64e128d4255e9a4d35c13"
      }
     },
     "metadata": {},
     "output_type": "display_data"
    },
    {
     "name": "stdout",
     "output_type": "stream",
     "text": [
      "Epoch: 6, loss: 4170.8296982090405\n",
      "Epoch: 6, eval loss: 4913.1171875\n"
     ]
    },
    {
     "data": {
      "text/plain": "  0%|          | 0/383 [00:00<?, ?it/s]",
      "application/vnd.jupyter.widget-view+json": {
       "version_major": 2,
       "version_minor": 0,
       "model_id": "aa0aa9497a02419598403e214fe2fc32"
      }
     },
     "metadata": {},
     "output_type": "display_data"
    },
    {
     "name": "stdout",
     "output_type": "stream",
     "text": [
      "Epoch: 7, loss: 4192.034609961447\n",
      "Epoch: 7, eval loss: 5162.1220703125\n"
     ]
    },
    {
     "data": {
      "text/plain": "  0%|          | 0/383 [00:00<?, ?it/s]",
      "application/vnd.jupyter.widget-view+json": {
       "version_major": 2,
       "version_minor": 0,
       "model_id": "d27f1e2ef53c40ceb72fd4d8b0880577"
      }
     },
     "metadata": {},
     "output_type": "display_data"
    },
    {
     "name": "stdout",
     "output_type": "stream",
     "text": [
      "Epoch: 8, loss: 4079.5691631904783\n",
      "Epoch: 8, eval loss: 5241.41748046875\n"
     ]
    },
    {
     "data": {
      "text/plain": "  0%|          | 0/383 [00:00<?, ?it/s]",
      "application/vnd.jupyter.widget-view+json": {
       "version_major": 2,
       "version_minor": 0,
       "model_id": "ebe9a35bf6a448d488b9739c05cb3e93"
      }
     },
     "metadata": {},
     "output_type": "display_data"
    },
    {
     "name": "stdout",
     "output_type": "stream",
     "text": [
      "Epoch: 9, loss: 4140.270866692845\n",
      "Epoch: 9, eval loss: 4906.07958984375\n"
     ]
    },
    {
     "data": {
      "text/plain": "  0%|          | 0/383 [00:00<?, ?it/s]",
      "application/vnd.jupyter.widget-view+json": {
       "version_major": 2,
       "version_minor": 0,
       "model_id": "4fdf3804b9104ed0a735b9ddfe3bb80a"
      }
     },
     "metadata": {},
     "output_type": "display_data"
    },
    {
     "name": "stdout",
     "output_type": "stream",
     "text": [
      "Epoch: 10, loss: 4055.6937188927873\n",
      "Epoch: 10, eval loss: 4889.20166015625\n"
     ]
    },
    {
     "data": {
      "text/plain": "  0%|          | 0/383 [00:00<?, ?it/s]",
      "application/vnd.jupyter.widget-view+json": {
       "version_major": 2,
       "version_minor": 0,
       "model_id": "3271b9f724f3497087d85ef393e6ed25"
      }
     },
     "metadata": {},
     "output_type": "display_data"
    },
    {
     "name": "stdout",
     "output_type": "stream",
     "text": [
      "Epoch: 11, loss: 4067.7595680177055\n",
      "Epoch: 11, eval loss: 5023.74267578125\n"
     ]
    },
    {
     "data": {
      "text/plain": "  0%|          | 0/383 [00:00<?, ?it/s]",
      "application/vnd.jupyter.widget-view+json": {
       "version_major": 2,
       "version_minor": 0,
       "model_id": "42552fbebaff4101913c6b8606997194"
      }
     },
     "metadata": {},
     "output_type": "display_data"
    },
    {
     "name": "stdout",
     "output_type": "stream",
     "text": [
      "Epoch: 12, loss: 4075.6680069965732\n",
      "Epoch: 12, eval loss: 5013.38330078125\n"
     ]
    },
    {
     "data": {
      "text/plain": "  0%|          | 0/383 [00:00<?, ?it/s]",
      "application/vnd.jupyter.widget-view+json": {
       "version_major": 2,
       "version_minor": 0,
       "model_id": "b2d96aa6697c4700af4fec92984ee3ea"
      }
     },
     "metadata": {},
     "output_type": "display_data"
    },
    {
     "name": "stdout",
     "output_type": "stream",
     "text": [
      "Epoch: 13, loss: 4002.2482980274967\n",
      "Epoch: 13, eval loss: 5489.39013671875\n"
     ]
    },
    {
     "data": {
      "text/plain": "  0%|          | 0/383 [00:00<?, ?it/s]",
      "application/vnd.jupyter.widget-view+json": {
       "version_major": 2,
       "version_minor": 0,
       "model_id": "95a17fa752ac4c8da17338e185b291db"
      }
     },
     "metadata": {},
     "output_type": "display_data"
    },
    {
     "name": "stdout",
     "output_type": "stream",
     "text": [
      "Epoch: 14, loss: 4015.1127738454634\n",
      "Epoch: 14, eval loss: 4983.8603515625\n"
     ]
    },
    {
     "data": {
      "text/plain": "  0%|          | 0/383 [00:00<?, ?it/s]",
      "application/vnd.jupyter.widget-view+json": {
       "version_major": 2,
       "version_minor": 0,
       "model_id": "b6a8b85c442e44159479fde467602c84"
      }
     },
     "metadata": {},
     "output_type": "display_data"
    },
    {
     "name": "stdout",
     "output_type": "stream",
     "text": [
      "Epoch: 15, loss: 3995.7579476378914\n",
      "Epoch: 15, eval loss: 4892.13623046875\n"
     ]
    },
    {
     "data": {
      "text/plain": "  0%|          | 0/383 [00:00<?, ?it/s]",
      "application/vnd.jupyter.widget-view+json": {
       "version_major": 2,
       "version_minor": 0,
       "model_id": "a1e6d535670b4d2d8f425dc879dfeed6"
      }
     },
     "metadata": {},
     "output_type": "display_data"
    },
    {
     "name": "stdout",
     "output_type": "stream",
     "text": [
      "Epoch: 16, loss: 3900.662714945741\n",
      "Epoch: 16, eval loss: 5006.1943359375\n"
     ]
    },
    {
     "data": {
      "text/plain": "  0%|          | 0/383 [00:00<?, ?it/s]",
      "application/vnd.jupyter.widget-view+json": {
       "version_major": 2,
       "version_minor": 0,
       "model_id": "e41bc480ae814b228055a98b84e70686"
      }
     },
     "metadata": {},
     "output_type": "display_data"
    },
    {
     "name": "stdout",
     "output_type": "stream",
     "text": [
      "Epoch: 17, loss: 3971.9668045243147\n",
      "Epoch: 17, eval loss: 5627.5869140625\n"
     ]
    },
    {
     "data": {
      "text/plain": "  0%|          | 0/383 [00:00<?, ?it/s]",
      "application/vnd.jupyter.widget-view+json": {
       "version_major": 2,
       "version_minor": 0,
       "model_id": "3fbb9502db304296bd64865cdf398963"
      }
     },
     "metadata": {},
     "output_type": "display_data"
    },
    {
     "name": "stdout",
     "output_type": "stream",
     "text": [
      "Epoch: 18, loss: 3927.338638345504\n",
      "Epoch: 18, eval loss: 4846.1103515625\n"
     ]
    },
    {
     "data": {
      "text/plain": "  0%|          | 0/383 [00:00<?, ?it/s]",
      "application/vnd.jupyter.widget-view+json": {
       "version_major": 2,
       "version_minor": 0,
       "model_id": "594ae2aaaf564512871b795077e7896e"
      }
     },
     "metadata": {},
     "output_type": "display_data"
    },
    {
     "name": "stdout",
     "output_type": "stream",
     "text": [
      "Epoch: 19, loss: 4004.044986894174\n",
      "Epoch: 19, eval loss: 5380.2744140625\n"
     ]
    },
    {
     "data": {
      "text/plain": "  0%|          | 0/383 [00:00<?, ?it/s]",
      "application/vnd.jupyter.widget-view+json": {
       "version_major": 2,
       "version_minor": 0,
       "model_id": "794d56d5357c4eb1b9402d9c69281ff1"
      }
     },
     "metadata": {},
     "output_type": "display_data"
    },
    {
     "name": "stdout",
     "output_type": "stream",
     "text": [
      "Epoch: 20, loss: 3961.411487230744\n",
      "Epoch: 20, eval loss: 4819.75537109375\n"
     ]
    }
   ],
   "source": [
    "for epoch in range(0, cfg.epoch):\n",
    "    # tqdm_object = tqdm(train_dataloader, total=len(train_dataloader))\n",
    "    net.train()\n",
    "    loss_list = list()\n",
    "    for data in tqdm(train_dataloader):\n",
    "        x, y = data[\"x\"], data[\"y\"]\n",
    "\n",
    "        optimizer.zero_grad()\n",
    "        outputs = net(x)\n",
    "        # print(outputs.squeeze().size(), y.size())\n",
    "        loss = loss_fn(outputs.squeeze(), y)\n",
    "\n",
    "        loss.backward()\n",
    "        loss_list.append(loss.squeeze().item())\n",
    "        optimizer.step()\n",
    "\n",
    "    print(f\"Epoch: {epoch + 1}, loss: {sum(loss_list)/len(loss_list)}\")\n",
    "    loss_list = list()\n",
    "    net.eval()\n",
    "    # eval_tqdm_object = tqdm(test_dataset, total=len(test_dataloader))\n",
    "    with torch.no_grad():\n",
    "        for data in test_dataloader:\n",
    "            x, y = data[\"x\"], data[\"y\"]\n",
    "            outputs = net(x)\n",
    "            # print(outputs.squeeze(-1).size(), y.size())\n",
    "            loss = loss_fn(outputs.squeeze(-1), y)\n",
    "            loss_list.append(loss)\n",
    "    print(f\"Epoch: {epoch + 1}, eval loss: {sum(loss_list)/len(loss_list)}\")\n",
    "            # tqdm_object.set_postfix(train_loss=loss.item())"
   ],
   "metadata": {
    "collapsed": false,
    "pycharm": {
     "name": "#%%\n"
    }
   }
  },
  {
   "cell_type": "code",
   "execution_count": 88,
   "outputs": [
    {
     "data": {
      "text/plain": "(40302627.78102215, 6348.435065511984, 4819.755506893852, 0.2239742898632815)"
     },
     "execution_count": 88,
     "metadata": {},
     "output_type": "execute_result"
    }
   ],
   "source": [
    "from sklearn.metrics import mean_squared_error, mean_absolute_error, mean_absolute_percentage_error\n",
    "\n",
    "pred, gt = list(), list()\n",
    "for i in range(len(test_dataset)):\n",
    "    x, y = test_dataset.__getitem__(i)[\"x\"], test_dataset.__getitem__(i)[\"y\"]\n",
    "    output = net(torch.Tensor(x))\n",
    "    pred.append(output.item())\n",
    "    gt.append(y)\n",
    "\n",
    "mse = mean_squared_error(gt, pred, squared=True)\n",
    "rms = mean_squared_error(gt, pred, squared=False)\n",
    "mae = mean_absolute_error(gt, pred)\n",
    "mape = mean_absolute_percentage_error(gt, pred)\n",
    "\n",
    "mse, rms, mae, mape"
   ],
   "metadata": {
    "collapsed": false,
    "pycharm": {
     "name": "#%%\n"
    }
   }
  },
  {
   "cell_type": "code",
   "execution_count": 89,
   "outputs": [],
   "source": [
    "torch.save(net.state_dict(), \"models-v2-lle/model/deep_regression.pt\")"
   ],
   "metadata": {
    "collapsed": false,
    "pycharm": {
     "name": "#%%\n"
    }
   }
  }
 ],
 "metadata": {
  "kernelspec": {
   "display_name": "Python 3 (ipykernel)",
   "language": "python",
   "name": "python3"
  },
  "language_info": {
   "codemirror_mode": {
    "name": "ipython",
    "version": 3
   },
   "file_extension": ".py",
   "mimetype": "text/x-python",
   "name": "python",
   "nbconvert_exporter": "python",
   "pygments_lexer": "ipython3",
   "version": "3.10.8"
  }
 },
 "nbformat": 4,
 "nbformat_minor": 5
}