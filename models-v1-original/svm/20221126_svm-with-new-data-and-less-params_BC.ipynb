{
 "cells": [
  {
   "cell_type": "markdown",
   "metadata": {},
   "source": [
    "# SVM\n",
    "\n",
    "Notebook to train a SVM model.\n",
    "\n",
    "Evaluation metrics:\n",
    "  \n",
    "+ MSE\n",
    "+ RMSE\n",
    "+ MAE\n",
    "+ MAPE\n",
    "\n",
    "Steps:\n",
    "\n",
    "1. 5-fold on training set\n",
    "2. Find the best hyper parameters\n",
    "3. 5-fold as the final training set, re-train with the best hyper parameters\n",
    "4. Save model\n",
    "5. Measure the performance on the test set"
   ]
  },
  {
   "cell_type": "code",
   "execution_count": 1,
   "metadata": {},
   "outputs": [],
   "source": [
    "import numpy as np\n",
    "import pandas as pd"
   ]
  },
  {
   "cell_type": "code",
   "execution_count": 2,
   "metadata": {},
   "outputs": [],
   "source": [
    "raw_test_df = pd.read_csv('../../statistical-learning/processed_test.csv')\n",
    "raw_train_df = pd.read_csv('../../statistical-learning/processed_training.csv')"
   ]
  },
  {
   "cell_type": "markdown",
   "metadata": {},
   "source": [
    "## Preprocessing"
   ]
  },
  {
   "cell_type": "code",
   "execution_count": 3,
   "metadata": {},
   "outputs": [],
   "source": [
    "# still need to one hot team1_name and team2_name\n",
    "\n",
    "raw_train_df = pd.get_dummies(raw_train_df, columns=['team1_name', 'team2_name', 'season_type'])\n",
    "raw_test_df = pd.get_dummies(raw_test_df, columns=['team1_name', 'team2_name', 'season_type'])\n",
    "\n",
    "# drop columns: venue, start_hour\n",
    "raw_train_df = raw_train_df.drop(columns=['venue', 'start_hour'], axis=1)\n",
    "raw_test_df = raw_test_df.drop(columns=['venue', 'start_hour'], axis=1)"
   ]
  },
  {
   "cell_type": "code",
   "execution_count": 4,
   "metadata": {},
   "outputs": [],
   "source": [
    "train_cols = raw_train_df.columns\n",
    "raw_test_df = raw_test_df[train_cols].copy()"
   ]
  },
  {
   "cell_type": "code",
   "execution_count": 5,
   "metadata": {},
   "outputs": [
    {
     "name": "stdout",
     "output_type": "stream",
     "text": [
      "True\n"
     ]
    }
   ],
   "source": [
    "# see if there are any columns that are not in both dataframes\n",
    "train_cols = set(raw_train_df.columns)\n",
    "test_cols = set(raw_test_df.columns)\n",
    "\n",
    "# make sure that the columns are the same\n",
    "print(test_cols == train_cols)"
   ]
  },
  {
   "cell_type": "code",
   "execution_count": 6,
   "metadata": {},
   "outputs": [
    {
     "data": {
      "text/html": [
       "<div>\n",
       "<style scoped>\n",
       "    .dataframe tbody tr th:only-of-type {\n",
       "        vertical-align: middle;\n",
       "    }\n",
       "\n",
       "    .dataframe tbody tr th {\n",
       "        vertical-align: top;\n",
       "    }\n",
       "\n",
       "    .dataframe thead th {\n",
       "        text-align: right;\n",
       "    }\n",
       "</style>\n",
       "<table border=\"1\" class=\"dataframe\">\n",
       "  <thead>\n",
       "    <tr style=\"text-align: right;\">\n",
       "      <th></th>\n",
       "      <th>attendance</th>\n",
       "      <th>is_federal_holiday</th>\n",
       "      <th>on_grass</th>\n",
       "      <th>temperature</th>\n",
       "      <th>wind_speed</th>\n",
       "      <th>team1_pre_win</th>\n",
       "      <th>team1_pre_loss</th>\n",
       "      <th>team1_pre_win_pct</th>\n",
       "      <th>team1_streak</th>\n",
       "      <th>team2_pre_win</th>\n",
       "      <th>...</th>\n",
       "      <th>team2_name_SDP</th>\n",
       "      <th>team2_name_SEA</th>\n",
       "      <th>team2_name_SFG</th>\n",
       "      <th>team2_name_STL</th>\n",
       "      <th>team2_name_TBR</th>\n",
       "      <th>team2_name_TEX</th>\n",
       "      <th>team2_name_TOR</th>\n",
       "      <th>team2_name_WSN</th>\n",
       "      <th>season_type_post</th>\n",
       "      <th>season_type_regular</th>\n",
       "    </tr>\n",
       "  </thead>\n",
       "  <tbody>\n",
       "    <tr>\n",
       "      <th>0</th>\n",
       "      <td>35055</td>\n",
       "      <td>0</td>\n",
       "      <td>1</td>\n",
       "      <td>-2.786672</td>\n",
       "      <td>-0.093090</td>\n",
       "      <td>-1.62645</td>\n",
       "      <td>-1.654514</td>\n",
       "      <td>0.0</td>\n",
       "      <td>0.007618</td>\n",
       "      <td>-1.624298</td>\n",
       "      <td>...</td>\n",
       "      <td>0</td>\n",
       "      <td>0</td>\n",
       "      <td>0</td>\n",
       "      <td>0</td>\n",
       "      <td>0</td>\n",
       "      <td>0</td>\n",
       "      <td>0</td>\n",
       "      <td>0</td>\n",
       "      <td>0</td>\n",
       "      <td>1</td>\n",
       "    </tr>\n",
       "    <tr>\n",
       "      <th>1</th>\n",
       "      <td>49043</td>\n",
       "      <td>0</td>\n",
       "      <td>1</td>\n",
       "      <td>0.705205</td>\n",
       "      <td>-0.093090</td>\n",
       "      <td>-1.62645</td>\n",
       "      <td>-1.654514</td>\n",
       "      <td>0.0</td>\n",
       "      <td>0.007618</td>\n",
       "      <td>-1.624298</td>\n",
       "      <td>...</td>\n",
       "      <td>0</td>\n",
       "      <td>0</td>\n",
       "      <td>0</td>\n",
       "      <td>0</td>\n",
       "      <td>0</td>\n",
       "      <td>0</td>\n",
       "      <td>0</td>\n",
       "      <td>0</td>\n",
       "      <td>0</td>\n",
       "      <td>1</td>\n",
       "    </tr>\n",
       "    <tr>\n",
       "      <th>2</th>\n",
       "      <td>43633</td>\n",
       "      <td>0</td>\n",
       "      <td>1</td>\n",
       "      <td>-0.521670</td>\n",
       "      <td>1.490839</td>\n",
       "      <td>-1.62645</td>\n",
       "      <td>-1.654514</td>\n",
       "      <td>0.0</td>\n",
       "      <td>0.007618</td>\n",
       "      <td>-1.624298</td>\n",
       "      <td>...</td>\n",
       "      <td>0</td>\n",
       "      <td>0</td>\n",
       "      <td>0</td>\n",
       "      <td>0</td>\n",
       "      <td>0</td>\n",
       "      <td>0</td>\n",
       "      <td>0</td>\n",
       "      <td>0</td>\n",
       "      <td>0</td>\n",
       "      <td>1</td>\n",
       "    </tr>\n",
       "  </tbody>\n",
       "</table>\n",
       "<p>3 rows × 274 columns</p>\n",
       "</div>"
      ],
      "text/plain": [
       "   attendance  is_federal_holiday  on_grass  temperature  wind_speed  \\\n",
       "0       35055                   0         1    -2.786672   -0.093090   \n",
       "1       49043                   0         1     0.705205   -0.093090   \n",
       "2       43633                   0         1    -0.521670    1.490839   \n",
       "\n",
       "   team1_pre_win  team1_pre_loss  team1_pre_win_pct  team1_streak  \\\n",
       "0       -1.62645       -1.654514                0.0      0.007618   \n",
       "1       -1.62645       -1.654514                0.0      0.007618   \n",
       "2       -1.62645       -1.654514                0.0      0.007618   \n",
       "\n",
       "   team2_pre_win  ...  team2_name_SDP  team2_name_SEA  team2_name_SFG  \\\n",
       "0      -1.624298  ...               0               0               0   \n",
       "1      -1.624298  ...               0               0               0   \n",
       "2      -1.624298  ...               0               0               0   \n",
       "\n",
       "   team2_name_STL  team2_name_TBR  team2_name_TEX  team2_name_TOR  \\\n",
       "0               0               0               0               0   \n",
       "1               0               0               0               0   \n",
       "2               0               0               0               0   \n",
       "\n",
       "   team2_name_WSN  season_type_post  season_type_regular  \n",
       "0               0                 0                    1  \n",
       "1               0                 0                    1  \n",
       "2               0                 0                    1  \n",
       "\n",
       "[3 rows x 274 columns]"
      ]
     },
     "execution_count": 6,
     "metadata": {},
     "output_type": "execute_result"
    }
   ],
   "source": [
    "raw_train_df.head(3)"
   ]
  },
  {
   "cell_type": "code",
   "execution_count": 7,
   "metadata": {},
   "outputs": [],
   "source": [
    "X, y = raw_train_df.drop(columns=['attendance'], axis=1), raw_train_df['attendance']"
   ]
  },
  {
   "cell_type": "markdown",
   "metadata": {},
   "source": [
    "## Model Building"
   ]
  },
  {
   "cell_type": "markdown",
   "metadata": {},
   "source": [
    "### Model Evaluation Function"
   ]
  },
  {
   "cell_type": "code",
   "execution_count": 8,
   "metadata": {},
   "outputs": [],
   "source": [
    "# MSE, RMSE, MAE, MAPE\n",
    "\n",
    "from sklearn.metrics import mean_squared_error, mean_absolute_error, mean_absolute_percentage_error\n",
    "\n",
    "def measure_model(y_true, y_pred, verbose=True, title=''):\n",
    "    mse = mean_squared_error(y_true, y_pred)\n",
    "    rmse = np.sqrt(mse)\n",
    "    mae = mean_absolute_error(y_true, y_pred)\n",
    "    mape = mean_absolute_percentage_error(y_true, y_pred)\n",
    "    \n",
    "    if verbose:\n",
    "        print(f'''{\"=\"*10} {title} {\"=\"*10}\n",
    "MSE: {mse:.2f}\n",
    "RMSE: {rmse:.2f}\n",
    "MAE: {mae:.2f}\n",
    "MAPE: {mape:.2f}''')\n",
    "\n",
    "    return {\n",
    "        'MSE': mse,\n",
    "        'RMSE': rmse,\n",
    "        'MAE': mae,\n",
    "        'MAPE': mape\n",
    "    }"
   ]
  },
  {
   "cell_type": "code",
   "execution_count": 9,
   "metadata": {},
   "outputs": [],
   "source": [
    "from sklearn.ensemble import BaggingRegressor\n",
    "from sklearn.svm import SVR\n",
    "from sklearn.model_selection import train_test_split, cross_val_score, GridSearchCV, StratifiedKFold, cross_validate"
   ]
  },
  {
   "cell_type": "markdown",
   "metadata": {},
   "source": [
    "### Simple SVM Model"
   ]
  },
  {
   "cell_type": "code",
   "execution_count": 10,
   "metadata": {},
   "outputs": [
    {
     "name": "stdout",
     "output_type": "stream",
     "text": [
      "========== Simple SVM Regressor ==========\n",
      "MSE: 105412224.42\n",
      "RMSE: 10267.05\n",
      "MAE: 8668.08\n",
      "MAPE: 0.38\n"
     ]
    }
   ],
   "source": [
    "X_train, X_valid, y_train, y_valid = train_test_split(X, y, test_size=0.2, random_state=42)\n",
    "\n",
    "# Bagging Regressor\n",
    "regr = SVR(C=1.0, epsilon=0.2).fit(X_train, y_train)\n",
    "y_pred_simple = regr.predict(X_valid)\n",
    "\n",
    "_ = measure_model(y_valid, y_pred_simple, title='Simple SVM Regressor')"
   ]
  },
  {
   "cell_type": "code",
   "execution_count": 13,
   "metadata": {},
   "outputs": [],
   "source": [
    "# impossible for non-linear kernel to plot feature importance\n",
    "\n",
    "# matplotlib\n",
    "# import matplotlib.pyplot as plt\n",
    "\n",
    "# feature_importances = np.mean([\n",
    "#     tree.feature_importances_ for tree in regr.estimators_\n",
    "# ], axis=0)\n",
    "\n",
    "# num_features = 20\n",
    "\n",
    "# indices = np.argsort(feature_importances)[::-1][:num_features]\n",
    "\n",
    "# fig, ax = plt.subplots()\n",
    "# ax.barh(range(num_features), feature_importances[indices][::-1])\n",
    "# ax.set_yticks(range(num_features))\n",
    "# _ = ax.set_yticklabels(np.array(X.columns)[indices][::-1])\n",
    "# # font size\n",
    "# plt.rcParams.update({'font.size': 8})"
   ]
  },
  {
   "cell_type": "markdown",
   "metadata": {},
   "source": [
    "### Hyperparameter Tuning"
   ]
  },
  {
   "cell_type": "code",
   "execution_count": null,
   "metadata": {},
   "outputs": [],
   "source": [
    "def find_best_index(eval_results: dict[str, np.array]) -> int:\n",
    "    # returns a n-scorers x n-parameter-set dimensional array\n",
    "    means_of_splits = np.array(\n",
    "        [values for name, values in eval_results.items() if name.startswith('mean_test')]\n",
    "    )\n",
    "    # this is a n-parameter-set dimensional vector\n",
    "    mean_of_all_scores = np.mean(means_of_splits, axis=0) \n",
    "    # get index of maximum value which corresponds to the best parameter set\n",
    "    return np.argmax(mean_of_all_scores) "
   ]
  },
  {
   "cell_type": "code",
   "execution_count": 11,
   "metadata": {},
   "outputs": [
    {
     "name": "stdout",
     "output_type": "stream",
     "text": [
      "Fitting 5 folds for each of 27 candidates, totalling 135 fits\n"
     ]
    }
   ],
   "source": [
    "scoring = ['neg_mean_squared_error', 'neg_root_mean_squared_error', 'neg_mean_absolute_error', 'neg_mean_absolute_percentage_error']\n",
    "param_grid = {'kernel' : ['linear', 'rbf', 'poly'], 'C': [1, 10, 100], 'gamma': [1,0.1,0.01]}\n",
    "\n",
    "grid = GridSearchCV(SVR(),param_grid, refit=find_best_index, verbose=2, scoring=scoring, cv=5, n_jobs=-1)\n",
    "grid.fit(X, y)"
   ]
  },
  {
   "cell_type": "markdown",
   "metadata": {},
   "source": [
    "### Use the best hyperparameters to train the model"
   ]
  },
  {
   "cell_type": "code",
   "execution_count": null,
   "metadata": {},
   "outputs": [
    {
     "ename": "NameError",
     "evalue": "name 'grid' is not defined",
     "output_type": "error",
     "traceback": [
      "\u001b[1;31m---------------------------------------------------------------------------\u001b[0m",
      "\u001b[1;31mNameError\u001b[0m                                 Traceback (most recent call last)",
      "Cell \u001b[1;32mIn [1], line 1\u001b[0m\n\u001b[1;32m----> 1\u001b[0m grid\u001b[39m.\u001b[39mbest_params_\n",
      "\u001b[1;31mNameError\u001b[0m: name 'grid' is not defined"
     ]
    }
   ],
   "source": [
    "grid.best_estimator_"
   ]
  },
  {
   "cell_type": "code",
   "execution_count": null,
   "metadata": {},
   "outputs": [],
   "source": [
    "regr = SVR(**grid.best_estimator_).fit(X, y)"
   ]
  },
  {
   "cell_type": "code",
   "execution_count": null,
   "metadata": {},
   "outputs": [],
   "source": [
    "# save model in YYYYMMDD format\n",
    "from datetime import datetime\n",
    "import pickle\n",
    "\n",
    "regr_filename = f'{datetime.today().strftime(\"%Y%m%d\")}_svm_model.pkl'\n",
    "pickle.dump(regr, open(regr_filename, 'wb'))"
   ]
  },
  {
   "cell_type": "markdown",
   "metadata": {},
   "source": [
    "### Feature Importance"
   ]
  },
  {
   "cell_type": "code",
   "execution_count": 56,
   "metadata": {},
   "outputs": [
    {
     "data": {
      "image/png": "[encoded data removed]",
      "text/plain": [
       "<Figure size 640x480 with 1 Axes>"
      ]
     },
     "metadata": {},
     "output_type": "display_data"
    }
   ],
   "source": [
    "# matplotlib\n",
    "import matplotlib.pyplot as plt\n",
    "\n",
    "feature_importances = np.mean([\n",
    "    tree.feature_importances_ for tree in regr.estimators_\n",
    "], axis=0)\n",
    "\n",
    "num_features = 20\n",
    "\n",
    "indices = np.argsort(feature_importances)[::-1][:num_features]\n",
    "\n",
    "fig, ax = plt.subplots()\n",
    "ax.barh(range(num_features), feature_importances[indices][::-1])\n",
    "ax.set_yticks(range(num_features))\n",
    "_ = ax.set_yticklabels(np.array(X.columns)[indices][::-1])\n",
    "# font size\n",
    "plt.rcParams.update({'font.size': 8})"
   ]
  },
  {
   "cell_type": "markdown",
   "metadata": {},
   "source": [
    "## Model Evaluation"
   ]
  },
  {
   "cell_type": "code",
   "execution_count": 54,
   "metadata": {},
   "outputs": [],
   "source": [
    "X_test, y_test = raw_test_df.drop(columns=['attendance'], axis=1), raw_test_df['attendance']"
   ]
  },
  {
   "cell_type": "code",
   "execution_count": 55,
   "metadata": {},
   "outputs": [
    {
     "name": "stdout",
     "output_type": "stream",
     "text": [
      "========== Bagging Regressor ==========\n",
      "MSE: 44278142.04\n",
      "RMSE: 6654.18\n",
      "MAE: 5128.62\n",
      "MAPE: 0.26\n"
     ]
    }
   ],
   "source": [
    "# read model\n",
    "import pickle\n",
    "regr = pickle.load(open('20221126_bagging_model_49.pkl', 'rb'))\n",
    "y_pred = regr.predict(X_test)\n",
    "\n",
    "# performance\n",
    "test_performance = measure_model(y_test, y_pred, title='Bagging Regressor')"
   ]
  },
  {
   "cell_type": "markdown",
   "metadata": {},
   "source": [
    "Note:\n",
    "\n",
    "+ The model does a pretty ok job with bagging, but still can be improved through following ways:\n",
    "    1. Player data may be too noisy, we can try to cut down player features with PCA or maybe just use salary ranks\n",
    "    2. Venue capacities vary a lot, it'd be better if we can first group venues by capacity and then train models for each group\n",
    "+ During hyper-parameter tuning session, \n",
    "    + metrics looked good on the training set, but not on the testing set \n",
    "    + when n gets larger, the model starts to overfit\n",
    "    + **Synthesis**: the model is probably overfitting. We can try to reduce the number of features or use regularization to reduce overfitting\n",
    "+ When comparing the bagging model with the baseline model, we see that baseline (MA-5) did slightly better, but it does way better than **average attendance of a stadium**. \n",
    "+ `home team avg att last year` is the most important feature, which makes sense, but may have to \n",
    "\n",
    "```\n",
    "==================== MA(5) ====================\n",
    "MSE:  32362577.913605437\n",
    "RMSE:  5688.81164335799\n",
    "MAE:  4399.588064076346\n",
    "MAPE 0.21121206067333725\n",
    "```\n",
    "\n",
    "```\n",
    "==================== Average Attendance Only ====================\n",
    "MSE:  88887032.10373585\n",
    "RMSE:  9427.991944403424\n",
    "MAE:  7635.267692974473\n",
    "MAPE 0.48553017390069386\n",
    "```\n",
    "\n",
    "```\n",
    "========== Bagging Regressor ==========\n",
    "MSE: 44278142.04\n",
    "RMSE: 6654.18\n",
    "MAE: 5128.62\n",
    "MAPE: 0.26\n",
    "```"
   ]
  },
  {
   "cell_type": "markdown",
   "metadata": {},
   "source": []
  }
 ],
 "metadata": {
  "kernelspec": {
   "display_name": "Python 3.10.8 64-bit (microsoft store)",
   "language": "python",
   "name": "python3"
  },
  "language_info": {
   "codemirror_mode": {
    "name": "ipython",
    "version": 3
   },
   "file_extension": ".py",
   "mimetype": "text/x-python",
   "name": "python",
   "nbconvert_exporter": "python",
   "pygments_lexer": "ipython3",
   "version": "3.10.8"
  },
  "orig_nbformat": 4,
  "vscode": {
   "interpreter": {
    "hash": "67ca7afeb5b8efa8c3fe0f03b74e12078850e65dfdef21d5a2a5aaaa51489039"
   }
  }
 },
 "nbformat": 4,
 "nbformat_minor": 2
}
