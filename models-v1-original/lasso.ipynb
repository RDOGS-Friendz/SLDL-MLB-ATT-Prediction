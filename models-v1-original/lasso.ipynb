{
 "cells": [
  {
   "cell_type": "markdown",
   "metadata": {},
   "source": [
    "# Lasso"
   ]
  },
  {
   "cell_type": "code",
   "execution_count": 1,
   "metadata": {},
   "outputs": [],
   "source": [
    "import pandas as pd\n",
    "import numpy as np\n",
    "\n",
    "from sklearn.linear_model import Lasso"
   ]
  },
  {
   "cell_type": "code",
   "execution_count": 2,
   "metadata": {},
   "outputs": [],
   "source": [
    "data_train = pd.read_csv(\"processed_training.csv\")\n",
    "data_test = pd.read_csv(\"processed_test.csv\")"
   ]
  },
  {
   "cell_type": "markdown",
   "metadata": {},
   "source": [
    "### Data Preparation"
   ]
  },
  {
   "cell_type": "markdown",
   "metadata": {},
   "source": [
    "##### ensure the column orders are the same in train and test"
   ]
  },
  {
   "cell_type": "code",
   "execution_count": 3,
   "metadata": {},
   "outputs": [],
   "source": [
    "train_cols = data_train.columns.tolist()\n",
    "data_test = data_test[train_cols].copy()"
   ]
  },
  {
   "cell_type": "markdown",
   "metadata": {},
   "source": [
    "##### drop unnecessary columns, these columns won't be useful in analysis and prediction"
   ]
  },
  {
   "cell_type": "code",
   "execution_count": 4,
   "metadata": {},
   "outputs": [],
   "source": [
    "data_train.drop(['venue', 'start_hour'], axis=1, inplace=True)\n",
    "data_test.drop(['venue', 'start_hour'], axis=1, inplace=True)"
   ]
  },
  {
   "cell_type": "markdown",
   "metadata": {},
   "source": [
    "##### get dummies for team names and season type"
   ]
  },
  {
   "cell_type": "code",
   "execution_count": 5,
   "metadata": {},
   "outputs": [],
   "source": [
    "data_train = pd.get_dummies(data_train, columns=['team1_name', 'team2_name', 'season_type'])\n",
    "data_test = pd.get_dummies(data_test, columns=['team1_name', 'team2_name', 'season_type'])"
   ]
  },
  {
   "cell_type": "code",
   "execution_count": 6,
   "metadata": {},
   "outputs": [
    {
     "name": "stdout",
     "output_type": "stream",
     "text": [
      "set()\n",
      "set()\n"
     ]
    }
   ],
   "source": [
    "# ensure the train and test data have the same columns\n",
    "\n",
    "train_cols = set(data_train.columns)\n",
    "test_cols = set(data_test.columns)\n",
    "\n",
    "print(train_cols - test_cols)\n",
    "print(test_cols - train_cols)"
   ]
  },
  {
   "cell_type": "markdown",
   "metadata": {},
   "source": [
    "##### shuffle the training data"
   ]
  },
  {
   "cell_type": "code",
   "execution_count": 7,
   "metadata": {},
   "outputs": [],
   "source": [
    "from sklearn.utils import shuffle\n",
    "\n",
    "data_train = shuffle(data_train)"
   ]
  },
  {
   "cell_type": "markdown",
   "metadata": {},
   "source": [
    "##### prepare numpy arrays for training and testing"
   ]
  },
  {
   "cell_type": "code",
   "execution_count": 9,
   "metadata": {},
   "outputs": [
    {
     "name": "stdout",
     "output_type": "stream",
     "text": [
      "X_train:  (12270, 273)\n",
      "Y_train (12270,)\n",
      "X_test (2445, 273)\n",
      "Y_test (2445,)\n"
     ]
    }
   ],
   "source": [
    "Y_train = data_train['attendance'].to_numpy()\n",
    "X_train = data_train.drop(['attendance'], axis=1).to_numpy()\n",
    "\n",
    "Y_test = data_test['attendance'].to_numpy()\n",
    "X_test = data_test.drop(['attendance'], axis=1).to_numpy()\n",
    "\n",
    "# print shape of data\n",
    "print(\"X_train: \", X_train.shape)\n",
    "print(\"Y_train\", Y_train.shape)\n",
    "print(\"X_test\", X_test.shape)\n",
    "print(\"Y_test\", Y_test.shape)"
   ]
  },
  {
   "cell_type": "markdown",
   "metadata": {},
   "source": [
    "### KFold Cross Validation (with 5 folds)"
   ]
  },
  {
   "cell_type": "code",
   "execution_count": 15,
   "metadata": {},
   "outputs": [
    {
     "data": {
      "text/plain": [
       "5"
      ]
     },
     "execution_count": 15,
     "metadata": {},
     "output_type": "execute_result"
    }
   ],
   "source": [
    "# use 5-folds cross validation to find the best alpha\n",
    "from sklearn.model_selection import KFold, GridSearchCV\n",
    "from sklearn.metrics import mean_squared_error\n",
    "\n",
    "kf = KFold(n_splits=5, shuffle=True)\n",
    "kf.get_n_splits(X_train)"
   ]
  },
  {
   "cell_type": "code",
   "execution_count": 16,
   "metadata": {},
   "outputs": [
    {
     "name": "stdout",
     "output_type": "stream",
     "text": [
      "[1.00000000e-03 2.06913808e-03 4.28133240e-03 8.85866790e-03\n",
      " 1.83298071e-02 3.79269019e-02 7.84759970e-02 1.62377674e-01\n",
      " 3.35981829e-01 6.95192796e-01 1.43844989e+00 2.97635144e+00\n",
      " 6.15848211e+00 1.27427499e+01 2.63665090e+01 5.45559478e+01\n",
      " 1.12883789e+02 2.33572147e+02 4.83293024e+02 1.00000000e+03]\n"
     ]
    }
   ],
   "source": [
    "# use grid search to find the best alpha\n",
    "alphas = np.logspace(-3, 3, 20)\n",
    "print(alphas)"
   ]
  },
  {
   "cell_type": "code",
   "execution_count": 17,
   "metadata": {},
   "outputs": [
    {
     "name": "stderr",
     "output_type": "stream",
     "text": [
      "c:\\Users\\user\\Anaconda3\\envs\\python39\\lib\\site-packages\\sklearn\\linear_model\\_coordinate_descent.py:647: ConvergenceWarning: Objective did not converge. You might want to increase the number of iterations, check the scale of the features or consider increasing regularisation. Duality gap: 1.254e+11, tolerance: 1.070e+08\n",
      "  model = cd_fast.enet_coordinate_descent(\n",
      "c:\\Users\\user\\Anaconda3\\envs\\python39\\lib\\site-packages\\sklearn\\linear_model\\_coordinate_descent.py:647: ConvergenceWarning: Objective did not converge. You might want to increase the number of iterations, check the scale of the features or consider increasing regularisation. Duality gap: 1.289e+11, tolerance: 1.066e+08\n",
      "  model = cd_fast.enet_coordinate_descent(\n",
      "c:\\Users\\user\\Anaconda3\\envs\\python39\\lib\\site-packages\\sklearn\\linear_model\\_coordinate_descent.py:647: ConvergenceWarning: Objective did not converge. You might want to increase the number of iterations, check the scale of the features or consider increasing regularisation. Duality gap: 1.221e+11, tolerance: 1.068e+08\n",
      "  model = cd_fast.enet_coordinate_descent(\n",
      "c:\\Users\\user\\Anaconda3\\envs\\python39\\lib\\site-packages\\sklearn\\linear_model\\_coordinate_descent.py:647: ConvergenceWarning: Objective did not converge. You might want to increase the number of iterations, check the scale of the features or consider increasing regularisation. Duality gap: 1.295e+11, tolerance: 1.068e+08\n",
      "  model = cd_fast.enet_coordinate_descent(\n",
      "c:\\Users\\user\\Anaconda3\\envs\\python39\\lib\\site-packages\\sklearn\\linear_model\\_coordinate_descent.py:647: ConvergenceWarning: Objective did not converge. You might want to increase the number of iterations, check the scale of the features or consider increasing regularisation. Duality gap: 1.269e+11, tolerance: 1.053e+08\n",
      "  model = cd_fast.enet_coordinate_descent(\n",
      "c:\\Users\\user\\Anaconda3\\envs\\python39\\lib\\site-packages\\sklearn\\linear_model\\_coordinate_descent.py:647: ConvergenceWarning: Objective did not converge. You might want to increase the number of iterations, check the scale of the features or consider increasing regularisation. Duality gap: 1.223e+11, tolerance: 1.070e+08\n",
      "  model = cd_fast.enet_coordinate_descent(\n",
      "c:\\Users\\user\\Anaconda3\\envs\\python39\\lib\\site-packages\\sklearn\\linear_model\\_coordinate_descent.py:647: ConvergenceWarning: Objective did not converge. You might want to increase the number of iterations, check the scale of the features or consider increasing regularisation. Duality gap: 1.276e+11, tolerance: 1.066e+08\n",
      "  model = cd_fast.enet_coordinate_descent(\n",
      "c:\\Users\\user\\Anaconda3\\envs\\python39\\lib\\site-packages\\sklearn\\linear_model\\_coordinate_descent.py:647: ConvergenceWarning: Objective did not converge. You might want to increase the number of iterations, check the scale of the features or consider increasing regularisation. Duality gap: 1.153e+11, tolerance: 1.068e+08\n",
      "  model = cd_fast.enet_coordinate_descent(\n",
      "c:\\Users\\user\\Anaconda3\\envs\\python39\\lib\\site-packages\\sklearn\\linear_model\\_coordinate_descent.py:647: ConvergenceWarning: Objective did not converge. You might want to increase the number of iterations, check the scale of the features or consider increasing regularisation. Duality gap: 1.289e+11, tolerance: 1.068e+08\n",
      "  model = cd_fast.enet_coordinate_descent(\n",
      "c:\\Users\\user\\Anaconda3\\envs\\python39\\lib\\site-packages\\sklearn\\linear_model\\_coordinate_descent.py:647: ConvergenceWarning: Objective did not converge. You might want to increase the number of iterations, check the scale of the features or consider increasing regularisation. Duality gap: 1.261e+11, tolerance: 1.053e+08\n",
      "  model = cd_fast.enet_coordinate_descent(\n",
      "c:\\Users\\user\\Anaconda3\\envs\\python39\\lib\\site-packages\\sklearn\\linear_model\\_coordinate_descent.py:647: ConvergenceWarning: Objective did not converge. You might want to increase the number of iterations, check the scale of the features or consider increasing regularisation. Duality gap: 1.161e+11, tolerance: 1.070e+08\n",
      "  model = cd_fast.enet_coordinate_descent(\n",
      "c:\\Users\\user\\Anaconda3\\envs\\python39\\lib\\site-packages\\sklearn\\linear_model\\_coordinate_descent.py:647: ConvergenceWarning: Objective did not converge. You might want to increase the number of iterations, check the scale of the features or consider increasing regularisation. Duality gap: 1.251e+11, tolerance: 1.066e+08\n",
      "  model = cd_fast.enet_coordinate_descent(\n",
      "c:\\Users\\user\\Anaconda3\\envs\\python39\\lib\\site-packages\\sklearn\\linear_model\\_coordinate_descent.py:647: ConvergenceWarning: Objective did not converge. You might want to increase the number of iterations, check the scale of the features or consider increasing regularisation. Duality gap: 1.010e+11, tolerance: 1.068e+08\n",
      "  model = cd_fast.enet_coordinate_descent(\n",
      "c:\\Users\\user\\Anaconda3\\envs\\python39\\lib\\site-packages\\sklearn\\linear_model\\_coordinate_descent.py:647: ConvergenceWarning: Objective did not converge. You might want to increase the number of iterations, check the scale of the features or consider increasing regularisation. Duality gap: 1.277e+11, tolerance: 1.068e+08\n",
      "  model = cd_fast.enet_coordinate_descent(\n",
      "c:\\Users\\user\\Anaconda3\\envs\\python39\\lib\\site-packages\\sklearn\\linear_model\\_coordinate_descent.py:647: ConvergenceWarning: Objective did not converge. You might want to increase the number of iterations, check the scale of the features or consider increasing regularisation. Duality gap: 1.244e+11, tolerance: 1.053e+08\n",
      "  model = cd_fast.enet_coordinate_descent(\n",
      "c:\\Users\\user\\Anaconda3\\envs\\python39\\lib\\site-packages\\sklearn\\linear_model\\_coordinate_descent.py:647: ConvergenceWarning: Objective did not converge. You might want to increase the number of iterations, check the scale of the features or consider increasing regularisation. Duality gap: 1.045e+11, tolerance: 1.070e+08\n",
      "  model = cd_fast.enet_coordinate_descent(\n",
      "c:\\Users\\user\\Anaconda3\\envs\\python39\\lib\\site-packages\\sklearn\\linear_model\\_coordinate_descent.py:647: ConvergenceWarning: Objective did not converge. You might want to increase the number of iterations, check the scale of the features or consider increasing regularisation. Duality gap: 1.200e+11, tolerance: 1.066e+08\n",
      "  model = cd_fast.enet_coordinate_descent(\n",
      "c:\\Users\\user\\Anaconda3\\envs\\python39\\lib\\site-packages\\sklearn\\linear_model\\_coordinate_descent.py:647: ConvergenceWarning: Objective did not converge. You might want to increase the number of iterations, check the scale of the features or consider increasing regularisation. Duality gap: 7.138e+10, tolerance: 1.068e+08\n",
      "  model = cd_fast.enet_coordinate_descent(\n",
      "c:\\Users\\user\\Anaconda3\\envs\\python39\\lib\\site-packages\\sklearn\\linear_model\\_coordinate_descent.py:647: ConvergenceWarning: Objective did not converge. You might want to increase the number of iterations, check the scale of the features or consider increasing regularisation. Duality gap: 1.251e+11, tolerance: 1.068e+08\n",
      "  model = cd_fast.enet_coordinate_descent(\n",
      "c:\\Users\\user\\Anaconda3\\envs\\python39\\lib\\site-packages\\sklearn\\linear_model\\_coordinate_descent.py:647: ConvergenceWarning: Objective did not converge. You might want to increase the number of iterations, check the scale of the features or consider increasing regularisation. Duality gap: 1.209e+11, tolerance: 1.053e+08\n",
      "  model = cd_fast.enet_coordinate_descent(\n",
      "c:\\Users\\user\\Anaconda3\\envs\\python39\\lib\\site-packages\\sklearn\\linear_model\\_coordinate_descent.py:647: ConvergenceWarning: Objective did not converge. You might want to increase the number of iterations, check the scale of the features or consider increasing regularisation. Duality gap: 8.269e+10, tolerance: 1.070e+08\n",
      "  model = cd_fast.enet_coordinate_descent(\n",
      "c:\\Users\\user\\Anaconda3\\envs\\python39\\lib\\site-packages\\sklearn\\linear_model\\_coordinate_descent.py:647: ConvergenceWarning: Objective did not converge. You might want to increase the number of iterations, check the scale of the features or consider increasing regularisation. Duality gap: 1.103e+11, tolerance: 1.066e+08\n",
      "  model = cd_fast.enet_coordinate_descent(\n",
      "c:\\Users\\user\\Anaconda3\\envs\\python39\\lib\\site-packages\\sklearn\\linear_model\\_coordinate_descent.py:647: ConvergenceWarning: Objective did not converge. You might want to increase the number of iterations, check the scale of the features or consider increasing regularisation. Duality gap: 5.493e+10, tolerance: 1.068e+08\n",
      "  model = cd_fast.enet_coordinate_descent(\n",
      "c:\\Users\\user\\Anaconda3\\envs\\python39\\lib\\site-packages\\sklearn\\linear_model\\_coordinate_descent.py:647: ConvergenceWarning: Objective did not converge. You might want to increase the number of iterations, check the scale of the features or consider increasing regularisation. Duality gap: 1.201e+11, tolerance: 1.068e+08\n",
      "  model = cd_fast.enet_coordinate_descent(\n",
      "c:\\Users\\user\\Anaconda3\\envs\\python39\\lib\\site-packages\\sklearn\\linear_model\\_coordinate_descent.py:647: ConvergenceWarning: Objective did not converge. You might want to increase the number of iterations, check the scale of the features or consider increasing regularisation. Duality gap: 1.141e+11, tolerance: 1.053e+08\n",
      "  model = cd_fast.enet_coordinate_descent(\n",
      "c:\\Users\\user\\Anaconda3\\envs\\python39\\lib\\site-packages\\sklearn\\linear_model\\_coordinate_descent.py:647: ConvergenceWarning: Objective did not converge. You might want to increase the number of iterations, check the scale of the features or consider increasing regularisation. Duality gap: 5.652e+10, tolerance: 1.070e+08\n",
      "  model = cd_fast.enet_coordinate_descent(\n",
      "c:\\Users\\user\\Anaconda3\\envs\\python39\\lib\\site-packages\\sklearn\\linear_model\\_coordinate_descent.py:647: ConvergenceWarning: Objective did not converge. You might want to increase the number of iterations, check the scale of the features or consider increasing regularisation. Duality gap: 9.289e+10, tolerance: 1.066e+08\n",
      "  model = cd_fast.enet_coordinate_descent(\n",
      "c:\\Users\\user\\Anaconda3\\envs\\python39\\lib\\site-packages\\sklearn\\linear_model\\_coordinate_descent.py:647: ConvergenceWarning: Objective did not converge. You might want to increase the number of iterations, check the scale of the features or consider increasing regularisation. Duality gap: 2.653e+10, tolerance: 1.068e+08\n",
      "  model = cd_fast.enet_coordinate_descent(\n",
      "c:\\Users\\user\\Anaconda3\\envs\\python39\\lib\\site-packages\\sklearn\\linear_model\\_coordinate_descent.py:647: ConvergenceWarning: Objective did not converge. You might want to increase the number of iterations, check the scale of the features or consider increasing regularisation. Duality gap: 1.104e+11, tolerance: 1.068e+08\n",
      "  model = cd_fast.enet_coordinate_descent(\n",
      "c:\\Users\\user\\Anaconda3\\envs\\python39\\lib\\site-packages\\sklearn\\linear_model\\_coordinate_descent.py:647: ConvergenceWarning: Objective did not converge. You might want to increase the number of iterations, check the scale of the features or consider increasing regularisation. Duality gap: 1.014e+11, tolerance: 1.053e+08\n",
      "  model = cd_fast.enet_coordinate_descent(\n",
      "c:\\Users\\user\\Anaconda3\\envs\\python39\\lib\\site-packages\\sklearn\\linear_model\\_coordinate_descent.py:647: ConvergenceWarning: Objective did not converge. You might want to increase the number of iterations, check the scale of the features or consider increasing regularisation. Duality gap: 2.510e+10, tolerance: 1.070e+08\n",
      "  model = cd_fast.enet_coordinate_descent(\n",
      "c:\\Users\\user\\Anaconda3\\envs\\python39\\lib\\site-packages\\sklearn\\linear_model\\_coordinate_descent.py:647: ConvergenceWarning: Objective did not converge. You might want to increase the number of iterations, check the scale of the features or consider increasing regularisation. Duality gap: 6.669e+10, tolerance: 1.066e+08\n",
      "  model = cd_fast.enet_coordinate_descent(\n",
      "c:\\Users\\user\\Anaconda3\\envs\\python39\\lib\\site-packages\\sklearn\\linear_model\\_coordinate_descent.py:647: ConvergenceWarning: Objective did not converge. You might want to increase the number of iterations, check the scale of the features or consider increasing regularisation. Duality gap: 7.302e+09, tolerance: 1.068e+08\n",
      "  model = cd_fast.enet_coordinate_descent(\n",
      "c:\\Users\\user\\Anaconda3\\envs\\python39\\lib\\site-packages\\sklearn\\linear_model\\_coordinate_descent.py:647: ConvergenceWarning: Objective did not converge. You might want to increase the number of iterations, check the scale of the features or consider increasing regularisation. Duality gap: 9.310e+10, tolerance: 1.068e+08\n",
      "  model = cd_fast.enet_coordinate_descent(\n",
      "c:\\Users\\user\\Anaconda3\\envs\\python39\\lib\\site-packages\\sklearn\\linear_model\\_coordinate_descent.py:647: ConvergenceWarning: Objective did not converge. You might want to increase the number of iterations, check the scale of the features or consider increasing regularisation. Duality gap: 7.942e+10, tolerance: 1.053e+08\n",
      "  model = cd_fast.enet_coordinate_descent(\n",
      "c:\\Users\\user\\Anaconda3\\envs\\python39\\lib\\site-packages\\sklearn\\linear_model\\_coordinate_descent.py:647: ConvergenceWarning: Objective did not converge. You might want to increase the number of iterations, check the scale of the features or consider increasing regularisation. Duality gap: 1.197e+10, tolerance: 1.070e+08\n",
      "  model = cd_fast.enet_coordinate_descent(\n",
      "c:\\Users\\user\\Anaconda3\\envs\\python39\\lib\\site-packages\\sklearn\\linear_model\\_coordinate_descent.py:647: ConvergenceWarning: Objective did not converge. You might want to increase the number of iterations, check the scale of the features or consider increasing regularisation. Duality gap: 3.304e+10, tolerance: 1.066e+08\n",
      "  model = cd_fast.enet_coordinate_descent(\n",
      "c:\\Users\\user\\Anaconda3\\envs\\python39\\lib\\site-packages\\sklearn\\linear_model\\_coordinate_descent.py:647: ConvergenceWarning: Objective did not converge. You might want to increase the number of iterations, check the scale of the features or consider increasing regularisation. Duality gap: 7.331e+09, tolerance: 1.068e+08\n",
      "  model = cd_fast.enet_coordinate_descent(\n",
      "c:\\Users\\user\\Anaconda3\\envs\\python39\\lib\\site-packages\\sklearn\\linear_model\\_coordinate_descent.py:647: ConvergenceWarning: Objective did not converge. You might want to increase the number of iterations, check the scale of the features or consider increasing regularisation. Duality gap: 6.515e+10, tolerance: 1.068e+08\n",
      "  model = cd_fast.enet_coordinate_descent(\n",
      "c:\\Users\\user\\Anaconda3\\envs\\python39\\lib\\site-packages\\sklearn\\linear_model\\_coordinate_descent.py:647: ConvergenceWarning: Objective did not converge. You might want to increase the number of iterations, check the scale of the features or consider increasing regularisation. Duality gap: 4.628e+10, tolerance: 1.053e+08\n",
      "  model = cd_fast.enet_coordinate_descent(\n",
      "c:\\Users\\user\\Anaconda3\\envs\\python39\\lib\\site-packages\\sklearn\\linear_model\\_coordinate_descent.py:647: ConvergenceWarning: Objective did not converge. You might want to increase the number of iterations, check the scale of the features or consider increasing regularisation. Duality gap: 5.943e+09, tolerance: 1.066e+08\n",
      "  model = cd_fast.enet_coordinate_descent(\n",
      "c:\\Users\\user\\Anaconda3\\envs\\python39\\lib\\site-packages\\sklearn\\linear_model\\_coordinate_descent.py:647: ConvergenceWarning: Objective did not converge. You might want to increase the number of iterations, check the scale of the features or consider increasing regularisation. Duality gap: 7.453e+09, tolerance: 1.068e+08\n",
      "  model = cd_fast.enet_coordinate_descent(\n",
      "c:\\Users\\user\\Anaconda3\\envs\\python39\\lib\\site-packages\\sklearn\\linear_model\\_coordinate_descent.py:647: ConvergenceWarning: Objective did not converge. You might want to increase the number of iterations, check the scale of the features or consider increasing regularisation. Duality gap: 3.326e+10, tolerance: 1.068e+08\n",
      "  model = cd_fast.enet_coordinate_descent(\n",
      "c:\\Users\\user\\Anaconda3\\envs\\python39\\lib\\site-packages\\sklearn\\linear_model\\_coordinate_descent.py:647: ConvergenceWarning: Objective did not converge. You might want to increase the number of iterations, check the scale of the features or consider increasing regularisation. Duality gap: 1.815e+10, tolerance: 1.053e+08\n",
      "  model = cd_fast.enet_coordinate_descent(\n",
      "c:\\Users\\user\\Anaconda3\\envs\\python39\\lib\\site-packages\\sklearn\\linear_model\\_coordinate_descent.py:647: ConvergenceWarning: Objective did not converge. You might want to increase the number of iterations, check the scale of the features or consider increasing regularisation. Duality gap: 7.980e+09, tolerance: 1.068e+08\n",
      "  model = cd_fast.enet_coordinate_descent(\n",
      "c:\\Users\\user\\Anaconda3\\envs\\python39\\lib\\site-packages\\sklearn\\linear_model\\_coordinate_descent.py:647: ConvergenceWarning: Objective did not converge. You might want to increase the number of iterations, check the scale of the features or consider increasing regularisation. Duality gap: 1.028e+09, tolerance: 1.053e+08\n",
      "  model = cd_fast.enet_coordinate_descent(\n",
      "c:\\Users\\user\\Anaconda3\\envs\\python39\\lib\\site-packages\\sklearn\\linear_model\\_coordinate_descent.py:647: ConvergenceWarning: Objective did not converge. You might want to increase the number of iterations, check the scale of the features or consider increasing regularisation. Duality gap: 1.840e+08, tolerance: 1.068e+08\n",
      "  model = cd_fast.enet_coordinate_descent(\n"
     ]
    },
    {
     "name": "stdout",
     "output_type": "stream",
     "text": [
      "best alpha:  1.438449888287663\n"
     ]
    }
   ],
   "source": [
    "model = Lasso()\n",
    "grid = GridSearchCV(estimator=model, param_grid=dict(alpha=alphas), cv=kf, scoring='neg_root_mean_squared_error')\n",
    "grid.fit(X_train, Y_train)\n",
    "\n",
    "print(\"best alpha: \", grid.best_estimator_.alpha)"
   ]
  },
  {
   "cell_type": "markdown",
   "metadata": {},
   "source": [
    "#### Train the model with the best alpha"
   ]
  },
  {
   "cell_type": "code",
   "execution_count": 18,
   "metadata": {},
   "outputs": [
    {
     "data": {
      "text/plain": [
       "Lasso(alpha=1.438449888287663)"
      ]
     },
     "execution_count": 18,
     "metadata": {},
     "output_type": "execute_result"
    }
   ],
   "source": [
    "best_alpha = grid.best_estimator_.alpha\n",
    "\n",
    "# train the model with the best alpha\n",
    "best_model = Lasso(alpha=best_alpha)\n",
    "best_model.fit(X_train, Y_train)"
   ]
  },
  {
   "cell_type": "code",
   "execution_count": 33,
   "metadata": {},
   "outputs": [
    {
     "name": "stdout",
     "output_type": "stream",
     "text": [
      "Train MSE:  26513520.457153033\n",
      "Train RMSE:  5149.128125921226\n",
      "Train MAE:  3991.115002779432\n",
      "Train MAPE:  0.16083612709503323\n"
     ]
    }
   ],
   "source": [
    "from sklearn.metrics import mean_squared_error, mean_absolute_error, mean_absolute_percentage_error\n",
    "\n",
    "train_predict = best_model.predict(X_train)\n",
    "print(\"Train MSE: \", mean_squared_error(Y_train, train_predict))\n",
    "print(\"Train RMSE: \", np.sqrt(mean_squared_error(Y_train, train_predict)))\n",
    "print(\"Train MAE: \", mean_absolute_error(Y_train, train_predict))\n",
    "print(\"Train MAPE: \", mean_absolute_percentage_error(Y_train, train_predict))"
   ]
  },
  {
   "cell_type": "code",
   "execution_count": 41,
   "metadata": {},
   "outputs": [
    {
     "name": "stdout",
     "output_type": "stream",
     "text": [
      "top 10 features with the highest coefficients:\n",
      " team2_name_LAD                 7305.482297\n",
      "day_Saturday                   6431.053088\n",
      "team2_name_STL                 5629.571741\n",
      "team2_name_LAA                 5453.787896\n",
      "season_type_post               5371.029199\n",
      "team2_name_SFG                 4520.970190\n",
      "team2_name_NYY                 4327.694048\n",
      "day_Friday                     4034.774946\n",
      "home_team_avg_att_last_year    3945.660824\n",
      "team1_name_BOS                 3735.893541\n",
      "dtype: float64\n"
     ]
    }
   ],
   "source": [
    "# print top 10 features with the highest coefficients\n",
    "coef = pd.Series(best_model.coef_, index = data_train.drop(['attendance'], axis=1).columns)\n",
    "print(\"top 10 features with the highest coefficients:\\n\", coef.sort_values(ascending=False)[:10])"
   ]
  },
  {
   "cell_type": "code",
   "execution_count": 42,
   "metadata": {},
   "outputs": [
    {
     "name": "stdout",
     "output_type": "stream",
     "text": [
      "top 10 features with the lowest coefficients:\n",
      " team1_name_COL      -2801.880070\n",
      "team1_name_TOR      -2858.161705\n",
      "team2_name_OAK      -3123.084038\n",
      "team2_name_PIT      -3931.846731\n",
      "team2_pre_loss      -4760.459016\n",
      "team2_name_MIA      -4885.717895\n",
      "team2_pre_win_pct   -5431.893576\n",
      "team2_name_CLE      -5612.353136\n",
      "team2_name_TBR      -6081.879244\n",
      "team1_pre_win_pct   -7384.390911\n",
      "dtype: float64\n"
     ]
    }
   ],
   "source": [
    "# also print the top 10 features with the lowest coefficients\n",
    "print(\"top 10 features with the lowest coefficients:\\n\", coef.sort_values(ascending=False)[-10:])"
   ]
  },
  {
   "cell_type": "code",
   "execution_count": 43,
   "metadata": {},
   "outputs": [
    {
     "name": "stdout",
     "output_type": "stream",
     "text": [
      "top 10 features with the highest coefficients with absolute value:\n",
      " team1_pre_win_pct    7384.390911\n",
      "team2_name_LAD       7305.482297\n",
      "day_Saturday         6431.053088\n",
      "team2_name_TBR       6081.879244\n",
      "team2_name_STL       5629.571741\n",
      "team2_name_CLE       5612.353136\n",
      "team2_name_LAA       5453.787896\n",
      "team2_pre_win_pct    5431.893576\n",
      "season_type_post     5371.029199\n",
      "team2_name_MIA       4885.717895\n",
      "dtype: float64\n"
     ]
    }
   ],
   "source": [
    "# print top 10 features with the highest coefficients with absolute value\n",
    "print(\"top 10 features with the highest coefficients with absolute value:\\n\", coef.abs().sort_values(ascending=False)[:10])"
   ]
  },
  {
   "cell_type": "markdown",
   "metadata": {},
   "source": [
    "#### test on test data"
   ]
  },
  {
   "cell_type": "code",
   "execution_count": 44,
   "metadata": {},
   "outputs": [
    {
     "name": "stdout",
     "output_type": "stream",
     "text": [
      "Test MSE:  40177567.7410704\n",
      "Test RMSE:  6338.577738031648\n",
      "Test MAE:  4907.864543480457\n",
      "Test MAPE:  0.22711703126517055\n"
     ]
    }
   ],
   "source": [
    "test_predict = best_model.predict(X_test)\n",
    "print(\"Test MSE: \", mean_squared_error(Y_test, test_predict))\n",
    "print(\"Test RMSE: \", np.sqrt(mean_squared_error(Y_test, test_predict)))\n",
    "print(\"Test MAE: \", mean_absolute_error(Y_test, test_predict))\n",
    "print(\"Test MAPE: \", mean_absolute_percentage_error(Y_test, test_predict))"
   ]
  },
  {
   "cell_type": "code",
   "execution_count": null,
   "metadata": {},
   "outputs": [],
   "source": []
  }
 ],
 "metadata": {
  "kernelspec": {
   "display_name": "Python 3.9.12 ('python39')",
   "language": "python",
   "name": "python3"
  },
  "language_info": {
   "codemirror_mode": {
    "name": "ipython",
    "version": 3
   },
   "file_extension": ".py",
   "mimetype": "text/x-python",
   "name": "python",
   "nbconvert_exporter": "python",
   "pygments_lexer": "ipython3",
   "version": "3.9.12"
  },
  "orig_nbformat": 4,
  "vscode": {
   "interpreter": {
    "hash": "f1f0ca08df83ebe1228368c35aef2dd5bdef6efbf7330e5bb8a931893862d7fc"
   }
  }
 },
 "nbformat": 4,
 "nbformat_minor": 2
}
