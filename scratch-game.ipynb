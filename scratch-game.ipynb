{
 "cells": [
  {
   "cell_type": "code",
   "execution_count": 1,
   "metadata": {},
   "outputs": [],
   "source": [
    "import requests\n",
    "from bs4 import BeautifulSoup\n",
    "import pandas as pd\n",
    "from datetime import datetime, timedelta\n",
    "from selenium import webdriver\n",
    "from selenium.webdriver.common.by import By\n",
    "from selenium.webdriver.chrome.service import Service\n",
    "from selenium.webdriver.support.ui import WebDriverWait\n",
    "from selenium.webdriver.support import expected_conditions as EC\n",
    "from webdriver_manager.chrome import ChromeDriverManager\n",
    "from selenium.webdriver.chrome.options import Options\n",
    "from selenium.common.exceptions import TimeoutException\n",
    "\n"
   ]
  },
  {
   "cell_type": "code",
   "execution_count": 87,
   "metadata": {},
   "outputs": [],
   "source": [
    "def GetMetaGameInfo(html):\n",
    "    soup = BeautifulSoup(html, \"html.parser\")\n",
    "    scorebox = soup.find(\"div\", {\"class\": \"scorebox\"})\n",
    "    t1, t2, score_box_meta = (list(scorebox.children)[i] for i in [1,3,5])\n",
    "    for t in [t1, t2]:\n",
    "        t.name = t.find(\"strong\").text.strip(\" \").strip(\"\\n\").replace(\" \", \"\")\n",
    "        t.score = int(t.find(\"div\", {\"class\": \"score\"}).text)\n",
    "        t.pre_win, t.pre_loss = (int(i) for i in list(t.children)[4].text.split('-'))\n",
    "    if t1.score > t2.score:\n",
    "        t1.pre_win -= 1\n",
    "        t2.pre_loss -= 1\n",
    "    else:\n",
    "        t2.pre_win -= 1\n",
    "        t1.pre_loss -= 1\n",
    "    date, start_time, att, venue, duration, at_night_on_grass = list(list(score_box_meta.children)[i].text for i in [1, 2, 3, 4, 5, 6] )\n",
    "    date = datetime.strptime(date, \"%A, %B %d, %Y\")\n",
    "    start_time = datetime.strptime(start_time[12:20].replace(\".\", \"\"), \"%I:%M %p\")\n",
    "    start_time = date + timedelta(hours=start_time.hour, minutes=start_time.minute)\n",
    "    duration = datetime.strptime(duration[15:], \"%H:%M\")\n",
    "    duration = timedelta(hours=duration.hour, minutes=duration.minute)\n",
    "    at_night, on_grass = at_night_on_grass.split(\", \")\n",
    "    at_night = 'Night Game' == at_night\n",
    "    on_grass = 'on grass' == on_grass\n",
    "    att = int(att.split(\": \")[1].replace(\",\", \"\"))\n",
    "    venue = venue.split(\": \")[1]    \n",
    "    gameInfo = {\n",
    "        \"start_time\": start_time, \"duration\": duration,\n",
    "        \"venue\": venue, \"at_night\": at_night, \"on_grass\": on_grass,\n",
    "        \"att\": att\n",
    "    }\n",
    "    return t1, t2, gameInfo\n",
    "\n",
    "# soup = BeautifulSoup(, \"html.parser\")\n",
    "def GetTable(teamBatting):\n",
    "    tbody = teamBatting.find_element(By.TAG_NAME, \"tbody\")\n",
    "    table = [row.split(\" \") for row in tbody.text.split(\"\\n\")]\n",
    "    iter_table = table[:]\n",
    "    table = []\n",
    "    for row in iter_table:\n",
    "        for i, ele in enumerate(row[:4]):\n",
    "            if ele.isnumeric():\n",
    "                name = \" \".join(row[:i])\n",
    "                row = [name] + row[i:]\n",
    "                table.append(row)\n",
    "                break\n",
    "    return pd.DataFrame(table, columns=[\n",
    "        'Batting',\n",
    "        'AB',\n",
    "        'R',\n",
    "        'H',\n",
    "        'RBI',\n",
    "        'BB',\n",
    "        'SO',\n",
    "        'PA',\n",
    "        'BA',\n",
    "        'OBP',\n",
    "        'SLG',\n",
    "        'OPS',\n",
    "        'Pit',\n",
    "        'Str',\n",
    "        'WPA',\n",
    "        'aLI',\n",
    "        'WPA+',\n",
    "        'WPA-',\n",
    "        'cWPA',\n",
    "        'acLI',\n",
    "        'RE24',\n",
    "        'PO',\n",
    "        'A',\n",
    "        'Details'\n",
    "    ])"
   ]
  },
  {
   "cell_type": "code",
   "execution_count": 94,
   "metadata": {},
   "outputs": [],
   "source": [
    "\n",
    "def scratch(url):\n",
    "    ### This blocks images\n",
    "    chrome_options = webdriver.ChromeOptions()\n",
    "    chrome_prefs = {\n",
    "        \"profile.default_content_setting_values\": {\n",
    "            \"images\": 2,\n",
    "            # \"javascript\": 2,\n",
    "        }\n",
    "    }\n",
    "    chrome_options.experimental_options[\"prefs\"] = chrome_prefs\n",
    "\n",
    "    options = Options()\n",
    "    options.headless = False\n",
    "\n",
    "    driver = webdriver.Chrome(service=Service(ChromeDriverManager().install()), options=options, chrome_options=chrome_options)\n",
    "    driver.set_page_load_timeout(5)\n",
    "\n",
    "    while True:\n",
    "        # load page for 4 sec\n",
    "        try:\n",
    "            driver.get(url)\n",
    "        except TimeoutException:\n",
    "            print(\"load page timeout\")\n",
    "        \n",
    "        # check if batting table is load\n",
    "        try:\n",
    "            scorebox = WebDriverWait(driver, 1).until(EC.presence_of_element_located(\n",
    "                    (By.CLASS_NAME, \"scorebox\")\n",
    "                ))\n",
    "            team1, team2, metaGameInfo = GetMetaGameInfo(driver.page_source)\n",
    "            t1batting = WebDriverWait(driver, 1).until(EC.presence_of_element_located(\n",
    "                (By.ID, f\"all_{team1.name}batting\")\n",
    "                ))\n",
    "            df1 = GetTable(t1batting)\n",
    "            print(\"got team1\")\n",
    "            t2batting = WebDriverWait(driver, 1).until(EC.presence_of_element_located(\n",
    "                (By.ID, f\"all_{team2.name}batting\")\n",
    "                ))\n",
    "            df2 = GetTable(t1batting)\n",
    "            print(\"got team2\")\n",
    "        except TimeoutException:\n",
    "            continue\n",
    "        break\n",
    "    team1 = {\n",
    "        \"name\": team1.name,\n",
    "        \"pre_win\": team1.pre_win,\n",
    "        \"pre_loss\": team1.pre_loss,\n",
    "        \"player_df\": df1\n",
    "    }\n",
    "    team2 = {\n",
    "        \"name\": team2.name,\n",
    "        \"pre_win\": team2.pre_win,\n",
    "        \"pre_loss\": team2.pre_loss,\n",
    "        \"player_df\": df2\n",
    "    }\n",
    "    \n",
    "    gameInfo = {\n",
    "        \"meta_game_info\": metaGameInfo,\n",
    "        \"team1\": team1,\n",
    "        \"team2\": team2\n",
    "    }\n",
    "    \n",
    "    return gameInfo"
   ]
  },
  {
   "cell_type": "code",
   "execution_count": 104,
   "metadata": {},
   "outputs": [
    {
     "name": "stderr",
     "output_type": "stream",
     "text": [
      "/var/folders/36/xrq0hvyj4t1g49sh7nhx56c00000gn/T/ipykernel_12729/3822679845.py:15: DeprecationWarning: use options instead of chrome_options\n",
      "  driver = webdriver.Chrome(service=Service(ChromeDriverManager().install()), options=options, chrome_options=chrome_options)\n"
     ]
    },
    {
     "name": "stdout",
     "output_type": "stream",
     "text": [
      "load page timeout\n",
      "got team1\n",
      "got team2\n"
     ]
    }
   ],
   "source": [
    "url = \"https://www.baseball-reference.com/boxes/ANA/ANA202104010.shtml\"\n",
    "url = \"https://www.baseball-reference.com/boxes/BOS/BOS202106270.shtml\"\n",
    "gameInfo = scratch(url)"
   ]
  },
  {
   "cell_type": "code",
   "execution_count": 105,
   "metadata": {},
   "outputs": [
    {
     "data": {
      "text/plain": [
       "{'name': 'NewYorkYankees',\n",
       " 'pre_win': 40,\n",
       " 'pre_loss': 36,\n",
       " 'player_df':                 Batting AB  R     H   RBI    BB    SO    PA    BA   OBP  ...  \\\n",
       " 0        DJ LeMahieu 2B  4  1     2     0     0     1     4  .274  .346  ...   \n",
       " 1        Aaron Judge CF  4  1     1     2     0     1     4  .285  .381  ...   \n",
       " 2          Luke Voit 1B  4  0     1     0     0     2     4  .217  .289  ...   \n",
       " 3  Giancarlo Stanton DH  4  0     0     0     0     3     4  .268  .358  ...   \n",
       " 4        Gio Urshela 3B  4  0     0     0     0     1     4  .268  .310  ...   \n",
       " 5     Gleyber Torres SS  4  0     1     0     0     2     4  .242  .324  ...   \n",
       " 6     Miguel Andujar LF  3  0     0     0     1     0     4  .248  .279  ...   \n",
       " 7      Clint Frazier RF  3  0     1     0     1     1     4  .187  .315  ...   \n",
       " 8     Kyle Higashioka C  2  0     1     0     0     1     2  .198  .277  ...   \n",
       " 9         Gerrit Cole P  1  0  None  None  None  None  None  None  None  ...   \n",
       " \n",
       "       WPA   aLI   WPA+     WPA-    cWPA  acLI  RE24    PO     A Details  \n",
       " 0  -0.043  1.18  0.044  -0.087%  -0.03%  1.24  -0.3     0     2    None  \n",
       " 1  -0.066  1.23  0.047  -0.113%  -0.04%  1.29   0.1     3     0      HR  \n",
       " 2  -0.048  0.66  0.014  -0.063%  -0.03%  0.70  -0.5     5     2    None  \n",
       " 3  -0.055  0.54  0.000  -0.055%  -0.03%  0.56  -1.1  None  None    None  \n",
       " 4  -0.041  0.34  0.000  -0.041%  -0.03%  0.35  -1.1     0     2     GDP  \n",
       " 5  -0.013  0.28  0.010  -0.022%  -0.01%  0.29  -0.5     1     1    None  \n",
       " 6  -0.008  0.34  0.019  -0.027%  -0.01%  0.35  -0.4     2     0    None  \n",
       " 7   0.005  0.35  0.030  -0.025%   0.00%  0.37   0.2     4     1    None  \n",
       " 8   0.017  0.30  0.020  -0.003%   0.01%  0.32   0.2     6     0    None  \n",
       " 9    None  None   None     None    None  None  None  None  None    None  \n",
       " \n",
       " [10 rows x 24 columns]}"
      ]
     },
     "execution_count": 105,
     "metadata": {},
     "output_type": "execute_result"
    }
   ],
   "source": []
  },
  {
   "cell_type": "code",
   "execution_count": 44,
   "metadata": {},
   "outputs": [
    {
     "data": {
      "text/plain": [
       "['Batting',\n",
       " 'AB',\n",
       " 'R',\n",
       " 'H',\n",
       " 'RBI',\n",
       " 'BB',\n",
       " 'SO',\n",
       " 'PA',\n",
       " 'BA',\n",
       " 'OBP',\n",
       " 'SLG',\n",
       " 'OPS',\n",
       " 'Pit',\n",
       " 'Str',\n",
       " 'WPA',\n",
       " 'aLI',\n",
       " 'WPA+',\n",
       " 'WPA-',\n",
       " 'cWPA',\n",
       " 'acLI',\n",
       " 'RE24',\n",
       " 'PO',\n",
       " 'A',\n",
       " 'Details']"
      ]
     },
     "execution_count": 44,
     "metadata": {},
     "output_type": "execute_result"
    }
   ],
   "source": [
    "s = \"Batting\tAB\tR\tH\tRBI\tBB\tSO\tPA\tBA\tOBP\tSLG\tOPS\tPit\tStr\tWPA\taLI\tWPA+\tWPA-\tcWPA\tacLI\tRE24\tPO\tA\tDetails\"\n",
    "s.split('\\t')"
   ]
  },
  {
   "cell_type": "code",
   "execution_count": 39,
   "metadata": {},
   "outputs": [],
   "source": []
  },
  {
   "cell_type": "code",
   "execution_count": 22,
   "metadata": {},
   "outputs": [],
   "source": []
  },
  {
   "cell_type": "code",
   "execution_count": null,
   "metadata": {},
   "outputs": [
    {
     "ename": "",
     "evalue": "",
     "output_type": "error",
     "traceback": [
      "\u001b[1;31mRunning cells with 'Python 3.10.7 ('.venv': venv)' requires ipykernel package.\n",
      "\u001b[1;31mRun the following command to install 'ipykernel' into the Python environment. \n",
      "\u001b[1;31mCommand: '\"/Users/Ethan/Library/CloudStorage/GoogleDrive-breaking0203@gmail.com/My Drive/College/大四上/統計學習與深度學習/final/SLDL-MLB-ATT-Prediction/.venv/bin/python\" -m pip install ipykernel -U --force-reinstall'"
     ]
    }
   ],
   "source": []
  }
 ],
 "metadata": {
  "kernelspec": {
   "display_name": "Python 3.10.7 ('.venv': venv)",
   "language": "python",
   "name": "python3"
  },
  "language_info": {
   "codemirror_mode": {
    "name": "ipython",
    "version": 3
   },
   "file_extension": ".py",
   "mimetype": "text/x-python",
   "name": "python",
   "nbconvert_exporter": "python",
   "pygments_lexer": "ipython3",
   "version": "3.10.7"
  },
  "orig_nbformat": 4,
  "vscode": {
   "interpreter": {
    "hash": "43df744c98c246816ca7c9cbc62e6caeb27475d47e1cd721e7fc30f17cf8524c"
   }
  }
 },
 "nbformat": 4,
 "nbformat_minor": 2
}
