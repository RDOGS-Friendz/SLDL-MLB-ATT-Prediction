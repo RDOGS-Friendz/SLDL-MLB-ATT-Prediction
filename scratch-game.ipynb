{
 "cells": [
  {
   "cell_type": "code",
   "execution_count": 91,
   "metadata": {},
   "outputs": [],
   "source": [
    "import requests\n",
    "from bs4 import BeautifulSoup\n",
    "import pandas as pd\n",
    "from datetime import datetime, timedelta"
   ]
  },
  {
   "cell_type": "code",
   "execution_count": 57,
   "metadata": {},
   "outputs": [],
   "source": [
    "url = \"https://www.baseball-reference.com/boxes/ANA/ANA202104010.shtml\"\n",
    "res = requests.get(url)"
   ]
  },
  {
   "cell_type": "code",
   "execution_count": 132,
   "metadata": {},
   "outputs": [],
   "source": [
    "soup = BeautifulSoup(res.text, \"html.parser\")"
   ]
  },
  {
   "cell_type": "code",
   "execution_count": 185,
   "metadata": {},
   "outputs": [
    {
     "data": {
      "text/plain": [
       "(datetime.datetime(2021, 4, 1, 19, 5),\n",
       " datetime.timedelta(seconds=10260),\n",
       " 'Angel Stadium of Anaheim',\n",
       " True,\n",
       " True,\n",
       " 13207)"
      ]
     },
     "execution_count": 185,
     "metadata": {},
     "output_type": "execute_result"
    }
   ],
   "source": [
    "scorebox = soup.find(\"div\", {\"class\": \"scorebox\"})\n",
    "t1, t2, score_box_meta = (list(scorebox.children)[i] for i in [1,3,5])\n",
    "for t in [t1, t2]:\n",
    "    t.score = int(t.find(\"div\", {\"class\": \"score\"}).text)\n",
    "    t.pre_win, t.pre_loss = (int(i) for i in list(t.children)[4].text.split('-'))\n",
    "if t1.score > t2.score:\n",
    "    t1.pre_win -= 1\n",
    "    t2.pre_loss -= 1\n",
    "else:\n",
    "    t2.pre_win -= 1\n",
    "    t1.pre_loss -= 1\n",
    "date, start_time, att, venue, duration, at_night_on_grass = list(list(score_box_meta.children)[i].text for i in [1, 2, 3, 4, 5, 6] )\n",
    "date = datetime.strptime(date, \"%A, %B %d, %Y\")\n",
    "start_time = datetime.strptime(start_time[12:20].replace(\".\", \"\"), \"%I:%M %p\")\n",
    "start_time = date + timedelta(hours=start_time.hour, minutes=start_time.minute)\n",
    "duration = datetime.strptime(duration[15:], \"%H:%M\")\n",
    "duration = timedelta(hours=duration.hour, minutes=duration.minute)\n",
    "at_night, on_grass = at_night_on_grass.split(\", \")\n",
    "at_night = 'Night Game' == at_night\n",
    "on_grass = 'on grass' == on_grass\n",
    "att = int(att.split(\": \")[1].replace(\",\", \"\"))\n",
    "venue = venue.split(\": \")[1]    \n",
    "start_time, duration, venue, at_night, on_grass, att"
   ]
  },
  {
   "cell_type": "code",
   "execution_count": 184,
   "metadata": {},
   "outputs": [
    {
     "data": {
      "text/plain": [
       "[<table class=\"linescore nohover stats_table no_freeze\">\n",
       " <thead>\n",
       " <tr>\n",
       " <th> </th>\n",
       " <th> </th>\n",
       " <th>1</th>\n",
       " <th>2</th>\n",
       " <th>3</th>\n",
       " <th>4</th>\n",
       " <th>5</th>\n",
       " <th>6</th>\n",
       " <th>7</th>\n",
       " <th>8</th>\n",
       " <th>9</th>\n",
       " <th>R</th>\n",
       " <th>H</th>\n",
       " <th>E</th>\n",
       " </tr>\n",
       " </thead>\n",
       " <tbody>\n",
       " <tr>\n",
       " <td class=\"center\">\n",
       " <div class=\"media-item logo loader\">\n",
       " <img alt=\"2021 Chicago White Sox Logo\" class=\"teamlogo\" itemscope=\"image\" src=\"https://d2p3bygnnzw9w3.cloudfront.net/req/202204011/tlogo/br/CHW-2021.png\"/>\n",
       " <p><a href=\"http://www.sportslogos.net/\">via Sports Logos.net</a></p>\n",
       " <p><a href=\"https://www.sports-reference.com/blog/2016/06/redesign-team-and-league-logos-courtesy-sportslogos-net/\">About logos</a></p>\n",
       " </div>\n",
       " </td>\n",
       " <td><a href=\"/teams/CHW/2021.shtml\">Chicago White Sox</a></td>\n",
       " <td class=\"center\">0</td>\n",
       " <td class=\"center\">1</td>\n",
       " <td class=\"center\">0</td>\n",
       " <td class=\"center\">0</td>\n",
       " <td class=\"center\">2</td>\n",
       " <td class=\"center\">0</td>\n",
       " <td class=\"center\">0</td>\n",
       " <td class=\"center\">0</td>\n",
       " <td class=\"center\">0</td>\n",
       " <td class=\"center\">3</td>\n",
       " <td class=\"center\">7</td>\n",
       " <td class=\"center\">1</td>\n",
       " </tr>\n",
       " <tr>\n",
       " <td class=\"center\">\n",
       " <div class=\"media-item logo loader\">\n",
       " <img alt=\"2021 Los Angeles Angels Logo\" class=\"teamlogo\" itemscope=\"image\" src=\"https://d2p3bygnnzw9w3.cloudfront.net/req/202204011/tlogo/br/LAA-2021.png\"/>\n",
       " <p><a href=\"http://www.sportslogos.net/\">via Sports Logos.net</a></p>\n",
       " <p><a href=\"https://www.sports-reference.com/blog/2016/06/redesign-team-and-league-logos-courtesy-sportslogos-net/\">About logos</a></p>\n",
       " </div>\n",
       " </td>\n",
       " <td><a href=\"/teams/LAA/2021.shtml\">Los Angeles Angels</a></td>\n",
       " <td class=\"center\">0</td>\n",
       " <td class=\"center\">0</td>\n",
       " <td class=\"center\">0</td>\n",
       " <td class=\"center\">1</td>\n",
       " <td class=\"center\">1</td>\n",
       " <td class=\"center\">0</td>\n",
       " <td class=\"center\">0</td>\n",
       " <td class=\"center\">2</td>\n",
       " <td class=\"center\">X</td>\n",
       " <td class=\"center\">4</td>\n",
       " <td class=\"center\">6</td>\n",
       " <td class=\"center\">0</td>\n",
       " </tr>\n",
       " </tbody>\n",
       " <tfoot>\n",
       " <tr><td colspan=\"14\">WP: Mike Mayers (1-0) • LP: Aaron Bummer (0-1) • SV: Raisel Iglesias (1)</td></tr>\n",
       " </tfoot>\n",
       " </table>]"
      ]
     },
     "execution_count": 184,
     "metadata": {},
     "output_type": "execute_result"
    }
   ],
   "source": [
    "list(soup.findAll(\"table\"))"
   ]
  },
  {
   "cell_type": "code",
   "execution_count": null,
   "metadata": {},
   "outputs": [],
   "source": []
  }
 ],
 "metadata": {
  "kernelspec": {
   "display_name": "Python 3.10.7 ('.venv': venv)",
   "language": "python",
   "name": "python3"
  },
  "language_info": {
   "codemirror_mode": {
    "name": "ipython",
    "version": 3
   },
   "file_extension": ".py",
   "mimetype": "text/x-python",
   "name": "python",
   "nbconvert_exporter": "python",
   "pygments_lexer": "ipython3",
   "version": "3.10.7"
  },
  "orig_nbformat": 4,
  "vscode": {
   "interpreter": {
    "hash": "6391a50440cce9797757d082ac7e0613c445a95105df54179b431d17214403e0"
   }
  }
 },
 "nbformat": 4,
 "nbformat_minor": 2
}
