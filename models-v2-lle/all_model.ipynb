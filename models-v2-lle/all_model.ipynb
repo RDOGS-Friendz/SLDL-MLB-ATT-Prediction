{
 "cells": [
  {
   "cell_type": "markdown",
   "metadata": {},
   "source": [
    "# Models with data with LLE\n",
    "- Models includes lasso, ridge, gradient boosting, bagging, svm, and xgboost.\n",
    "- After training above models, we choose 3~5 models with best parameters to do stacking.\n",
    "- We use 5-fold cross validation to ensure model robustness and avoid overfitting.\n",
    "\n",
    "Evaluation metrics:\n",
    "  \n",
    "+ MSE\n",
    "+ RMSE\n",
    "+ MAE\n",
    "+ MAPE\n",
    "\n",
    "Steps:\n",
    "\n",
    "1. 5-fold on training set\n",
    "2. Find the best hyper parameters\n",
    "3. 5-fold as the final training set, re-train with the best hyper parameters\n",
    "4. Save model\n",
    "5. Measure the performance on the test set"
   ]
  },
  {
   "cell_type": "code",
   "execution_count": 1,
   "metadata": {},
   "outputs": [],
   "source": [
    "import pandas as pd\n",
    "import numpy as np"
   ]
  },
  {
   "cell_type": "markdown",
   "metadata": {},
   "source": [
    "## Read dataset"
   ]
  },
  {
   "cell_type": "code",
   "execution_count": 2,
   "metadata": {},
   "outputs": [
    {
     "data": {
      "text/html": [
       "<div>\n",
       "<style scoped>\n",
       "    .dataframe tbody tr th:only-of-type {\n",
       "        vertical-align: middle;\n",
       "    }\n",
       "\n",
       "    .dataframe tbody tr th {\n",
       "        vertical-align: top;\n",
       "    }\n",
       "\n",
       "    .dataframe thead th {\n",
       "        text-align: right;\n",
       "    }\n",
       "</style>\n",
       "<table border=\"1\" class=\"dataframe\">\n",
       "  <thead>\n",
       "    <tr style=\"text-align: right;\">\n",
       "      <th></th>\n",
       "      <th>attendance</th>\n",
       "      <th>is_federal_holiday</th>\n",
       "      <th>venue</th>\n",
       "      <th>on_grass</th>\n",
       "      <th>temperature</th>\n",
       "      <th>wind_speed</th>\n",
       "      <th>team1_name</th>\n",
       "      <th>team1_pre_win</th>\n",
       "      <th>team1_pre_loss</th>\n",
       "      <th>team1_pre_win_pct</th>\n",
       "      <th>...</th>\n",
       "      <th>start_hour</th>\n",
       "      <th>start_hour_label_afternoon</th>\n",
       "      <th>start_hour_label_evening</th>\n",
       "      <th>start_hour_label_night</th>\n",
       "      <th>start_hour_label_noon</th>\n",
       "      <th>game_page_url</th>\n",
       "      <th>start_time</th>\n",
       "      <th>previous_5_to_10MA</th>\n",
       "      <th>lle1</th>\n",
       "      <th>lle2</th>\n",
       "    </tr>\n",
       "  </thead>\n",
       "  <tbody>\n",
       "    <tr>\n",
       "      <th>0</th>\n",
       "      <td>35055</td>\n",
       "      <td>0</td>\n",
       "      <td>Wrigley Field</td>\n",
       "      <td>1</td>\n",
       "      <td>-2.786672</td>\n",
       "      <td>-0.093090</td>\n",
       "      <td>STL</td>\n",
       "      <td>-1.62645</td>\n",
       "      <td>-1.654514</td>\n",
       "      <td>0.0</td>\n",
       "      <td>...</td>\n",
       "      <td>19</td>\n",
       "      <td>0</td>\n",
       "      <td>1</td>\n",
       "      <td>0</td>\n",
       "      <td>0</td>\n",
       "      <td>https://www.baseball-reference.com/boxes/CHN/C...</td>\n",
       "      <td>2015-04-05 19:17:00</td>\n",
       "      <td>32742.135802</td>\n",
       "      <td>0.007683</td>\n",
       "      <td>0.000329</td>\n",
       "    </tr>\n",
       "    <tr>\n",
       "      <th>1</th>\n",
       "      <td>45030</td>\n",
       "      <td>0</td>\n",
       "      <td>Comerica Park</td>\n",
       "      <td>1</td>\n",
       "      <td>-2.031671</td>\n",
       "      <td>-0.489072</td>\n",
       "      <td>MIN</td>\n",
       "      <td>-1.62645</td>\n",
       "      <td>-1.654514</td>\n",
       "      <td>0.0</td>\n",
       "      <td>...</td>\n",
       "      <td>13</td>\n",
       "      <td>0</td>\n",
       "      <td>0</td>\n",
       "      <td>0</td>\n",
       "      <td>1</td>\n",
       "      <td>https://www.baseball-reference.com/boxes/DET/D...</td>\n",
       "      <td>2015-04-06 13:08:00</td>\n",
       "      <td>36014.925926</td>\n",
       "      <td>0.008566</td>\n",
       "      <td>0.006095</td>\n",
       "    </tr>\n",
       "    <tr>\n",
       "      <th>2</th>\n",
       "      <td>45909</td>\n",
       "      <td>0</td>\n",
       "      <td>Safeco Field</td>\n",
       "      <td>1</td>\n",
       "      <td>-1.842921</td>\n",
       "      <td>-1.281036</td>\n",
       "      <td>LAA</td>\n",
       "      <td>-1.62645</td>\n",
       "      <td>-1.654514</td>\n",
       "      <td>0.0</td>\n",
       "      <td>...</td>\n",
       "      <td>13</td>\n",
       "      <td>0</td>\n",
       "      <td>0</td>\n",
       "      <td>0</td>\n",
       "      <td>1</td>\n",
       "      <td>https://www.baseball-reference.com/boxes/SEA/S...</td>\n",
       "      <td>2015-04-06 13:12:00</td>\n",
       "      <td>25485.604938</td>\n",
       "      <td>0.003695</td>\n",
       "      <td>0.009393</td>\n",
       "    </tr>\n",
       "    <tr>\n",
       "      <th>3</th>\n",
       "      <td>53518</td>\n",
       "      <td>0</td>\n",
       "      <td>Dodger Stadium</td>\n",
       "      <td>1</td>\n",
       "      <td>-0.804795</td>\n",
       "      <td>-1.281036</td>\n",
       "      <td>SDP</td>\n",
       "      <td>-1.62645</td>\n",
       "      <td>-1.654514</td>\n",
       "      <td>0.0</td>\n",
       "      <td>...</td>\n",
       "      <td>13</td>\n",
       "      <td>0</td>\n",
       "      <td>0</td>\n",
       "      <td>0</td>\n",
       "      <td>1</td>\n",
       "      <td>https://www.baseball-reference.com/boxes/LAN/L...</td>\n",
       "      <td>2015-04-06 13:12:00</td>\n",
       "      <td>46695.518519</td>\n",
       "      <td>0.007517</td>\n",
       "      <td>0.002310</td>\n",
       "    </tr>\n",
       "    <tr>\n",
       "      <th>4</th>\n",
       "      <td>48469</td>\n",
       "      <td>0</td>\n",
       "      <td>Yankee Stadium III</td>\n",
       "      <td>1</td>\n",
       "      <td>-1.842921</td>\n",
       "      <td>-0.489072</td>\n",
       "      <td>TOR</td>\n",
       "      <td>-1.62645</td>\n",
       "      <td>-1.654514</td>\n",
       "      <td>0.0</td>\n",
       "      <td>...</td>\n",
       "      <td>13</td>\n",
       "      <td>0</td>\n",
       "      <td>0</td>\n",
       "      <td>0</td>\n",
       "      <td>1</td>\n",
       "      <td>https://www.baseball-reference.com/boxes/NYA/N...</td>\n",
       "      <td>2015-04-06 13:13:00</td>\n",
       "      <td>42520.300000</td>\n",
       "      <td>0.006798</td>\n",
       "      <td>-0.005155</td>\n",
       "    </tr>\n",
       "  </tbody>\n",
       "</table>\n",
       "<p>5 rows × 54 columns</p>\n",
       "</div>"
      ],
      "text/plain": [
       "   attendance  is_federal_holiday               venue  on_grass  temperature  \\\n",
       "0       35055                   0       Wrigley Field         1    -2.786672   \n",
       "1       45030                   0       Comerica Park         1    -2.031671   \n",
       "2       45909                   0        Safeco Field         1    -1.842921   \n",
       "3       53518                   0      Dodger Stadium         1    -0.804795   \n",
       "4       48469                   0  Yankee Stadium III         1    -1.842921   \n",
       "\n",
       "   wind_speed team1_name  team1_pre_win  team1_pre_loss  team1_pre_win_pct  \\\n",
       "0   -0.093090        STL       -1.62645       -1.654514                0.0   \n",
       "1   -0.489072        MIN       -1.62645       -1.654514                0.0   \n",
       "2   -1.281036        LAA       -1.62645       -1.654514                0.0   \n",
       "3   -1.281036        SDP       -1.62645       -1.654514                0.0   \n",
       "4   -0.489072        TOR       -1.62645       -1.654514                0.0   \n",
       "\n",
       "   ...  start_hour start_hour_label_afternoon  start_hour_label_evening  \\\n",
       "0  ...          19                          0                         1   \n",
       "1  ...          13                          0                         0   \n",
       "2  ...          13                          0                         0   \n",
       "3  ...          13                          0                         0   \n",
       "4  ...          13                          0                         0   \n",
       "\n",
       "   start_hour_label_night  start_hour_label_noon  \\\n",
       "0                       0                      0   \n",
       "1                       0                      1   \n",
       "2                       0                      1   \n",
       "3                       0                      1   \n",
       "4                       0                      1   \n",
       "\n",
       "                                       game_page_url           start_time  \\\n",
       "0  https://www.baseball-reference.com/boxes/CHN/C...  2015-04-05 19:17:00   \n",
       "1  https://www.baseball-reference.com/boxes/DET/D...  2015-04-06 13:08:00   \n",
       "2  https://www.baseball-reference.com/boxes/SEA/S...  2015-04-06 13:12:00   \n",
       "3  https://www.baseball-reference.com/boxes/LAN/L...  2015-04-06 13:12:00   \n",
       "4  https://www.baseball-reference.com/boxes/NYA/N...  2015-04-06 13:13:00   \n",
       "\n",
       "   previous_5_to_10MA      lle1      lle2  \n",
       "0        32742.135802  0.007683  0.000329  \n",
       "1        36014.925926  0.008566  0.006095  \n",
       "2        25485.604938  0.003695  0.009393  \n",
       "3        46695.518519  0.007517  0.002310  \n",
       "4        42520.300000  0.006798 -0.005155  \n",
       "\n",
       "[5 rows x 54 columns]"
      ]
     },
     "execution_count": 2,
     "metadata": {},
     "output_type": "execute_result"
    }
   ],
   "source": [
    "data_train = pd.read_csv('trainset_w_lle.csv')\n",
    "data_test = pd.read_csv('testset_w_lle.csv')\n",
    "data_train.head()"
   ]
  },
  {
   "cell_type": "code",
   "execution_count": 3,
   "metadata": {},
   "outputs": [
    {
     "data": {
      "text/plain": [
       "Index(['attendance', 'is_federal_holiday', 'venue', 'on_grass', 'temperature',\n",
       "       'wind_speed', 'team1_name', 'team1_pre_win', 'team1_pre_loss',\n",
       "       'team1_pre_win_pct', 'team1_streak', 'team2_name', 'team2_pre_win',\n",
       "       'team2_pre_loss', 'team2_pre_win_pct', 'team2_streak', 'salary-500-800',\n",
       "       'salary-800-1500', 'salary-1500', 'day_Friday', 'day_Monday',\n",
       "       'day_Saturday', 'day_Sunday', 'day_Thursday', 'day_Tuesday',\n",
       "       'day_Wednesday', 'month_April', 'month_August', 'month_July',\n",
       "       'month_June', 'month_March', 'month_May', 'month_November',\n",
       "       'month_October', 'month_September', 'weather_Cloudy', 'weather_Drizzle',\n",
       "       'weather_In Dome', 'weather_Overcast', 'weather_Rain', 'weather_Sunny',\n",
       "       'season_type', 'season', 'home_team_avg_att_last_year', 'start_hour',\n",
       "       'start_hour_label_afternoon', 'start_hour_label_evening',\n",
       "       'start_hour_label_night', 'start_hour_label_noon', 'game_page_url',\n",
       "       'start_time', 'previous_5_to_10MA', 'lle1', 'lle2'],\n",
       "      dtype='object')"
      ]
     },
     "execution_count": 3,
     "metadata": {},
     "output_type": "execute_result"
    }
   ],
   "source": [
    "data_train.columns"
   ]
  },
  {
   "cell_type": "markdown",
   "metadata": {},
   "source": [
    "## Data processing"
   ]
  },
  {
   "cell_type": "code",
   "execution_count": 4,
   "metadata": {},
   "outputs": [],
   "source": [
    "from sklearn.preprocessing import StandardScaler\n",
    "# standardize\n",
    "number_col = ['previous_5_to_10MA']\n",
    "\n",
    "# Standardize features by removing the mean and scaling to unit variance.\n",
    "xscaler = StandardScaler().fit(data_train[number_col])\n",
    "#standardize feature values\n",
    "data_train[number_col] = xscaler.transform(data_train[number_col])\n",
    "data_test[number_col] = xscaler.transform(data_test[number_col])"
   ]
  },
  {
   "cell_type": "code",
   "execution_count": 5,
   "metadata": {},
   "outputs": [],
   "source": [
    "data_train.drop(['venue', 'wind_speed', 'start_hour', 'start_time', 'game_page_url'], axis=1, inplace=True)\n",
    "data_test.drop(['venue', 'wind_speed', 'start_hour', 'start_time', 'game_page_url'], axis=1, inplace=True)"
   ]
  },
  {
   "cell_type": "code",
   "execution_count": 6,
   "metadata": {},
   "outputs": [],
   "source": [
    "data_train = pd.get_dummies(data_train, columns=['team1_name', 'team2_name', 'season_type'])\n",
    "data_test = pd.get_dummies(data_test, columns=['team1_name', 'team2_name', 'season_type'])"
   ]
  },
  {
   "cell_type": "code",
   "execution_count": 7,
   "metadata": {},
   "outputs": [],
   "source": [
    "train_cols = data_train.columns.tolist()\n",
    "data_test = data_test[train_cols].copy()"
   ]
  },
  {
   "cell_type": "code",
   "execution_count": 8,
   "metadata": {},
   "outputs": [
    {
     "name": "stdout",
     "output_type": "stream",
     "text": [
      "set()\n",
      "set()\n"
     ]
    }
   ],
   "source": [
    "print(set(data_train.columns) - set(data_test.columns))\n",
    "print(set(data_test.columns) - set(data_train.columns))"
   ]
  },
  {
   "cell_type": "code",
   "execution_count": 9,
   "metadata": {},
   "outputs": [
    {
     "data": {
      "text/plain": [
       "Index(['attendance', 'is_federal_holiday', 'on_grass', 'temperature',\n",
       "       'team1_pre_win', 'team1_pre_loss', 'team1_pre_win_pct', 'team1_streak',\n",
       "       'team2_pre_win', 'team2_pre_loss',\n",
       "       ...\n",
       "       'team2_name_SDP', 'team2_name_SEA', 'team2_name_SFG', 'team2_name_STL',\n",
       "       'team2_name_TBR', 'team2_name_TEX', 'team2_name_TOR', 'team2_name_WSN',\n",
       "       'season_type_post', 'season_type_regular'],\n",
       "      dtype='object', length=108)"
      ]
     },
     "execution_count": 9,
     "metadata": {},
     "output_type": "execute_result"
    }
   ],
   "source": [
    "data_train.columns"
   ]
  },
  {
   "cell_type": "code",
   "execution_count": 10,
   "metadata": {},
   "outputs": [],
   "source": [
    "from sklearn.utils import shuffle\n",
    "data_train = shuffle(data_train)"
   ]
  },
  {
   "cell_type": "code",
   "execution_count": 11,
   "metadata": {},
   "outputs": [
    {
     "name": "stdout",
     "output_type": "stream",
     "text": [
      "(12270, 107)\n"
     ]
    }
   ],
   "source": [
    "y_train = data_train['attendance'].to_numpy()\n",
    "y_test = data_test['attendance'].to_numpy()\n",
    "\n",
    "data_train.drop(['attendance'], axis=1, inplace=True)\n",
    "data_test.drop(['attendance'], axis=1, inplace=True)\n",
    "\n",
    "x_train = data_train.to_numpy()\n",
    "x_test = data_test.to_numpy()\n",
    "\n",
    "print(x_train.shape)"
   ]
  },
  {
   "cell_type": "markdown",
   "metadata": {},
   "source": [
    "## Lasso\n",
    "### Hyperparameters Tuning"
   ]
  },
  {
   "cell_type": "code",
   "execution_count": 12,
   "metadata": {},
   "outputs": [],
   "source": [
    "from sklearn.linear_model import Lasso\n",
    "from sklearn.model_selection import GridSearchCV"
   ]
  },
  {
   "cell_type": "code",
   "execution_count": null,
   "metadata": {},
   "outputs": [
    {
     "name": "stdout",
     "output_type": "stream",
     "text": [
      "[1.00000000e-03 2.06913808e-03 4.28133240e-03 8.85866790e-03\n",
      " 1.83298071e-02 3.79269019e-02 7.84759970e-02 1.62377674e-01\n",
      " 3.35981829e-01 6.95192796e-01 1.43844989e+00 2.97635144e+00\n",
      " 6.15848211e+00 1.27427499e+01 2.63665090e+01 5.45559478e+01\n",
      " 1.12883789e+02 2.33572147e+02 4.83293024e+02 1.00000000e+03]\n"
     ]
    }
   ],
   "source": [
    "# use grid search to find the best alpha\n",
    "alphas = np.logspace(-3, 3, 20)\n",
    "print(alphas)"
   ]
  },
  {
   "cell_type": "code",
   "execution_count": null,
   "metadata": {},
   "outputs": [],
   "source": [
    "import warnings\n",
    "warnings.filterwarnings(\"ignore\")"
   ]
  },
  {
   "cell_type": "code",
   "execution_count": null,
   "metadata": {},
   "outputs": [
    {
     "data": {
      "text/html": [
       "<style>#sk-container-id-1 {color: black;background-color: white;}#sk-container-id-1 pre{padding: 0;}#sk-container-id-1 div.sk-toggleable {background-color: white;}#sk-container-id-1 label.sk-toggleable__label {cursor: pointer;display: block;width: 100%;margin-bottom: 0;padding: 0.3em;box-sizing: border-box;text-align: center;}#sk-container-id-1 label.sk-toggleable__label-arrow:before {content: \"▸\";float: left;margin-right: 0.25em;color: #696969;}#sk-container-id-1 label.sk-toggleable__label-arrow:hover:before {color: black;}#sk-container-id-1 div.sk-estimator:hover label.sk-toggleable__label-arrow:before {color: black;}#sk-container-id-1 div.sk-toggleable__content {max-height: 0;max-width: 0;overflow: hidden;text-align: left;background-color: #f0f8ff;}#sk-container-id-1 div.sk-toggleable__content pre {margin: 0.2em;color: black;border-radius: 0.25em;background-color: #f0f8ff;}#sk-container-id-1 input.sk-toggleable__control:checked~div.sk-toggleable__content {max-height: 200px;max-width: 100%;overflow: auto;}#sk-container-id-1 input.sk-toggleable__control:checked~label.sk-toggleable__label-arrow:before {content: \"▾\";}#sk-container-id-1 div.sk-estimator input.sk-toggleable__control:checked~label.sk-toggleable__label {background-color: #d4ebff;}#sk-container-id-1 div.sk-label input.sk-toggleable__control:checked~label.sk-toggleable__label {background-color: #d4ebff;}#sk-container-id-1 input.sk-hidden--visually {border: 0;clip: rect(1px 1px 1px 1px);clip: rect(1px, 1px, 1px, 1px);height: 1px;margin: -1px;overflow: hidden;padding: 0;position: absolute;width: 1px;}#sk-container-id-1 div.sk-estimator {font-family: monospace;background-color: #f0f8ff;border: 1px dotted black;border-radius: 0.25em;box-sizing: border-box;margin-bottom: 0.5em;}#sk-container-id-1 div.sk-estimator:hover {background-color: #d4ebff;}#sk-container-id-1 div.sk-parallel-item::after {content: \"\";width: 100%;border-bottom: 1px solid gray;flex-grow: 1;}#sk-container-id-1 div.sk-label:hover label.sk-toggleable__label {background-color: #d4ebff;}#sk-container-id-1 div.sk-serial::before {content: \"\";position: absolute;border-left: 1px solid gray;box-sizing: border-box;top: 0;bottom: 0;left: 50%;z-index: 0;}#sk-container-id-1 div.sk-serial {display: flex;flex-direction: column;align-items: center;background-color: white;padding-right: 0.2em;padding-left: 0.2em;position: relative;}#sk-container-id-1 div.sk-item {position: relative;z-index: 1;}#sk-container-id-1 div.sk-parallel {display: flex;align-items: stretch;justify-content: center;background-color: white;position: relative;}#sk-container-id-1 div.sk-item::before, #sk-container-id-1 div.sk-parallel-item::before {content: \"\";position: absolute;border-left: 1px solid gray;box-sizing: border-box;top: 0;bottom: 0;left: 50%;z-index: -1;}#sk-container-id-1 div.sk-parallel-item {display: flex;flex-direction: column;z-index: 1;position: relative;background-color: white;}#sk-container-id-1 div.sk-parallel-item:first-child::after {align-self: flex-end;width: 50%;}#sk-container-id-1 div.sk-parallel-item:last-child::after {align-self: flex-start;width: 50%;}#sk-container-id-1 div.sk-parallel-item:only-child::after {width: 0;}#sk-container-id-1 div.sk-dashed-wrapped {border: 1px dashed gray;margin: 0 0.4em 0.5em 0.4em;box-sizing: border-box;padding-bottom: 0.4em;background-color: white;}#sk-container-id-1 div.sk-label label {font-family: monospace;font-weight: bold;display: inline-block;line-height: 1.2em;}#sk-container-id-1 div.sk-label-container {text-align: center;}#sk-container-id-1 div.sk-container {/* jupyter's `normalize.less` sets `[hidden] { display: none; }` but bootstrap.min.css set `[hidden] { display: none !important; }` so we also need the `!important` here to be able to override the default hidden behavior on the sphinx rendered scikit-learn.org. See: https://github.com/scikit-learn/scikit-learn/issues/21755 */display: inline-block !important;position: relative;}#sk-container-id-1 div.sk-text-repr-fallback {display: none;}</style><div id=\"sk-container-id-1\" class=\"sk-top-container\"><div class=\"sk-text-repr-fallback\"><pre>GridSearchCV(cv=5, estimator=Lasso(max_iter=50000),\n",
       "             param_grid={&#x27;alpha&#x27;: array([1.00000000e-03, 2.06913808e-03, 4.28133240e-03, 8.85866790e-03,\n",
       "       1.83298071e-02, 3.79269019e-02, 7.84759970e-02, 1.62377674e-01,\n",
       "       3.35981829e-01, 6.95192796e-01, 1.43844989e+00, 2.97635144e+00,\n",
       "       6.15848211e+00, 1.27427499e+01, 2.63665090e+01, 5.45559478e+01,\n",
       "       1.12883789e+02, 2.33572147e+02, 4.83293024e+02, 1.00000000e+03])},\n",
       "             refit=&#x27;neg_root_mean_squared_error&#x27;,\n",
       "             scoring=[&#x27;neg_mean_squared_error&#x27;, &#x27;neg_root_mean_squared_error&#x27;,\n",
       "                      &#x27;neg_mean_absolute_error&#x27;,\n",
       "                      &#x27;neg_mean_absolute_percentage_error&#x27;])</pre><b>In a Jupyter environment, please rerun this cell to show the HTML representation or trust the notebook. <br />On GitHub, the HTML representation is unable to render, please try loading this page with nbviewer.org.</b></div><div class=\"sk-container\" hidden><div class=\"sk-item sk-dashed-wrapped\"><div class=\"sk-label-container\"><div class=\"sk-label sk-toggleable\"><input class=\"sk-toggleable__control sk-hidden--visually\" id=\"sk-estimator-id-1\" type=\"checkbox\" ><label for=\"sk-estimator-id-1\" class=\"sk-toggleable__label sk-toggleable__label-arrow\">GridSearchCV</label><div class=\"sk-toggleable__content\"><pre>GridSearchCV(cv=5, estimator=Lasso(max_iter=50000),\n",
       "             param_grid={&#x27;alpha&#x27;: array([1.00000000e-03, 2.06913808e-03, 4.28133240e-03, 8.85866790e-03,\n",
       "       1.83298071e-02, 3.79269019e-02, 7.84759970e-02, 1.62377674e-01,\n",
       "       3.35981829e-01, 6.95192796e-01, 1.43844989e+00, 2.97635144e+00,\n",
       "       6.15848211e+00, 1.27427499e+01, 2.63665090e+01, 5.45559478e+01,\n",
       "       1.12883789e+02, 2.33572147e+02, 4.83293024e+02, 1.00000000e+03])},\n",
       "             refit=&#x27;neg_root_mean_squared_error&#x27;,\n",
       "             scoring=[&#x27;neg_mean_squared_error&#x27;, &#x27;neg_root_mean_squared_error&#x27;,\n",
       "                      &#x27;neg_mean_absolute_error&#x27;,\n",
       "                      &#x27;neg_mean_absolute_percentage_error&#x27;])</pre></div></div></div><div class=\"sk-parallel\"><div class=\"sk-parallel-item\"><div class=\"sk-item\"><div class=\"sk-label-container\"><div class=\"sk-label sk-toggleable\"><input class=\"sk-toggleable__control sk-hidden--visually\" id=\"sk-estimator-id-2\" type=\"checkbox\" ><label for=\"sk-estimator-id-2\" class=\"sk-toggleable__label sk-toggleable__label-arrow\">estimator: Lasso</label><div class=\"sk-toggleable__content\"><pre>Lasso(max_iter=50000)</pre></div></div></div><div class=\"sk-serial\"><div class=\"sk-item\"><div class=\"sk-estimator sk-toggleable\"><input class=\"sk-toggleable__control sk-hidden--visually\" id=\"sk-estimator-id-3\" type=\"checkbox\" ><label for=\"sk-estimator-id-3\" class=\"sk-toggleable__label sk-toggleable__label-arrow\">Lasso</label><div class=\"sk-toggleable__content\"><pre>Lasso(max_iter=50000)</pre></div></div></div></div></div></div></div></div></div></div>"
      ],
      "text/plain": [
       "GridSearchCV(cv=5, estimator=Lasso(max_iter=50000),\n",
       "             param_grid={'alpha': array([1.00000000e-03, 2.06913808e-03, 4.28133240e-03, 8.85866790e-03,\n",
       "       1.83298071e-02, 3.79269019e-02, 7.84759970e-02, 1.62377674e-01,\n",
       "       3.35981829e-01, 6.95192796e-01, 1.43844989e+00, 2.97635144e+00,\n",
       "       6.15848211e+00, 1.27427499e+01, 2.63665090e+01, 5.45559478e+01,\n",
       "       1.12883789e+02, 2.33572147e+02, 4.83293024e+02, 1.00000000e+03])},\n",
       "             refit='neg_root_mean_squared_error',\n",
       "             scoring=['neg_mean_squared_error', 'neg_root_mean_squared_error',\n",
       "                      'neg_mean_absolute_error',\n",
       "                      'neg_mean_absolute_percentage_error'])"
      ]
     },
     "metadata": {},
     "output_type": "display_data"
    }
   ],
   "source": [
    "scoring = ['neg_mean_squared_error', 'neg_root_mean_squared_error', 'neg_mean_absolute_error', 'neg_mean_absolute_percentage_error']\n",
    "model = Lasso(max_iter=50000)\n",
    "clf = GridSearchCV(estimator=model, param_grid=dict(alpha=alphas), cv=5, scoring=scoring, refit='neg_root_mean_squared_error')\n",
    "clf.fit(x_train, y_train)"
   ]
  },
  {
   "cell_type": "code",
   "execution_count": null,
   "metadata": {},
   "outputs": [
    {
     "name": "stdout",
     "output_type": "stream",
     "text": [
      "Best estimators: Lasso(alpha=1.438449888287663, max_iter=50000)\n",
      "Best parameters: {'alpha': 1.438449888287663}\n"
     ]
    }
   ],
   "source": [
    "print(\"Best estimators:\", clf.best_estimator_)\n",
    "print(\"Best parameters:\", clf.best_params_)"
   ]
  },
  {
   "cell_type": "code",
   "execution_count": null,
   "metadata": {},
   "outputs": [
    {
     "data": {
      "text/html": [
       "<div>\n",
       "<style scoped>\n",
       "    .dataframe tbody tr th:only-of-type {\n",
       "        vertical-align: middle;\n",
       "    }\n",
       "\n",
       "    .dataframe tbody tr th {\n",
       "        vertical-align: top;\n",
       "    }\n",
       "\n",
       "    .dataframe thead th {\n",
       "        text-align: right;\n",
       "    }\n",
       "</style>\n",
       "<table border=\"1\" class=\"dataframe\">\n",
       "  <thead>\n",
       "    <tr style=\"text-align: right;\">\n",
       "      <th></th>\n",
       "      <th>mean_fit_time</th>\n",
       "      <th>std_fit_time</th>\n",
       "      <th>mean_score_time</th>\n",
       "      <th>std_score_time</th>\n",
       "      <th>param_alpha</th>\n",
       "      <th>params</th>\n",
       "      <th>split0_test_neg_mean_squared_error</th>\n",
       "      <th>split1_test_neg_mean_squared_error</th>\n",
       "      <th>split2_test_neg_mean_squared_error</th>\n",
       "      <th>split3_test_neg_mean_squared_error</th>\n",
       "      <th>...</th>\n",
       "      <th>std_test_neg_mean_absolute_error</th>\n",
       "      <th>rank_test_neg_mean_absolute_error</th>\n",
       "      <th>split0_test_neg_mean_absolute_percentage_error</th>\n",
       "      <th>split1_test_neg_mean_absolute_percentage_error</th>\n",
       "      <th>split2_test_neg_mean_absolute_percentage_error</th>\n",
       "      <th>split3_test_neg_mean_absolute_percentage_error</th>\n",
       "      <th>split4_test_neg_mean_absolute_percentage_error</th>\n",
       "      <th>mean_test_neg_mean_absolute_percentage_error</th>\n",
       "      <th>std_test_neg_mean_absolute_percentage_error</th>\n",
       "      <th>rank_test_neg_mean_absolute_percentage_error</th>\n",
       "    </tr>\n",
       "  </thead>\n",
       "  <tbody>\n",
       "    <tr>\n",
       "      <th>0</th>\n",
       "      <td>58.227916</td>\n",
       "      <td>2.243695</td>\n",
       "      <td>0.001326</td>\n",
       "      <td>0.000417</td>\n",
       "      <td>0.001</td>\n",
       "      <td>{'alpha': 0.001}</td>\n",
       "      <td>-2.629589e+07</td>\n",
       "      <td>-2.788178e+07</td>\n",
       "      <td>-2.728938e+07</td>\n",
       "      <td>-2.645784e+07</td>\n",
       "      <td>...</td>\n",
       "      <td>48.467645</td>\n",
       "      <td>11</td>\n",
       "      <td>-0.162984</td>\n",
       "      <td>-0.16282</td>\n",
       "      <td>-0.160831</td>\n",
       "      <td>-0.160847</td>\n",
       "      <td>-0.152209</td>\n",
       "      <td>-0.159938</td>\n",
       "      <td>0.003974</td>\n",
       "      <td>1</td>\n",
       "    </tr>\n",
       "    <tr>\n",
       "      <th>1</th>\n",
       "      <td>62.520946</td>\n",
       "      <td>2.314863</td>\n",
       "      <td>0.001830</td>\n",
       "      <td>0.000381</td>\n",
       "      <td>0.002069</td>\n",
       "      <td>{'alpha': 0.00206913808111479}</td>\n",
       "      <td>-2.629579e+07</td>\n",
       "      <td>-2.788180e+07</td>\n",
       "      <td>-2.728923e+07</td>\n",
       "      <td>-2.645791e+07</td>\n",
       "      <td>...</td>\n",
       "      <td>48.467030</td>\n",
       "      <td>10</td>\n",
       "      <td>-0.162984</td>\n",
       "      <td>-0.16282</td>\n",
       "      <td>-0.160831</td>\n",
       "      <td>-0.160847</td>\n",
       "      <td>-0.152209</td>\n",
       "      <td>-0.159938</td>\n",
       "      <td>0.003974</td>\n",
       "      <td>2</td>\n",
       "    </tr>\n",
       "    <tr>\n",
       "      <th>2</th>\n",
       "      <td>57.498987</td>\n",
       "      <td>2.466145</td>\n",
       "      <td>0.001405</td>\n",
       "      <td>0.000497</td>\n",
       "      <td>0.004281</td>\n",
       "      <td>{'alpha': 0.004281332398719396}</td>\n",
       "      <td>-2.629557e+07</td>\n",
       "      <td>-2.788183e+07</td>\n",
       "      <td>-2.728888e+07</td>\n",
       "      <td>-2.645809e+07</td>\n",
       "      <td>...</td>\n",
       "      <td>48.466316</td>\n",
       "      <td>9</td>\n",
       "      <td>-0.162985</td>\n",
       "      <td>-0.16282</td>\n",
       "      <td>-0.160830</td>\n",
       "      <td>-0.160848</td>\n",
       "      <td>-0.152209</td>\n",
       "      <td>-0.159938</td>\n",
       "      <td>0.003974</td>\n",
       "      <td>3</td>\n",
       "    </tr>\n",
       "    <tr>\n",
       "      <th>3</th>\n",
       "      <td>54.795339</td>\n",
       "      <td>4.691787</td>\n",
       "      <td>0.001361</td>\n",
       "      <td>0.000479</td>\n",
       "      <td>0.008859</td>\n",
       "      <td>{'alpha': 0.008858667904100823}</td>\n",
       "      <td>-2.629514e+07</td>\n",
       "      <td>-2.788189e+07</td>\n",
       "      <td>-2.728831e+07</td>\n",
       "      <td>-2.645848e+07</td>\n",
       "      <td>...</td>\n",
       "      <td>48.466232</td>\n",
       "      <td>8</td>\n",
       "      <td>-0.162986</td>\n",
       "      <td>-0.16282</td>\n",
       "      <td>-0.160828</td>\n",
       "      <td>-0.160849</td>\n",
       "      <td>-0.152208</td>\n",
       "      <td>-0.159938</td>\n",
       "      <td>0.003974</td>\n",
       "      <td>4</td>\n",
       "    </tr>\n",
       "    <tr>\n",
       "      <th>4</th>\n",
       "      <td>30.811924</td>\n",
       "      <td>6.547118</td>\n",
       "      <td>0.001616</td>\n",
       "      <td>0.000841</td>\n",
       "      <td>0.01833</td>\n",
       "      <td>{'alpha': 0.018329807108324356}</td>\n",
       "      <td>-2.629423e+07</td>\n",
       "      <td>-2.788204e+07</td>\n",
       "      <td>-2.728702e+07</td>\n",
       "      <td>-2.645926e+07</td>\n",
       "      <td>...</td>\n",
       "      <td>48.464237</td>\n",
       "      <td>7</td>\n",
       "      <td>-0.162989</td>\n",
       "      <td>-0.16282</td>\n",
       "      <td>-0.160825</td>\n",
       "      <td>-0.160850</td>\n",
       "      <td>-0.152208</td>\n",
       "      <td>-0.159939</td>\n",
       "      <td>0.003975</td>\n",
       "      <td>5</td>\n",
       "    </tr>\n",
       "  </tbody>\n",
       "</table>\n",
       "<p>5 rows × 38 columns</p>\n",
       "</div>"
      ],
      "text/plain": [
       "   mean_fit_time  std_fit_time  mean_score_time  std_score_time param_alpha  \\\n",
       "0      58.227916      2.243695         0.001326        0.000417       0.001   \n",
       "1      62.520946      2.314863         0.001830        0.000381    0.002069   \n",
       "2      57.498987      2.466145         0.001405        0.000497    0.004281   \n",
       "3      54.795339      4.691787         0.001361        0.000479    0.008859   \n",
       "4      30.811924      6.547118         0.001616        0.000841     0.01833   \n",
       "\n",
       "                            params  split0_test_neg_mean_squared_error  \\\n",
       "0                 {'alpha': 0.001}                       -2.629589e+07   \n",
       "1   {'alpha': 0.00206913808111479}                       -2.629579e+07   \n",
       "2  {'alpha': 0.004281332398719396}                       -2.629557e+07   \n",
       "3  {'alpha': 0.008858667904100823}                       -2.629514e+07   \n",
       "4  {'alpha': 0.018329807108324356}                       -2.629423e+07   \n",
       "\n",
       "   split1_test_neg_mean_squared_error  split2_test_neg_mean_squared_error  \\\n",
       "0                       -2.788178e+07                       -2.728938e+07   \n",
       "1                       -2.788180e+07                       -2.728923e+07   \n",
       "2                       -2.788183e+07                       -2.728888e+07   \n",
       "3                       -2.788189e+07                       -2.728831e+07   \n",
       "4                       -2.788204e+07                       -2.728702e+07   \n",
       "\n",
       "   split3_test_neg_mean_squared_error  ...  std_test_neg_mean_absolute_error  \\\n",
       "0                       -2.645784e+07  ...                         48.467645   \n",
       "1                       -2.645791e+07  ...                         48.467030   \n",
       "2                       -2.645809e+07  ...                         48.466316   \n",
       "3                       -2.645848e+07  ...                         48.466232   \n",
       "4                       -2.645926e+07  ...                         48.464237   \n",
       "\n",
       "   rank_test_neg_mean_absolute_error  \\\n",
       "0                                 11   \n",
       "1                                 10   \n",
       "2                                  9   \n",
       "3                                  8   \n",
       "4                                  7   \n",
       "\n",
       "   split0_test_neg_mean_absolute_percentage_error  \\\n",
       "0                                       -0.162984   \n",
       "1                                       -0.162984   \n",
       "2                                       -0.162985   \n",
       "3                                       -0.162986   \n",
       "4                                       -0.162989   \n",
       "\n",
       "   split1_test_neg_mean_absolute_percentage_error  \\\n",
       "0                                        -0.16282   \n",
       "1                                        -0.16282   \n",
       "2                                        -0.16282   \n",
       "3                                        -0.16282   \n",
       "4                                        -0.16282   \n",
       "\n",
       "   split2_test_neg_mean_absolute_percentage_error  \\\n",
       "0                                       -0.160831   \n",
       "1                                       -0.160831   \n",
       "2                                       -0.160830   \n",
       "3                                       -0.160828   \n",
       "4                                       -0.160825   \n",
       "\n",
       "   split3_test_neg_mean_absolute_percentage_error  \\\n",
       "0                                       -0.160847   \n",
       "1                                       -0.160847   \n",
       "2                                       -0.160848   \n",
       "3                                       -0.160849   \n",
       "4                                       -0.160850   \n",
       "\n",
       "   split4_test_neg_mean_absolute_percentage_error  \\\n",
       "0                                       -0.152209   \n",
       "1                                       -0.152209   \n",
       "2                                       -0.152209   \n",
       "3                                       -0.152208   \n",
       "4                                       -0.152208   \n",
       "\n",
       "   mean_test_neg_mean_absolute_percentage_error  \\\n",
       "0                                     -0.159938   \n",
       "1                                     -0.159938   \n",
       "2                                     -0.159938   \n",
       "3                                     -0.159938   \n",
       "4                                     -0.159939   \n",
       "\n",
       "   std_test_neg_mean_absolute_percentage_error  \\\n",
       "0                                     0.003974   \n",
       "1                                     0.003974   \n",
       "2                                     0.003974   \n",
       "3                                     0.003974   \n",
       "4                                     0.003975   \n",
       "\n",
       "   rank_test_neg_mean_absolute_percentage_error  \n",
       "0                                             1  \n",
       "1                                             2  \n",
       "2                                             3  \n",
       "3                                             4  \n",
       "4                                             5  \n",
       "\n",
       "[5 rows x 38 columns]"
      ]
     },
     "metadata": {},
     "output_type": "display_data"
    }
   ],
   "source": [
    "df_res = pd.DataFrame(data=clf.cv_results_)\n",
    "df_res.head()"
   ]
  },
  {
   "cell_type": "markdown",
   "metadata": {},
   "source": [
    "### Train with best params"
   ]
  },
  {
   "cell_type": "code",
   "execution_count": 41,
   "metadata": {},
   "outputs": [],
   "source": [
    "model = Lasso(max_iter=50000, alpha=1.438449888287663)\n",
    "model = model.fit(x_train, y_train)"
   ]
  },
  {
   "cell_type": "code",
   "execution_count": 42,
   "metadata": {},
   "outputs": [
    {
     "name": "stdout",
     "output_type": "stream",
     "text": [
      "Train MSE: 26156460.43719666\n",
      "Train RMSE: 5114.338709666838\n",
      "Train MAE: 3935.5458952700133\n",
      "Train MAPE: 0.15879753712033354\n"
     ]
    }
   ],
   "source": [
    "from sklearn.metrics import mean_squared_error, mean_absolute_error, mean_absolute_percentage_error\n",
    "train_predict = model.predict(x_train)\n",
    "print(\"Train MSE:\", mean_squared_error(y_train, train_predict))\n",
    "print(\"Train RMSE:\", mean_squared_error(y_train, train_predict, squared=False))\n",
    "print(\"Train MAE:\", mean_absolute_error(y_train, train_predict))\n",
    "print(\"Train MAPE:\", mean_absolute_percentage_error(y_train, train_predict))"
   ]
  },
  {
   "cell_type": "code",
   "execution_count": 43,
   "metadata": {},
   "outputs": [
    {
     "name": "stdout",
     "output_type": "stream",
     "text": [
      "top 10 features with the highest coefficients:\n",
      " day_Saturday          6398.683193\n",
      "season_type_post      4635.083864\n",
      "day_Friday            4044.812025\n",
      "team2_name_LAD        3963.886950\n",
      "month_March           3614.915726\n",
      "team1_name_NYY        3474.626943\n",
      "team1_name_CHC        3374.170431\n",
      "day_Sunday            3337.240954\n",
      "previous_5_to_10MA    3321.409872\n",
      "team2_name_LAA        3074.053249\n",
      "dtype: float64\n"
     ]
    }
   ],
   "source": [
    "# print top 10 features with the highest coefficients\n",
    "coef = pd.Series(model.coef_, index = data_train.columns)\n",
    "print(\"top 10 features with the highest coefficients:\\n\", coef.sort_values(ascending=False)[:10])"
   ]
  },
  {
   "cell_type": "code",
   "execution_count": 44,
   "metadata": {},
   "outputs": [
    {
     "name": "stdout",
     "output_type": "stream",
     "text": [
      "top 10 features with the lowest coefficients:\n",
      " month_October       -2583.551031\n",
      "team2_name_OAK      -2645.695210\n",
      "team2_name_PIT      -2739.570537\n",
      "team2_name_CLE      -2974.929695\n",
      "team2_pre_loss      -3126.449860\n",
      "month_September     -3185.055110\n",
      "team2_name_MIA      -3806.704790\n",
      "team2_name_TBR      -4058.345862\n",
      "team2_pre_win_pct   -5002.602362\n",
      "team1_pre_win_pct   -6809.265481\n",
      "dtype: float64\n"
     ]
    }
   ],
   "source": [
    "# also print the top 10 features with the lowest coefficients\n",
    "print(\"top 10 features with the lowest coefficients:\\n\", coef.sort_values(ascending=False)[-10:])"
   ]
  },
  {
   "cell_type": "code",
   "execution_count": 45,
   "metadata": {},
   "outputs": [
    {
     "name": "stdout",
     "output_type": "stream",
     "text": [
      "top 10 features with the highest coefficients with absolute value:\n",
      " team1_pre_win_pct    6809.265481\n",
      "day_Saturday         6398.683193\n",
      "team2_pre_win_pct    5002.602362\n",
      "season_type_post     4635.083864\n",
      "team2_name_TBR       4058.345862\n",
      "day_Friday           4044.812025\n",
      "team2_name_LAD       3963.886950\n",
      "team2_name_MIA       3806.704790\n",
      "month_March          3614.915726\n",
      "team1_name_NYY       3474.626943\n",
      "dtype: float64\n"
     ]
    }
   ],
   "source": [
    "# print top 10 features with the highest coefficients with absolute value\n",
    "print(\"top 10 features with the highest coefficients with absolute value:\\n\", coef.abs().sort_values(ascending=False)[:10])"
   ]
  },
  {
   "cell_type": "markdown",
   "metadata": {},
   "source": [
    "### Evaluate testing set"
   ]
  },
  {
   "cell_type": "code",
   "execution_count": 46,
   "metadata": {},
   "outputs": [
    {
     "name": "stdout",
     "output_type": "stream",
     "text": [
      "Test MSE: 38750830.54443372\n",
      "Test RMSE: 6225.016509571177\n",
      "Test MAE: 4823.869389603339\n",
      "Test MAPE: 0.2322184842678708\n"
     ]
    }
   ],
   "source": [
    "from sklearn.metrics import mean_squared_error, mean_absolute_error, mean_absolute_percentage_error\n",
    "y_pred = model.predict(x_test)\n",
    "print(\"Test MSE:\", mean_squared_error(y_test, y_pred))\n",
    "print(\"Test RMSE:\", mean_squared_error(y_test, y_pred, squared=False))\n",
    "print(\"Test MAE:\", mean_absolute_error(y_test, y_pred))\n",
    "print(\"Test MAPE:\", mean_absolute_percentage_error(y_test, y_pred))"
   ]
  },
  {
   "cell_type": "markdown",
   "metadata": {},
   "source": [
    "### Save model"
   ]
  },
  {
   "cell_type": "code",
   "execution_count": 47,
   "metadata": {},
   "outputs": [],
   "source": [
    "import pickle\n",
    "from datetime import datetime\n",
    "time = datetime.today().strftime('%Y%m%d_%H%M%S')\n",
    "filename = f'./model/lasso_model_{time}.sav'\n",
    "pickle.dump(model, open(filename, 'wb'))"
   ]
  },
  {
   "cell_type": "markdown",
   "metadata": {},
   "source": [
    "## Ridge\n",
    "### Hyperparameters Tuning"
   ]
  },
  {
   "cell_type": "code",
   "execution_count": 19,
   "metadata": {},
   "outputs": [],
   "source": [
    "from sklearn.linear_model import Ridge"
   ]
  },
  {
   "cell_type": "code",
   "execution_count": null,
   "metadata": {},
   "outputs": [
    {
     "name": "stdout",
     "output_type": "stream",
     "text": [
      "[1.00000000e-03 2.06913808e-03 4.28133240e-03 8.85866790e-03\n",
      " 1.83298071e-02 3.79269019e-02 7.84759970e-02 1.62377674e-01\n",
      " 3.35981829e-01 6.95192796e-01 1.43844989e+00 2.97635144e+00\n",
      " 6.15848211e+00 1.27427499e+01 2.63665090e+01 5.45559478e+01\n",
      " 1.12883789e+02 2.33572147e+02 4.83293024e+02 1.00000000e+03]\n"
     ]
    }
   ],
   "source": [
    "# use grid search to find the best alpha\n",
    "alphas = np.logspace(-3, 3, 20)\n",
    "print(alphas)"
   ]
  },
  {
   "cell_type": "code",
   "execution_count": null,
   "metadata": {},
   "outputs": [
    {
     "data": {
      "text/html": [
       "<style>#sk-container-id-1 {color: black;background-color: white;}#sk-container-id-1 pre{padding: 0;}#sk-container-id-1 div.sk-toggleable {background-color: white;}#sk-container-id-1 label.sk-toggleable__label {cursor: pointer;display: block;width: 100%;margin-bottom: 0;padding: 0.3em;box-sizing: border-box;text-align: center;}#sk-container-id-1 label.sk-toggleable__label-arrow:before {content: \"▸\";float: left;margin-right: 0.25em;color: #696969;}#sk-container-id-1 label.sk-toggleable__label-arrow:hover:before {color: black;}#sk-container-id-1 div.sk-estimator:hover label.sk-toggleable__label-arrow:before {color: black;}#sk-container-id-1 div.sk-toggleable__content {max-height: 0;max-width: 0;overflow: hidden;text-align: left;background-color: #f0f8ff;}#sk-container-id-1 div.sk-toggleable__content pre {margin: 0.2em;color: black;border-radius: 0.25em;background-color: #f0f8ff;}#sk-container-id-1 input.sk-toggleable__control:checked~div.sk-toggleable__content {max-height: 200px;max-width: 100%;overflow: auto;}#sk-container-id-1 input.sk-toggleable__control:checked~label.sk-toggleable__label-arrow:before {content: \"▾\";}#sk-container-id-1 div.sk-estimator input.sk-toggleable__control:checked~label.sk-toggleable__label {background-color: #d4ebff;}#sk-container-id-1 div.sk-label input.sk-toggleable__control:checked~label.sk-toggleable__label {background-color: #d4ebff;}#sk-container-id-1 input.sk-hidden--visually {border: 0;clip: rect(1px 1px 1px 1px);clip: rect(1px, 1px, 1px, 1px);height: 1px;margin: -1px;overflow: hidden;padding: 0;position: absolute;width: 1px;}#sk-container-id-1 div.sk-estimator {font-family: monospace;background-color: #f0f8ff;border: 1px dotted black;border-radius: 0.25em;box-sizing: border-box;margin-bottom: 0.5em;}#sk-container-id-1 div.sk-estimator:hover {background-color: #d4ebff;}#sk-container-id-1 div.sk-parallel-item::after {content: \"\";width: 100%;border-bottom: 1px solid gray;flex-grow: 1;}#sk-container-id-1 div.sk-label:hover label.sk-toggleable__label {background-color: #d4ebff;}#sk-container-id-1 div.sk-serial::before {content: \"\";position: absolute;border-left: 1px solid gray;box-sizing: border-box;top: 0;bottom: 0;left: 50%;z-index: 0;}#sk-container-id-1 div.sk-serial {display: flex;flex-direction: column;align-items: center;background-color: white;padding-right: 0.2em;padding-left: 0.2em;position: relative;}#sk-container-id-1 div.sk-item {position: relative;z-index: 1;}#sk-container-id-1 div.sk-parallel {display: flex;align-items: stretch;justify-content: center;background-color: white;position: relative;}#sk-container-id-1 div.sk-item::before, #sk-container-id-1 div.sk-parallel-item::before {content: \"\";position: absolute;border-left: 1px solid gray;box-sizing: border-box;top: 0;bottom: 0;left: 50%;z-index: -1;}#sk-container-id-1 div.sk-parallel-item {display: flex;flex-direction: column;z-index: 1;position: relative;background-color: white;}#sk-container-id-1 div.sk-parallel-item:first-child::after {align-self: flex-end;width: 50%;}#sk-container-id-1 div.sk-parallel-item:last-child::after {align-self: flex-start;width: 50%;}#sk-container-id-1 div.sk-parallel-item:only-child::after {width: 0;}#sk-container-id-1 div.sk-dashed-wrapped {border: 1px dashed gray;margin: 0 0.4em 0.5em 0.4em;box-sizing: border-box;padding-bottom: 0.4em;background-color: white;}#sk-container-id-1 div.sk-label label {font-family: monospace;font-weight: bold;display: inline-block;line-height: 1.2em;}#sk-container-id-1 div.sk-label-container {text-align: center;}#sk-container-id-1 div.sk-container {/* jupyter's `normalize.less` sets `[hidden] { display: none; }` but bootstrap.min.css set `[hidden] { display: none !important; }` so we also need the `!important` here to be able to override the default hidden behavior on the sphinx rendered scikit-learn.org. See: https://github.com/scikit-learn/scikit-learn/issues/21755 */display: inline-block !important;position: relative;}#sk-container-id-1 div.sk-text-repr-fallback {display: none;}</style><div id=\"sk-container-id-1\" class=\"sk-top-container\"><div class=\"sk-text-repr-fallback\"><pre>GridSearchCV(cv=5, estimator=Ridge(max_iter=50000),\n",
       "             param_grid={&#x27;alpha&#x27;: array([1.00000000e-03, 2.06913808e-03, 4.28133240e-03, 8.85866790e-03,\n",
       "       1.83298071e-02, 3.79269019e-02, 7.84759970e-02, 1.62377674e-01,\n",
       "       3.35981829e-01, 6.95192796e-01, 1.43844989e+00, 2.97635144e+00,\n",
       "       6.15848211e+00, 1.27427499e+01, 2.63665090e+01, 5.45559478e+01,\n",
       "       1.12883789e+02, 2.33572147e+02, 4.83293024e+02, 1.00000000e+03])},\n",
       "             refit=&#x27;neg_root_mean_squared_error&#x27;,\n",
       "             scoring=[&#x27;neg_mean_squared_error&#x27;, &#x27;neg_root_mean_squared_error&#x27;,\n",
       "                      &#x27;neg_mean_absolute_error&#x27;,\n",
       "                      &#x27;neg_mean_absolute_percentage_error&#x27;])</pre><b>In a Jupyter environment, please rerun this cell to show the HTML representation or trust the notebook. <br />On GitHub, the HTML representation is unable to render, please try loading this page with nbviewer.org.</b></div><div class=\"sk-container\" hidden><div class=\"sk-item sk-dashed-wrapped\"><div class=\"sk-label-container\"><div class=\"sk-label sk-toggleable\"><input class=\"sk-toggleable__control sk-hidden--visually\" id=\"sk-estimator-id-1\" type=\"checkbox\" ><label for=\"sk-estimator-id-1\" class=\"sk-toggleable__label sk-toggleable__label-arrow\">GridSearchCV</label><div class=\"sk-toggleable__content\"><pre>GridSearchCV(cv=5, estimator=Ridge(max_iter=50000),\n",
       "             param_grid={&#x27;alpha&#x27;: array([1.00000000e-03, 2.06913808e-03, 4.28133240e-03, 8.85866790e-03,\n",
       "       1.83298071e-02, 3.79269019e-02, 7.84759970e-02, 1.62377674e-01,\n",
       "       3.35981829e-01, 6.95192796e-01, 1.43844989e+00, 2.97635144e+00,\n",
       "       6.15848211e+00, 1.27427499e+01, 2.63665090e+01, 5.45559478e+01,\n",
       "       1.12883789e+02, 2.33572147e+02, 4.83293024e+02, 1.00000000e+03])},\n",
       "             refit=&#x27;neg_root_mean_squared_error&#x27;,\n",
       "             scoring=[&#x27;neg_mean_squared_error&#x27;, &#x27;neg_root_mean_squared_error&#x27;,\n",
       "                      &#x27;neg_mean_absolute_error&#x27;,\n",
       "                      &#x27;neg_mean_absolute_percentage_error&#x27;])</pre></div></div></div><div class=\"sk-parallel\"><div class=\"sk-parallel-item\"><div class=\"sk-item\"><div class=\"sk-label-container\"><div class=\"sk-label sk-toggleable\"><input class=\"sk-toggleable__control sk-hidden--visually\" id=\"sk-estimator-id-2\" type=\"checkbox\" ><label for=\"sk-estimator-id-2\" class=\"sk-toggleable__label sk-toggleable__label-arrow\">estimator: Ridge</label><div class=\"sk-toggleable__content\"><pre>Ridge(max_iter=50000)</pre></div></div></div><div class=\"sk-serial\"><div class=\"sk-item\"><div class=\"sk-estimator sk-toggleable\"><input class=\"sk-toggleable__control sk-hidden--visually\" id=\"sk-estimator-id-3\" type=\"checkbox\" ><label for=\"sk-estimator-id-3\" class=\"sk-toggleable__label sk-toggleable__label-arrow\">Ridge</label><div class=\"sk-toggleable__content\"><pre>Ridge(max_iter=50000)</pre></div></div></div></div></div></div></div></div></div></div>"
      ],
      "text/plain": [
       "GridSearchCV(cv=5, estimator=Ridge(max_iter=50000),\n",
       "             param_grid={'alpha': array([1.00000000e-03, 2.06913808e-03, 4.28133240e-03, 8.85866790e-03,\n",
       "       1.83298071e-02, 3.79269019e-02, 7.84759970e-02, 1.62377674e-01,\n",
       "       3.35981829e-01, 6.95192796e-01, 1.43844989e+00, 2.97635144e+00,\n",
       "       6.15848211e+00, 1.27427499e+01, 2.63665090e+01, 5.45559478e+01,\n",
       "       1.12883789e+02, 2.33572147e+02, 4.83293024e+02, 1.00000000e+03])},\n",
       "             refit='neg_root_mean_squared_error',\n",
       "             scoring=['neg_mean_squared_error', 'neg_root_mean_squared_error',\n",
       "                      'neg_mean_absolute_error',\n",
       "                      'neg_mean_absolute_percentage_error'])"
      ]
     },
     "metadata": {},
     "output_type": "display_data"
    }
   ],
   "source": [
    "scoring = ['neg_mean_squared_error', 'neg_root_mean_squared_error', 'neg_mean_absolute_error', 'neg_mean_absolute_percentage_error']\n",
    "model = Ridge(max_iter=50000)\n",
    "clf = GridSearchCV(estimator=model, param_grid=dict(alpha=alphas), cv=5, scoring=scoring, refit='neg_root_mean_squared_error')\n",
    "clf.fit(x_train, y_train)"
   ]
  },
  {
   "cell_type": "code",
   "execution_count": null,
   "metadata": {},
   "outputs": [
    {
     "name": "stdout",
     "output_type": "stream",
     "text": [
      "Best estimators: Ridge(alpha=0.3359818286283781, max_iter=50000)\n",
      "Best parameters: {'alpha': 0.3359818286283781}\n"
     ]
    }
   ],
   "source": [
    "print(\"Best estimators:\", clf.best_estimator_)\n",
    "print(\"Best parameters:\", clf.best_params_)"
   ]
  },
  {
   "cell_type": "code",
   "execution_count": null,
   "metadata": {},
   "outputs": [
    {
     "data": {
      "text/html": [
       "<div>\n",
       "<style scoped>\n",
       "    .dataframe tbody tr th:only-of-type {\n",
       "        vertical-align: middle;\n",
       "    }\n",
       "\n",
       "    .dataframe tbody tr th {\n",
       "        vertical-align: top;\n",
       "    }\n",
       "\n",
       "    .dataframe thead th {\n",
       "        text-align: right;\n",
       "    }\n",
       "</style>\n",
       "<table border=\"1\" class=\"dataframe\">\n",
       "  <thead>\n",
       "    <tr style=\"text-align: right;\">\n",
       "      <th></th>\n",
       "      <th>mean_fit_time</th>\n",
       "      <th>std_fit_time</th>\n",
       "      <th>mean_score_time</th>\n",
       "      <th>std_score_time</th>\n",
       "      <th>param_alpha</th>\n",
       "      <th>params</th>\n",
       "      <th>split0_test_neg_mean_squared_error</th>\n",
       "      <th>split1_test_neg_mean_squared_error</th>\n",
       "      <th>split2_test_neg_mean_squared_error</th>\n",
       "      <th>split3_test_neg_mean_squared_error</th>\n",
       "      <th>...</th>\n",
       "      <th>std_test_neg_mean_absolute_error</th>\n",
       "      <th>rank_test_neg_mean_absolute_error</th>\n",
       "      <th>split0_test_neg_mean_absolute_percentage_error</th>\n",
       "      <th>split1_test_neg_mean_absolute_percentage_error</th>\n",
       "      <th>split2_test_neg_mean_absolute_percentage_error</th>\n",
       "      <th>split3_test_neg_mean_absolute_percentage_error</th>\n",
       "      <th>split4_test_neg_mean_absolute_percentage_error</th>\n",
       "      <th>mean_test_neg_mean_absolute_percentage_error</th>\n",
       "      <th>std_test_neg_mean_absolute_percentage_error</th>\n",
       "      <th>rank_test_neg_mean_absolute_percentage_error</th>\n",
       "    </tr>\n",
       "  </thead>\n",
       "  <tbody>\n",
       "    <tr>\n",
       "      <th>0</th>\n",
       "      <td>0.021511</td>\n",
       "      <td>0.007656</td>\n",
       "      <td>0.001466</td>\n",
       "      <td>0.000526</td>\n",
       "      <td>0.001</td>\n",
       "      <td>{'alpha': 0.001}</td>\n",
       "      <td>-2.560563e+07</td>\n",
       "      <td>-2.633555e+07</td>\n",
       "      <td>-2.756747e+07</td>\n",
       "      <td>-2.680428e+07</td>\n",
       "      <td>...</td>\n",
       "      <td>23.245563</td>\n",
       "      <td>13</td>\n",
       "      <td>-0.154748</td>\n",
       "      <td>-0.160769</td>\n",
       "      <td>-0.157677</td>\n",
       "      <td>-0.159500</td>\n",
       "      <td>-0.166725</td>\n",
       "      <td>-0.159884</td>\n",
       "      <td>0.003974</td>\n",
       "      <td>8</td>\n",
       "    </tr>\n",
       "    <tr>\n",
       "      <th>1</th>\n",
       "      <td>0.017784</td>\n",
       "      <td>0.000990</td>\n",
       "      <td>0.001213</td>\n",
       "      <td>0.000423</td>\n",
       "      <td>0.002069</td>\n",
       "      <td>{'alpha': 0.00206913808111479}</td>\n",
       "      <td>-2.560577e+07</td>\n",
       "      <td>-2.633569e+07</td>\n",
       "      <td>-2.756746e+07</td>\n",
       "      <td>-2.680402e+07</td>\n",
       "      <td>...</td>\n",
       "      <td>23.235907</td>\n",
       "      <td>12</td>\n",
       "      <td>-0.154749</td>\n",
       "      <td>-0.160769</td>\n",
       "      <td>-0.157677</td>\n",
       "      <td>-0.159500</td>\n",
       "      <td>-0.166723</td>\n",
       "      <td>-0.159883</td>\n",
       "      <td>0.003974</td>\n",
       "      <td>7</td>\n",
       "    </tr>\n",
       "    <tr>\n",
       "      <th>2</th>\n",
       "      <td>0.017207</td>\n",
       "      <td>0.000657</td>\n",
       "      <td>0.001208</td>\n",
       "      <td>0.000401</td>\n",
       "      <td>0.004281</td>\n",
       "      <td>{'alpha': 0.004281332398719396}</td>\n",
       "      <td>-2.560606e+07</td>\n",
       "      <td>-2.633598e+07</td>\n",
       "      <td>-2.756743e+07</td>\n",
       "      <td>-2.680351e+07</td>\n",
       "      <td>...</td>\n",
       "      <td>23.216482</td>\n",
       "      <td>11</td>\n",
       "      <td>-0.154749</td>\n",
       "      <td>-0.160770</td>\n",
       "      <td>-0.157677</td>\n",
       "      <td>-0.159499</td>\n",
       "      <td>-0.166721</td>\n",
       "      <td>-0.159883</td>\n",
       "      <td>0.003973</td>\n",
       "      <td>6</td>\n",
       "    </tr>\n",
       "    <tr>\n",
       "      <th>3</th>\n",
       "      <td>0.016812</td>\n",
       "      <td>0.000674</td>\n",
       "      <td>0.001404</td>\n",
       "      <td>0.000494</td>\n",
       "      <td>0.008859</td>\n",
       "      <td>{'alpha': 0.008858667904100823}</td>\n",
       "      <td>-2.560663e+07</td>\n",
       "      <td>-2.633655e+07</td>\n",
       "      <td>-2.756739e+07</td>\n",
       "      <td>-2.680252e+07</td>\n",
       "      <td>...</td>\n",
       "      <td>23.178541</td>\n",
       "      <td>10</td>\n",
       "      <td>-0.154750</td>\n",
       "      <td>-0.160771</td>\n",
       "      <td>-0.157677</td>\n",
       "      <td>-0.159496</td>\n",
       "      <td>-0.166716</td>\n",
       "      <td>-0.159882</td>\n",
       "      <td>0.003971</td>\n",
       "      <td>5</td>\n",
       "    </tr>\n",
       "    <tr>\n",
       "      <th>4</th>\n",
       "      <td>0.017810</td>\n",
       "      <td>0.000725</td>\n",
       "      <td>0.000909</td>\n",
       "      <td>0.000259</td>\n",
       "      <td>0.01833</td>\n",
       "      <td>{'alpha': 0.018329807108324356}</td>\n",
       "      <td>-2.560772e+07</td>\n",
       "      <td>-2.633763e+07</td>\n",
       "      <td>-2.756733e+07</td>\n",
       "      <td>-2.680076e+07</td>\n",
       "      <td>...</td>\n",
       "      <td>23.107821</td>\n",
       "      <td>9</td>\n",
       "      <td>-0.154753</td>\n",
       "      <td>-0.160774</td>\n",
       "      <td>-0.157677</td>\n",
       "      <td>-0.159493</td>\n",
       "      <td>-0.166707</td>\n",
       "      <td>-0.159881</td>\n",
       "      <td>0.003967</td>\n",
       "      <td>3</td>\n",
       "    </tr>\n",
       "  </tbody>\n",
       "</table>\n",
       "<p>5 rows × 38 columns</p>\n",
       "</div>"
      ],
      "text/plain": [
       "   mean_fit_time  std_fit_time  mean_score_time  std_score_time param_alpha  \\\n",
       "0       0.021511      0.007656         0.001466        0.000526       0.001   \n",
       "1       0.017784      0.000990         0.001213        0.000423    0.002069   \n",
       "2       0.017207      0.000657         0.001208        0.000401    0.004281   \n",
       "3       0.016812      0.000674         0.001404        0.000494    0.008859   \n",
       "4       0.017810      0.000725         0.000909        0.000259     0.01833   \n",
       "\n",
       "                            params  split0_test_neg_mean_squared_error  \\\n",
       "0                 {'alpha': 0.001}                       -2.560563e+07   \n",
       "1   {'alpha': 0.00206913808111479}                       -2.560577e+07   \n",
       "2  {'alpha': 0.004281332398719396}                       -2.560606e+07   \n",
       "3  {'alpha': 0.008858667904100823}                       -2.560663e+07   \n",
       "4  {'alpha': 0.018329807108324356}                       -2.560772e+07   \n",
       "\n",
       "   split1_test_neg_mean_squared_error  split2_test_neg_mean_squared_error  \\\n",
       "0                       -2.633555e+07                       -2.756747e+07   \n",
       "1                       -2.633569e+07                       -2.756746e+07   \n",
       "2                       -2.633598e+07                       -2.756743e+07   \n",
       "3                       -2.633655e+07                       -2.756739e+07   \n",
       "4                       -2.633763e+07                       -2.756733e+07   \n",
       "\n",
       "   split3_test_neg_mean_squared_error  ...  std_test_neg_mean_absolute_error  \\\n",
       "0                       -2.680428e+07  ...                         23.245563   \n",
       "1                       -2.680402e+07  ...                         23.235907   \n",
       "2                       -2.680351e+07  ...                         23.216482   \n",
       "3                       -2.680252e+07  ...                         23.178541   \n",
       "4                       -2.680076e+07  ...                         23.107821   \n",
       "\n",
       "   rank_test_neg_mean_absolute_error  \\\n",
       "0                                 13   \n",
       "1                                 12   \n",
       "2                                 11   \n",
       "3                                 10   \n",
       "4                                  9   \n",
       "\n",
       "   split0_test_neg_mean_absolute_percentage_error  \\\n",
       "0                                       -0.154748   \n",
       "1                                       -0.154749   \n",
       "2                                       -0.154749   \n",
       "3                                       -0.154750   \n",
       "4                                       -0.154753   \n",
       "\n",
       "   split1_test_neg_mean_absolute_percentage_error  \\\n",
       "0                                       -0.160769   \n",
       "1                                       -0.160769   \n",
       "2                                       -0.160770   \n",
       "3                                       -0.160771   \n",
       "4                                       -0.160774   \n",
       "\n",
       "   split2_test_neg_mean_absolute_percentage_error  \\\n",
       "0                                       -0.157677   \n",
       "1                                       -0.157677   \n",
       "2                                       -0.157677   \n",
       "3                                       -0.157677   \n",
       "4                                       -0.157677   \n",
       "\n",
       "   split3_test_neg_mean_absolute_percentage_error  \\\n",
       "0                                       -0.159500   \n",
       "1                                       -0.159500   \n",
       "2                                       -0.159499   \n",
       "3                                       -0.159496   \n",
       "4                                       -0.159493   \n",
       "\n",
       "   split4_test_neg_mean_absolute_percentage_error  \\\n",
       "0                                       -0.166725   \n",
       "1                                       -0.166723   \n",
       "2                                       -0.166721   \n",
       "3                                       -0.166716   \n",
       "4                                       -0.166707   \n",
       "\n",
       "   mean_test_neg_mean_absolute_percentage_error  \\\n",
       "0                                     -0.159884   \n",
       "1                                     -0.159883   \n",
       "2                                     -0.159883   \n",
       "3                                     -0.159882   \n",
       "4                                     -0.159881   \n",
       "\n",
       "   std_test_neg_mean_absolute_percentage_error  \\\n",
       "0                                     0.003974   \n",
       "1                                     0.003974   \n",
       "2                                     0.003973   \n",
       "3                                     0.003971   \n",
       "4                                     0.003967   \n",
       "\n",
       "   rank_test_neg_mean_absolute_percentage_error  \n",
       "0                                             8  \n",
       "1                                             7  \n",
       "2                                             6  \n",
       "3                                             5  \n",
       "4                                             3  \n",
       "\n",
       "[5 rows x 38 columns]"
      ]
     },
     "metadata": {},
     "output_type": "display_data"
    }
   ],
   "source": [
    "df_res = pd.DataFrame(data=clf.cv_results_)\n",
    "df_res.head()"
   ]
  },
  {
   "cell_type": "markdown",
   "metadata": {},
   "source": [
    "### Train with best params"
   ]
  },
  {
   "cell_type": "code",
   "execution_count": 48,
   "metadata": {},
   "outputs": [],
   "source": [
    "model = Ridge(max_iter=50000, alpha=0.3359818286283781)\n",
    "model = model.fit(x_train, y_train)"
   ]
  },
  {
   "cell_type": "code",
   "execution_count": 49,
   "metadata": {},
   "outputs": [
    {
     "name": "stdout",
     "output_type": "stream",
     "text": [
      "Train MSE: 26130924.655836225\n",
      "Train RMSE: 5111.841610988766\n",
      "Train MAE: 3934.3450190033386\n",
      "Train MAPE: 0.15862505681276307\n"
     ]
    }
   ],
   "source": [
    "train_predict = model.predict(x_train)\n",
    "print(\"Train MSE:\", mean_squared_error(y_train, train_predict))\n",
    "print(\"Train RMSE:\", mean_squared_error(y_train, train_predict, squared=False))\n",
    "print(\"Train MAE:\", mean_absolute_error(y_train, train_predict))\n",
    "print(\"Train MAPE:\", mean_absolute_percentage_error(y_train, train_predict))"
   ]
  },
  {
   "cell_type": "code",
   "execution_count": 50,
   "metadata": {},
   "outputs": [
    {
     "name": "stdout",
     "output_type": "stream",
     "text": [
      "top 10 features with the highest coefficients:\n",
      " lle2                  9087.657610\n",
      "lle1                  5011.279194\n",
      "day_Saturday          4770.125731\n",
      "team2_name_LAD        4569.459422\n",
      "month_March           4458.318974\n",
      "team2_name_LAA        3457.648922\n",
      "team2_name_STL        3356.703875\n",
      "team1_name_NYY        3279.941787\n",
      "previous_5_to_10MA    3264.641614\n",
      "team1_name_CHC        3009.168977\n",
      "dtype: float64\n"
     ]
    }
   ],
   "source": [
    "# print top 10 features with the highest coefficients\n",
    "coef = pd.Series(model.coef_, index = data_train.columns)\n",
    "print(\"top 10 features with the highest coefficients:\\n\", coef.sort_values(ascending=False)[:10])"
   ]
  },
  {
   "cell_type": "code",
   "execution_count": 51,
   "metadata": {},
   "outputs": [
    {
     "name": "stdout",
     "output_type": "stream",
     "text": [
      "top 10 features with the lowest coefficients:\n",
      " team2_name_PIT      -2752.411161\n",
      "team2_name_OAK      -2784.403186\n",
      "month_October       -3027.115717\n",
      "team2_name_CLE      -3112.605279\n",
      "month_September     -3220.367984\n",
      "team2_pre_loss      -3326.539128\n",
      "team2_name_MIA      -4026.263831\n",
      "team2_name_TBR      -4382.385330\n",
      "team2_pre_win_pct   -5239.168162\n",
      "team1_pre_win_pct   -7063.071144\n",
      "dtype: float64\n"
     ]
    }
   ],
   "source": [
    "# also print the top 10 features with the lowest coefficients\n",
    "print(\"top 10 features with the lowest coefficients:\\n\", coef.sort_values(ascending=False)[-10:])"
   ]
  },
  {
   "cell_type": "code",
   "execution_count": 52,
   "metadata": {},
   "outputs": [
    {
     "name": "stdout",
     "output_type": "stream",
     "text": [
      "top 10 features with the highest coefficients with absolute value:\n",
      " lle2                 9087.657610\n",
      "team1_pre_win_pct    7063.071144\n",
      "team2_pre_win_pct    5239.168162\n",
      "lle1                 5011.279194\n",
      "day_Saturday         4770.125731\n",
      "team2_name_LAD       4569.459422\n",
      "month_March          4458.318974\n",
      "team2_name_TBR       4382.385330\n",
      "team2_name_MIA       4026.263831\n",
      "team2_name_LAA       3457.648922\n",
      "dtype: float64\n"
     ]
    }
   ],
   "source": [
    "# print top 10 features with the highest coefficients with absolute value\n",
    "print(\"top 10 features with the highest coefficients with absolute value:\\n\", coef.abs().sort_values(ascending=False)[:10])"
   ]
  },
  {
   "cell_type": "markdown",
   "metadata": {},
   "source": [
    "### Evaluate testing set"
   ]
  },
  {
   "cell_type": "code",
   "execution_count": 53,
   "metadata": {},
   "outputs": [
    {
     "name": "stdout",
     "output_type": "stream",
     "text": [
      "Test MSE: 38435470.6951421\n",
      "Test RMSE: 6199.63472271892\n",
      "Test MAE: 4799.285521564875\n",
      "Test MAPE: 0.23021651602209595\n"
     ]
    }
   ],
   "source": [
    "from sklearn.metrics import mean_squared_error, mean_absolute_error, mean_absolute_percentage_error\n",
    "y_pred = model.predict(x_test)\n",
    "print(\"Test MSE:\", mean_squared_error(y_test, y_pred))\n",
    "print(\"Test RMSE:\", mean_squared_error(y_test, y_pred, squared=False))\n",
    "print(\"Test MAE:\", mean_absolute_error(y_test, y_pred))\n",
    "print(\"Test MAPE:\", mean_absolute_percentage_error(y_test, y_pred))"
   ]
  },
  {
   "cell_type": "markdown",
   "metadata": {},
   "source": [
    "### Save model"
   ]
  },
  {
   "cell_type": "code",
   "execution_count": 54,
   "metadata": {},
   "outputs": [],
   "source": [
    "time = datetime.today().strftime('%Y%m%d_%H%M%S')\n",
    "filename = f'./model/ridge_model_{time}.sav'\n",
    "pickle.dump(model, open(filename, 'wb'))"
   ]
  },
  {
   "cell_type": "markdown",
   "metadata": {},
   "source": [
    "## SVM (SVR)\n",
    "### Hyperparameters Tuning"
   ]
  },
  {
   "cell_type": "code",
   "execution_count": 26,
   "metadata": {},
   "outputs": [],
   "source": [
    "from sklearn.svm import SVR"
   ]
  },
  {
   "cell_type": "code",
   "execution_count": null,
   "metadata": {},
   "outputs": [
    {
     "data": {
      "text/html": [
       "<style>#sk-container-id-1 {color: black;background-color: white;}#sk-container-id-1 pre{padding: 0;}#sk-container-id-1 div.sk-toggleable {background-color: white;}#sk-container-id-1 label.sk-toggleable__label {cursor: pointer;display: block;width: 100%;margin-bottom: 0;padding: 0.3em;box-sizing: border-box;text-align: center;}#sk-container-id-1 label.sk-toggleable__label-arrow:before {content: \"▸\";float: left;margin-right: 0.25em;color: #696969;}#sk-container-id-1 label.sk-toggleable__label-arrow:hover:before {color: black;}#sk-container-id-1 div.sk-estimator:hover label.sk-toggleable__label-arrow:before {color: black;}#sk-container-id-1 div.sk-toggleable__content {max-height: 0;max-width: 0;overflow: hidden;text-align: left;background-color: #f0f8ff;}#sk-container-id-1 div.sk-toggleable__content pre {margin: 0.2em;color: black;border-radius: 0.25em;background-color: #f0f8ff;}#sk-container-id-1 input.sk-toggleable__control:checked~div.sk-toggleable__content {max-height: 200px;max-width: 100%;overflow: auto;}#sk-container-id-1 input.sk-toggleable__control:checked~label.sk-toggleable__label-arrow:before {content: \"▾\";}#sk-container-id-1 div.sk-estimator input.sk-toggleable__control:checked~label.sk-toggleable__label {background-color: #d4ebff;}#sk-container-id-1 div.sk-label input.sk-toggleable__control:checked~label.sk-toggleable__label {background-color: #d4ebff;}#sk-container-id-1 input.sk-hidden--visually {border: 0;clip: rect(1px 1px 1px 1px);clip: rect(1px, 1px, 1px, 1px);height: 1px;margin: -1px;overflow: hidden;padding: 0;position: absolute;width: 1px;}#sk-container-id-1 div.sk-estimator {font-family: monospace;background-color: #f0f8ff;border: 1px dotted black;border-radius: 0.25em;box-sizing: border-box;margin-bottom: 0.5em;}#sk-container-id-1 div.sk-estimator:hover {background-color: #d4ebff;}#sk-container-id-1 div.sk-parallel-item::after {content: \"\";width: 100%;border-bottom: 1px solid gray;flex-grow: 1;}#sk-container-id-1 div.sk-label:hover label.sk-toggleable__label {background-color: #d4ebff;}#sk-container-id-1 div.sk-serial::before {content: \"\";position: absolute;border-left: 1px solid gray;box-sizing: border-box;top: 0;bottom: 0;left: 50%;z-index: 0;}#sk-container-id-1 div.sk-serial {display: flex;flex-direction: column;align-items: center;background-color: white;padding-right: 0.2em;padding-left: 0.2em;position: relative;}#sk-container-id-1 div.sk-item {position: relative;z-index: 1;}#sk-container-id-1 div.sk-parallel {display: flex;align-items: stretch;justify-content: center;background-color: white;position: relative;}#sk-container-id-1 div.sk-item::before, #sk-container-id-1 div.sk-parallel-item::before {content: \"\";position: absolute;border-left: 1px solid gray;box-sizing: border-box;top: 0;bottom: 0;left: 50%;z-index: -1;}#sk-container-id-1 div.sk-parallel-item {display: flex;flex-direction: column;z-index: 1;position: relative;background-color: white;}#sk-container-id-1 div.sk-parallel-item:first-child::after {align-self: flex-end;width: 50%;}#sk-container-id-1 div.sk-parallel-item:last-child::after {align-self: flex-start;width: 50%;}#sk-container-id-1 div.sk-parallel-item:only-child::after {width: 0;}#sk-container-id-1 div.sk-dashed-wrapped {border: 1px dashed gray;margin: 0 0.4em 0.5em 0.4em;box-sizing: border-box;padding-bottom: 0.4em;background-color: white;}#sk-container-id-1 div.sk-label label {font-family: monospace;font-weight: bold;display: inline-block;line-height: 1.2em;}#sk-container-id-1 div.sk-label-container {text-align: center;}#sk-container-id-1 div.sk-container {/* jupyter's `normalize.less` sets `[hidden] { display: none; }` but bootstrap.min.css set `[hidden] { display: none !important; }` so we also need the `!important` here to be able to override the default hidden behavior on the sphinx rendered scikit-learn.org. See: https://github.com/scikit-learn/scikit-learn/issues/21755 */display: inline-block !important;position: relative;}#sk-container-id-1 div.sk-text-repr-fallback {display: none;}</style><div id=\"sk-container-id-1\" class=\"sk-top-container\"><div class=\"sk-text-repr-fallback\"><pre>GridSearchCV(cv=5, estimator=SVR(), n_jobs=-1,\n",
       "             param_grid={&#x27;C&#x27;: [10, 100],\n",
       "                         &#x27;kernel&#x27;: (&#x27;linear&#x27;, &#x27;rbf&#x27;, &#x27;sigmoid&#x27;)},\n",
       "             refit=&#x27;neg_root_mean_squared_error&#x27;,\n",
       "             scoring=[&#x27;neg_mean_squared_error&#x27;, &#x27;neg_root_mean_squared_error&#x27;,\n",
       "                      &#x27;neg_mean_absolute_error&#x27;,\n",
       "                      &#x27;neg_mean_absolute_percentage_error&#x27;])</pre><b>In a Jupyter environment, please rerun this cell to show the HTML representation or trust the notebook. <br />On GitHub, the HTML representation is unable to render, please try loading this page with nbviewer.org.</b></div><div class=\"sk-container\" hidden><div class=\"sk-item sk-dashed-wrapped\"><div class=\"sk-label-container\"><div class=\"sk-label sk-toggleable\"><input class=\"sk-toggleable__control sk-hidden--visually\" id=\"sk-estimator-id-1\" type=\"checkbox\" ><label for=\"sk-estimator-id-1\" class=\"sk-toggleable__label sk-toggleable__label-arrow\">GridSearchCV</label><div class=\"sk-toggleable__content\"><pre>GridSearchCV(cv=5, estimator=SVR(), n_jobs=-1,\n",
       "             param_grid={&#x27;C&#x27;: [10, 100],\n",
       "                         &#x27;kernel&#x27;: (&#x27;linear&#x27;, &#x27;rbf&#x27;, &#x27;sigmoid&#x27;)},\n",
       "             refit=&#x27;neg_root_mean_squared_error&#x27;,\n",
       "             scoring=[&#x27;neg_mean_squared_error&#x27;, &#x27;neg_root_mean_squared_error&#x27;,\n",
       "                      &#x27;neg_mean_absolute_error&#x27;,\n",
       "                      &#x27;neg_mean_absolute_percentage_error&#x27;])</pre></div></div></div><div class=\"sk-parallel\"><div class=\"sk-parallel-item\"><div class=\"sk-item\"><div class=\"sk-label-container\"><div class=\"sk-label sk-toggleable\"><input class=\"sk-toggleable__control sk-hidden--visually\" id=\"sk-estimator-id-2\" type=\"checkbox\" ><label for=\"sk-estimator-id-2\" class=\"sk-toggleable__label sk-toggleable__label-arrow\">estimator: SVR</label><div class=\"sk-toggleable__content\"><pre>SVR()</pre></div></div></div><div class=\"sk-serial\"><div class=\"sk-item\"><div class=\"sk-estimator sk-toggleable\"><input class=\"sk-toggleable__control sk-hidden--visually\" id=\"sk-estimator-id-3\" type=\"checkbox\" ><label for=\"sk-estimator-id-3\" class=\"sk-toggleable__label sk-toggleable__label-arrow\">SVR</label><div class=\"sk-toggleable__content\"><pre>SVR()</pre></div></div></div></div></div></div></div></div></div></div>"
      ],
      "text/plain": [
       "GridSearchCV(cv=5, estimator=SVR(), n_jobs=-1,\n",
       "             param_grid={'C': [10, 100],\n",
       "                         'kernel': ('linear', 'rbf', 'sigmoid')},\n",
       "             refit='neg_root_mean_squared_error',\n",
       "             scoring=['neg_mean_squared_error', 'neg_root_mean_squared_error',\n",
       "                      'neg_mean_absolute_error',\n",
       "                      'neg_mean_absolute_percentage_error'])"
      ]
     },
     "metadata": {},
     "output_type": "display_data"
    }
   ],
   "source": [
    "scoring = ['neg_mean_squared_error', 'neg_root_mean_squared_error', 'neg_mean_absolute_error', 'neg_mean_absolute_percentage_error']\n",
    "parameters = {'kernel' : ('linear', 'rbf', 'sigmoid'),'C' : [10, 100]}\n",
    "# 'kernel' : ('linear', 'poly', 'rbf', 'sigmoid'),'C' : [5, 10, 30, 50, 100],'degree' : [3,8],'coef0' : [0.01,10,0.5],'gamma' : ('auto','scale')\n",
    "model = SVR()\n",
    "clf = GridSearchCV(model, parameters, cv=5, n_jobs=-1, scoring=scoring, refit='neg_root_mean_squared_error')\n",
    "clf.fit(x_train, y_train)"
   ]
  },
  {
   "cell_type": "code",
   "execution_count": null,
   "metadata": {},
   "outputs": [
    {
     "name": "stdout",
     "output_type": "stream",
     "text": [
      "Best estimators: SVR(C=100, kernel='linear')\n",
      "Best parameters: {'C': 100, 'kernel': 'linear'}\n"
     ]
    }
   ],
   "source": [
    "print(\"Best estimators:\", clf.best_estimator_)\n",
    "print(\"Best parameters:\", clf.best_params_)"
   ]
  },
  {
   "cell_type": "code",
   "execution_count": null,
   "metadata": {},
   "outputs": [
    {
     "data": {
      "text/html": [
       "<div>\n",
       "<style scoped>\n",
       "    .dataframe tbody tr th:only-of-type {\n",
       "        vertical-align: middle;\n",
       "    }\n",
       "\n",
       "    .dataframe tbody tr th {\n",
       "        vertical-align: top;\n",
       "    }\n",
       "\n",
       "    .dataframe thead th {\n",
       "        text-align: right;\n",
       "    }\n",
       "</style>\n",
       "<table border=\"1\" class=\"dataframe\">\n",
       "  <thead>\n",
       "    <tr style=\"text-align: right;\">\n",
       "      <th></th>\n",
       "      <th>mean_fit_time</th>\n",
       "      <th>std_fit_time</th>\n",
       "      <th>mean_score_time</th>\n",
       "      <th>std_score_time</th>\n",
       "      <th>param_C</th>\n",
       "      <th>param_kernel</th>\n",
       "      <th>params</th>\n",
       "      <th>split0_test_neg_mean_squared_error</th>\n",
       "      <th>split1_test_neg_mean_squared_error</th>\n",
       "      <th>split2_test_neg_mean_squared_error</th>\n",
       "      <th>...</th>\n",
       "      <th>std_test_neg_mean_absolute_error</th>\n",
       "      <th>rank_test_neg_mean_absolute_error</th>\n",
       "      <th>split0_test_neg_mean_absolute_percentage_error</th>\n",
       "      <th>split1_test_neg_mean_absolute_percentage_error</th>\n",
       "      <th>split2_test_neg_mean_absolute_percentage_error</th>\n",
       "      <th>split3_test_neg_mean_absolute_percentage_error</th>\n",
       "      <th>split4_test_neg_mean_absolute_percentage_error</th>\n",
       "      <th>mean_test_neg_mean_absolute_percentage_error</th>\n",
       "      <th>std_test_neg_mean_absolute_percentage_error</th>\n",
       "      <th>rank_test_neg_mean_absolute_percentage_error</th>\n",
       "    </tr>\n",
       "  </thead>\n",
       "  <tbody>\n",
       "    <tr>\n",
       "      <th>0</th>\n",
       "      <td>16.601182</td>\n",
       "      <td>1.066084</td>\n",
       "      <td>3.335805</td>\n",
       "      <td>0.191175</td>\n",
       "      <td>10</td>\n",
       "      <td>linear</td>\n",
       "      <td>{'C': 10, 'kernel': 'linear'}</td>\n",
       "      <td>-2.904806e+07</td>\n",
       "      <td>-3.164506e+07</td>\n",
       "      <td>-2.843599e+07</td>\n",
       "      <td>...</td>\n",
       "      <td>52.900955</td>\n",
       "      <td>2</td>\n",
       "      <td>-0.158632</td>\n",
       "      <td>-0.165660</td>\n",
       "      <td>-0.168191</td>\n",
       "      <td>-0.168320</td>\n",
       "      <td>-0.160639</td>\n",
       "      <td>-0.164288</td>\n",
       "      <td>0.003967</td>\n",
       "      <td>2</td>\n",
       "    </tr>\n",
       "    <tr>\n",
       "      <th>1</th>\n",
       "      <td>18.492278</td>\n",
       "      <td>1.353573</td>\n",
       "      <td>10.443836</td>\n",
       "      <td>1.246033</td>\n",
       "      <td>10</td>\n",
       "      <td>rbf</td>\n",
       "      <td>{'C': 10, 'kernel': 'rbf'}</td>\n",
       "      <td>-1.053891e+08</td>\n",
       "      <td>-1.069166e+08</td>\n",
       "      <td>-1.091530e+08</td>\n",
       "      <td>...</td>\n",
       "      <td>147.700078</td>\n",
       "      <td>5</td>\n",
       "      <td>-0.383198</td>\n",
       "      <td>-0.391826</td>\n",
       "      <td>-0.413587</td>\n",
       "      <td>-0.425935</td>\n",
       "      <td>-0.393378</td>\n",
       "      <td>-0.401585</td>\n",
       "      <td>0.015733</td>\n",
       "      <td>5</td>\n",
       "    </tr>\n",
       "    <tr>\n",
       "      <th>2</th>\n",
       "      <td>20.273559</td>\n",
       "      <td>1.391635</td>\n",
       "      <td>5.162617</td>\n",
       "      <td>0.771104</td>\n",
       "      <td>10</td>\n",
       "      <td>sigmoid</td>\n",
       "      <td>{'C': 10, 'kernel': 'sigmoid'}</td>\n",
       "      <td>-1.053900e+08</td>\n",
       "      <td>-1.069176e+08</td>\n",
       "      <td>-1.091539e+08</td>\n",
       "      <td>...</td>\n",
       "      <td>147.700866</td>\n",
       "      <td>6</td>\n",
       "      <td>-0.383200</td>\n",
       "      <td>-0.391827</td>\n",
       "      <td>-0.413588</td>\n",
       "      <td>-0.425937</td>\n",
       "      <td>-0.393379</td>\n",
       "      <td>-0.401586</td>\n",
       "      <td>0.015733</td>\n",
       "      <td>6</td>\n",
       "    </tr>\n",
       "    <tr>\n",
       "      <th>3</th>\n",
       "      <td>19.083862</td>\n",
       "      <td>0.651374</td>\n",
       "      <td>3.888237</td>\n",
       "      <td>0.227080</td>\n",
       "      <td>100</td>\n",
       "      <td>linear</td>\n",
       "      <td>{'C': 100, 'kernel': 'linear'}</td>\n",
       "      <td>-2.704030e+07</td>\n",
       "      <td>-2.945412e+07</td>\n",
       "      <td>-2.645055e+07</td>\n",
       "      <td>...</td>\n",
       "      <td>59.052084</td>\n",
       "      <td>1</td>\n",
       "      <td>-0.150293</td>\n",
       "      <td>-0.157791</td>\n",
       "      <td>-0.157468</td>\n",
       "      <td>-0.158323</td>\n",
       "      <td>-0.151605</td>\n",
       "      <td>-0.155096</td>\n",
       "      <td>0.003422</td>\n",
       "      <td>1</td>\n",
       "    </tr>\n",
       "    <tr>\n",
       "      <th>4</th>\n",
       "      <td>20.260055</td>\n",
       "      <td>1.015853</td>\n",
       "      <td>11.505920</td>\n",
       "      <td>1.256951</td>\n",
       "      <td>100</td>\n",
       "      <td>rbf</td>\n",
       "      <td>{'C': 100, 'kernel': 'rbf'}</td>\n",
       "      <td>-1.053785e+08</td>\n",
       "      <td>-1.069061e+08</td>\n",
       "      <td>-1.091422e+08</td>\n",
       "      <td>...</td>\n",
       "      <td>147.691208</td>\n",
       "      <td>3</td>\n",
       "      <td>-0.383184</td>\n",
       "      <td>-0.391809</td>\n",
       "      <td>-0.413570</td>\n",
       "      <td>-0.425918</td>\n",
       "      <td>-0.393356</td>\n",
       "      <td>-0.401567</td>\n",
       "      <td>0.015733</td>\n",
       "      <td>3</td>\n",
       "    </tr>\n",
       "  </tbody>\n",
       "</table>\n",
       "<p>5 rows × 39 columns</p>\n",
       "</div>"
      ],
      "text/plain": [
       "   mean_fit_time  std_fit_time  mean_score_time  std_score_time param_C  \\\n",
       "0      16.601182      1.066084         3.335805        0.191175      10   \n",
       "1      18.492278      1.353573        10.443836        1.246033      10   \n",
       "2      20.273559      1.391635         5.162617        0.771104      10   \n",
       "3      19.083862      0.651374         3.888237        0.227080     100   \n",
       "4      20.260055      1.015853        11.505920        1.256951     100   \n",
       "\n",
       "  param_kernel                          params  \\\n",
       "0       linear   {'C': 10, 'kernel': 'linear'}   \n",
       "1          rbf      {'C': 10, 'kernel': 'rbf'}   \n",
       "2      sigmoid  {'C': 10, 'kernel': 'sigmoid'}   \n",
       "3       linear  {'C': 100, 'kernel': 'linear'}   \n",
       "4          rbf     {'C': 100, 'kernel': 'rbf'}   \n",
       "\n",
       "   split0_test_neg_mean_squared_error  split1_test_neg_mean_squared_error  \\\n",
       "0                       -2.904806e+07                       -3.164506e+07   \n",
       "1                       -1.053891e+08                       -1.069166e+08   \n",
       "2                       -1.053900e+08                       -1.069176e+08   \n",
       "3                       -2.704030e+07                       -2.945412e+07   \n",
       "4                       -1.053785e+08                       -1.069061e+08   \n",
       "\n",
       "   split2_test_neg_mean_squared_error  ...  std_test_neg_mean_absolute_error  \\\n",
       "0                       -2.843599e+07  ...                         52.900955   \n",
       "1                       -1.091530e+08  ...                        147.700078   \n",
       "2                       -1.091539e+08  ...                        147.700866   \n",
       "3                       -2.645055e+07  ...                         59.052084   \n",
       "4                       -1.091422e+08  ...                        147.691208   \n",
       "\n",
       "   rank_test_neg_mean_absolute_error  \\\n",
       "0                                  2   \n",
       "1                                  5   \n",
       "2                                  6   \n",
       "3                                  1   \n",
       "4                                  3   \n",
       "\n",
       "   split0_test_neg_mean_absolute_percentage_error  \\\n",
       "0                                       -0.158632   \n",
       "1                                       -0.383198   \n",
       "2                                       -0.383200   \n",
       "3                                       -0.150293   \n",
       "4                                       -0.383184   \n",
       "\n",
       "   split1_test_neg_mean_absolute_percentage_error  \\\n",
       "0                                       -0.165660   \n",
       "1                                       -0.391826   \n",
       "2                                       -0.391827   \n",
       "3                                       -0.157791   \n",
       "4                                       -0.391809   \n",
       "\n",
       "   split2_test_neg_mean_absolute_percentage_error  \\\n",
       "0                                       -0.168191   \n",
       "1                                       -0.413587   \n",
       "2                                       -0.413588   \n",
       "3                                       -0.157468   \n",
       "4                                       -0.413570   \n",
       "\n",
       "   split3_test_neg_mean_absolute_percentage_error  \\\n",
       "0                                       -0.168320   \n",
       "1                                       -0.425935   \n",
       "2                                       -0.425937   \n",
       "3                                       -0.158323   \n",
       "4                                       -0.425918   \n",
       "\n",
       "   split4_test_neg_mean_absolute_percentage_error  \\\n",
       "0                                       -0.160639   \n",
       "1                                       -0.393378   \n",
       "2                                       -0.393379   \n",
       "3                                       -0.151605   \n",
       "4                                       -0.393356   \n",
       "\n",
       "   mean_test_neg_mean_absolute_percentage_error  \\\n",
       "0                                     -0.164288   \n",
       "1                                     -0.401585   \n",
       "2                                     -0.401586   \n",
       "3                                     -0.155096   \n",
       "4                                     -0.401567   \n",
       "\n",
       "   std_test_neg_mean_absolute_percentage_error  \\\n",
       "0                                     0.003967   \n",
       "1                                     0.015733   \n",
       "2                                     0.015733   \n",
       "3                                     0.003422   \n",
       "4                                     0.015733   \n",
       "\n",
       "   rank_test_neg_mean_absolute_percentage_error  \n",
       "0                                             2  \n",
       "1                                             5  \n",
       "2                                             6  \n",
       "3                                             1  \n",
       "4                                             3  \n",
       "\n",
       "[5 rows x 39 columns]"
      ]
     },
     "metadata": {},
     "output_type": "display_data"
    }
   ],
   "source": [
    "df_res = pd.DataFrame(data=clf.cv_results_)\n",
    "df_res.head()"
   ]
  },
  {
   "cell_type": "markdown",
   "metadata": {},
   "source": [
    "### Train with best params"
   ]
  },
  {
   "cell_type": "code",
   "execution_count": 27,
   "metadata": {},
   "outputs": [],
   "source": [
    "svm = SVR(kernel='linear', C=100)\n",
    "svm = svm.fit(x_train, y_train)"
   ]
  },
  {
   "cell_type": "code",
   "execution_count": 28,
   "metadata": {},
   "outputs": [
    {
     "name": "stdout",
     "output_type": "stream",
     "text": [
      "Train MSE: 27325691.924503073\n",
      "Train RMSE: 5227.398198387327\n",
      "Train MAE: 3915.955882710001\n",
      "Train MAPE: 0.15363711336356806\n"
     ]
    }
   ],
   "source": [
    "from sklearn.metrics import mean_squared_error, mean_absolute_error, mean_absolute_percentage_error\n",
    "train_predict = svm.predict(x_train)\n",
    "print(\"Train MSE:\", mean_squared_error(y_train, train_predict))\n",
    "print(\"Train RMSE:\", mean_squared_error(y_train, train_predict, squared=False))\n",
    "print(\"Train MAE:\", mean_absolute_error(y_train, train_predict))\n",
    "print(\"Train MAPE:\", mean_absolute_percentage_error(y_train, train_predict))"
   ]
  },
  {
   "cell_type": "code",
   "execution_count": 29,
   "metadata": {},
   "outputs": [
    {
     "name": "stdout",
     "output_type": "stream",
     "text": [
      "top 10 features with the highest coefficients:\n",
      " day_Saturday                   4593.157401\n",
      "previous_5_to_10MA             3889.152197\n",
      "home_team_avg_att_last_year    3019.131389\n",
      "team1_name_CHC                 2653.453899\n",
      "team1_name_NYY                 2586.338780\n",
      "team2_name_LAA                 2281.626314\n",
      "team2_pre_win                  2155.655702\n",
      "team2_name_LAD                 2124.598003\n",
      "team1_name_BOS                 2071.953147\n",
      "day_Friday                     2039.272866\n",
      "dtype: float64\n"
     ]
    }
   ],
   "source": [
    "# print top 10 features with the highest coefficients\n",
    "coef = pd.Series(svm.coef_[0], index = data_train.columns)\n",
    "print(\"top 10 features with the highest coefficients:\\n\", coef.sort_values(ascending=False)[:10])"
   ]
  },
  {
   "cell_type": "code",
   "execution_count": 30,
   "metadata": {},
   "outputs": [
    {
     "name": "stdout",
     "output_type": "stream",
     "text": [
      "top 10 features with the lowest coefficients:\n",
      " team2_name_BAL        -1695.158276\n",
      "team2_pre_loss        -1720.314737\n",
      "team2_name_OAK        -1900.000000\n",
      "month_September       -1900.331698\n",
      "team2_name_MIA        -1983.536924\n",
      "day_Wednesday         -1997.389335\n",
      "season_type_regular   -2006.358079\n",
      "team1_pre_win_pct     -2078.237435\n",
      "day_Tuesday           -2365.461360\n",
      "day_Monday            -2549.135322\n",
      "dtype: float64\n"
     ]
    }
   ],
   "source": [
    "# also print the top 10 features with the lowest coefficients\n",
    "print(\"top 10 features with the lowest coefficients:\\n\", coef.sort_values(ascending=False)[-10:])"
   ]
  },
  {
   "cell_type": "code",
   "execution_count": 31,
   "metadata": {},
   "outputs": [
    {
     "name": "stdout",
     "output_type": "stream",
     "text": [
      "top 10 features with the highest coefficients with absolute value:\n",
      " day_Saturday                   4593.157401\n",
      "previous_5_to_10MA             3889.152197\n",
      "home_team_avg_att_last_year    3019.131389\n",
      "team1_name_CHC                 2653.453899\n",
      "team1_name_NYY                 2586.338780\n",
      "day_Monday                     2549.135322\n",
      "day_Tuesday                    2365.461360\n",
      "team2_name_LAA                 2281.626314\n",
      "team2_pre_win                  2155.655702\n",
      "team2_name_LAD                 2124.598003\n",
      "dtype: float64\n"
     ]
    }
   ],
   "source": [
    "# print top 10 features with the highest coefficients with absolute value\n",
    "print(\"top 10 features with the highest coefficients with absolute value:\\n\", coef.abs().sort_values(ascending=False)[:10])"
   ]
  },
  {
   "cell_type": "markdown",
   "metadata": {},
   "source": [
    "### Evaluate testing set"
   ]
  },
  {
   "cell_type": "code",
   "execution_count": 32,
   "metadata": {},
   "outputs": [
    {
     "name": "stdout",
     "output_type": "stream",
     "text": [
      "Test MSE: 42826763.57391241\n",
      "Test RMSE: 6544.216039672927\n",
      "Test MAE: 5058.2547496973075\n",
      "Test MAPE: 0.23971341285082398\n"
     ]
    }
   ],
   "source": [
    "from sklearn.metrics import mean_squared_error, mean_absolute_error, mean_absolute_percentage_error\n",
    "y_pred = svm.predict(x_test)\n",
    "print(\"Test MSE:\", mean_squared_error(y_test, y_pred))\n",
    "print(\"Test RMSE:\", mean_squared_error(y_test, y_pred, squared=False))\n",
    "print(\"Test MAE:\", mean_absolute_error(y_test, y_pred))\n",
    "print(\"Test MAPE:\", mean_absolute_percentage_error(y_test, y_pred))"
   ]
  },
  {
   "cell_type": "markdown",
   "metadata": {},
   "source": [
    "### Save model"
   ]
  },
  {
   "cell_type": "code",
   "execution_count": 55,
   "metadata": {},
   "outputs": [],
   "source": [
    "time = datetime.today().strftime('%Y%m%d_%H%M%S')\n",
    "filename = f'./model/svm_model_{time}.sav'\n",
    "pickle.dump(svm, open(filename, 'wb'))"
   ]
  },
  {
   "cell_type": "markdown",
   "metadata": {},
   "source": [
    "## Bagging Regressor\n",
    "### Hyperparameters Tuning"
   ]
  },
  {
   "cell_type": "code",
   "execution_count": 33,
   "metadata": {},
   "outputs": [],
   "source": [
    "from sklearn.ensemble import BaggingRegressor"
   ]
  },
  {
   "cell_type": "code",
   "execution_count": null,
   "metadata": {},
   "outputs": [
    {
     "data": {
      "text/html": [
       "<style>#sk-container-id-1 {color: black;background-color: white;}#sk-container-id-1 pre{padding: 0;}#sk-container-id-1 div.sk-toggleable {background-color: white;}#sk-container-id-1 label.sk-toggleable__label {cursor: pointer;display: block;width: 100%;margin-bottom: 0;padding: 0.3em;box-sizing: border-box;text-align: center;}#sk-container-id-1 label.sk-toggleable__label-arrow:before {content: \"▸\";float: left;margin-right: 0.25em;color: #696969;}#sk-container-id-1 label.sk-toggleable__label-arrow:hover:before {color: black;}#sk-container-id-1 div.sk-estimator:hover label.sk-toggleable__label-arrow:before {color: black;}#sk-container-id-1 div.sk-toggleable__content {max-height: 0;max-width: 0;overflow: hidden;text-align: left;background-color: #f0f8ff;}#sk-container-id-1 div.sk-toggleable__content pre {margin: 0.2em;color: black;border-radius: 0.25em;background-color: #f0f8ff;}#sk-container-id-1 input.sk-toggleable__control:checked~div.sk-toggleable__content {max-height: 200px;max-width: 100%;overflow: auto;}#sk-container-id-1 input.sk-toggleable__control:checked~label.sk-toggleable__label-arrow:before {content: \"▾\";}#sk-container-id-1 div.sk-estimator input.sk-toggleable__control:checked~label.sk-toggleable__label {background-color: #d4ebff;}#sk-container-id-1 div.sk-label input.sk-toggleable__control:checked~label.sk-toggleable__label {background-color: #d4ebff;}#sk-container-id-1 input.sk-hidden--visually {border: 0;clip: rect(1px 1px 1px 1px);clip: rect(1px, 1px, 1px, 1px);height: 1px;margin: -1px;overflow: hidden;padding: 0;position: absolute;width: 1px;}#sk-container-id-1 div.sk-estimator {font-family: monospace;background-color: #f0f8ff;border: 1px dotted black;border-radius: 0.25em;box-sizing: border-box;margin-bottom: 0.5em;}#sk-container-id-1 div.sk-estimator:hover {background-color: #d4ebff;}#sk-container-id-1 div.sk-parallel-item::after {content: \"\";width: 100%;border-bottom: 1px solid gray;flex-grow: 1;}#sk-container-id-1 div.sk-label:hover label.sk-toggleable__label {background-color: #d4ebff;}#sk-container-id-1 div.sk-serial::before {content: \"\";position: absolute;border-left: 1px solid gray;box-sizing: border-box;top: 0;bottom: 0;left: 50%;z-index: 0;}#sk-container-id-1 div.sk-serial {display: flex;flex-direction: column;align-items: center;background-color: white;padding-right: 0.2em;padding-left: 0.2em;position: relative;}#sk-container-id-1 div.sk-item {position: relative;z-index: 1;}#sk-container-id-1 div.sk-parallel {display: flex;align-items: stretch;justify-content: center;background-color: white;position: relative;}#sk-container-id-1 div.sk-item::before, #sk-container-id-1 div.sk-parallel-item::before {content: \"\";position: absolute;border-left: 1px solid gray;box-sizing: border-box;top: 0;bottom: 0;left: 50%;z-index: -1;}#sk-container-id-1 div.sk-parallel-item {display: flex;flex-direction: column;z-index: 1;position: relative;background-color: white;}#sk-container-id-1 div.sk-parallel-item:first-child::after {align-self: flex-end;width: 50%;}#sk-container-id-1 div.sk-parallel-item:last-child::after {align-self: flex-start;width: 50%;}#sk-container-id-1 div.sk-parallel-item:only-child::after {width: 0;}#sk-container-id-1 div.sk-dashed-wrapped {border: 1px dashed gray;margin: 0 0.4em 0.5em 0.4em;box-sizing: border-box;padding-bottom: 0.4em;background-color: white;}#sk-container-id-1 div.sk-label label {font-family: monospace;font-weight: bold;display: inline-block;line-height: 1.2em;}#sk-container-id-1 div.sk-label-container {text-align: center;}#sk-container-id-1 div.sk-container {/* jupyter's `normalize.less` sets `[hidden] { display: none; }` but bootstrap.min.css set `[hidden] { display: none !important; }` so we also need the `!important` here to be able to override the default hidden behavior on the sphinx rendered scikit-learn.org. See: https://github.com/scikit-learn/scikit-learn/issues/21755 */display: inline-block !important;position: relative;}#sk-container-id-1 div.sk-text-repr-fallback {display: none;}</style><div id=\"sk-container-id-1\" class=\"sk-top-container\"><div class=\"sk-text-repr-fallback\"><pre>GridSearchCV(cv=5, estimator=BaggingRegressor(random_state=42), n_jobs=-1,\n",
       "             param_grid={&#x27;n_estimators&#x27;: array([  10,   16,   27,   46,   77,  129,  215,  359,  599, 1000])},\n",
       "             refit=&#x27;neg_root_mean_squared_error&#x27;,\n",
       "             scoring=[&#x27;neg_mean_squared_error&#x27;, &#x27;neg_root_mean_squared_error&#x27;,\n",
       "                      &#x27;neg_mean_absolute_error&#x27;,\n",
       "                      &#x27;neg_mean_absolute_percentage_error&#x27;])</pre><b>In a Jupyter environment, please rerun this cell to show the HTML representation or trust the notebook. <br />On GitHub, the HTML representation is unable to render, please try loading this page with nbviewer.org.</b></div><div class=\"sk-container\" hidden><div class=\"sk-item sk-dashed-wrapped\"><div class=\"sk-label-container\"><div class=\"sk-label sk-toggleable\"><input class=\"sk-toggleable__control sk-hidden--visually\" id=\"sk-estimator-id-1\" type=\"checkbox\" ><label for=\"sk-estimator-id-1\" class=\"sk-toggleable__label sk-toggleable__label-arrow\">GridSearchCV</label><div class=\"sk-toggleable__content\"><pre>GridSearchCV(cv=5, estimator=BaggingRegressor(random_state=42), n_jobs=-1,\n",
       "             param_grid={&#x27;n_estimators&#x27;: array([  10,   16,   27,   46,   77,  129,  215,  359,  599, 1000])},\n",
       "             refit=&#x27;neg_root_mean_squared_error&#x27;,\n",
       "             scoring=[&#x27;neg_mean_squared_error&#x27;, &#x27;neg_root_mean_squared_error&#x27;,\n",
       "                      &#x27;neg_mean_absolute_error&#x27;,\n",
       "                      &#x27;neg_mean_absolute_percentage_error&#x27;])</pre></div></div></div><div class=\"sk-parallel\"><div class=\"sk-parallel-item\"><div class=\"sk-item\"><div class=\"sk-label-container\"><div class=\"sk-label sk-toggleable\"><input class=\"sk-toggleable__control sk-hidden--visually\" id=\"sk-estimator-id-2\" type=\"checkbox\" ><label for=\"sk-estimator-id-2\" class=\"sk-toggleable__label sk-toggleable__label-arrow\">estimator: BaggingRegressor</label><div class=\"sk-toggleable__content\"><pre>BaggingRegressor(random_state=42)</pre></div></div></div><div class=\"sk-serial\"><div class=\"sk-item\"><div class=\"sk-estimator sk-toggleable\"><input class=\"sk-toggleable__control sk-hidden--visually\" id=\"sk-estimator-id-3\" type=\"checkbox\" ><label for=\"sk-estimator-id-3\" class=\"sk-toggleable__label sk-toggleable__label-arrow\">BaggingRegressor</label><div class=\"sk-toggleable__content\"><pre>BaggingRegressor(random_state=42)</pre></div></div></div></div></div></div></div></div></div></div>"
      ],
      "text/plain": [
       "GridSearchCV(cv=5, estimator=BaggingRegressor(random_state=42), n_jobs=-1,\n",
       "             param_grid={'n_estimators': array([  10,   16,   27,   46,   77,  129,  215,  359,  599, 1000])},\n",
       "             refit='neg_root_mean_squared_error',\n",
       "             scoring=['neg_mean_squared_error', 'neg_root_mean_squared_error',\n",
       "                      'neg_mean_absolute_error',\n",
       "                      'neg_mean_absolute_percentage_error'])"
      ]
     },
     "metadata": {},
     "output_type": "display_data"
    }
   ],
   "source": [
    "scoring = ['neg_mean_squared_error', 'neg_root_mean_squared_error', 'neg_mean_absolute_error', 'neg_mean_absolute_percentage_error']\n",
    "n_estimators_grid = np.geomspace(10, 1000, 10, endpoint=True, dtype=int) # 10 numbers between 10 and 1000\n",
    "parameters = {'n_estimators' : n_estimators_grid}\n",
    "model = BaggingRegressor(random_state=42)\n",
    "clf = GridSearchCV(model, parameters, cv=5, n_jobs=-1, scoring=scoring, refit='neg_root_mean_squared_error')\n",
    "clf.fit(x_train, y_train)"
   ]
  },
  {
   "cell_type": "code",
   "execution_count": null,
   "metadata": {},
   "outputs": [
    {
     "name": "stdout",
     "output_type": "stream",
     "text": [
      "Best estimators: BaggingRegressor(n_estimators=1000, random_state=42)\n",
      "Best parameters: {'n_estimators': 1000}\n"
     ]
    }
   ],
   "source": [
    "print(\"Best estimators:\", clf.best_estimator_)\n",
    "print(\"Best parameters:\", clf.best_params_)"
   ]
  },
  {
   "cell_type": "code",
   "execution_count": null,
   "metadata": {},
   "outputs": [
    {
     "data": {
      "text/html": [
       "<div>\n",
       "<style scoped>\n",
       "    .dataframe tbody tr th:only-of-type {\n",
       "        vertical-align: middle;\n",
       "    }\n",
       "\n",
       "    .dataframe tbody tr th {\n",
       "        vertical-align: top;\n",
       "    }\n",
       "\n",
       "    .dataframe thead th {\n",
       "        text-align: right;\n",
       "    }\n",
       "</style>\n",
       "<table border=\"1\" class=\"dataframe\">\n",
       "  <thead>\n",
       "    <tr style=\"text-align: right;\">\n",
       "      <th></th>\n",
       "      <th>mean_fit_time</th>\n",
       "      <th>std_fit_time</th>\n",
       "      <th>mean_score_time</th>\n",
       "      <th>std_score_time</th>\n",
       "      <th>param_n_estimators</th>\n",
       "      <th>params</th>\n",
       "      <th>split0_test_neg_mean_squared_error</th>\n",
       "      <th>split1_test_neg_mean_squared_error</th>\n",
       "      <th>split2_test_neg_mean_squared_error</th>\n",
       "      <th>split3_test_neg_mean_squared_error</th>\n",
       "      <th>...</th>\n",
       "      <th>std_test_neg_mean_absolute_error</th>\n",
       "      <th>rank_test_neg_mean_absolute_error</th>\n",
       "      <th>split0_test_neg_mean_absolute_percentage_error</th>\n",
       "      <th>split1_test_neg_mean_absolute_percentage_error</th>\n",
       "      <th>split2_test_neg_mean_absolute_percentage_error</th>\n",
       "      <th>split3_test_neg_mean_absolute_percentage_error</th>\n",
       "      <th>split4_test_neg_mean_absolute_percentage_error</th>\n",
       "      <th>mean_test_neg_mean_absolute_percentage_error</th>\n",
       "      <th>std_test_neg_mean_absolute_percentage_error</th>\n",
       "      <th>rank_test_neg_mean_absolute_percentage_error</th>\n",
       "    </tr>\n",
       "  </thead>\n",
       "  <tbody>\n",
       "    <tr>\n",
       "      <th>0</th>\n",
       "      <td>3.281755</td>\n",
       "      <td>0.180765</td>\n",
       "      <td>0.104873</td>\n",
       "      <td>0.043572</td>\n",
       "      <td>10</td>\n",
       "      <td>{'n_estimators': 10}</td>\n",
       "      <td>-2.472859e+07</td>\n",
       "      <td>-2.251040e+07</td>\n",
       "      <td>-2.436446e+07</td>\n",
       "      <td>-2.591753e+07</td>\n",
       "      <td>...</td>\n",
       "      <td>74.268989</td>\n",
       "      <td>10</td>\n",
       "      <td>-0.142698</td>\n",
       "      <td>-0.140328</td>\n",
       "      <td>-0.147282</td>\n",
       "      <td>-0.148857</td>\n",
       "      <td>-0.141545</td>\n",
       "      <td>-0.144142</td>\n",
       "      <td>0.003331</td>\n",
       "      <td>10</td>\n",
       "    </tr>\n",
       "    <tr>\n",
       "      <th>1</th>\n",
       "      <td>5.851016</td>\n",
       "      <td>0.344457</td>\n",
       "      <td>0.116401</td>\n",
       "      <td>0.014178</td>\n",
       "      <td>16</td>\n",
       "      <td>{'n_estimators': 16}</td>\n",
       "      <td>-2.333123e+07</td>\n",
       "      <td>-2.135282e+07</td>\n",
       "      <td>-2.312528e+07</td>\n",
       "      <td>-2.460462e+07</td>\n",
       "      <td>...</td>\n",
       "      <td>71.767320</td>\n",
       "      <td>9</td>\n",
       "      <td>-0.139832</td>\n",
       "      <td>-0.137849</td>\n",
       "      <td>-0.143212</td>\n",
       "      <td>-0.144900</td>\n",
       "      <td>-0.137617</td>\n",
       "      <td>-0.140682</td>\n",
       "      <td>0.002910</td>\n",
       "      <td>9</td>\n",
       "    </tr>\n",
       "    <tr>\n",
       "      <th>2</th>\n",
       "      <td>9.071096</td>\n",
       "      <td>0.580153</td>\n",
       "      <td>0.174001</td>\n",
       "      <td>0.031516</td>\n",
       "      <td>27</td>\n",
       "      <td>{'n_estimators': 27}</td>\n",
       "      <td>-2.266615e+07</td>\n",
       "      <td>-2.092231e+07</td>\n",
       "      <td>-2.235544e+07</td>\n",
       "      <td>-2.350341e+07</td>\n",
       "      <td>...</td>\n",
       "      <td>71.034869</td>\n",
       "      <td>8</td>\n",
       "      <td>-0.138759</td>\n",
       "      <td>-0.137010</td>\n",
       "      <td>-0.140933</td>\n",
       "      <td>-0.141833</td>\n",
       "      <td>-0.134705</td>\n",
       "      <td>-0.138648</td>\n",
       "      <td>0.002593</td>\n",
       "      <td>8</td>\n",
       "    </tr>\n",
       "    <tr>\n",
       "      <th>3</th>\n",
       "      <td>14.602293</td>\n",
       "      <td>1.300136</td>\n",
       "      <td>0.185200</td>\n",
       "      <td>0.006013</td>\n",
       "      <td>46</td>\n",
       "      <td>{'n_estimators': 46}</td>\n",
       "      <td>-2.246959e+07</td>\n",
       "      <td>-2.044115e+07</td>\n",
       "      <td>-2.204131e+07</td>\n",
       "      <td>-2.319690e+07</td>\n",
       "      <td>...</td>\n",
       "      <td>74.076484</td>\n",
       "      <td>7</td>\n",
       "      <td>-0.138141</td>\n",
       "      <td>-0.135201</td>\n",
       "      <td>-0.140153</td>\n",
       "      <td>-0.140086</td>\n",
       "      <td>-0.133683</td>\n",
       "      <td>-0.137453</td>\n",
       "      <td>0.002607</td>\n",
       "      <td>7</td>\n",
       "    </tr>\n",
       "    <tr>\n",
       "      <th>4</th>\n",
       "      <td>22.759502</td>\n",
       "      <td>1.084773</td>\n",
       "      <td>0.355984</td>\n",
       "      <td>0.094060</td>\n",
       "      <td>77</td>\n",
       "      <td>{'n_estimators': 77}</td>\n",
       "      <td>-2.224775e+07</td>\n",
       "      <td>-2.021625e+07</td>\n",
       "      <td>-2.178026e+07</td>\n",
       "      <td>-2.306780e+07</td>\n",
       "      <td>...</td>\n",
       "      <td>70.585748</td>\n",
       "      <td>6</td>\n",
       "      <td>-0.137105</td>\n",
       "      <td>-0.134463</td>\n",
       "      <td>-0.139441</td>\n",
       "      <td>-0.140038</td>\n",
       "      <td>-0.132710</td>\n",
       "      <td>-0.136751</td>\n",
       "      <td>0.002819</td>\n",
       "      <td>6</td>\n",
       "    </tr>\n",
       "  </tbody>\n",
       "</table>\n",
       "<p>5 rows × 38 columns</p>\n",
       "</div>"
      ],
      "text/plain": [
       "   mean_fit_time  std_fit_time  mean_score_time  std_score_time  \\\n",
       "0       3.281755      0.180765         0.104873        0.043572   \n",
       "1       5.851016      0.344457         0.116401        0.014178   \n",
       "2       9.071096      0.580153         0.174001        0.031516   \n",
       "3      14.602293      1.300136         0.185200        0.006013   \n",
       "4      22.759502      1.084773         0.355984        0.094060   \n",
       "\n",
       "  param_n_estimators                params  \\\n",
       "0                 10  {'n_estimators': 10}   \n",
       "1                 16  {'n_estimators': 16}   \n",
       "2                 27  {'n_estimators': 27}   \n",
       "3                 46  {'n_estimators': 46}   \n",
       "4                 77  {'n_estimators': 77}   \n",
       "\n",
       "   split0_test_neg_mean_squared_error  split1_test_neg_mean_squared_error  \\\n",
       "0                       -2.472859e+07                       -2.251040e+07   \n",
       "1                       -2.333123e+07                       -2.135282e+07   \n",
       "2                       -2.266615e+07                       -2.092231e+07   \n",
       "3                       -2.246959e+07                       -2.044115e+07   \n",
       "4                       -2.224775e+07                       -2.021625e+07   \n",
       "\n",
       "   split2_test_neg_mean_squared_error  split3_test_neg_mean_squared_error  \\\n",
       "0                       -2.436446e+07                       -2.591753e+07   \n",
       "1                       -2.312528e+07                       -2.460462e+07   \n",
       "2                       -2.235544e+07                       -2.350341e+07   \n",
       "3                       -2.204131e+07                       -2.319690e+07   \n",
       "4                       -2.178026e+07                       -2.306780e+07   \n",
       "\n",
       "   ...  std_test_neg_mean_absolute_error  rank_test_neg_mean_absolute_error  \\\n",
       "0  ...                         74.268989                                 10   \n",
       "1  ...                         71.767320                                  9   \n",
       "2  ...                         71.034869                                  8   \n",
       "3  ...                         74.076484                                  7   \n",
       "4  ...                         70.585748                                  6   \n",
       "\n",
       "   split0_test_neg_mean_absolute_percentage_error  \\\n",
       "0                                       -0.142698   \n",
       "1                                       -0.139832   \n",
       "2                                       -0.138759   \n",
       "3                                       -0.138141   \n",
       "4                                       -0.137105   \n",
       "\n",
       "   split1_test_neg_mean_absolute_percentage_error  \\\n",
       "0                                       -0.140328   \n",
       "1                                       -0.137849   \n",
       "2                                       -0.137010   \n",
       "3                                       -0.135201   \n",
       "4                                       -0.134463   \n",
       "\n",
       "   split2_test_neg_mean_absolute_percentage_error  \\\n",
       "0                                       -0.147282   \n",
       "1                                       -0.143212   \n",
       "2                                       -0.140933   \n",
       "3                                       -0.140153   \n",
       "4                                       -0.139441   \n",
       "\n",
       "   split3_test_neg_mean_absolute_percentage_error  \\\n",
       "0                                       -0.148857   \n",
       "1                                       -0.144900   \n",
       "2                                       -0.141833   \n",
       "3                                       -0.140086   \n",
       "4                                       -0.140038   \n",
       "\n",
       "   split4_test_neg_mean_absolute_percentage_error  \\\n",
       "0                                       -0.141545   \n",
       "1                                       -0.137617   \n",
       "2                                       -0.134705   \n",
       "3                                       -0.133683   \n",
       "4                                       -0.132710   \n",
       "\n",
       "   mean_test_neg_mean_absolute_percentage_error  \\\n",
       "0                                     -0.144142   \n",
       "1                                     -0.140682   \n",
       "2                                     -0.138648   \n",
       "3                                     -0.137453   \n",
       "4                                     -0.136751   \n",
       "\n",
       "   std_test_neg_mean_absolute_percentage_error  \\\n",
       "0                                     0.003331   \n",
       "1                                     0.002910   \n",
       "2                                     0.002593   \n",
       "3                                     0.002607   \n",
       "4                                     0.002819   \n",
       "\n",
       "   rank_test_neg_mean_absolute_percentage_error  \n",
       "0                                            10  \n",
       "1                                             9  \n",
       "2                                             8  \n",
       "3                                             7  \n",
       "4                                             6  \n",
       "\n",
       "[5 rows x 38 columns]"
      ]
     },
     "metadata": {},
     "output_type": "display_data"
    }
   ],
   "source": [
    "df_res = pd.DataFrame(data=clf.cv_results_)\n",
    "df_res.head()"
   ]
  },
  {
   "cell_type": "markdown",
   "metadata": {},
   "source": [
    "### Train with best parameters"
   ]
  },
  {
   "cell_type": "code",
   "execution_count": 34,
   "metadata": {},
   "outputs": [],
   "source": [
    "br = BaggingRegressor(n_estimators=1000, random_state=42)\n",
    "br = br.fit(x_train, y_train)"
   ]
  },
  {
   "cell_type": "code",
   "execution_count": 35,
   "metadata": {},
   "outputs": [
    {
     "name": "stdout",
     "output_type": "stream",
     "text": [
      "Train MSE: 2784278.499468149\n",
      "Train RMSE: 1668.6157435036232\n",
      "Train MAE: 1217.1991020374896\n",
      "Train MAPE: 0.04860521561227475\n"
     ]
    }
   ],
   "source": [
    "from sklearn.metrics import mean_squared_error, mean_absolute_error, mean_absolute_percentage_error\n",
    "train_predict = br.predict(x_train)\n",
    "print(\"Train MSE:\", mean_squared_error(y_train, train_predict))\n",
    "print(\"Train RMSE:\", mean_squared_error(y_train, train_predict, squared=False))\n",
    "print(\"Train MAE:\", mean_absolute_error(y_train, train_predict))\n",
    "print(\"Train MAPE:\", mean_absolute_percentage_error(y_train, train_predict))"
   ]
  },
  {
   "cell_type": "code",
   "execution_count": 36,
   "metadata": {},
   "outputs": [
    {
     "data": {
      "image/png": "[encoded data removed]",
      "text/plain": [
       "<Figure size 640x480 with 1 Axes>"
      ]
     },
     "metadata": {},
     "output_type": "display_data"
    }
   ],
   "source": [
    "# matplotlib\n",
    "import matplotlib.pyplot as plt\n",
    "\n",
    "feature_importances = np.mean([\n",
    "    tree.feature_importances_ for tree in br.estimators_\n",
    "], axis=0)\n",
    "\n",
    "num_features = 20\n",
    "\n",
    "indices = np.argsort(feature_importances)[::-1][:num_features]\n",
    "\n",
    "fig, ax = plt.subplots()\n",
    "ax.barh(range(num_features), feature_importances[indices][::-1])\n",
    "ax.set_yticks(range(num_features))\n",
    "_ = ax.set_yticklabels(np.array(data_train.columns)[indices][::-1])\n",
    "# font size\n",
    "plt.rcParams.update({'font.size': 8})"
   ]
  },
  {
   "cell_type": "code",
   "execution_count": 37,
   "metadata": {},
   "outputs": [
    {
     "data": {
      "text/plain": [
       "array([0.00611286, 0.00644066, 0.00686275, 0.00686543, 0.00982042,\n",
       "       0.01271177, 0.01382974, 0.01439446, 0.01442922, 0.01528712,\n",
       "       0.0156259 , 0.01649304, 0.01650234, 0.01664545, 0.01754714,\n",
       "       0.02277009, 0.02650798, 0.04182286, 0.10075893, 0.52899448])"
      ]
     },
     "execution_count": 37,
     "metadata": {},
     "output_type": "execute_result"
    }
   ],
   "source": [
    "feature_importances[indices][::-1]"
   ]
  },
  {
   "cell_type": "code",
   "execution_count": 38,
   "metadata": {},
   "outputs": [
    {
     "data": {
      "text/plain": [
       "array(['team1_streak', 'salary-500-800', 'team2_streak',\n",
       "       'salary-800-1500', 'start_hour_label_evening', 'team1_pre_win',\n",
       "       'lle1', 'lle2', 'salary-1500', 'day_Sunday', 'team2_pre_loss',\n",
       "       'team2_pre_win', 'temperature', 'team1_pre_win_pct',\n",
       "       'team1_pre_loss', 'day_Friday', 'team2_pre_win_pct',\n",
       "       'day_Saturday', 'home_team_avg_att_last_year',\n",
       "       'previous_5_to_10MA'], dtype=object)"
      ]
     },
     "execution_count": 38,
     "metadata": {},
     "output_type": "execute_result"
    }
   ],
   "source": [
    "np.array(data_train.columns)[indices][::-1]"
   ]
  },
  {
   "cell_type": "markdown",
   "metadata": {},
   "source": [
    "### Evaluate testing set"
   ]
  },
  {
   "cell_type": "code",
   "execution_count": 39,
   "metadata": {},
   "outputs": [
    {
     "name": "stdout",
     "output_type": "stream",
     "text": [
      "Test MSE: 45738056.69995982\n",
      "Test RMSE: 6762.99169746347\n",
      "Test MAE: 5284.129565644172\n",
      "Test MAPE: 0.264759078408899\n"
     ]
    }
   ],
   "source": [
    "from sklearn.metrics import mean_squared_error, mean_absolute_error, mean_absolute_percentage_error\n",
    "y_pred = br.predict(x_test)\n",
    "print(\"Test MSE:\", mean_squared_error(y_test, y_pred))\n",
    "print(\"Test RMSE:\", mean_squared_error(y_test, y_pred, squared=False))\n",
    "print(\"Test MAE:\", mean_absolute_error(y_test, y_pred))\n",
    "print(\"Test MAPE:\", mean_absolute_percentage_error(y_test, y_pred))"
   ]
  },
  {
   "cell_type": "markdown",
   "metadata": {},
   "source": [
    "### Save model"
   ]
  },
  {
   "cell_type": "code",
   "execution_count": 40,
   "metadata": {},
   "outputs": [],
   "source": [
    "import pickle\n",
    "from datetime import datetime\n",
    "time = datetime.today().strftime('%Y%m%d_%H%M%S')\n",
    "filename = f'./model/br_model_{time}.sav'\n",
    "pickle.dump(br, open(filename, 'wb'))\n",
    "# loaded_model = pickle.load(open(filename, 'rb'))"
   ]
  },
  {
   "cell_type": "markdown",
   "metadata": {},
   "source": [
    "## Gradient Boosting "
   ]
  },
  {
   "cell_type": "code",
   "execution_count": 56,
   "metadata": {},
   "outputs": [],
   "source": [
    "from sklearn.ensemble import GradientBoostingRegressor"
   ]
  },
  {
   "cell_type": "code",
   "execution_count": null,
   "metadata": {},
   "outputs": [
    {
     "data": {
      "text/html": [
       "<style>#sk-container-id-1 {color: black;background-color: white;}#sk-container-id-1 pre{padding: 0;}#sk-container-id-1 div.sk-toggleable {background-color: white;}#sk-container-id-1 label.sk-toggleable__label {cursor: pointer;display: block;width: 100%;margin-bottom: 0;padding: 0.3em;box-sizing: border-box;text-align: center;}#sk-container-id-1 label.sk-toggleable__label-arrow:before {content: \"▸\";float: left;margin-right: 0.25em;color: #696969;}#sk-container-id-1 label.sk-toggleable__label-arrow:hover:before {color: black;}#sk-container-id-1 div.sk-estimator:hover label.sk-toggleable__label-arrow:before {color: black;}#sk-container-id-1 div.sk-toggleable__content {max-height: 0;max-width: 0;overflow: hidden;text-align: left;background-color: #f0f8ff;}#sk-container-id-1 div.sk-toggleable__content pre {margin: 0.2em;color: black;border-radius: 0.25em;background-color: #f0f8ff;}#sk-container-id-1 input.sk-toggleable__control:checked~div.sk-toggleable__content {max-height: 200px;max-width: 100%;overflow: auto;}#sk-container-id-1 input.sk-toggleable__control:checked~label.sk-toggleable__label-arrow:before {content: \"▾\";}#sk-container-id-1 div.sk-estimator input.sk-toggleable__control:checked~label.sk-toggleable__label {background-color: #d4ebff;}#sk-container-id-1 div.sk-label input.sk-toggleable__control:checked~label.sk-toggleable__label {background-color: #d4ebff;}#sk-container-id-1 input.sk-hidden--visually {border: 0;clip: rect(1px 1px 1px 1px);clip: rect(1px, 1px, 1px, 1px);height: 1px;margin: -1px;overflow: hidden;padding: 0;position: absolute;width: 1px;}#sk-container-id-1 div.sk-estimator {font-family: monospace;background-color: #f0f8ff;border: 1px dotted black;border-radius: 0.25em;box-sizing: border-box;margin-bottom: 0.5em;}#sk-container-id-1 div.sk-estimator:hover {background-color: #d4ebff;}#sk-container-id-1 div.sk-parallel-item::after {content: \"\";width: 100%;border-bottom: 1px solid gray;flex-grow: 1;}#sk-container-id-1 div.sk-label:hover label.sk-toggleable__label {background-color: #d4ebff;}#sk-container-id-1 div.sk-serial::before {content: \"\";position: absolute;border-left: 1px solid gray;box-sizing: border-box;top: 0;bottom: 0;left: 50%;z-index: 0;}#sk-container-id-1 div.sk-serial {display: flex;flex-direction: column;align-items: center;background-color: white;padding-right: 0.2em;padding-left: 0.2em;position: relative;}#sk-container-id-1 div.sk-item {position: relative;z-index: 1;}#sk-container-id-1 div.sk-parallel {display: flex;align-items: stretch;justify-content: center;background-color: white;position: relative;}#sk-container-id-1 div.sk-item::before, #sk-container-id-1 div.sk-parallel-item::before {content: \"\";position: absolute;border-left: 1px solid gray;box-sizing: border-box;top: 0;bottom: 0;left: 50%;z-index: -1;}#sk-container-id-1 div.sk-parallel-item {display: flex;flex-direction: column;z-index: 1;position: relative;background-color: white;}#sk-container-id-1 div.sk-parallel-item:first-child::after {align-self: flex-end;width: 50%;}#sk-container-id-1 div.sk-parallel-item:last-child::after {align-self: flex-start;width: 50%;}#sk-container-id-1 div.sk-parallel-item:only-child::after {width: 0;}#sk-container-id-1 div.sk-dashed-wrapped {border: 1px dashed gray;margin: 0 0.4em 0.5em 0.4em;box-sizing: border-box;padding-bottom: 0.4em;background-color: white;}#sk-container-id-1 div.sk-label label {font-family: monospace;font-weight: bold;display: inline-block;line-height: 1.2em;}#sk-container-id-1 div.sk-label-container {text-align: center;}#sk-container-id-1 div.sk-container {/* jupyter's `normalize.less` sets `[hidden] { display: none; }` but bootstrap.min.css set `[hidden] { display: none !important; }` so we also need the `!important` here to be able to override the default hidden behavior on the sphinx rendered scikit-learn.org. See: https://github.com/scikit-learn/scikit-learn/issues/21755 */display: inline-block !important;position: relative;}#sk-container-id-1 div.sk-text-repr-fallback {display: none;}</style><div id=\"sk-container-id-1\" class=\"sk-top-container\"><div class=\"sk-text-repr-fallback\"><pre>GridSearchCV(cv=5, estimator=GradientBoostingRegressor(random_state=42),\n",
       "             n_jobs=-1,\n",
       "             param_grid={&#x27;learning_rate&#x27;: [0.1, 0.05, 0.01, 0.001],\n",
       "                         &#x27;max_depth&#x27;: [3, 5, 8, 10],\n",
       "                         &#x27;n_estimators&#x27;: [50, 100, 500, 1000]},\n",
       "             refit=&#x27;neg_root_mean_squared_error&#x27;,\n",
       "             scoring=[&#x27;neg_mean_squared_error&#x27;, &#x27;neg_root_mean_squared_error&#x27;,\n",
       "                      &#x27;neg_mean_absolute_error&#x27;,\n",
       "                      &#x27;neg_mean_absolute_percentage_error&#x27;])</pre><b>In a Jupyter environment, please rerun this cell to show the HTML representation or trust the notebook. <br />On GitHub, the HTML representation is unable to render, please try loading this page with nbviewer.org.</b></div><div class=\"sk-container\" hidden><div class=\"sk-item sk-dashed-wrapped\"><div class=\"sk-label-container\"><div class=\"sk-label sk-toggleable\"><input class=\"sk-toggleable__control sk-hidden--visually\" id=\"sk-estimator-id-1\" type=\"checkbox\" ><label for=\"sk-estimator-id-1\" class=\"sk-toggleable__label sk-toggleable__label-arrow\">GridSearchCV</label><div class=\"sk-toggleable__content\"><pre>GridSearchCV(cv=5, estimator=GradientBoostingRegressor(random_state=42),\n",
       "             n_jobs=-1,\n",
       "             param_grid={&#x27;learning_rate&#x27;: [0.1, 0.05, 0.01, 0.001],\n",
       "                         &#x27;max_depth&#x27;: [3, 5, 8, 10],\n",
       "                         &#x27;n_estimators&#x27;: [50, 100, 500, 1000]},\n",
       "             refit=&#x27;neg_root_mean_squared_error&#x27;,\n",
       "             scoring=[&#x27;neg_mean_squared_error&#x27;, &#x27;neg_root_mean_squared_error&#x27;,\n",
       "                      &#x27;neg_mean_absolute_error&#x27;,\n",
       "                      &#x27;neg_mean_absolute_percentage_error&#x27;])</pre></div></div></div><div class=\"sk-parallel\"><div class=\"sk-parallel-item\"><div class=\"sk-item\"><div class=\"sk-label-container\"><div class=\"sk-label sk-toggleable\"><input class=\"sk-toggleable__control sk-hidden--visually\" id=\"sk-estimator-id-2\" type=\"checkbox\" ><label for=\"sk-estimator-id-2\" class=\"sk-toggleable__label sk-toggleable__label-arrow\">estimator: GradientBoostingRegressor</label><div class=\"sk-toggleable__content\"><pre>GradientBoostingRegressor(random_state=42)</pre></div></div></div><div class=\"sk-serial\"><div class=\"sk-item\"><div class=\"sk-estimator sk-toggleable\"><input class=\"sk-toggleable__control sk-hidden--visually\" id=\"sk-estimator-id-3\" type=\"checkbox\" ><label for=\"sk-estimator-id-3\" class=\"sk-toggleable__label sk-toggleable__label-arrow\">GradientBoostingRegressor</label><div class=\"sk-toggleable__content\"><pre>GradientBoostingRegressor(random_state=42)</pre></div></div></div></div></div></div></div></div></div></div>"
      ],
      "text/plain": [
       "GridSearchCV(cv=5, estimator=GradientBoostingRegressor(random_state=42),\n",
       "             n_jobs=-1,\n",
       "             param_grid={'learning_rate': [0.1, 0.05, 0.01, 0.001],\n",
       "                         'max_depth': [3, 5, 8, 10],\n",
       "                         'n_estimators': [50, 100, 500, 1000]},\n",
       "             refit='neg_root_mean_squared_error',\n",
       "             scoring=['neg_mean_squared_error', 'neg_root_mean_squared_error',\n",
       "                      'neg_mean_absolute_error',\n",
       "                      'neg_mean_absolute_percentage_error'])"
      ]
     },
     "metadata": {},
     "output_type": "display_data"
    }
   ],
   "source": [
    "scoring = ['neg_mean_squared_error', 'neg_root_mean_squared_error', 'neg_mean_absolute_error', 'neg_mean_absolute_percentage_error']\n",
    "#  'loss': ['squared_error', 'absolute_error', 'huber', 'quantile'], 'subsample': [0.8, 1], \n",
    "parameters = {'n_estimators': [50, 100, 500, 1000], 'learning_rate': [0.1, 0.05, 0.01, 0.001], 'max_depth': [3, 5, 8, 10]}\n",
    "model = GradientBoostingRegressor(random_state=42)\n",
    "clf = GridSearchCV(model, parameters, cv=5, n_jobs=-1, scoring=scoring, refit='neg_root_mean_squared_error')\n",
    "clf.fit(x_train, y_train)"
   ]
  },
  {
   "cell_type": "code",
   "execution_count": null,
   "metadata": {},
   "outputs": [
    {
     "name": "stdout",
     "output_type": "stream",
     "text": [
      "Best estimators: GradientBoostingRegressor(learning_rate=0.05, max_depth=8, n_estimators=1000,\n",
      "                          random_state=42)\n",
      "Best parameters: {'learning_rate': 0.05, 'max_depth': 8, 'n_estimators': 1000}\n"
     ]
    }
   ],
   "source": [
    "print(\"Best estimators:\", clf.best_estimator_)\n",
    "print(\"Best parameters:\", clf.best_params_)"
   ]
  },
  {
   "cell_type": "code",
   "execution_count": null,
   "metadata": {},
   "outputs": [
    {
     "data": {
      "text/html": [
       "<div>\n",
       "<style scoped>\n",
       "    .dataframe tbody tr th:only-of-type {\n",
       "        vertical-align: middle;\n",
       "    }\n",
       "\n",
       "    .dataframe tbody tr th {\n",
       "        vertical-align: top;\n",
       "    }\n",
       "\n",
       "    .dataframe thead th {\n",
       "        text-align: right;\n",
       "    }\n",
       "</style>\n",
       "<table border=\"1\" class=\"dataframe\">\n",
       "  <thead>\n",
       "    <tr style=\"text-align: right;\">\n",
       "      <th></th>\n",
       "      <th>mean_fit_time</th>\n",
       "      <th>std_fit_time</th>\n",
       "      <th>mean_score_time</th>\n",
       "      <th>std_score_time</th>\n",
       "      <th>param_learning_rate</th>\n",
       "      <th>param_max_depth</th>\n",
       "      <th>param_n_estimators</th>\n",
       "      <th>params</th>\n",
       "      <th>split0_test_neg_mean_squared_error</th>\n",
       "      <th>split1_test_neg_mean_squared_error</th>\n",
       "      <th>...</th>\n",
       "      <th>std_test_neg_mean_absolute_error</th>\n",
       "      <th>rank_test_neg_mean_absolute_error</th>\n",
       "      <th>split0_test_neg_mean_absolute_percentage_error</th>\n",
       "      <th>split1_test_neg_mean_absolute_percentage_error</th>\n",
       "      <th>split2_test_neg_mean_absolute_percentage_error</th>\n",
       "      <th>split3_test_neg_mean_absolute_percentage_error</th>\n",
       "      <th>split4_test_neg_mean_absolute_percentage_error</th>\n",
       "      <th>mean_test_neg_mean_absolute_percentage_error</th>\n",
       "      <th>std_test_neg_mean_absolute_percentage_error</th>\n",
       "      <th>rank_test_neg_mean_absolute_percentage_error</th>\n",
       "    </tr>\n",
       "  </thead>\n",
       "  <tbody>\n",
       "    <tr>\n",
       "      <th>0</th>\n",
       "      <td>3.415899</td>\n",
       "      <td>0.043571</td>\n",
       "      <td>0.004604</td>\n",
       "      <td>4.906608e-04</td>\n",
       "      <td>0.1</td>\n",
       "      <td>3</td>\n",
       "      <td>50</td>\n",
       "      <td>{'learning_rate': 0.1, 'max_depth': 3, 'n_esti...</td>\n",
       "      <td>-2.606427e+07</td>\n",
       "      <td>-2.928223e+07</td>\n",
       "      <td>...</td>\n",
       "      <td>94.904200</td>\n",
       "      <td>36</td>\n",
       "      <td>-0.162196</td>\n",
       "      <td>-0.173083</td>\n",
       "      <td>-0.176772</td>\n",
       "      <td>-0.172936</td>\n",
       "      <td>-0.171568</td>\n",
       "      <td>-0.171311</td>\n",
       "      <td>0.004873</td>\n",
       "      <td>36</td>\n",
       "    </tr>\n",
       "    <tr>\n",
       "      <th>1</th>\n",
       "      <td>7.721404</td>\n",
       "      <td>0.110551</td>\n",
       "      <td>0.006406</td>\n",
       "      <td>4.901352e-04</td>\n",
       "      <td>0.1</td>\n",
       "      <td>3</td>\n",
       "      <td>100</td>\n",
       "      <td>{'learning_rate': 0.1, 'max_depth': 3, 'n_esti...</td>\n",
       "      <td>-2.246124e+07</td>\n",
       "      <td>-2.591666e+07</td>\n",
       "      <td>...</td>\n",
       "      <td>93.745941</td>\n",
       "      <td>35</td>\n",
       "      <td>-0.146205</td>\n",
       "      <td>-0.157004</td>\n",
       "      <td>-0.158335</td>\n",
       "      <td>-0.155291</td>\n",
       "      <td>-0.152686</td>\n",
       "      <td>-0.153904</td>\n",
       "      <td>0.004288</td>\n",
       "      <td>33</td>\n",
       "    </tr>\n",
       "    <tr>\n",
       "      <th>2</th>\n",
       "      <td>41.000385</td>\n",
       "      <td>0.310811</td>\n",
       "      <td>0.019018</td>\n",
       "      <td>1.096062e-03</td>\n",
       "      <td>0.1</td>\n",
       "      <td>3</td>\n",
       "      <td>500</td>\n",
       "      <td>{'learning_rate': 0.1, 'max_depth': 3, 'n_esti...</td>\n",
       "      <td>-1.844622e+07</td>\n",
       "      <td>-2.153309e+07</td>\n",
       "      <td>...</td>\n",
       "      <td>82.464205</td>\n",
       "      <td>25</td>\n",
       "      <td>-0.127874</td>\n",
       "      <td>-0.137476</td>\n",
       "      <td>-0.138072</td>\n",
       "      <td>-0.135746</td>\n",
       "      <td>-0.135196</td>\n",
       "      <td>-0.134873</td>\n",
       "      <td>0.003657</td>\n",
       "      <td>24</td>\n",
       "    </tr>\n",
       "    <tr>\n",
       "      <th>3</th>\n",
       "      <td>79.683469</td>\n",
       "      <td>1.449618</td>\n",
       "      <td>0.035032</td>\n",
       "      <td>5.135693e-07</td>\n",
       "      <td>0.1</td>\n",
       "      <td>3</td>\n",
       "      <td>1000</td>\n",
       "      <td>{'learning_rate': 0.1, 'max_depth': 3, 'n_esti...</td>\n",
       "      <td>-1.706375e+07</td>\n",
       "      <td>-2.057050e+07</td>\n",
       "      <td>...</td>\n",
       "      <td>82.274990</td>\n",
       "      <td>19</td>\n",
       "      <td>-0.122677</td>\n",
       "      <td>-0.131503</td>\n",
       "      <td>-0.132979</td>\n",
       "      <td>-0.130523</td>\n",
       "      <td>-0.131340</td>\n",
       "      <td>-0.129804</td>\n",
       "      <td>0.003651</td>\n",
       "      <td>17</td>\n",
       "    </tr>\n",
       "    <tr>\n",
       "      <th>4</th>\n",
       "      <td>5.321226</td>\n",
       "      <td>0.090964</td>\n",
       "      <td>0.006206</td>\n",
       "      <td>4.000427e-04</td>\n",
       "      <td>0.1</td>\n",
       "      <td>5</td>\n",
       "      <td>50</td>\n",
       "      <td>{'learning_rate': 0.1, 'max_depth': 5, 'n_esti...</td>\n",
       "      <td>-2.152727e+07</td>\n",
       "      <td>-2.469707e+07</td>\n",
       "      <td>...</td>\n",
       "      <td>92.766786</td>\n",
       "      <td>30</td>\n",
       "      <td>-0.143318</td>\n",
       "      <td>-0.153402</td>\n",
       "      <td>-0.153739</td>\n",
       "      <td>-0.151715</td>\n",
       "      <td>-0.151196</td>\n",
       "      <td>-0.150674</td>\n",
       "      <td>0.003803</td>\n",
       "      <td>29</td>\n",
       "    </tr>\n",
       "  </tbody>\n",
       "</table>\n",
       "<p>5 rows × 40 columns</p>\n",
       "</div>"
      ],
      "text/plain": [
       "   mean_fit_time  std_fit_time  mean_score_time  std_score_time  \\\n",
       "0       3.415899      0.043571         0.004604    4.906608e-04   \n",
       "1       7.721404      0.110551         0.006406    4.901352e-04   \n",
       "2      41.000385      0.310811         0.019018    1.096062e-03   \n",
       "3      79.683469      1.449618         0.035032    5.135693e-07   \n",
       "4       5.321226      0.090964         0.006206    4.000427e-04   \n",
       "\n",
       "  param_learning_rate param_max_depth param_n_estimators  \\\n",
       "0                 0.1               3                 50   \n",
       "1                 0.1               3                100   \n",
       "2                 0.1               3                500   \n",
       "3                 0.1               3               1000   \n",
       "4                 0.1               5                 50   \n",
       "\n",
       "                                              params  \\\n",
       "0  {'learning_rate': 0.1, 'max_depth': 3, 'n_esti...   \n",
       "1  {'learning_rate': 0.1, 'max_depth': 3, 'n_esti...   \n",
       "2  {'learning_rate': 0.1, 'max_depth': 3, 'n_esti...   \n",
       "3  {'learning_rate': 0.1, 'max_depth': 3, 'n_esti...   \n",
       "4  {'learning_rate': 0.1, 'max_depth': 5, 'n_esti...   \n",
       "\n",
       "   split0_test_neg_mean_squared_error  split1_test_neg_mean_squared_error  \\\n",
       "0                       -2.606427e+07                       -2.928223e+07   \n",
       "1                       -2.246124e+07                       -2.591666e+07   \n",
       "2                       -1.844622e+07                       -2.153309e+07   \n",
       "3                       -1.706375e+07                       -2.057050e+07   \n",
       "4                       -2.152727e+07                       -2.469707e+07   \n",
       "\n",
       "   ...  std_test_neg_mean_absolute_error  rank_test_neg_mean_absolute_error  \\\n",
       "0  ...                         94.904200                                 36   \n",
       "1  ...                         93.745941                                 35   \n",
       "2  ...                         82.464205                                 25   \n",
       "3  ...                         82.274990                                 19   \n",
       "4  ...                         92.766786                                 30   \n",
       "\n",
       "   split0_test_neg_mean_absolute_percentage_error  \\\n",
       "0                                       -0.162196   \n",
       "1                                       -0.146205   \n",
       "2                                       -0.127874   \n",
       "3                                       -0.122677   \n",
       "4                                       -0.143318   \n",
       "\n",
       "   split1_test_neg_mean_absolute_percentage_error  \\\n",
       "0                                       -0.173083   \n",
       "1                                       -0.157004   \n",
       "2                                       -0.137476   \n",
       "3                                       -0.131503   \n",
       "4                                       -0.153402   \n",
       "\n",
       "   split2_test_neg_mean_absolute_percentage_error  \\\n",
       "0                                       -0.176772   \n",
       "1                                       -0.158335   \n",
       "2                                       -0.138072   \n",
       "3                                       -0.132979   \n",
       "4                                       -0.153739   \n",
       "\n",
       "   split3_test_neg_mean_absolute_percentage_error  \\\n",
       "0                                       -0.172936   \n",
       "1                                       -0.155291   \n",
       "2                                       -0.135746   \n",
       "3                                       -0.130523   \n",
       "4                                       -0.151715   \n",
       "\n",
       "   split4_test_neg_mean_absolute_percentage_error  \\\n",
       "0                                       -0.171568   \n",
       "1                                       -0.152686   \n",
       "2                                       -0.135196   \n",
       "3                                       -0.131340   \n",
       "4                                       -0.151196   \n",
       "\n",
       "   mean_test_neg_mean_absolute_percentage_error  \\\n",
       "0                                     -0.171311   \n",
       "1                                     -0.153904   \n",
       "2                                     -0.134873   \n",
       "3                                     -0.129804   \n",
       "4                                     -0.150674   \n",
       "\n",
       "   std_test_neg_mean_absolute_percentage_error  \\\n",
       "0                                     0.004873   \n",
       "1                                     0.004288   \n",
       "2                                     0.003657   \n",
       "3                                     0.003651   \n",
       "4                                     0.003803   \n",
       "\n",
       "   rank_test_neg_mean_absolute_percentage_error  \n",
       "0                                            36  \n",
       "1                                            33  \n",
       "2                                            24  \n",
       "3                                            17  \n",
       "4                                            29  \n",
       "\n",
       "[5 rows x 40 columns]"
      ]
     },
     "metadata": {},
     "output_type": "display_data"
    }
   ],
   "source": [
    "df_res = pd.DataFrame(data=clf.cv_results_)\n",
    "df_res.head()"
   ]
  },
  {
   "cell_type": "markdown",
   "metadata": {},
   "source": [
    "### Training with best params"
   ]
  },
  {
   "cell_type": "code",
   "execution_count": 57,
   "metadata": {},
   "outputs": [],
   "source": [
    "gb = GradientBoostingRegressor(learning_rate=0.05, max_depth=8, n_estimators=1000, random_state=42)\n",
    "gb = gb.fit(x_train, y_train)"
   ]
  },
  {
   "cell_type": "code",
   "execution_count": 58,
   "metadata": {},
   "outputs": [
    {
     "name": "stdout",
     "output_type": "stream",
     "text": [
      "Train MSE: 577733.8368300097\n",
      "Train RMSE: 760.0880454460587\n",
      "Train MAE: 586.5720989565677\n",
      "Train MAPE: 0.02310067577937645\n"
     ]
    }
   ],
   "source": [
    "from sklearn.metrics import mean_squared_error, mean_absolute_error, mean_absolute_percentage_error\n",
    "train_predict = gb.predict(x_train)\n",
    "print(\"Train MSE:\", mean_squared_error(y_train, train_predict))\n",
    "print(\"Train RMSE:\", mean_squared_error(y_train, train_predict, squared=False))\n",
    "print(\"Train MAE:\", mean_absolute_error(y_train, train_predict))\n",
    "print(\"Train MAPE:\", mean_absolute_percentage_error(y_train, train_predict))"
   ]
  },
  {
   "cell_type": "code",
   "execution_count": 63,
   "metadata": {},
   "outputs": [
    {
     "data": {
      "text/plain": [
       "Text(0.5, 0, 'Feature Importance')"
      ]
     },
     "execution_count": 63,
     "metadata": {},
     "output_type": "execute_result"
    },
    {
     "data": {
      "image/png": "[encoded data removed]",
      "text/plain": [
       "<Figure size 640x480 with 1 Axes>"
      ]
     },
     "metadata": {},
     "output_type": "display_data"
    }
   ],
   "source": [
    "from matplotlib import pyplot as plt\n",
    "num_features = 20\n",
    "sorted_idx = gb.feature_importances_.argsort()[::-1][:num_features]\n",
    "cols = data_train.columns\n",
    "plt.barh(cols[sorted_idx][:num_features][::-1], gb.feature_importances_[sorted_idx][:num_features][::-1])\n",
    "plt.xlabel(\"Feature Importance\")"
   ]
  },
  {
   "cell_type": "code",
   "execution_count": 64,
   "metadata": {},
   "outputs": [
    {
     "name": "stdout",
     "output_type": "stream",
     "text": [
      "Index(['team1_streak', 'salary-800-1500', 'team1_name_NYY', 'team2_streak',\n",
      "       'lle2', 'lle1', 'team1_pre_win', 'start_hour_label_evening',\n",
      "       'temperature', 'team1_pre_win_pct', 'day_Sunday', 'salary-1500',\n",
      "       'team1_pre_loss', 'team2_pre_win', 'team2_pre_loss', 'day_Friday',\n",
      "       'team2_pre_win_pct', 'day_Saturday', 'home_team_avg_att_last_year',\n",
      "       'previous_5_to_10MA'],\n",
      "      dtype='object')\n"
     ]
    }
   ],
   "source": [
    "print(cols[sorted_idx][:num_features][::-1])"
   ]
  },
  {
   "cell_type": "code",
   "execution_count": 65,
   "metadata": {},
   "outputs": [
    {
     "name": "stdout",
     "output_type": "stream",
     "text": [
      "[0.00425445 0.00434329 0.00477595 0.00491091 0.01003294 0.01062895\n",
      " 0.0107345  0.01183163 0.01272416 0.01493756 0.01526867 0.0155052\n",
      " 0.01627739 0.01752651 0.01762041 0.0252043  0.02542749 0.04333939\n",
      " 0.11554059 0.5134604 ]\n"
     ]
    }
   ],
   "source": [
    "print(gb.feature_importances_[sorted_idx][:num_features][::-1])"
   ]
  },
  {
   "cell_type": "markdown",
   "metadata": {},
   "source": [
    "### Evaluate testing set"
   ]
  },
  {
   "cell_type": "code",
   "execution_count": 66,
   "metadata": {},
   "outputs": [
    {
     "name": "stdout",
     "output_type": "stream",
     "text": [
      "Test MSE: 39944547.42656239\n",
      "Test RMSE: 6320.169889058552\n",
      "Test MAE: 4889.885616678008\n",
      "Test MAPE: 0.2418806210983902\n"
     ]
    }
   ],
   "source": [
    "from sklearn.metrics import mean_squared_error, mean_absolute_error, mean_absolute_percentage_error\n",
    "y_pred = gb.predict(x_test)\n",
    "print(\"Test MSE:\", mean_squared_error(y_test, y_pred))\n",
    "print(\"Test RMSE:\", mean_squared_error(y_test, y_pred, squared=False))\n",
    "print(\"Test MAE:\", mean_absolute_error(y_test, y_pred))\n",
    "print(\"Test MAPE:\", mean_absolute_percentage_error(y_test, y_pred))"
   ]
  },
  {
   "cell_type": "markdown",
   "metadata": {},
   "source": [
    "### Save Model"
   ]
  },
  {
   "cell_type": "code",
   "execution_count": 60,
   "metadata": {},
   "outputs": [],
   "source": [
    "time = datetime.today().strftime('%Y%m%d_%H%M%S')\n",
    "filename = f'./model/gradientboosting_model_{time}.sav'\n",
    "pickle.dump(gb, open(filename, 'wb'))"
   ]
  },
  {
   "cell_type": "markdown",
   "metadata": {},
   "source": [
    "## XGBoost"
   ]
  },
  {
   "cell_type": "code",
   "execution_count": 61,
   "metadata": {},
   "outputs": [],
   "source": [
    "from xgboost import XGBRegressor"
   ]
  },
  {
   "cell_type": "markdown",
   "metadata": {},
   "source": [
    "### Hyperparameters Tuning"
   ]
  },
  {
   "cell_type": "code",
   "execution_count": 13,
   "metadata": {},
   "outputs": [
    {
     "data": {
      "text/html": [
       "<style>#sk-container-id-1 {color: black;background-color: white;}#sk-container-id-1 pre{padding: 0;}#sk-container-id-1 div.sk-toggleable {background-color: white;}#sk-container-id-1 label.sk-toggleable__label {cursor: pointer;display: block;width: 100%;margin-bottom: 0;padding: 0.3em;box-sizing: border-box;text-align: center;}#sk-container-id-1 label.sk-toggleable__label-arrow:before {content: \"▸\";float: left;margin-right: 0.25em;color: #696969;}#sk-container-id-1 label.sk-toggleable__label-arrow:hover:before {color: black;}#sk-container-id-1 div.sk-estimator:hover label.sk-toggleable__label-arrow:before {color: black;}#sk-container-id-1 div.sk-toggleable__content {max-height: 0;max-width: 0;overflow: hidden;text-align: left;background-color: #f0f8ff;}#sk-container-id-1 div.sk-toggleable__content pre {margin: 0.2em;color: black;border-radius: 0.25em;background-color: #f0f8ff;}#sk-container-id-1 input.sk-toggleable__control:checked~div.sk-toggleable__content {max-height: 200px;max-width: 100%;overflow: auto;}#sk-container-id-1 input.sk-toggleable__control:checked~label.sk-toggleable__label-arrow:before {content: \"▾\";}#sk-container-id-1 div.sk-estimator input.sk-toggleable__control:checked~label.sk-toggleable__label {background-color: #d4ebff;}#sk-container-id-1 div.sk-label input.sk-toggleable__control:checked~label.sk-toggleable__label {background-color: #d4ebff;}#sk-container-id-1 input.sk-hidden--visually {border: 0;clip: rect(1px 1px 1px 1px);clip: rect(1px, 1px, 1px, 1px);height: 1px;margin: -1px;overflow: hidden;padding: 0;position: absolute;width: 1px;}#sk-container-id-1 div.sk-estimator {font-family: monospace;background-color: #f0f8ff;border: 1px dotted black;border-radius: 0.25em;box-sizing: border-box;margin-bottom: 0.5em;}#sk-container-id-1 div.sk-estimator:hover {background-color: #d4ebff;}#sk-container-id-1 div.sk-parallel-item::after {content: \"\";width: 100%;border-bottom: 1px solid gray;flex-grow: 1;}#sk-container-id-1 div.sk-label:hover label.sk-toggleable__label {background-color: #d4ebff;}#sk-container-id-1 div.sk-serial::before {content: \"\";position: absolute;border-left: 1px solid gray;box-sizing: border-box;top: 0;bottom: 0;left: 50%;z-index: 0;}#sk-container-id-1 div.sk-serial {display: flex;flex-direction: column;align-items: center;background-color: white;padding-right: 0.2em;padding-left: 0.2em;position: relative;}#sk-container-id-1 div.sk-item {position: relative;z-index: 1;}#sk-container-id-1 div.sk-parallel {display: flex;align-items: stretch;justify-content: center;background-color: white;position: relative;}#sk-container-id-1 div.sk-item::before, #sk-container-id-1 div.sk-parallel-item::before {content: \"\";position: absolute;border-left: 1px solid gray;box-sizing: border-box;top: 0;bottom: 0;left: 50%;z-index: -1;}#sk-container-id-1 div.sk-parallel-item {display: flex;flex-direction: column;z-index: 1;position: relative;background-color: white;}#sk-container-id-1 div.sk-parallel-item:first-child::after {align-self: flex-end;width: 50%;}#sk-container-id-1 div.sk-parallel-item:last-child::after {align-self: flex-start;width: 50%;}#sk-container-id-1 div.sk-parallel-item:only-child::after {width: 0;}#sk-container-id-1 div.sk-dashed-wrapped {border: 1px dashed gray;margin: 0 0.4em 0.5em 0.4em;box-sizing: border-box;padding-bottom: 0.4em;background-color: white;}#sk-container-id-1 div.sk-label label {font-family: monospace;font-weight: bold;display: inline-block;line-height: 1.2em;}#sk-container-id-1 div.sk-label-container {text-align: center;}#sk-container-id-1 div.sk-container {/* jupyter's `normalize.less` sets `[hidden] { display: none; }` but bootstrap.min.css set `[hidden] { display: none !important; }` so we also need the `!important` here to be able to override the default hidden behavior on the sphinx rendered scikit-learn.org. See: https://github.com/scikit-learn/scikit-learn/issues/21755 */display: inline-block !important;position: relative;}#sk-container-id-1 div.sk-text-repr-fallback {display: none;}</style><div id=\"sk-container-id-1\" class=\"sk-top-container\"><div class=\"sk-text-repr-fallback\"><pre>GridSearchCV(cv=5,\n",
       "             estimator=XGBRegressor(base_score=None, booster=None,\n",
       "                                    callbacks=None, colsample_bylevel=None,\n",
       "                                    colsample_bynode=None,\n",
       "                                    colsample_bytree=None,\n",
       "                                    early_stopping_rounds=None,\n",
       "                                    enable_categorical=False, eval_metric=None,\n",
       "                                    feature_types=None, gamma=None, gpu_id=None,\n",
       "                                    grow_policy=None, importance_type=None,\n",
       "                                    interaction_constraints=None,\n",
       "                                    learning_rate=None, m...\n",
       "                                    n_jobs=None, num_parallel_tree=None,\n",
       "                                    predictor=None, random_state=42, ...),\n",
       "             n_jobs=-1,\n",
       "             param_grid={&#x27;colsample_bytree&#x27;: [0.3, 0.7, 1],\n",
       "                         &#x27;learning_rate&#x27;: [0.1, 0.05, 0.01, 0.001],\n",
       "                         &#x27;max_depth&#x27;: [3, 5, 8, 10],\n",
       "                         &#x27;n_estimators&#x27;: [100, 300, 500, 1000]},\n",
       "             refit=&#x27;neg_root_mean_squared_error&#x27;,\n",
       "             scoring=[&#x27;neg_mean_squared_error&#x27;, &#x27;neg_root_mean_squared_error&#x27;,\n",
       "                      &#x27;neg_mean_absolute_error&#x27;,\n",
       "                      &#x27;neg_mean_absolute_percentage_error&#x27;])</pre><b>In a Jupyter environment, please rerun this cell to show the HTML representation or trust the notebook. <br />On GitHub, the HTML representation is unable to render, please try loading this page with nbviewer.org.</b></div><div class=\"sk-container\" hidden><div class=\"sk-item sk-dashed-wrapped\"><div class=\"sk-label-container\"><div class=\"sk-label sk-toggleable\"><input class=\"sk-toggleable__control sk-hidden--visually\" id=\"sk-estimator-id-1\" type=\"checkbox\" ><label for=\"sk-estimator-id-1\" class=\"sk-toggleable__label sk-toggleable__label-arrow\">GridSearchCV</label><div class=\"sk-toggleable__content\"><pre>GridSearchCV(cv=5,\n",
       "             estimator=XGBRegressor(base_score=None, booster=None,\n",
       "                                    callbacks=None, colsample_bylevel=None,\n",
       "                                    colsample_bynode=None,\n",
       "                                    colsample_bytree=None,\n",
       "                                    early_stopping_rounds=None,\n",
       "                                    enable_categorical=False, eval_metric=None,\n",
       "                                    feature_types=None, gamma=None, gpu_id=None,\n",
       "                                    grow_policy=None, importance_type=None,\n",
       "                                    interaction_constraints=None,\n",
       "                                    learning_rate=None, m...\n",
       "                                    n_jobs=None, num_parallel_tree=None,\n",
       "                                    predictor=None, random_state=42, ...),\n",
       "             n_jobs=-1,\n",
       "             param_grid={&#x27;colsample_bytree&#x27;: [0.3, 0.7, 1],\n",
       "                         &#x27;learning_rate&#x27;: [0.1, 0.05, 0.01, 0.001],\n",
       "                         &#x27;max_depth&#x27;: [3, 5, 8, 10],\n",
       "                         &#x27;n_estimators&#x27;: [100, 300, 500, 1000]},\n",
       "             refit=&#x27;neg_root_mean_squared_error&#x27;,\n",
       "             scoring=[&#x27;neg_mean_squared_error&#x27;, &#x27;neg_root_mean_squared_error&#x27;,\n",
       "                      &#x27;neg_mean_absolute_error&#x27;,\n",
       "                      &#x27;neg_mean_absolute_percentage_error&#x27;])</pre></div></div></div><div class=\"sk-parallel\"><div class=\"sk-parallel-item\"><div class=\"sk-item\"><div class=\"sk-label-container\"><div class=\"sk-label sk-toggleable\"><input class=\"sk-toggleable__control sk-hidden--visually\" id=\"sk-estimator-id-2\" type=\"checkbox\" ><label for=\"sk-estimator-id-2\" class=\"sk-toggleable__label sk-toggleable__label-arrow\">estimator: XGBRegressor</label><div class=\"sk-toggleable__content\"><pre>XGBRegressor(base_score=None, booster=None, callbacks=None,\n",
       "             colsample_bylevel=None, colsample_bynode=None,\n",
       "             colsample_bytree=None, early_stopping_rounds=None,\n",
       "             enable_categorical=False, eval_metric=None, feature_types=None,\n",
       "             gamma=None, gpu_id=None, grow_policy=None, importance_type=None,\n",
       "             interaction_constraints=None, learning_rate=None, max_bin=None,\n",
       "             max_cat_threshold=None, max_cat_to_onehot=None,\n",
       "             max_delta_step=None, max_depth=None, max_leaves=None,\n",
       "             min_child_weight=None, missing=nan, monotone_constraints=None,\n",
       "             n_estimators=100, n_jobs=None, num_parallel_tree=None,\n",
       "             predictor=None, random_state=42, ...)</pre></div></div></div><div class=\"sk-serial\"><div class=\"sk-item\"><div class=\"sk-estimator sk-toggleable\"><input class=\"sk-toggleable__control sk-hidden--visually\" id=\"sk-estimator-id-3\" type=\"checkbox\" ><label for=\"sk-estimator-id-3\" class=\"sk-toggleable__label sk-toggleable__label-arrow\">XGBRegressor</label><div class=\"sk-toggleable__content\"><pre>XGBRegressor(base_score=None, booster=None, callbacks=None,\n",
       "             colsample_bylevel=None, colsample_bynode=None,\n",
       "             colsample_bytree=None, early_stopping_rounds=None,\n",
       "             enable_categorical=False, eval_metric=None, feature_types=None,\n",
       "             gamma=None, gpu_id=None, grow_policy=None, importance_type=None,\n",
       "             interaction_constraints=None, learning_rate=None, max_bin=None,\n",
       "             max_cat_threshold=None, max_cat_to_onehot=None,\n",
       "             max_delta_step=None, max_depth=None, max_leaves=None,\n",
       "             min_child_weight=None, missing=nan, monotone_constraints=None,\n",
       "             n_estimators=100, n_jobs=None, num_parallel_tree=None,\n",
       "             predictor=None, random_state=42, ...)</pre></div></div></div></div></div></div></div></div></div></div>"
      ],
      "text/plain": [
       "GridSearchCV(cv=5,\n",
       "             estimator=XGBRegressor(base_score=None, booster=None,\n",
       "                                    callbacks=None, colsample_bylevel=None,\n",
       "                                    colsample_bynode=None,\n",
       "                                    colsample_bytree=None,\n",
       "                                    early_stopping_rounds=None,\n",
       "                                    enable_categorical=False, eval_metric=None,\n",
       "                                    feature_types=None, gamma=None, gpu_id=None,\n",
       "                                    grow_policy=None, importance_type=None,\n",
       "                                    interaction_constraints=None,\n",
       "                                    learning_rate=None, m...\n",
       "                                    n_jobs=None, num_parallel_tree=None,\n",
       "                                    predictor=None, random_state=42, ...),\n",
       "             n_jobs=-1,\n",
       "             param_grid={'colsample_bytree': [0.3, 0.7, 1],\n",
       "                         'learning_rate': [0.1, 0.05, 0.01, 0.001],\n",
       "                         'max_depth': [3, 5, 8, 10],\n",
       "                         'n_estimators': [100, 300, 500, 1000]},\n",
       "             refit='neg_root_mean_squared_error',\n",
       "             scoring=['neg_mean_squared_error', 'neg_root_mean_squared_error',\n",
       "                      'neg_mean_absolute_error',\n",
       "                      'neg_mean_absolute_percentage_error'])"
      ]
     },
     "execution_count": 13,
     "metadata": {},
     "output_type": "execute_result"
    }
   ],
   "source": [
    "scoring = ['neg_mean_squared_error', 'neg_root_mean_squared_error', 'neg_mean_absolute_error', 'neg_mean_absolute_percentage_error']\n",
    "parameters = {'n_estimators': [100, 300, 500, 1000], 'max_depth':[3, 5, 8, 10], 'learning_rate': [0.1, 0.05, 0.01, 0.001], 'colsample_bytree': [0.3, 0.7, 1]}\n",
    "model = XGBRegressor(random_state=42)\n",
    "clf = GridSearchCV(model, parameters, cv=5, n_jobs=-1, scoring=scoring, refit='neg_root_mean_squared_error')\n",
    "clf.fit(x_train, y_train)"
   ]
  },
  {
   "cell_type": "code",
   "execution_count": 14,
   "metadata": {},
   "outputs": [
    {
     "name": "stdout",
     "output_type": "stream",
     "text": [
      "Best estimators: XGBRegressor(base_score=0.5, booster='gbtree', callbacks=None,\n",
      "             colsample_bylevel=1, colsample_bynode=1, colsample_bytree=0.3,\n",
      "             early_stopping_rounds=None, enable_categorical=False,\n",
      "             eval_metric=None, feature_types=None, gamma=0, gpu_id=-1,\n",
      "             grow_policy='depthwise', importance_type=None,\n",
      "             interaction_constraints='', learning_rate=0.05, max_bin=256,\n",
      "             max_cat_threshold=64, max_cat_to_onehot=4, max_delta_step=0,\n",
      "             max_depth=8, max_leaves=0, min_child_weight=1, missing=nan,\n",
      "             monotone_constraints='()', n_estimators=1000, n_jobs=0,\n",
      "             num_parallel_tree=1, predictor='auto', random_state=42, ...)\n",
      "Best parameters: {'colsample_bytree': 0.3, 'learning_rate': 0.05, 'max_depth': 8, 'n_estimators': 1000}\n"
     ]
    }
   ],
   "source": [
    "print(\"Best estimators:\", clf.best_estimator_)\n",
    "print(\"Best parameters:\", clf.best_params_)"
   ]
  },
  {
   "cell_type": "code",
   "execution_count": 15,
   "metadata": {},
   "outputs": [
    {
     "data": {
      "text/html": [
       "<div>\n",
       "<style scoped>\n",
       "    .dataframe tbody tr th:only-of-type {\n",
       "        vertical-align: middle;\n",
       "    }\n",
       "\n",
       "    .dataframe tbody tr th {\n",
       "        vertical-align: top;\n",
       "    }\n",
       "\n",
       "    .dataframe thead th {\n",
       "        text-align: right;\n",
       "    }\n",
       "</style>\n",
       "<table border=\"1\" class=\"dataframe\">\n",
       "  <thead>\n",
       "    <tr style=\"text-align: right;\">\n",
       "      <th></th>\n",
       "      <th>mean_fit_time</th>\n",
       "      <th>std_fit_time</th>\n",
       "      <th>mean_score_time</th>\n",
       "      <th>std_score_time</th>\n",
       "      <th>param_colsample_bytree</th>\n",
       "      <th>param_learning_rate</th>\n",
       "      <th>param_max_depth</th>\n",
       "      <th>param_n_estimators</th>\n",
       "      <th>params</th>\n",
       "      <th>split0_test_neg_mean_squared_error</th>\n",
       "      <th>...</th>\n",
       "      <th>std_test_neg_mean_absolute_error</th>\n",
       "      <th>rank_test_neg_mean_absolute_error</th>\n",
       "      <th>split0_test_neg_mean_absolute_percentage_error</th>\n",
       "      <th>split1_test_neg_mean_absolute_percentage_error</th>\n",
       "      <th>split2_test_neg_mean_absolute_percentage_error</th>\n",
       "      <th>split3_test_neg_mean_absolute_percentage_error</th>\n",
       "      <th>split4_test_neg_mean_absolute_percentage_error</th>\n",
       "      <th>mean_test_neg_mean_absolute_percentage_error</th>\n",
       "      <th>std_test_neg_mean_absolute_percentage_error</th>\n",
       "      <th>rank_test_neg_mean_absolute_percentage_error</th>\n",
       "    </tr>\n",
       "  </thead>\n",
       "  <tbody>\n",
       "    <tr>\n",
       "      <th>0</th>\n",
       "      <td>2.269679</td>\n",
       "      <td>0.089486</td>\n",
       "      <td>0.025791</td>\n",
       "      <td>0.002665</td>\n",
       "      <td>0.3</td>\n",
       "      <td>0.1</td>\n",
       "      <td>3</td>\n",
       "      <td>100</td>\n",
       "      <td>{'colsample_bytree': 0.3, 'learning_rate': 0.1...</td>\n",
       "      <td>-2.425527e+07</td>\n",
       "      <td>...</td>\n",
       "      <td>36.183440</td>\n",
       "      <td>116</td>\n",
       "      <td>-0.151206</td>\n",
       "      <td>-0.162221</td>\n",
       "      <td>-0.162909</td>\n",
       "      <td>-0.152774</td>\n",
       "      <td>-0.151575</td>\n",
       "      <td>-0.156137</td>\n",
       "      <td>0.005278</td>\n",
       "      <td>119</td>\n",
       "    </tr>\n",
       "    <tr>\n",
       "      <th>1</th>\n",
       "      <td>6.845363</td>\n",
       "      <td>0.249606</td>\n",
       "      <td>0.029762</td>\n",
       "      <td>0.002136</td>\n",
       "      <td>0.3</td>\n",
       "      <td>0.1</td>\n",
       "      <td>3</td>\n",
       "      <td>300</td>\n",
       "      <td>{'colsample_bytree': 0.3, 'learning_rate': 0.1...</td>\n",
       "      <td>-2.156413e+07</td>\n",
       "      <td>...</td>\n",
       "      <td>29.587957</td>\n",
       "      <td>96</td>\n",
       "      <td>-0.137124</td>\n",
       "      <td>-0.146534</td>\n",
       "      <td>-0.147467</td>\n",
       "      <td>-0.138006</td>\n",
       "      <td>-0.137893</td>\n",
       "      <td>-0.141405</td>\n",
       "      <td>0.004588</td>\n",
       "      <td>97</td>\n",
       "    </tr>\n",
       "    <tr>\n",
       "      <th>2</th>\n",
       "      <td>11.585741</td>\n",
       "      <td>0.335723</td>\n",
       "      <td>0.040869</td>\n",
       "      <td>0.004528</td>\n",
       "      <td>0.3</td>\n",
       "      <td>0.1</td>\n",
       "      <td>3</td>\n",
       "      <td>500</td>\n",
       "      <td>{'colsample_bytree': 0.3, 'learning_rate': 0.1...</td>\n",
       "      <td>-2.036101e+07</td>\n",
       "      <td>...</td>\n",
       "      <td>31.240256</td>\n",
       "      <td>83</td>\n",
       "      <td>-0.132052</td>\n",
       "      <td>-0.141476</td>\n",
       "      <td>-0.142775</td>\n",
       "      <td>-0.133560</td>\n",
       "      <td>-0.133338</td>\n",
       "      <td>-0.136640</td>\n",
       "      <td>0.004527</td>\n",
       "      <td>83</td>\n",
       "    </tr>\n",
       "    <tr>\n",
       "      <th>3</th>\n",
       "      <td>24.597726</td>\n",
       "      <td>0.572496</td>\n",
       "      <td>0.063271</td>\n",
       "      <td>0.015026</td>\n",
       "      <td>0.3</td>\n",
       "      <td>0.1</td>\n",
       "      <td>3</td>\n",
       "      <td>1000</td>\n",
       "      <td>{'colsample_bytree': 0.3, 'learning_rate': 0.1...</td>\n",
       "      <td>-1.903194e+07</td>\n",
       "      <td>...</td>\n",
       "      <td>22.256316</td>\n",
       "      <td>70</td>\n",
       "      <td>-0.127227</td>\n",
       "      <td>-0.137257</td>\n",
       "      <td>-0.136631</td>\n",
       "      <td>-0.128467</td>\n",
       "      <td>-0.128143</td>\n",
       "      <td>-0.131545</td>\n",
       "      <td>0.004431</td>\n",
       "      <td>68</td>\n",
       "    </tr>\n",
       "    <tr>\n",
       "      <th>4</th>\n",
       "      <td>3.666557</td>\n",
       "      <td>0.088281</td>\n",
       "      <td>0.033861</td>\n",
       "      <td>0.004056</td>\n",
       "      <td>0.3</td>\n",
       "      <td>0.1</td>\n",
       "      <td>5</td>\n",
       "      <td>100</td>\n",
       "      <td>{'colsample_bytree': 0.3, 'learning_rate': 0.1...</td>\n",
       "      <td>-2.103318e+07</td>\n",
       "      <td>...</td>\n",
       "      <td>36.522716</td>\n",
       "      <td>92</td>\n",
       "      <td>-0.136794</td>\n",
       "      <td>-0.145933</td>\n",
       "      <td>-0.147362</td>\n",
       "      <td>-0.138993</td>\n",
       "      <td>-0.137425</td>\n",
       "      <td>-0.141302</td>\n",
       "      <td>0.004446</td>\n",
       "      <td>95</td>\n",
       "    </tr>\n",
       "  </tbody>\n",
       "</table>\n",
       "<p>5 rows × 41 columns</p>\n",
       "</div>"
      ],
      "text/plain": [
       "   mean_fit_time  std_fit_time  mean_score_time  std_score_time  \\\n",
       "0       2.269679      0.089486         0.025791        0.002665   \n",
       "1       6.845363      0.249606         0.029762        0.002136   \n",
       "2      11.585741      0.335723         0.040869        0.004528   \n",
       "3      24.597726      0.572496         0.063271        0.015026   \n",
       "4       3.666557      0.088281         0.033861        0.004056   \n",
       "\n",
       "  param_colsample_bytree param_learning_rate param_max_depth  \\\n",
       "0                    0.3                 0.1               3   \n",
       "1                    0.3                 0.1               3   \n",
       "2                    0.3                 0.1               3   \n",
       "3                    0.3                 0.1               3   \n",
       "4                    0.3                 0.1               5   \n",
       "\n",
       "  param_n_estimators                                             params  \\\n",
       "0                100  {'colsample_bytree': 0.3, 'learning_rate': 0.1...   \n",
       "1                300  {'colsample_bytree': 0.3, 'learning_rate': 0.1...   \n",
       "2                500  {'colsample_bytree': 0.3, 'learning_rate': 0.1...   \n",
       "3               1000  {'colsample_bytree': 0.3, 'learning_rate': 0.1...   \n",
       "4                100  {'colsample_bytree': 0.3, 'learning_rate': 0.1...   \n",
       "\n",
       "   split0_test_neg_mean_squared_error  ...  std_test_neg_mean_absolute_error  \\\n",
       "0                       -2.425527e+07  ...                         36.183440   \n",
       "1                       -2.156413e+07  ...                         29.587957   \n",
       "2                       -2.036101e+07  ...                         31.240256   \n",
       "3                       -1.903194e+07  ...                         22.256316   \n",
       "4                       -2.103318e+07  ...                         36.522716   \n",
       "\n",
       "   rank_test_neg_mean_absolute_error  \\\n",
       "0                                116   \n",
       "1                                 96   \n",
       "2                                 83   \n",
       "3                                 70   \n",
       "4                                 92   \n",
       "\n",
       "   split0_test_neg_mean_absolute_percentage_error  \\\n",
       "0                                       -0.151206   \n",
       "1                                       -0.137124   \n",
       "2                                       -0.132052   \n",
       "3                                       -0.127227   \n",
       "4                                       -0.136794   \n",
       "\n",
       "   split1_test_neg_mean_absolute_percentage_error  \\\n",
       "0                                       -0.162221   \n",
       "1                                       -0.146534   \n",
       "2                                       -0.141476   \n",
       "3                                       -0.137257   \n",
       "4                                       -0.145933   \n",
       "\n",
       "   split2_test_neg_mean_absolute_percentage_error  \\\n",
       "0                                       -0.162909   \n",
       "1                                       -0.147467   \n",
       "2                                       -0.142775   \n",
       "3                                       -0.136631   \n",
       "4                                       -0.147362   \n",
       "\n",
       "   split3_test_neg_mean_absolute_percentage_error  \\\n",
       "0                                       -0.152774   \n",
       "1                                       -0.138006   \n",
       "2                                       -0.133560   \n",
       "3                                       -0.128467   \n",
       "4                                       -0.138993   \n",
       "\n",
       "   split4_test_neg_mean_absolute_percentage_error  \\\n",
       "0                                       -0.151575   \n",
       "1                                       -0.137893   \n",
       "2                                       -0.133338   \n",
       "3                                       -0.128143   \n",
       "4                                       -0.137425   \n",
       "\n",
       "   mean_test_neg_mean_absolute_percentage_error  \\\n",
       "0                                     -0.156137   \n",
       "1                                     -0.141405   \n",
       "2                                     -0.136640   \n",
       "3                                     -0.131545   \n",
       "4                                     -0.141302   \n",
       "\n",
       "   std_test_neg_mean_absolute_percentage_error  \\\n",
       "0                                     0.005278   \n",
       "1                                     0.004588   \n",
       "2                                     0.004527   \n",
       "3                                     0.004431   \n",
       "4                                     0.004446   \n",
       "\n",
       "   rank_test_neg_mean_absolute_percentage_error  \n",
       "0                                           119  \n",
       "1                                            97  \n",
       "2                                            83  \n",
       "3                                            68  \n",
       "4                                            95  \n",
       "\n",
       "[5 rows x 41 columns]"
      ]
     },
     "execution_count": 15,
     "metadata": {},
     "output_type": "execute_result"
    }
   ],
   "source": [
    "df_res = pd.DataFrame(data=clf.cv_results_)\n",
    "df_res.head()"
   ]
  },
  {
   "cell_type": "markdown",
   "metadata": {},
   "source": [
    "### Train with best params"
   ]
  },
  {
   "cell_type": "code",
   "execution_count": 62,
   "metadata": {},
   "outputs": [],
   "source": [
    "# colsample_bytree': 0.3, 'learning_rate': 0.05, 'max_depth': 8, 'n_estimators': 1000\n",
    "xgb = XGBRegressor(colsample_bytree=0.3, learning_rate=0.05, max_depth=8, n_estimators=1000, random_state=42)\n",
    "xgb = xgb.fit(x_train, y_train)"
   ]
  },
  {
   "cell_type": "code",
   "execution_count": 67,
   "metadata": {},
   "outputs": [
    {
     "name": "stdout",
     "output_type": "stream",
     "text": [
      "Train MSE: 1164218.112722959\n",
      "Train RMSE: 1078.9893941661146\n",
      "Train MAE: 784.3542271944402\n",
      "Train MAPE: 0.03099388164798752\n"
     ]
    }
   ],
   "source": [
    "from sklearn.metrics import mean_squared_error, mean_absolute_error, mean_absolute_percentage_error\n",
    "train_predict = xgb.predict(x_train)\n",
    "print(\"Train MSE:\", mean_squared_error(y_train, train_predict))\n",
    "print(\"Train RMSE:\", mean_squared_error(y_train, train_predict, squared=False))\n",
    "print(\"Train MAE:\", mean_absolute_error(y_train, train_predict))\n",
    "print(\"Train MAPE:\", mean_absolute_percentage_error(y_train, train_predict))"
   ]
  },
  {
   "cell_type": "code",
   "execution_count": 68,
   "metadata": {},
   "outputs": [
    {
     "data": {
      "text/plain": [
       "Text(0.5, 0, 'Xgboost Feature Importance')"
      ]
     },
     "execution_count": 68,
     "metadata": {},
     "output_type": "execute_result"
    },
    {
     "data": {
      "image/png": "[encoded data removed]",
      "text/plain": [
       "<Figure size 640x480 with 1 Axes>"
      ]
     },
     "metadata": {},
     "output_type": "display_data"
    }
   ],
   "source": [
    "from matplotlib import pyplot as plt\n",
    "sorted_idx = xgb.feature_importances_.argsort()[::-1]\n",
    "cols = data_train.columns\n",
    "plt.barh(cols[sorted_idx][:20][::-1], xgb.feature_importances_[sorted_idx][:20][::-1])\n",
    "plt.xlabel(\"Xgboost Feature Importance\")"
   ]
  },
  {
   "cell_type": "code",
   "execution_count": 69,
   "metadata": {},
   "outputs": [
    {
     "data": {
      "text/plain": [
       "array([0.00939998, 0.01086453, 0.01097509, 0.011674  , 0.01380076,\n",
       "       0.0158119 , 0.01684907, 0.01904645, 0.02026382, 0.02037678,\n",
       "       0.02169791, 0.0226647 , 0.02737366, 0.03710059, 0.04528563,\n",
       "       0.04764755, 0.07279659, 0.09099059, 0.09788465, 0.11149874],\n",
       "      dtype=float32)"
      ]
     },
     "execution_count": 69,
     "metadata": {},
     "output_type": "execute_result"
    }
   ],
   "source": [
    "xgb.feature_importances_[sorted_idx][:20][::-1]"
   ]
  },
  {
   "cell_type": "code",
   "execution_count": 70,
   "metadata": {},
   "outputs": [
    {
     "data": {
      "text/plain": [
       "Index(['day_Monday', 'team1_name_CHC', 'day_Wednesday', 'team1_name_NYY',\n",
       "       'day_Tuesday', 'team2_name_CHC', 'team2_name_SFG', 'team2_name_LAA',\n",
       "       'team2_name_MIA', 'previous_5_to_10MA', 'team2_name_NYY',\n",
       "       'team2_name_OAK', 'team2_name_CLE', 'day_Saturday', 'season_type_post',\n",
       "       'home_team_avg_att_last_year', 'season_type_regular', 'team2_name_STL',\n",
       "       'team2_name_LAD', 'team2_name_TBR'],\n",
       "      dtype='object')"
      ]
     },
     "execution_count": 70,
     "metadata": {},
     "output_type": "execute_result"
    }
   ],
   "source": [
    "cols[sorted_idx][:20][::-1]"
   ]
  },
  {
   "cell_type": "markdown",
   "metadata": {},
   "source": [
    "### Testing set"
   ]
  },
  {
   "cell_type": "code",
   "execution_count": 71,
   "metadata": {},
   "outputs": [
    {
     "name": "stdout",
     "output_type": "stream",
     "text": [
      "Test MSE: 36048062.45205903\n",
      "Test RMSE: 6004.003868424722\n",
      "Test MAE: 4698.934744655867\n",
      "Test MAPE: 0.24075038739240207\n"
     ]
    }
   ],
   "source": [
    "from sklearn.metrics import mean_squared_error, mean_absolute_error, mean_absolute_percentage_error\n",
    "y_pred = xgb.predict(x_test)\n",
    "print(\"Test MSE:\", mean_squared_error(y_test, y_pred))\n",
    "print(\"Test RMSE:\", mean_squared_error(y_test, y_pred, squared=False))\n",
    "print(\"Test MAE:\", mean_absolute_error(y_test, y_pred))\n",
    "print(\"Test MAPE:\", mean_absolute_percentage_error(y_test, y_pred))"
   ]
  },
  {
   "cell_type": "markdown",
   "metadata": {},
   "source": [
    "### Save model"
   ]
  },
  {
   "cell_type": "code",
   "execution_count": 72,
   "metadata": {},
   "outputs": [],
   "source": [
    "time = datetime.today().strftime('%Y%m%d_%H%M%S')\n",
    "filename = f'./model/xgboost_model_{time}.sav'\n",
    "pickle.dump(xgb, open(filename, 'wb'))"
   ]
  },
  {
   "cell_type": "markdown",
   "metadata": {},
   "source": [
    "## Note"
   ]
  },
  {
   "cell_type": "markdown",
   "metadata": {},
   "source": [
    "整理上述結果，有什麼新發現\n",
    "\n",
    "發現..."
   ]
  },
  {
   "cell_type": "markdown",
   "metadata": {},
   "source": [
    "## Stacking"
   ]
  },
  {
   "cell_type": "markdown",
   "metadata": {},
   "source": [
    "### List all models we selected"
   ]
  },
  {
   "cell_type": "code",
   "execution_count": 12,
   "metadata": {},
   "outputs": [],
   "source": [
    "from xgboost import XGBRegressor\n",
    "from sklearn.linear_model import Lasso, Ridge\n",
    "from sklearn.ensemble import StackingRegressor, GradientBoostingRegressor\n",
    "xgb = XGBRegressor(colsample_bytree=0.3, learning_rate=0.05, max_depth=8, n_estimators=1000, random_state=42)\n",
    "gb = GradientBoostingRegressor(learning_rate=0.05, max_depth=8, n_estimators=1000, random_state=42)\n",
    "la = Lasso(max_iter=50000, alpha=1.438449888287663)\n",
    "ri = Ridge(max_iter=50000, alpha=0.3359818286283781)\n",
    "xgb_final = XGBRegressor(learning_rate=0.05, max_depth=8, n_estimators=100, random_state=42)"
   ]
  },
  {
   "cell_type": "markdown",
   "metadata": {},
   "source": [
    "### Training"
   ]
  },
  {
   "cell_type": "code",
   "execution_count": 13,
   "metadata": {},
   "outputs": [],
   "source": [
    "estimators = [\n",
    "     ('Gradient Boosting', gb),\n",
    "     ('XGBoost', xgb),\n",
    "     ('Lasso', la),\n",
    "     ('Ridge', ri),\n",
    "]\n",
    "sr = StackingRegressor(estimators=estimators, final_estimator=xgb_final, cv=5, n_jobs=-1, verbose=1)"
   ]
  },
  {
   "cell_type": "code",
   "execution_count": 14,
   "metadata": {},
   "outputs": [
    {
     "data": {
      "text/html": [
       "<style>#sk-container-id-1 {color: black;background-color: white;}#sk-container-id-1 pre{padding: 0;}#sk-container-id-1 div.sk-toggleable {background-color: white;}#sk-container-id-1 label.sk-toggleable__label {cursor: pointer;display: block;width: 100%;margin-bottom: 0;padding: 0.3em;box-sizing: border-box;text-align: center;}#sk-container-id-1 label.sk-toggleable__label-arrow:before {content: \"▸\";float: left;margin-right: 0.25em;color: #696969;}#sk-container-id-1 label.sk-toggleable__label-arrow:hover:before {color: black;}#sk-container-id-1 div.sk-estimator:hover label.sk-toggleable__label-arrow:before {color: black;}#sk-container-id-1 div.sk-toggleable__content {max-height: 0;max-width: 0;overflow: hidden;text-align: left;background-color: #f0f8ff;}#sk-container-id-1 div.sk-toggleable__content pre {margin: 0.2em;color: black;border-radius: 0.25em;background-color: #f0f8ff;}#sk-container-id-1 input.sk-toggleable__control:checked~div.sk-toggleable__content {max-height: 200px;max-width: 100%;overflow: auto;}#sk-container-id-1 input.sk-toggleable__control:checked~label.sk-toggleable__label-arrow:before {content: \"▾\";}#sk-container-id-1 div.sk-estimator input.sk-toggleable__control:checked~label.sk-toggleable__label {background-color: #d4ebff;}#sk-container-id-1 div.sk-label input.sk-toggleable__control:checked~label.sk-toggleable__label {background-color: #d4ebff;}#sk-container-id-1 input.sk-hidden--visually {border: 0;clip: rect(1px 1px 1px 1px);clip: rect(1px, 1px, 1px, 1px);height: 1px;margin: -1px;overflow: hidden;padding: 0;position: absolute;width: 1px;}#sk-container-id-1 div.sk-estimator {font-family: monospace;background-color: #f0f8ff;border: 1px dotted black;border-radius: 0.25em;box-sizing: border-box;margin-bottom: 0.5em;}#sk-container-id-1 div.sk-estimator:hover {background-color: #d4ebff;}#sk-container-id-1 div.sk-parallel-item::after {content: \"\";width: 100%;border-bottom: 1px solid gray;flex-grow: 1;}#sk-container-id-1 div.sk-label:hover label.sk-toggleable__label {background-color: #d4ebff;}#sk-container-id-1 div.sk-serial::before {content: \"\";position: absolute;border-left: 1px solid gray;box-sizing: border-box;top: 0;bottom: 0;left: 50%;z-index: 0;}#sk-container-id-1 div.sk-serial {display: flex;flex-direction: column;align-items: center;background-color: white;padding-right: 0.2em;padding-left: 0.2em;position: relative;}#sk-container-id-1 div.sk-item {position: relative;z-index: 1;}#sk-container-id-1 div.sk-parallel {display: flex;align-items: stretch;justify-content: center;background-color: white;position: relative;}#sk-container-id-1 div.sk-item::before, #sk-container-id-1 div.sk-parallel-item::before {content: \"\";position: absolute;border-left: 1px solid gray;box-sizing: border-box;top: 0;bottom: 0;left: 50%;z-index: -1;}#sk-container-id-1 div.sk-parallel-item {display: flex;flex-direction: column;z-index: 1;position: relative;background-color: white;}#sk-container-id-1 div.sk-parallel-item:first-child::after {align-self: flex-end;width: 50%;}#sk-container-id-1 div.sk-parallel-item:last-child::after {align-self: flex-start;width: 50%;}#sk-container-id-1 div.sk-parallel-item:only-child::after {width: 0;}#sk-container-id-1 div.sk-dashed-wrapped {border: 1px dashed gray;margin: 0 0.4em 0.5em 0.4em;box-sizing: border-box;padding-bottom: 0.4em;background-color: white;}#sk-container-id-1 div.sk-label label {font-family: monospace;font-weight: bold;display: inline-block;line-height: 1.2em;}#sk-container-id-1 div.sk-label-container {text-align: center;}#sk-container-id-1 div.sk-container {/* jupyter's `normalize.less` sets `[hidden] { display: none; }` but bootstrap.min.css set `[hidden] { display: none !important; }` so we also need the `!important` here to be able to override the default hidden behavior on the sphinx rendered scikit-learn.org. See: https://github.com/scikit-learn/scikit-learn/issues/21755 */display: inline-block !important;position: relative;}#sk-container-id-1 div.sk-text-repr-fallback {display: none;}</style><div id=\"sk-container-id-1\" class=\"sk-top-container\"><div class=\"sk-text-repr-fallback\"><pre>StackingRegressor(cv=5,\n",
       "                  estimators=[(&#x27;Gradient Boosting&#x27;,\n",
       "                               GradientBoostingRegressor(learning_rate=0.05,\n",
       "                                                         max_depth=8,\n",
       "                                                         n_estimators=1000,\n",
       "                                                         random_state=42)),\n",
       "                              (&#x27;XGBoost&#x27;,\n",
       "                               XGBRegressor(base_score=None, booster=None,\n",
       "                                            callbacks=None,\n",
       "                                            colsample_bylevel=None,\n",
       "                                            colsample_bynode=None,\n",
       "                                            colsample_bytree=0.3,\n",
       "                                            early_stopping_rounds=None,\n",
       "                                            enable_categorical=False,\n",
       "                                            eval_metric=None...\n",
       "                                               gpu_id=None, grow_policy=None,\n",
       "                                               importance_type=None,\n",
       "                                               interaction_constraints=None,\n",
       "                                               learning_rate=0.05, max_bin=None,\n",
       "                                               max_cat_threshold=None,\n",
       "                                               max_cat_to_onehot=None,\n",
       "                                               max_delta_step=None, max_depth=8,\n",
       "                                               max_leaves=None,\n",
       "                                               min_child_weight=None,\n",
       "                                               missing=nan,\n",
       "                                               monotone_constraints=None,\n",
       "                                               n_estimators=100, n_jobs=None,\n",
       "                                               num_parallel_tree=None,\n",
       "                                               predictor=None, random_state=42, ...),\n",
       "                  n_jobs=-1, verbose=1)</pre><b>In a Jupyter environment, please rerun this cell to show the HTML representation or trust the notebook. <br />On GitHub, the HTML representation is unable to render, please try loading this page with nbviewer.org.</b></div><div class=\"sk-container\" hidden><div class=\"sk-item sk-dashed-wrapped\"><div class=\"sk-label-container\"><div class=\"sk-label sk-toggleable\"><input class=\"sk-toggleable__control sk-hidden--visually\" id=\"sk-estimator-id-1\" type=\"checkbox\" ><label for=\"sk-estimator-id-1\" class=\"sk-toggleable__label sk-toggleable__label-arrow\">StackingRegressor</label><div class=\"sk-toggleable__content\"><pre>StackingRegressor(cv=5,\n",
       "                  estimators=[(&#x27;Gradient Boosting&#x27;,\n",
       "                               GradientBoostingRegressor(learning_rate=0.05,\n",
       "                                                         max_depth=8,\n",
       "                                                         n_estimators=1000,\n",
       "                                                         random_state=42)),\n",
       "                              (&#x27;XGBoost&#x27;,\n",
       "                               XGBRegressor(base_score=None, booster=None,\n",
       "                                            callbacks=None,\n",
       "                                            colsample_bylevel=None,\n",
       "                                            colsample_bynode=None,\n",
       "                                            colsample_bytree=0.3,\n",
       "                                            early_stopping_rounds=None,\n",
       "                                            enable_categorical=False,\n",
       "                                            eval_metric=None...\n",
       "                                               gpu_id=None, grow_policy=None,\n",
       "                                               importance_type=None,\n",
       "                                               interaction_constraints=None,\n",
       "                                               learning_rate=0.05, max_bin=None,\n",
       "                                               max_cat_threshold=None,\n",
       "                                               max_cat_to_onehot=None,\n",
       "                                               max_delta_step=None, max_depth=8,\n",
       "                                               max_leaves=None,\n",
       "                                               min_child_weight=None,\n",
       "                                               missing=nan,\n",
       "                                               monotone_constraints=None,\n",
       "                                               n_estimators=100, n_jobs=None,\n",
       "                                               num_parallel_tree=None,\n",
       "                                               predictor=None, random_state=42, ...),\n",
       "                  n_jobs=-1, verbose=1)</pre></div></div></div><div class=\"sk-serial\"><div class=\"sk-item\"><div class=\"sk-parallel\"><div class=\"sk-parallel-item\"><div class=\"sk-item\"><div class=\"sk-label-container\"><div class=\"sk-label sk-toggleable\"><label>Gradient Boosting</label></div></div><div class=\"sk-serial\"><div class=\"sk-item\"><div class=\"sk-estimator sk-toggleable\"><input class=\"sk-toggleable__control sk-hidden--visually\" id=\"sk-estimator-id-2\" type=\"checkbox\" ><label for=\"sk-estimator-id-2\" class=\"sk-toggleable__label sk-toggleable__label-arrow\">GradientBoostingRegressor</label><div class=\"sk-toggleable__content\"><pre>GradientBoostingRegressor(learning_rate=0.05, max_depth=8, n_estimators=1000,\n",
       "                          random_state=42)</pre></div></div></div></div></div></div><div class=\"sk-parallel-item\"><div class=\"sk-item\"><div class=\"sk-label-container\"><div class=\"sk-label sk-toggleable\"><label>XGBoost</label></div></div><div class=\"sk-serial\"><div class=\"sk-item\"><div class=\"sk-estimator sk-toggleable\"><input class=\"sk-toggleable__control sk-hidden--visually\" id=\"sk-estimator-id-3\" type=\"checkbox\" ><label for=\"sk-estimator-id-3\" class=\"sk-toggleable__label sk-toggleable__label-arrow\">XGBRegressor</label><div class=\"sk-toggleable__content\"><pre>XGBRegressor(base_score=None, booster=None, callbacks=None,\n",
       "             colsample_bylevel=None, colsample_bynode=None,\n",
       "             colsample_bytree=0.3, early_stopping_rounds=None,\n",
       "             enable_categorical=False, eval_metric=None, feature_types=None,\n",
       "             gamma=None, gpu_id=None, grow_policy=None, importance_type=None,\n",
       "             interaction_constraints=None, learning_rate=0.05, max_bin=None,\n",
       "             max_cat_threshold=None, max_cat_to_onehot=None,\n",
       "             max_delta_step=None, max_depth=8, max_leaves=None,\n",
       "             min_child_weight=None, missing=nan, monotone_constraints=None,\n",
       "             n_estimators=1000, n_jobs=None, num_parallel_tree=None,\n",
       "             predictor=None, random_state=42, ...)</pre></div></div></div></div></div></div><div class=\"sk-parallel-item\"><div class=\"sk-item\"><div class=\"sk-label-container\"><div class=\"sk-label sk-toggleable\"><label>Lasso</label></div></div><div class=\"sk-serial\"><div class=\"sk-item\"><div class=\"sk-estimator sk-toggleable\"><input class=\"sk-toggleable__control sk-hidden--visually\" id=\"sk-estimator-id-4\" type=\"checkbox\" ><label for=\"sk-estimator-id-4\" class=\"sk-toggleable__label sk-toggleable__label-arrow\">Lasso</label><div class=\"sk-toggleable__content\"><pre>Lasso(alpha=1.438449888287663, max_iter=50000)</pre></div></div></div></div></div></div><div class=\"sk-parallel-item\"><div class=\"sk-item\"><div class=\"sk-label-container\"><div class=\"sk-label sk-toggleable\"><label>Ridge</label></div></div><div class=\"sk-serial\"><div class=\"sk-item\"><div class=\"sk-estimator sk-toggleable\"><input class=\"sk-toggleable__control sk-hidden--visually\" id=\"sk-estimator-id-5\" type=\"checkbox\" ><label for=\"sk-estimator-id-5\" class=\"sk-toggleable__label sk-toggleable__label-arrow\">Ridge</label><div class=\"sk-toggleable__content\"><pre>Ridge(alpha=0.3359818286283781, max_iter=50000)</pre></div></div></div></div></div></div></div></div><div class=\"sk-item\"><div class=\"sk-parallel\"><div class=\"sk-parallel-item\"><div class=\"sk-item\"><div class=\"sk-label-container\"><div class=\"sk-label sk-toggleable\"><label>final_estimator</label></div></div><div class=\"sk-serial\"><div class=\"sk-item\"><div class=\"sk-estimator sk-toggleable\"><input class=\"sk-toggleable__control sk-hidden--visually\" id=\"sk-estimator-id-6\" type=\"checkbox\" ><label for=\"sk-estimator-id-6\" class=\"sk-toggleable__label sk-toggleable__label-arrow\">XGBRegressor</label><div class=\"sk-toggleable__content\"><pre>XGBRegressor(base_score=None, booster=None, callbacks=None,\n",
       "             colsample_bylevel=None, colsample_bynode=None,\n",
       "             colsample_bytree=None, early_stopping_rounds=None,\n",
       "             enable_categorical=False, eval_metric=None, feature_types=None,\n",
       "             gamma=None, gpu_id=None, grow_policy=None, importance_type=None,\n",
       "             interaction_constraints=None, learning_rate=0.05, max_bin=None,\n",
       "             max_cat_threshold=None, max_cat_to_onehot=None,\n",
       "             max_delta_step=None, max_depth=8, max_leaves=None,\n",
       "             min_child_weight=None, missing=nan, monotone_constraints=None,\n",
       "             n_estimators=100, n_jobs=None, num_parallel_tree=None,\n",
       "             predictor=None, random_state=42, ...)</pre></div></div></div></div></div></div></div></div></div></div></div></div>"
      ],
      "text/plain": [
       "StackingRegressor(cv=5,\n",
       "                  estimators=[('Gradient Boosting',\n",
       "                               GradientBoostingRegressor(learning_rate=0.05,\n",
       "                                                         max_depth=8,\n",
       "                                                         n_estimators=1000,\n",
       "                                                         random_state=42)),\n",
       "                              ('XGBoost',\n",
       "                               XGBRegressor(base_score=None, booster=None,\n",
       "                                            callbacks=None,\n",
       "                                            colsample_bylevel=None,\n",
       "                                            colsample_bynode=None,\n",
       "                                            colsample_bytree=0.3,\n",
       "                                            early_stopping_rounds=None,\n",
       "                                            enable_categorical=False,\n",
       "                                            eval_metric=None...\n",
       "                                               gpu_id=None, grow_policy=None,\n",
       "                                               importance_type=None,\n",
       "                                               interaction_constraints=None,\n",
       "                                               learning_rate=0.05, max_bin=None,\n",
       "                                               max_cat_threshold=None,\n",
       "                                               max_cat_to_onehot=None,\n",
       "                                               max_delta_step=None, max_depth=8,\n",
       "                                               max_leaves=None,\n",
       "                                               min_child_weight=None,\n",
       "                                               missing=nan,\n",
       "                                               monotone_constraints=None,\n",
       "                                               n_estimators=100, n_jobs=None,\n",
       "                                               num_parallel_tree=None,\n",
       "                                               predictor=None, random_state=42, ...),\n",
       "                  n_jobs=-1, verbose=1)"
      ]
     },
     "execution_count": 14,
     "metadata": {},
     "output_type": "execute_result"
    }
   ],
   "source": [
    "sr.fit(x_train, y_train)"
   ]
  },
  {
   "cell_type": "code",
   "execution_count": 15,
   "metadata": {},
   "outputs": [
    {
     "name": "stdout",
     "output_type": "stream",
     "text": [
      "Train MSE: 1324033.8824666569\n",
      "Train RMSE: 1150.6667121571984\n",
      "Train MAE: 838.2035407354701\n",
      "Train MAPE: 0.03304946915529707\n"
     ]
    }
   ],
   "source": [
    "from sklearn.metrics import mean_squared_error, mean_absolute_error, mean_absolute_percentage_error\n",
    "train_predict = sr.predict(x_train)\n",
    "print(\"Train MSE:\", mean_squared_error(y_train, train_predict))\n",
    "print(\"Train RMSE:\", mean_squared_error(y_train, train_predict, squared=False))\n",
    "print(\"Train MAE:\", mean_absolute_error(y_train, train_predict))\n",
    "print(\"Train MAPE:\", mean_absolute_percentage_error(y_train, train_predict))"
   ]
  },
  {
   "cell_type": "markdown",
   "metadata": {},
   "source": [
    "### Evaluate testing set"
   ]
  },
  {
   "cell_type": "code",
   "execution_count": 16,
   "metadata": {},
   "outputs": [
    {
     "name": "stdout",
     "output_type": "stream",
     "text": [
      "Test MSE: 37169767.28588164\n",
      "Test RMSE: 6096.701344652011\n",
      "Test MAE: 4727.159698923185\n",
      "Test MAPE: 0.23419242569364762\n"
     ]
    }
   ],
   "source": [
    "y_pred = sr.predict(x_test)\n",
    "print(\"Test MSE:\", mean_squared_error(y_test, y_pred))\n",
    "print(\"Test RMSE:\", mean_squared_error(y_test, y_pred, squared=False))\n",
    "print(\"Test MAE:\", mean_absolute_error(y_test, y_pred))\n",
    "print(\"Test MAPE:\", mean_absolute_percentage_error(y_test, y_pred))"
   ]
  },
  {
   "cell_type": "code",
   "execution_count": 17,
   "metadata": {},
   "outputs": [
    {
     "data": {
      "text/plain": [
       "<seaborn.axisgrid.FacetGrid at 0x1e8887f9f10>"
      ]
     },
     "execution_count": 17,
     "metadata": {},
     "output_type": "execute_result"
    },
    {
     "data": {
      "image/png": "[encoded data removed]",
      "text/plain": [
       "<Figure size 500x500 with 1 Axes>"
      ]
     },
     "metadata": {},
     "output_type": "display_data"
    }
   ],
   "source": [
    "import seaborn as sns\n",
    "sns.displot(y_test - y_pred)"
   ]
  },
  {
   "cell_type": "code",
   "execution_count": 20,
   "metadata": {},
   "outputs": [
    {
     "data": {
      "text/plain": [
       "Text(0, 0.5, 'Predicted Audience')"
      ]
     },
     "execution_count": 20,
     "metadata": {},
     "output_type": "execute_result"
    },
    {
     "data": {
      "image/png": "[encoded data removed]",
      "text/plain": [
       "<Figure size 1850x1050 with 1 Axes>"
      ]
     },
     "metadata": {},
     "output_type": "display_data"
    }
   ],
   "source": [
    "import matplotlib.pyplot as plt\n",
    "sns.set_style('ticks')\n",
    "fig, ax = plt.subplots()\n",
    "fig.set_size_inches(18.5, 10.5)\n",
    "sns.regplot(x=y_test, y=y_pred, ax=ax, line_kws={'color': 'red'})\n",
    "plt.xlabel(\"Actual Audience\")\n",
    "plt.ylabel(\"Predicted Audience\")"
   ]
  },
  {
   "cell_type": "code",
   "execution_count": 23,
   "metadata": {},
   "outputs": [],
   "source": [
    "import pickle\n",
    "from datetime import datetime\n",
    "time = datetime.today().strftime('%Y%m%d_%H%M%S')\n",
    "filename = f'./model/stacking_model_{time}.sav'\n",
    "pickle.dump(sr, open(filename, 'wb'))"
   ]
  },
  {
   "cell_type": "markdown",
   "metadata": {},
   "source": [
    "## Conclusion"
   ]
  },
  {
   "cell_type": "markdown",
   "metadata": {},
   "source": []
  },
  {
   "cell_type": "code",
   "execution_count": null,
   "metadata": {},
   "outputs": [],
   "source": []
  }
 ],
 "metadata": {
  "kernelspec": {
   "display_name": "Python 3",
   "language": "python",
   "name": "python3"
  },
  "language_info": {
   "codemirror_mode": {
    "name": "ipython",
    "version": 3
   },
   "file_extension": ".py",
   "mimetype": "text/x-python",
   "name": "python",
   "nbconvert_exporter": "python",
   "pygments_lexer": "ipython3",
   "version": "3.9.13"
  },
  "orig_nbformat": 4,
  "vscode": {
   "interpreter": {
    "hash": "640829cba0c996ec1edfe38112f06d06ccbb529c69ad00e2e287bb19236004a2"
   }
  }
 },
 "nbformat": 4,
 "nbformat_minor": 2
}
