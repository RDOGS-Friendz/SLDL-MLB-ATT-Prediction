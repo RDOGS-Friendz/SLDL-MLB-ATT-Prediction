{
 "cells": [
  {
   "cell_type": "markdown",
   "metadata": {},
   "source": [
    "# lasso"
   ]
  },
  {
   "cell_type": "code",
   "execution_count": 1,
   "metadata": {},
   "outputs": [],
   "source": [
    "import pandas as pd\n",
    "import numpy as np\n",
    "from sklearn.linear_model import Lasso"
   ]
  },
  {
   "cell_type": "markdown",
   "metadata": {},
   "source": [
    "## Read dataset"
   ]
  },
  {
   "cell_type": "code",
   "execution_count": 2,
   "metadata": {},
   "outputs": [
    {
     "data": {
      "text/html": [
       "<div>\n",
       "<style scoped>\n",
       "    .dataframe tbody tr th:only-of-type {\n",
       "        vertical-align: middle;\n",
       "    }\n",
       "\n",
       "    .dataframe tbody tr th {\n",
       "        vertical-align: top;\n",
       "    }\n",
       "\n",
       "    .dataframe thead th {\n",
       "        text-align: right;\n",
       "    }\n",
       "</style>\n",
       "<table border=\"1\" class=\"dataframe\">\n",
       "  <thead>\n",
       "    <tr style=\"text-align: right;\">\n",
       "      <th></th>\n",
       "      <th>attendance</th>\n",
       "      <th>is_federal_holiday</th>\n",
       "      <th>venue</th>\n",
       "      <th>on_grass</th>\n",
       "      <th>temperature</th>\n",
       "      <th>wind_speed</th>\n",
       "      <th>team1_name</th>\n",
       "      <th>team1_pre_win</th>\n",
       "      <th>team1_pre_loss</th>\n",
       "      <th>team1_pre_win_pct</th>\n",
       "      <th>...</th>\n",
       "      <th>start_hour</th>\n",
       "      <th>start_hour_label_afternoon</th>\n",
       "      <th>start_hour_label_evening</th>\n",
       "      <th>start_hour_label_night</th>\n",
       "      <th>start_hour_label_noon</th>\n",
       "      <th>game_page_url</th>\n",
       "      <th>start_time</th>\n",
       "      <th>previous_5_to_10MA</th>\n",
       "      <th>lle1</th>\n",
       "      <th>lle2</th>\n",
       "    </tr>\n",
       "  </thead>\n",
       "  <tbody>\n",
       "    <tr>\n",
       "      <th>0</th>\n",
       "      <td>35055</td>\n",
       "      <td>0</td>\n",
       "      <td>Wrigley Field</td>\n",
       "      <td>1</td>\n",
       "      <td>-2.786672</td>\n",
       "      <td>-0.093090</td>\n",
       "      <td>STL</td>\n",
       "      <td>-1.62645</td>\n",
       "      <td>-1.654514</td>\n",
       "      <td>0.0</td>\n",
       "      <td>...</td>\n",
       "      <td>19</td>\n",
       "      <td>0</td>\n",
       "      <td>1</td>\n",
       "      <td>0</td>\n",
       "      <td>0</td>\n",
       "      <td>https://www.baseball-reference.com/boxes/CHN/C...</td>\n",
       "      <td>2015-04-05 19:17:00</td>\n",
       "      <td>32742.135802</td>\n",
       "      <td>0.007683</td>\n",
       "      <td>0.000329</td>\n",
       "    </tr>\n",
       "    <tr>\n",
       "      <th>1</th>\n",
       "      <td>45030</td>\n",
       "      <td>0</td>\n",
       "      <td>Comerica Park</td>\n",
       "      <td>1</td>\n",
       "      <td>-2.031671</td>\n",
       "      <td>-0.489072</td>\n",
       "      <td>MIN</td>\n",
       "      <td>-1.62645</td>\n",
       "      <td>-1.654514</td>\n",
       "      <td>0.0</td>\n",
       "      <td>...</td>\n",
       "      <td>13</td>\n",
       "      <td>0</td>\n",
       "      <td>0</td>\n",
       "      <td>0</td>\n",
       "      <td>1</td>\n",
       "      <td>https://www.baseball-reference.com/boxes/DET/D...</td>\n",
       "      <td>2015-04-06 13:08:00</td>\n",
       "      <td>36014.925926</td>\n",
       "      <td>0.008566</td>\n",
       "      <td>0.006095</td>\n",
       "    </tr>\n",
       "    <tr>\n",
       "      <th>2</th>\n",
       "      <td>45909</td>\n",
       "      <td>0</td>\n",
       "      <td>Safeco Field</td>\n",
       "      <td>1</td>\n",
       "      <td>-1.842921</td>\n",
       "      <td>-1.281036</td>\n",
       "      <td>LAA</td>\n",
       "      <td>-1.62645</td>\n",
       "      <td>-1.654514</td>\n",
       "      <td>0.0</td>\n",
       "      <td>...</td>\n",
       "      <td>13</td>\n",
       "      <td>0</td>\n",
       "      <td>0</td>\n",
       "      <td>0</td>\n",
       "      <td>1</td>\n",
       "      <td>https://www.baseball-reference.com/boxes/SEA/S...</td>\n",
       "      <td>2015-04-06 13:12:00</td>\n",
       "      <td>25485.604938</td>\n",
       "      <td>0.003695</td>\n",
       "      <td>0.009393</td>\n",
       "    </tr>\n",
       "    <tr>\n",
       "      <th>3</th>\n",
       "      <td>53518</td>\n",
       "      <td>0</td>\n",
       "      <td>Dodger Stadium</td>\n",
       "      <td>1</td>\n",
       "      <td>-0.804795</td>\n",
       "      <td>-1.281036</td>\n",
       "      <td>SDP</td>\n",
       "      <td>-1.62645</td>\n",
       "      <td>-1.654514</td>\n",
       "      <td>0.0</td>\n",
       "      <td>...</td>\n",
       "      <td>13</td>\n",
       "      <td>0</td>\n",
       "      <td>0</td>\n",
       "      <td>0</td>\n",
       "      <td>1</td>\n",
       "      <td>https://www.baseball-reference.com/boxes/LAN/L...</td>\n",
       "      <td>2015-04-06 13:12:00</td>\n",
       "      <td>46695.518519</td>\n",
       "      <td>0.007517</td>\n",
       "      <td>0.002310</td>\n",
       "    </tr>\n",
       "    <tr>\n",
       "      <th>4</th>\n",
       "      <td>48469</td>\n",
       "      <td>0</td>\n",
       "      <td>Yankee Stadium III</td>\n",
       "      <td>1</td>\n",
       "      <td>-1.842921</td>\n",
       "      <td>-0.489072</td>\n",
       "      <td>TOR</td>\n",
       "      <td>-1.62645</td>\n",
       "      <td>-1.654514</td>\n",
       "      <td>0.0</td>\n",
       "      <td>...</td>\n",
       "      <td>13</td>\n",
       "      <td>0</td>\n",
       "      <td>0</td>\n",
       "      <td>0</td>\n",
       "      <td>1</td>\n",
       "      <td>https://www.baseball-reference.com/boxes/NYA/N...</td>\n",
       "      <td>2015-04-06 13:13:00</td>\n",
       "      <td>42520.300000</td>\n",
       "      <td>0.006798</td>\n",
       "      <td>-0.005155</td>\n",
       "    </tr>\n",
       "  </tbody>\n",
       "</table>\n",
       "<p>5 rows × 54 columns</p>\n",
       "</div>"
      ],
      "text/plain": [
       "   attendance  is_federal_holiday               venue  on_grass  temperature  \\\n",
       "0       35055                   0       Wrigley Field         1    -2.786672   \n",
       "1       45030                   0       Comerica Park         1    -2.031671   \n",
       "2       45909                   0        Safeco Field         1    -1.842921   \n",
       "3       53518                   0      Dodger Stadium         1    -0.804795   \n",
       "4       48469                   0  Yankee Stadium III         1    -1.842921   \n",
       "\n",
       "   wind_speed team1_name  team1_pre_win  team1_pre_loss  team1_pre_win_pct  \\\n",
       "0   -0.093090        STL       -1.62645       -1.654514                0.0   \n",
       "1   -0.489072        MIN       -1.62645       -1.654514                0.0   \n",
       "2   -1.281036        LAA       -1.62645       -1.654514                0.0   \n",
       "3   -1.281036        SDP       -1.62645       -1.654514                0.0   \n",
       "4   -0.489072        TOR       -1.62645       -1.654514                0.0   \n",
       "\n",
       "   ...  start_hour start_hour_label_afternoon  start_hour_label_evening  \\\n",
       "0  ...          19                          0                         1   \n",
       "1  ...          13                          0                         0   \n",
       "2  ...          13                          0                         0   \n",
       "3  ...          13                          0                         0   \n",
       "4  ...          13                          0                         0   \n",
       "\n",
       "   start_hour_label_night  start_hour_label_noon  \\\n",
       "0                       0                      0   \n",
       "1                       0                      1   \n",
       "2                       0                      1   \n",
       "3                       0                      1   \n",
       "4                       0                      1   \n",
       "\n",
       "                                       game_page_url           start_time  \\\n",
       "0  https://www.baseball-reference.com/boxes/CHN/C...  2015-04-05 19:17:00   \n",
       "1  https://www.baseball-reference.com/boxes/DET/D...  2015-04-06 13:08:00   \n",
       "2  https://www.baseball-reference.com/boxes/SEA/S...  2015-04-06 13:12:00   \n",
       "3  https://www.baseball-reference.com/boxes/LAN/L...  2015-04-06 13:12:00   \n",
       "4  https://www.baseball-reference.com/boxes/NYA/N...  2015-04-06 13:13:00   \n",
       "\n",
       "   previous_5_to_10MA      lle1      lle2  \n",
       "0        32742.135802  0.007683  0.000329  \n",
       "1        36014.925926  0.008566  0.006095  \n",
       "2        25485.604938  0.003695  0.009393  \n",
       "3        46695.518519  0.007517  0.002310  \n",
       "4        42520.300000  0.006798 -0.005155  \n",
       "\n",
       "[5 rows x 54 columns]"
      ]
     },
     "execution_count": 2,
     "metadata": {},
     "output_type": "execute_result"
    }
   ],
   "source": [
    "data_train = pd.read_csv('trainset_w_lle.csv')\n",
    "data_test = pd.read_csv('testset_w_lle.csv')\n",
    "data_train.head()"
   ]
  },
  {
   "cell_type": "code",
   "execution_count": 3,
   "metadata": {},
   "outputs": [
    {
     "data": {
      "text/plain": [
       "Index(['attendance', 'is_federal_holiday', 'venue', 'on_grass', 'temperature',\n",
       "       'wind_speed', 'team1_name', 'team1_pre_win', 'team1_pre_loss',\n",
       "       'team1_pre_win_pct', 'team1_streak', 'team2_name', 'team2_pre_win',\n",
       "       'team2_pre_loss', 'team2_pre_win_pct', 'team2_streak', 'salary-500-800',\n",
       "       'salary-800-1500', 'salary-1500', 'day_Friday', 'day_Monday',\n",
       "       'day_Saturday', 'day_Sunday', 'day_Thursday', 'day_Tuesday',\n",
       "       'day_Wednesday', 'month_April', 'month_August', 'month_July',\n",
       "       'month_June', 'month_March', 'month_May', 'month_November',\n",
       "       'month_October', 'month_September', 'weather_Cloudy', 'weather_Drizzle',\n",
       "       'weather_In Dome', 'weather_Overcast', 'weather_Rain', 'weather_Sunny',\n",
       "       'season_type', 'season', 'home_team_avg_att_last_year', 'start_hour',\n",
       "       'start_hour_label_afternoon', 'start_hour_label_evening',\n",
       "       'start_hour_label_night', 'start_hour_label_noon', 'game_page_url',\n",
       "       'start_time', 'previous_5_to_10MA', 'lle1', 'lle2'],\n",
       "      dtype='object')"
      ]
     },
     "execution_count": 3,
     "metadata": {},
     "output_type": "execute_result"
    }
   ],
   "source": [
    "data_train.columns"
   ]
  },
  {
   "cell_type": "code",
   "execution_count": 4,
   "metadata": {},
   "outputs": [],
   "source": [
    "from sklearn.preprocessing import StandardScaler\n",
    "# standardize\n",
    "number_col = ['previous_5_to_10MA']\n",
    "\n",
    "# Standardize features by removing the mean and scaling to unit variance.\n",
    "xscaler = StandardScaler().fit(data_train[number_col])\n",
    "#standardize feature values\n",
    "data_train[number_col] = xscaler.transform(data_train[number_col])\n",
    "data_test[number_col] = xscaler.transform(data_test[number_col])"
   ]
  },
  {
   "cell_type": "code",
   "execution_count": 5,
   "metadata": {},
   "outputs": [],
   "source": [
    "data_train.drop(['venue', 'start_hour', 'start_time', 'game_page_url'], axis=1, inplace=True)\n",
    "data_test.drop(['venue', 'start_hour', 'start_time', 'game_page_url'], axis=1, inplace=True)"
   ]
  },
  {
   "cell_type": "code",
   "execution_count": 6,
   "metadata": {},
   "outputs": [],
   "source": [
    "data_train = pd.get_dummies(data_train, columns=['team1_name', 'team2_name', 'season_type'])\n",
    "data_test = pd.get_dummies(data_test, columns=['team1_name', 'team2_name', 'season_type'])"
   ]
  },
  {
   "cell_type": "code",
   "execution_count": 7,
   "metadata": {},
   "outputs": [],
   "source": [
    "train_cols = data_train.columns.tolist()\n",
    "data_test = data_test[train_cols].copy()"
   ]
  },
  {
   "cell_type": "code",
   "execution_count": 8,
   "metadata": {},
   "outputs": [
    {
     "name": "stdout",
     "output_type": "stream",
     "text": [
      "set()\n",
      "set()\n"
     ]
    }
   ],
   "source": [
    "print(set(data_train.columns) - set(data_test.columns))\n",
    "print(set(data_test.columns) - set(data_train.columns))"
   ]
  },
  {
   "cell_type": "code",
   "execution_count": 9,
   "metadata": {},
   "outputs": [
    {
     "data": {
      "text/plain": [
       "Index(['attendance', 'is_federal_holiday', 'on_grass', 'temperature',\n",
       "       'wind_speed', 'team1_pre_win', 'team1_pre_loss', 'team1_pre_win_pct',\n",
       "       'team1_streak', 'team2_pre_win',\n",
       "       ...\n",
       "       'team2_name_SDP', 'team2_name_SEA', 'team2_name_SFG', 'team2_name_STL',\n",
       "       'team2_name_TBR', 'team2_name_TEX', 'team2_name_TOR', 'team2_name_WSN',\n",
       "       'season_type_post', 'season_type_regular'],\n",
       "      dtype='object', length=109)"
      ]
     },
     "execution_count": 9,
     "metadata": {},
     "output_type": "execute_result"
    }
   ],
   "source": [
    "data_train.columns"
   ]
  },
  {
   "cell_type": "code",
   "execution_count": 10,
   "metadata": {},
   "outputs": [],
   "source": [
    "from sklearn.utils import shuffle\n",
    "data_train = shuffle(data_train)"
   ]
  },
  {
   "cell_type": "code",
   "execution_count": 11,
   "metadata": {},
   "outputs": [
    {
     "name": "stdout",
     "output_type": "stream",
     "text": [
      "(12270, 108)\n"
     ]
    }
   ],
   "source": [
    "y_train = data_train['attendance'].to_numpy()\n",
    "y_test = data_test['attendance'].to_numpy()\n",
    "\n",
    "data_train.drop(['attendance'], axis=1, inplace=True)\n",
    "data_test.drop(['attendance'], axis=1, inplace=True)\n",
    "\n",
    "x_train = data_train.to_numpy()\n",
    "x_test = data_test.to_numpy()\n",
    "\n",
    "print(x_train.shape)"
   ]
  },
  {
   "cell_type": "markdown",
   "metadata": {},
   "source": [
    "## kfold"
   ]
  },
  {
   "cell_type": "code",
   "execution_count": 12,
   "metadata": {},
   "outputs": [],
   "source": [
    "from sklearn.model_selection import GridSearchCV"
   ]
  },
  {
   "cell_type": "code",
   "execution_count": 13,
   "metadata": {},
   "outputs": [
    {
     "name": "stdout",
     "output_type": "stream",
     "text": [
      "[1.00000000e-03 2.06913808e-03 4.28133240e-03 8.85866790e-03\n",
      " 1.83298071e-02 3.79269019e-02 7.84759970e-02 1.62377674e-01\n",
      " 3.35981829e-01 6.95192796e-01 1.43844989e+00 2.97635144e+00\n",
      " 6.15848211e+00 1.27427499e+01 2.63665090e+01 5.45559478e+01\n",
      " 1.12883789e+02 2.33572147e+02 4.83293024e+02 1.00000000e+03]\n"
     ]
    }
   ],
   "source": [
    "# use grid search to find the best alpha\n",
    "alphas = np.logspace(-3, 3, 20)\n",
    "print(alphas)"
   ]
  },
  {
   "cell_type": "code",
   "execution_count": 15,
   "metadata": {},
   "outputs": [],
   "source": [
    "import warnings\n",
    "warnings.filterwarnings(\"ignore\")"
   ]
  },
  {
   "cell_type": "code",
   "execution_count": 16,
   "metadata": {},
   "outputs": [
    {
     "data": {
      "text/html": [
       "<style>#sk-container-id-1 {color: black;background-color: white;}#sk-container-id-1 pre{padding: 0;}#sk-container-id-1 div.sk-toggleable {background-color: white;}#sk-container-id-1 label.sk-toggleable__label {cursor: pointer;display: block;width: 100%;margin-bottom: 0;padding: 0.3em;box-sizing: border-box;text-align: center;}#sk-container-id-1 label.sk-toggleable__label-arrow:before {content: \"▸\";float: left;margin-right: 0.25em;color: #696969;}#sk-container-id-1 label.sk-toggleable__label-arrow:hover:before {color: black;}#sk-container-id-1 div.sk-estimator:hover label.sk-toggleable__label-arrow:before {color: black;}#sk-container-id-1 div.sk-toggleable__content {max-height: 0;max-width: 0;overflow: hidden;text-align: left;background-color: #f0f8ff;}#sk-container-id-1 div.sk-toggleable__content pre {margin: 0.2em;color: black;border-radius: 0.25em;background-color: #f0f8ff;}#sk-container-id-1 input.sk-toggleable__control:checked~div.sk-toggleable__content {max-height: 200px;max-width: 100%;overflow: auto;}#sk-container-id-1 input.sk-toggleable__control:checked~label.sk-toggleable__label-arrow:before {content: \"▾\";}#sk-container-id-1 div.sk-estimator input.sk-toggleable__control:checked~label.sk-toggleable__label {background-color: #d4ebff;}#sk-container-id-1 div.sk-label input.sk-toggleable__control:checked~label.sk-toggleable__label {background-color: #d4ebff;}#sk-container-id-1 input.sk-hidden--visually {border: 0;clip: rect(1px 1px 1px 1px);clip: rect(1px, 1px, 1px, 1px);height: 1px;margin: -1px;overflow: hidden;padding: 0;position: absolute;width: 1px;}#sk-container-id-1 div.sk-estimator {font-family: monospace;background-color: #f0f8ff;border: 1px dotted black;border-radius: 0.25em;box-sizing: border-box;margin-bottom: 0.5em;}#sk-container-id-1 div.sk-estimator:hover {background-color: #d4ebff;}#sk-container-id-1 div.sk-parallel-item::after {content: \"\";width: 100%;border-bottom: 1px solid gray;flex-grow: 1;}#sk-container-id-1 div.sk-label:hover label.sk-toggleable__label {background-color: #d4ebff;}#sk-container-id-1 div.sk-serial::before {content: \"\";position: absolute;border-left: 1px solid gray;box-sizing: border-box;top: 0;bottom: 0;left: 50%;z-index: 0;}#sk-container-id-1 div.sk-serial {display: flex;flex-direction: column;align-items: center;background-color: white;padding-right: 0.2em;padding-left: 0.2em;position: relative;}#sk-container-id-1 div.sk-item {position: relative;z-index: 1;}#sk-container-id-1 div.sk-parallel {display: flex;align-items: stretch;justify-content: center;background-color: white;position: relative;}#sk-container-id-1 div.sk-item::before, #sk-container-id-1 div.sk-parallel-item::before {content: \"\";position: absolute;border-left: 1px solid gray;box-sizing: border-box;top: 0;bottom: 0;left: 50%;z-index: -1;}#sk-container-id-1 div.sk-parallel-item {display: flex;flex-direction: column;z-index: 1;position: relative;background-color: white;}#sk-container-id-1 div.sk-parallel-item:first-child::after {align-self: flex-end;width: 50%;}#sk-container-id-1 div.sk-parallel-item:last-child::after {align-self: flex-start;width: 50%;}#sk-container-id-1 div.sk-parallel-item:only-child::after {width: 0;}#sk-container-id-1 div.sk-dashed-wrapped {border: 1px dashed gray;margin: 0 0.4em 0.5em 0.4em;box-sizing: border-box;padding-bottom: 0.4em;background-color: white;}#sk-container-id-1 div.sk-label label {font-family: monospace;font-weight: bold;display: inline-block;line-height: 1.2em;}#sk-container-id-1 div.sk-label-container {text-align: center;}#sk-container-id-1 div.sk-container {/* jupyter's `normalize.less` sets `[hidden] { display: none; }` but bootstrap.min.css set `[hidden] { display: none !important; }` so we also need the `!important` here to be able to override the default hidden behavior on the sphinx rendered scikit-learn.org. See: https://github.com/scikit-learn/scikit-learn/issues/21755 */display: inline-block !important;position: relative;}#sk-container-id-1 div.sk-text-repr-fallback {display: none;}</style><div id=\"sk-container-id-1\" class=\"sk-top-container\"><div class=\"sk-text-repr-fallback\"><pre>GridSearchCV(cv=5, estimator=Lasso(max_iter=50000),\n",
       "             param_grid={&#x27;alpha&#x27;: array([1.00000000e-03, 2.06913808e-03, 4.28133240e-03, 8.85866790e-03,\n",
       "       1.83298071e-02, 3.79269019e-02, 7.84759970e-02, 1.62377674e-01,\n",
       "       3.35981829e-01, 6.95192796e-01, 1.43844989e+00, 2.97635144e+00,\n",
       "       6.15848211e+00, 1.27427499e+01, 2.63665090e+01, 5.45559478e+01,\n",
       "       1.12883789e+02, 2.33572147e+02, 4.83293024e+02, 1.00000000e+03])},\n",
       "             refit=&#x27;neg_root_mean_squared_error&#x27;,\n",
       "             scoring=[&#x27;neg_mean_squared_error&#x27;, &#x27;neg_root_mean_squared_error&#x27;,\n",
       "                      &#x27;neg_mean_absolute_error&#x27;,\n",
       "                      &#x27;neg_mean_absolute_percentage_error&#x27;])</pre><b>In a Jupyter environment, please rerun this cell to show the HTML representation or trust the notebook. <br />On GitHub, the HTML representation is unable to render, please try loading this page with nbviewer.org.</b></div><div class=\"sk-container\" hidden><div class=\"sk-item sk-dashed-wrapped\"><div class=\"sk-label-container\"><div class=\"sk-label sk-toggleable\"><input class=\"sk-toggleable__control sk-hidden--visually\" id=\"sk-estimator-id-1\" type=\"checkbox\" ><label for=\"sk-estimator-id-1\" class=\"sk-toggleable__label sk-toggleable__label-arrow\">GridSearchCV</label><div class=\"sk-toggleable__content\"><pre>GridSearchCV(cv=5, estimator=Lasso(max_iter=50000),\n",
       "             param_grid={&#x27;alpha&#x27;: array([1.00000000e-03, 2.06913808e-03, 4.28133240e-03, 8.85866790e-03,\n",
       "       1.83298071e-02, 3.79269019e-02, 7.84759970e-02, 1.62377674e-01,\n",
       "       3.35981829e-01, 6.95192796e-01, 1.43844989e+00, 2.97635144e+00,\n",
       "       6.15848211e+00, 1.27427499e+01, 2.63665090e+01, 5.45559478e+01,\n",
       "       1.12883789e+02, 2.33572147e+02, 4.83293024e+02, 1.00000000e+03])},\n",
       "             refit=&#x27;neg_root_mean_squared_error&#x27;,\n",
       "             scoring=[&#x27;neg_mean_squared_error&#x27;, &#x27;neg_root_mean_squared_error&#x27;,\n",
       "                      &#x27;neg_mean_absolute_error&#x27;,\n",
       "                      &#x27;neg_mean_absolute_percentage_error&#x27;])</pre></div></div></div><div class=\"sk-parallel\"><div class=\"sk-parallel-item\"><div class=\"sk-item\"><div class=\"sk-label-container\"><div class=\"sk-label sk-toggleable\"><input class=\"sk-toggleable__control sk-hidden--visually\" id=\"sk-estimator-id-2\" type=\"checkbox\" ><label for=\"sk-estimator-id-2\" class=\"sk-toggleable__label sk-toggleable__label-arrow\">estimator: Lasso</label><div class=\"sk-toggleable__content\"><pre>Lasso(max_iter=50000)</pre></div></div></div><div class=\"sk-serial\"><div class=\"sk-item\"><div class=\"sk-estimator sk-toggleable\"><input class=\"sk-toggleable__control sk-hidden--visually\" id=\"sk-estimator-id-3\" type=\"checkbox\" ><label for=\"sk-estimator-id-3\" class=\"sk-toggleable__label sk-toggleable__label-arrow\">Lasso</label><div class=\"sk-toggleable__content\"><pre>Lasso(max_iter=50000)</pre></div></div></div></div></div></div></div></div></div></div>"
      ],
      "text/plain": [
       "GridSearchCV(cv=5, estimator=Lasso(max_iter=50000),\n",
       "             param_grid={'alpha': array([1.00000000e-03, 2.06913808e-03, 4.28133240e-03, 8.85866790e-03,\n",
       "       1.83298071e-02, 3.79269019e-02, 7.84759970e-02, 1.62377674e-01,\n",
       "       3.35981829e-01, 6.95192796e-01, 1.43844989e+00, 2.97635144e+00,\n",
       "       6.15848211e+00, 1.27427499e+01, 2.63665090e+01, 5.45559478e+01,\n",
       "       1.12883789e+02, 2.33572147e+02, 4.83293024e+02, 1.00000000e+03])},\n",
       "             refit='neg_root_mean_squared_error',\n",
       "             scoring=['neg_mean_squared_error', 'neg_root_mean_squared_error',\n",
       "                      'neg_mean_absolute_error',\n",
       "                      'neg_mean_absolute_percentage_error'])"
      ]
     },
     "execution_count": 16,
     "metadata": {},
     "output_type": "execute_result"
    }
   ],
   "source": [
    "scoring = ['neg_mean_squared_error', 'neg_root_mean_squared_error', 'neg_mean_absolute_error', 'neg_mean_absolute_percentage_error']\n",
    "model = Lasso(max_iter=50000)\n",
    "clf = GridSearchCV(estimator=model, param_grid=dict(alpha=alphas), cv=5, scoring=scoring, refit='neg_root_mean_squared_error')\n",
    "clf.fit(x_train, y_train)"
   ]
  },
  {
   "cell_type": "code",
   "execution_count": 17,
   "metadata": {},
   "outputs": [
    {
     "name": "stdout",
     "output_type": "stream",
     "text": [
      "Best estimators: Lasso(alpha=1.438449888287663, max_iter=50000)\n",
      "Best parameters: {'alpha': 1.438449888287663}\n"
     ]
    }
   ],
   "source": [
    "print(\"Best estimators:\", clf.best_estimator_)\n",
    "print(\"Best parameters:\", clf.best_params_)"
   ]
  },
  {
   "cell_type": "code",
   "execution_count": 18,
   "metadata": {},
   "outputs": [
    {
     "data": {
      "text/html": [
       "<div>\n",
       "<style scoped>\n",
       "    .dataframe tbody tr th:only-of-type {\n",
       "        vertical-align: middle;\n",
       "    }\n",
       "\n",
       "    .dataframe tbody tr th {\n",
       "        vertical-align: top;\n",
       "    }\n",
       "\n",
       "    .dataframe thead th {\n",
       "        text-align: right;\n",
       "    }\n",
       "</style>\n",
       "<table border=\"1\" class=\"dataframe\">\n",
       "  <thead>\n",
       "    <tr style=\"text-align: right;\">\n",
       "      <th></th>\n",
       "      <th>mean_fit_time</th>\n",
       "      <th>std_fit_time</th>\n",
       "      <th>mean_score_time</th>\n",
       "      <th>std_score_time</th>\n",
       "      <th>param_alpha</th>\n",
       "      <th>params</th>\n",
       "      <th>split0_test_neg_mean_squared_error</th>\n",
       "      <th>split1_test_neg_mean_squared_error</th>\n",
       "      <th>split2_test_neg_mean_squared_error</th>\n",
       "      <th>split3_test_neg_mean_squared_error</th>\n",
       "      <th>...</th>\n",
       "      <th>std_test_neg_mean_absolute_error</th>\n",
       "      <th>rank_test_neg_mean_absolute_error</th>\n",
       "      <th>split0_test_neg_mean_absolute_percentage_error</th>\n",
       "      <th>split1_test_neg_mean_absolute_percentage_error</th>\n",
       "      <th>split2_test_neg_mean_absolute_percentage_error</th>\n",
       "      <th>split3_test_neg_mean_absolute_percentage_error</th>\n",
       "      <th>split4_test_neg_mean_absolute_percentage_error</th>\n",
       "      <th>mean_test_neg_mean_absolute_percentage_error</th>\n",
       "      <th>std_test_neg_mean_absolute_percentage_error</th>\n",
       "      <th>rank_test_neg_mean_absolute_percentage_error</th>\n",
       "    </tr>\n",
       "  </thead>\n",
       "  <tbody>\n",
       "    <tr>\n",
       "      <th>0</th>\n",
       "      <td>58.227916</td>\n",
       "      <td>2.243695</td>\n",
       "      <td>0.001326</td>\n",
       "      <td>0.000417</td>\n",
       "      <td>0.001</td>\n",
       "      <td>{'alpha': 0.001}</td>\n",
       "      <td>-2.629589e+07</td>\n",
       "      <td>-2.788178e+07</td>\n",
       "      <td>-2.728938e+07</td>\n",
       "      <td>-2.645784e+07</td>\n",
       "      <td>...</td>\n",
       "      <td>48.467645</td>\n",
       "      <td>11</td>\n",
       "      <td>-0.162984</td>\n",
       "      <td>-0.16282</td>\n",
       "      <td>-0.160831</td>\n",
       "      <td>-0.160847</td>\n",
       "      <td>-0.152209</td>\n",
       "      <td>-0.159938</td>\n",
       "      <td>0.003974</td>\n",
       "      <td>1</td>\n",
       "    </tr>\n",
       "    <tr>\n",
       "      <th>1</th>\n",
       "      <td>62.520946</td>\n",
       "      <td>2.314863</td>\n",
       "      <td>0.001830</td>\n",
       "      <td>0.000381</td>\n",
       "      <td>0.002069</td>\n",
       "      <td>{'alpha': 0.00206913808111479}</td>\n",
       "      <td>-2.629579e+07</td>\n",
       "      <td>-2.788180e+07</td>\n",
       "      <td>-2.728923e+07</td>\n",
       "      <td>-2.645791e+07</td>\n",
       "      <td>...</td>\n",
       "      <td>48.467030</td>\n",
       "      <td>10</td>\n",
       "      <td>-0.162984</td>\n",
       "      <td>-0.16282</td>\n",
       "      <td>-0.160831</td>\n",
       "      <td>-0.160847</td>\n",
       "      <td>-0.152209</td>\n",
       "      <td>-0.159938</td>\n",
       "      <td>0.003974</td>\n",
       "      <td>2</td>\n",
       "    </tr>\n",
       "    <tr>\n",
       "      <th>2</th>\n",
       "      <td>57.498987</td>\n",
       "      <td>2.466145</td>\n",
       "      <td>0.001405</td>\n",
       "      <td>0.000497</td>\n",
       "      <td>0.004281</td>\n",
       "      <td>{'alpha': 0.004281332398719396}</td>\n",
       "      <td>-2.629557e+07</td>\n",
       "      <td>-2.788183e+07</td>\n",
       "      <td>-2.728888e+07</td>\n",
       "      <td>-2.645809e+07</td>\n",
       "      <td>...</td>\n",
       "      <td>48.466316</td>\n",
       "      <td>9</td>\n",
       "      <td>-0.162985</td>\n",
       "      <td>-0.16282</td>\n",
       "      <td>-0.160830</td>\n",
       "      <td>-0.160848</td>\n",
       "      <td>-0.152209</td>\n",
       "      <td>-0.159938</td>\n",
       "      <td>0.003974</td>\n",
       "      <td>3</td>\n",
       "    </tr>\n",
       "    <tr>\n",
       "      <th>3</th>\n",
       "      <td>54.795339</td>\n",
       "      <td>4.691787</td>\n",
       "      <td>0.001361</td>\n",
       "      <td>0.000479</td>\n",
       "      <td>0.008859</td>\n",
       "      <td>{'alpha': 0.008858667904100823}</td>\n",
       "      <td>-2.629514e+07</td>\n",
       "      <td>-2.788189e+07</td>\n",
       "      <td>-2.728831e+07</td>\n",
       "      <td>-2.645848e+07</td>\n",
       "      <td>...</td>\n",
       "      <td>48.466232</td>\n",
       "      <td>8</td>\n",
       "      <td>-0.162986</td>\n",
       "      <td>-0.16282</td>\n",
       "      <td>-0.160828</td>\n",
       "      <td>-0.160849</td>\n",
       "      <td>-0.152208</td>\n",
       "      <td>-0.159938</td>\n",
       "      <td>0.003974</td>\n",
       "      <td>4</td>\n",
       "    </tr>\n",
       "    <tr>\n",
       "      <th>4</th>\n",
       "      <td>30.811924</td>\n",
       "      <td>6.547118</td>\n",
       "      <td>0.001616</td>\n",
       "      <td>0.000841</td>\n",
       "      <td>0.01833</td>\n",
       "      <td>{'alpha': 0.018329807108324356}</td>\n",
       "      <td>-2.629423e+07</td>\n",
       "      <td>-2.788204e+07</td>\n",
       "      <td>-2.728702e+07</td>\n",
       "      <td>-2.645926e+07</td>\n",
       "      <td>...</td>\n",
       "      <td>48.464237</td>\n",
       "      <td>7</td>\n",
       "      <td>-0.162989</td>\n",
       "      <td>-0.16282</td>\n",
       "      <td>-0.160825</td>\n",
       "      <td>-0.160850</td>\n",
       "      <td>-0.152208</td>\n",
       "      <td>-0.159939</td>\n",
       "      <td>0.003975</td>\n",
       "      <td>5</td>\n",
       "    </tr>\n",
       "  </tbody>\n",
       "</table>\n",
       "<p>5 rows × 38 columns</p>\n",
       "</div>"
      ],
      "text/plain": [
       "   mean_fit_time  std_fit_time  mean_score_time  std_score_time param_alpha  \\\n",
       "0      58.227916      2.243695         0.001326        0.000417       0.001   \n",
       "1      62.520946      2.314863         0.001830        0.000381    0.002069   \n",
       "2      57.498987      2.466145         0.001405        0.000497    0.004281   \n",
       "3      54.795339      4.691787         0.001361        0.000479    0.008859   \n",
       "4      30.811924      6.547118         0.001616        0.000841     0.01833   \n",
       "\n",
       "                            params  split0_test_neg_mean_squared_error  \\\n",
       "0                 {'alpha': 0.001}                       -2.629589e+07   \n",
       "1   {'alpha': 0.00206913808111479}                       -2.629579e+07   \n",
       "2  {'alpha': 0.004281332398719396}                       -2.629557e+07   \n",
       "3  {'alpha': 0.008858667904100823}                       -2.629514e+07   \n",
       "4  {'alpha': 0.018329807108324356}                       -2.629423e+07   \n",
       "\n",
       "   split1_test_neg_mean_squared_error  split2_test_neg_mean_squared_error  \\\n",
       "0                       -2.788178e+07                       -2.728938e+07   \n",
       "1                       -2.788180e+07                       -2.728923e+07   \n",
       "2                       -2.788183e+07                       -2.728888e+07   \n",
       "3                       -2.788189e+07                       -2.728831e+07   \n",
       "4                       -2.788204e+07                       -2.728702e+07   \n",
       "\n",
       "   split3_test_neg_mean_squared_error  ...  std_test_neg_mean_absolute_error  \\\n",
       "0                       -2.645784e+07  ...                         48.467645   \n",
       "1                       -2.645791e+07  ...                         48.467030   \n",
       "2                       -2.645809e+07  ...                         48.466316   \n",
       "3                       -2.645848e+07  ...                         48.466232   \n",
       "4                       -2.645926e+07  ...                         48.464237   \n",
       "\n",
       "   rank_test_neg_mean_absolute_error  \\\n",
       "0                                 11   \n",
       "1                                 10   \n",
       "2                                  9   \n",
       "3                                  8   \n",
       "4                                  7   \n",
       "\n",
       "   split0_test_neg_mean_absolute_percentage_error  \\\n",
       "0                                       -0.162984   \n",
       "1                                       -0.162984   \n",
       "2                                       -0.162985   \n",
       "3                                       -0.162986   \n",
       "4                                       -0.162989   \n",
       "\n",
       "   split1_test_neg_mean_absolute_percentage_error  \\\n",
       "0                                        -0.16282   \n",
       "1                                        -0.16282   \n",
       "2                                        -0.16282   \n",
       "3                                        -0.16282   \n",
       "4                                        -0.16282   \n",
       "\n",
       "   split2_test_neg_mean_absolute_percentage_error  \\\n",
       "0                                       -0.160831   \n",
       "1                                       -0.160831   \n",
       "2                                       -0.160830   \n",
       "3                                       -0.160828   \n",
       "4                                       -0.160825   \n",
       "\n",
       "   split3_test_neg_mean_absolute_percentage_error  \\\n",
       "0                                       -0.160847   \n",
       "1                                       -0.160847   \n",
       "2                                       -0.160848   \n",
       "3                                       -0.160849   \n",
       "4                                       -0.160850   \n",
       "\n",
       "   split4_test_neg_mean_absolute_percentage_error  \\\n",
       "0                                       -0.152209   \n",
       "1                                       -0.152209   \n",
       "2                                       -0.152209   \n",
       "3                                       -0.152208   \n",
       "4                                       -0.152208   \n",
       "\n",
       "   mean_test_neg_mean_absolute_percentage_error  \\\n",
       "0                                     -0.159938   \n",
       "1                                     -0.159938   \n",
       "2                                     -0.159938   \n",
       "3                                     -0.159938   \n",
       "4                                     -0.159939   \n",
       "\n",
       "   std_test_neg_mean_absolute_percentage_error  \\\n",
       "0                                     0.003974   \n",
       "1                                     0.003974   \n",
       "2                                     0.003974   \n",
       "3                                     0.003974   \n",
       "4                                     0.003975   \n",
       "\n",
       "   rank_test_neg_mean_absolute_percentage_error  \n",
       "0                                             1  \n",
       "1                                             2  \n",
       "2                                             3  \n",
       "3                                             4  \n",
       "4                                             5  \n",
       "\n",
       "[5 rows x 38 columns]"
      ]
     },
     "execution_count": 18,
     "metadata": {},
     "output_type": "execute_result"
    }
   ],
   "source": [
    "df_res = pd.DataFrame(data=clf.cv_results_)\n",
    "df_res.head()"
   ]
  },
  {
   "cell_type": "markdown",
   "metadata": {},
   "source": [
    "## Train with best params"
   ]
  },
  {
   "cell_type": "code",
   "execution_count": 27,
   "metadata": {},
   "outputs": [],
   "source": [
    "model = Lasso(max_iter=50000, alpha=1.438449888287663)\n",
    "model = model.fit(x_train, y_train)"
   ]
  },
  {
   "cell_type": "code",
   "execution_count": 28,
   "metadata": {},
   "outputs": [
    {
     "name": "stdout",
     "output_type": "stream",
     "text": [
      "Train MSE: 26154196.09383544\n",
      "Train RMSE: 5114.117332818581\n",
      "Train MAE: 3934.781434068381\n",
      "Train MAPE: 0.15874813146591865\n"
     ]
    }
   ],
   "source": [
    "from sklearn.metrics import mean_squared_error, mean_absolute_error, mean_absolute_percentage_error\n",
    "train_predict = model.predict(x_train)\n",
    "print(\"Train MSE:\", mean_squared_error(y_train, train_predict))\n",
    "print(\"Train RMSE:\", mean_squared_error(y_train, train_predict, squared=False))\n",
    "print(\"Train MAE:\", mean_absolute_error(y_train, train_predict))\n",
    "print(\"Train MAPE:\", mean_absolute_percentage_error(y_train, train_predict))"
   ]
  },
  {
   "cell_type": "code",
   "execution_count": 29,
   "metadata": {},
   "outputs": [
    {
     "name": "stdout",
     "output_type": "stream",
     "text": [
      "top 10 features with the highest coefficients:\n",
      " day_Saturday          6399.954057\n",
      "season_type_post      4619.020811\n",
      "day_Friday            4045.511225\n",
      "team2_name_LAD        3908.434061\n",
      "month_March           3611.402927\n",
      "team1_name_NYY        3476.840220\n",
      "team1_name_CHC        3374.625799\n",
      "day_Sunday            3335.911683\n",
      "previous_5_to_10MA    3322.500883\n",
      "team2_name_LAA        3036.969039\n",
      "dtype: float64\n"
     ]
    }
   ],
   "source": [
    "# print top 10 features with the highest coefficients\n",
    "coef = pd.Series(model.coef_, index = data_train.columns)\n",
    "print(\"top 10 features with the highest coefficients:\\n\", coef.sort_values(ascending=False)[:10])"
   ]
  },
  {
   "cell_type": "code",
   "execution_count": 30,
   "metadata": {},
   "outputs": [
    {
     "name": "stdout",
     "output_type": "stream",
     "text": [
      "top 10 features with the lowest coefficients:\n",
      " month_October       -2593.439407\n",
      "team2_name_OAK      -2638.876014\n",
      "team2_name_PIT      -2771.167952\n",
      "team2_name_CLE      -2987.208487\n",
      "team2_pre_loss      -3123.016569\n",
      "month_September     -3205.669678\n",
      "team2_name_MIA      -3878.755501\n",
      "team2_name_TBR      -4139.170081\n",
      "team2_pre_win_pct   -4993.112664\n",
      "team1_pre_win_pct   -6810.496361\n",
      "dtype: float64\n"
     ]
    }
   ],
   "source": [
    "# also print the top 10 features with the lowest coefficients\n",
    "print(\"top 10 features with the lowest coefficients:\\n\", coef.sort_values(ascending=False)[-10:])"
   ]
  },
  {
   "cell_type": "code",
   "execution_count": 31,
   "metadata": {},
   "outputs": [
    {
     "name": "stdout",
     "output_type": "stream",
     "text": [
      "top 10 features with the highest coefficients with absolute value:\n",
      " team1_pre_win_pct    6810.496361\n",
      "day_Saturday         6399.954057\n",
      "team2_pre_win_pct    4993.112664\n",
      "season_type_post     4619.020811\n",
      "team2_name_TBR       4139.170081\n",
      "day_Friday           4045.511225\n",
      "team2_name_LAD       3908.434061\n",
      "team2_name_MIA       3878.755501\n",
      "month_March          3611.402927\n",
      "team1_name_NYY       3476.840220\n",
      "dtype: float64\n"
     ]
    }
   ],
   "source": [
    "# print top 10 features with the highest coefficients with absolute value\n",
    "print(\"top 10 features with the highest coefficients with absolute value:\\n\", coef.abs().sort_values(ascending=False)[:10])"
   ]
  },
  {
   "cell_type": "markdown",
   "metadata": {},
   "source": [
    "## Testing set"
   ]
  },
  {
   "cell_type": "code",
   "execution_count": 25,
   "metadata": {},
   "outputs": [
    {
     "name": "stdout",
     "output_type": "stream",
     "text": [
      "Test MSE: 38745154.42177424\n",
      "Test RMSE: 6224.560580617256\n",
      "Test MAE: 4823.3066948671085\n",
      "Test MAPE: 0.2322035405732727\n"
     ]
    }
   ],
   "source": [
    "from sklearn.metrics import mean_squared_error, mean_absolute_error, mean_absolute_percentage_error\n",
    "y_pred = model.predict(x_test)\n",
    "print(\"Test MSE:\", mean_squared_error(y_test, y_pred))\n",
    "print(\"Test RMSE:\", mean_squared_error(y_test, y_pred, squared=False))\n",
    "print(\"Test MAE:\", mean_absolute_error(y_test, y_pred))\n",
    "print(\"Test MAPE:\", mean_absolute_percentage_error(y_test, y_pred))"
   ]
  },
  {
   "cell_type": "markdown",
   "metadata": {},
   "source": [
    "## Save model"
   ]
  },
  {
   "cell_type": "code",
   "execution_count": 26,
   "metadata": {},
   "outputs": [],
   "source": [
    "import pickle\n",
    "from datetime import datetime\n",
    "time = datetime.today().strftime('%Y%m%d_%H%M%S')\n",
    "filename = f'./model/lasso_model_{time}.sav'\n",
    "pickle.dump(model, open(filename, 'wb'))\n",
    "cv_filename = f'./model/lasso_model_{time}_cv.csv'\n",
    "df_res.to_csv(cv_filename, index=False)\n",
    "# loaded_model = pickle.load(open(filename, 'rb'))"
   ]
  },
  {
   "cell_type": "code",
   "execution_count": null,
   "metadata": {},
   "outputs": [],
   "source": []
  }
 ],
 "metadata": {
  "kernelspec": {
   "display_name": "Python 3.9.13 64-bit (microsoft store)",
   "language": "python",
   "name": "python3"
  },
  "language_info": {
   "codemirror_mode": {
    "name": "ipython",
    "version": 3
   },
   "file_extension": ".py",
   "mimetype": "text/x-python",
   "name": "python",
   "nbconvert_exporter": "python",
   "pygments_lexer": "ipython3",
   "version": "3.9.13"
  },
  "orig_nbformat": 4,
  "vscode": {
   "interpreter": {
    "hash": "640829cba0c996ec1edfe38112f06d06ccbb529c69ad00e2e287bb19236004a2"
   }
  }
 },
 "nbformat": 4,
 "nbformat_minor": 2
}
